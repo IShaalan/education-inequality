{
 "cells": [
  {
   "cell_type": "markdown",
   "metadata": {},
   "source": [
    "# Data Analysis "
   ]
  },
  {
   "cell_type": "code",
   "execution_count": 2,
   "metadata": {},
   "outputs": [],
   "source": [
    "# Data manipulation\n",
    "import pandas as pd\n",
    "import numpy as np\n",
    "\n",
    "# Options for pandas\n",
    "pd.options.display.max_columns = 50\n",
    "pd.options.display.max_rows = 30\n",
    "\n",
    "# Visualizations\n",
    "import klib\n",
    "import matplotlib.pyplot as plt\n",
    "import plotly.express as px\n",
    "from plotly.subplots import make_subplots\n",
    "import plotly.graph_objects as go"
   ]
  },
  {
   "cell_type": "markdown",
   "metadata": {},
   "source": [
    "Variables that will be used through out the analysis"
   ]
  },
  {
   "cell_type": "code",
   "execution_count": 3,
   "metadata": {},
   "outputs": [],
   "source": [
    "#Order of income groups to provide consistency while plotting\n",
    "income_grp_ord = {'income_grp':['Low income','Lower middle income','Upper middle income','High income']}\n",
    "#Order of regions to provide consistency while plotting\n",
    "regions_ord ={'region':['East Asia & Pacific', 'Middle East & North Africa', 'Latin America & Caribbean', 'Europe & Central Asia', 'Sub-Saharan Africa', 'South Asia']}\n",
    "#Colors to use when plotting categorical with 4 vars\n",
    "color_dict_4 = {'High income':'rgba(16, 112, 2, 0.8)',\n",
    "                                       'Upper middle income':'rgba(112, 196, 255, 1)',\n",
    "                                       'Lower middle income':' rgba(226, 199, 0, 1)',\n",
    "                                       'Low income':'Color: rgba(137, 0, 14, 1)'}"
   ]
  },
  {
   "cell_type": "markdown",
   "metadata": {},
   "source": [
    "First we will analyze the data that we had without imputation - dropping all the missing values - and then we will check if the missing data affects our conclusions.\n",
    "\n",
    "Reading the dataset from file we developed in the previous notebook"
   ]
  },
  {
   "cell_type": "code",
   "execution_count": 4,
   "metadata": {},
   "outputs": [],
   "source": [
    "#reading file \n",
    "df_indicators_2018 = pd.read_excel('data/country_indicators.xlsx', sheet_name='data_2018',index_col=0)"
   ]
  },
  {
   "cell_type": "markdown",
   "metadata": {},
   "source": [
    "Looking at the data"
   ]
  },
  {
   "cell_type": "code",
   "execution_count": 5,
   "metadata": {},
   "outputs": [
    {
     "data": {
      "text/html": [
       "<div>\n",
       "<style scoped>\n",
       "    .dataframe tbody tr th:only-of-type {\n",
       "        vertical-align: middle;\n",
       "    }\n",
       "\n",
       "    .dataframe tbody tr th {\n",
       "        vertical-align: top;\n",
       "    }\n",
       "\n",
       "    .dataframe thead th {\n",
       "        text-align: right;\n",
       "    }\n",
       "</style>\n",
       "<table border=\"1\" class=\"dataframe\">\n",
       "  <thead>\n",
       "    <tr style=\"text-align: right;\">\n",
       "      <th></th>\n",
       "      <th>country</th>\n",
       "      <th>year</th>\n",
       "      <th>edu_exp_pct_gdp</th>\n",
       "      <th>edu_exp_usd</th>\n",
       "      <th>gdp</th>\n",
       "      <th>gdppc</th>\n",
       "      <th>hci_index</th>\n",
       "      <th>population</th>\n",
       "      <th>edu_quality_index</th>\n",
       "      <th>hdi_index</th>\n",
       "      <th>income_group</th>\n",
       "      <th>region</th>\n",
       "      <th>edu_exp_per_capita</th>\n",
       "    </tr>\n",
       "  </thead>\n",
       "  <tbody>\n",
       "    <tr>\n",
       "      <th>17</th>\n",
       "      <td>Afghanistan</td>\n",
       "      <td>2018</td>\n",
       "      <td>3.19979</td>\n",
       "      <td>4.809584e+08</td>\n",
       "      <td>1.805323e+10</td>\n",
       "      <td>485.668419</td>\n",
       "      <td>0.393489</td>\n",
       "      <td>37171922.0</td>\n",
       "      <td>NaN</td>\n",
       "      <td>0.509</td>\n",
       "      <td>Low income</td>\n",
       "      <td>South Asia</td>\n",
       "      <td>12.938755</td>\n",
       "    </tr>\n",
       "    <tr>\n",
       "      <th>48</th>\n",
       "      <td>Albania</td>\n",
       "      <td>2018</td>\n",
       "      <td>NaN</td>\n",
       "      <td>4.997883e+08</td>\n",
       "      <td>1.515643e+10</td>\n",
       "      <td>5287.663694</td>\n",
       "      <td>0.628666</td>\n",
       "      <td>2866376.0</td>\n",
       "      <td>4.485546</td>\n",
       "      <td>0.792</td>\n",
       "      <td>Upper middle income</td>\n",
       "      <td>Europe &amp; Central Asia</td>\n",
       "      <td>174.362436</td>\n",
       "    </tr>\n",
       "    <tr>\n",
       "      <th>79</th>\n",
       "      <td>Algeria</td>\n",
       "      <td>2018</td>\n",
       "      <td>5.86635</td>\n",
       "      <td>7.638279e+09</td>\n",
       "      <td>1.749109e+11</td>\n",
       "      <td>4142.018558</td>\n",
       "      <td>0.531994</td>\n",
       "      <td>42228415.0</td>\n",
       "      <td>3.416746</td>\n",
       "      <td>0.746</td>\n",
       "      <td>Lower middle income</td>\n",
       "      <td>Middle East &amp; North Africa</td>\n",
       "      <td>180.880080</td>\n",
       "    </tr>\n",
       "    <tr>\n",
       "      <th>110</th>\n",
       "      <td>American Samoa</td>\n",
       "      <td>2018</td>\n",
       "      <td>NaN</td>\n",
       "      <td>NaN</td>\n",
       "      <td>6.390000e+08</td>\n",
       "      <td>11521.609780</td>\n",
       "      <td>NaN</td>\n",
       "      <td>55461.0</td>\n",
       "      <td>NaN</td>\n",
       "      <td>NaN</td>\n",
       "      <td>Upper middle income</td>\n",
       "      <td>East Asia &amp; Pacific</td>\n",
       "      <td>NaN</td>\n",
       "    </tr>\n",
       "    <tr>\n",
       "      <th>130</th>\n",
       "      <td>Andorra</td>\n",
       "      <td>2018</td>\n",
       "      <td>3.24672</td>\n",
       "      <td>NaN</td>\n",
       "      <td>3.218316e+09</td>\n",
       "      <td>41791.969837</td>\n",
       "      <td>NaN</td>\n",
       "      <td>77008.0</td>\n",
       "      <td>NaN</td>\n",
       "      <td>0.867</td>\n",
       "      <td>High income</td>\n",
       "      <td>Europe &amp; Central Asia</td>\n",
       "      <td>NaN</td>\n",
       "    </tr>\n",
       "  </tbody>\n",
       "</table>\n",
       "</div>"
      ],
      "text/plain": [
       "            country  year  edu_exp_pct_gdp   edu_exp_usd           gdp  \\\n",
       "17      Afghanistan  2018          3.19979  4.809584e+08  1.805323e+10   \n",
       "48          Albania  2018              NaN  4.997883e+08  1.515643e+10   \n",
       "79          Algeria  2018          5.86635  7.638279e+09  1.749109e+11   \n",
       "110  American Samoa  2018              NaN           NaN  6.390000e+08   \n",
       "130         Andorra  2018          3.24672           NaN  3.218316e+09   \n",
       "\n",
       "            gdppc  hci_index  population  edu_quality_index  hdi_index  \\\n",
       "17     485.668419   0.393489  37171922.0                NaN      0.509   \n",
       "48    5287.663694   0.628666   2866376.0           4.485546      0.792   \n",
       "79    4142.018558   0.531994  42228415.0           3.416746      0.746   \n",
       "110  11521.609780        NaN     55461.0                NaN        NaN   \n",
       "130  41791.969837        NaN     77008.0                NaN      0.867   \n",
       "\n",
       "            income_group                      region  edu_exp_per_capita  \n",
       "17            Low income                  South Asia           12.938755  \n",
       "48   Upper middle income       Europe & Central Asia          174.362436  \n",
       "79   Lower middle income  Middle East & North Africa          180.880080  \n",
       "110  Upper middle income         East Asia & Pacific                 NaN  \n",
       "130          High income       Europe & Central Asia                 NaN  "
      ]
     },
     "execution_count": 5,
     "metadata": {},
     "output_type": "execute_result"
    }
   ],
   "source": [
    "df_indicators_2018.head()"
   ]
  },
  {
   "cell_type": "markdown",
   "metadata": {},
   "source": [
    "## 2. Analysis Questions"
   ]
  },
  {
   "cell_type": "markdown",
   "metadata": {},
   "source": [
    "### 2.1 Does the increase in the quality of education improve social and economical welfare of people (HDI Index)?"
   ]
  },
  {
   "cell_type": "markdown",
   "metadata": {},
   "source": [
    "In this question, we want to explore if countries with high quality of education also exhibit a corresponding social and economical welfare for the overall population.  We are using the Quality of Education Index by the Global Economic Forum as an indicator of the quality of education and the Humand Development Index form the woldbank data."
   ]
  },
  {
   "cell_type": "markdown",
   "metadata": {},
   "source": [
    "#### 2.1.1 Overall relationship"
   ]
  },
  {
   "cell_type": "markdown",
   "metadata": {},
   "source": [
    "The relationship is in fact positive with R2 of about 0.536. This tells us that there is an association "
   ]
  },
  {
   "cell_type": "code",
   "execution_count": 6,
   "metadata": {},
   "outputs": [
    {
     "data": {
      "application/vnd.plotly.v1+json": {
       "config": {
        "plotlyServerURL": "https://plot.ly"
       },
       "data": [
        {
         "hovertemplate": "<b>%{hovertext}</b><br><br>edu_quality_index=%{x}<br>hdi_index=%{marker.color}<extra></extra>",
         "hovertext": [
          "Afghanistan",
          "Albania",
          "Algeria",
          "American Samoa",
          "Andorra",
          "Angola",
          "Antigua and Barbuda",
          "Argentina",
          "Armenia",
          "Aruba",
          "Australia",
          "Austria",
          "Azerbaijan",
          "Bahamas",
          "Bahrain",
          "Bangladesh",
          "Barbados",
          "Belarus",
          "Belgium",
          "Belize",
          "Benin",
          "Bermuda",
          "Bhutan",
          "Bolivia",
          "Bosnia and Herzegovina",
          "Botswana",
          "Brazil",
          "British Virgin Islands",
          "Brunei",
          "Bulgaria",
          "Burkina Faso",
          "Burundi",
          "Cabo Verde",
          "Cambodia",
          "Cameroon",
          "Canada",
          "Cayman Islands",
          "Central African Republic",
          "Chad",
          "Channel Islands",
          "Chile",
          "China",
          "Colombia",
          "Comoros",
          "Costa Rica",
          "Cote d'Ivoire",
          "Croatia",
          "Cuba",
          "Curacao",
          "Cyprus",
          "Czech",
          "Denmark",
          "Djibouti",
          "Dominica",
          "Dominican Republic",
          "Ecuador",
          "Egypt",
          "El Salvador",
          "Equatorial Guinea",
          "Eritrea",
          "Estonia",
          "Eswatini",
          "Ethiopia",
          "Faroe Islands",
          "Fiji",
          "Finland",
          "France",
          "French Polynesia",
          "Gabon",
          "Gambia",
          "Georgia",
          "Germany",
          "Ghana",
          "Gibraltar",
          "Greece",
          "Greenland",
          "Grenada",
          "Guam",
          "Guatemala",
          "Guinea",
          "Guinea-Bissau",
          "Guyana",
          "Haiti",
          "Honduras",
          "Hong Kong",
          "Hungary",
          "Iceland",
          "India",
          "Indonesia",
          "Iran",
          "Iraq",
          "Ireland",
          "Isle of Man",
          "Israel",
          "Italy",
          "Jamaica",
          "Japan",
          "Jordan",
          "Kazakhstan",
          "Kenya",
          "Kiribati",
          "Korea, Rep.",
          "Kosovo",
          "Kuwait",
          "Kyrgyzstan",
          "Lao PDR",
          "Latvia",
          "Lebanon",
          "Lesotho",
          "Liberia",
          "Libya",
          "Liechtenstein",
          "Lithuania",
          "Luxembourg",
          "Macao SAR, China",
          "Madagascar",
          "Malawi",
          "Malaysia",
          "Maldives",
          "Mali",
          "Malta",
          "Marshall Islands",
          "Mauritania",
          "Mauritius",
          "Mexico",
          "Micronesia",
          "Moldova",
          "Monaco",
          "Mongolia",
          "Montenegro",
          "Morocco",
          "Mozambique",
          "Myanmar",
          "Namibia",
          "Nauru",
          "Nepal",
          "Netherlands",
          "New Caledonia",
          "New Zealand",
          "Nicaragua",
          "Niger",
          "Nigeria",
          "North Macedonia",
          "Northern Mariana Islands",
          "Norway",
          "Oman",
          "Pakistan",
          "Palau",
          "Panama",
          "Papua New Guinea",
          "Paraguay",
          "Peru",
          "Philippines",
          "Poland",
          "Portugal",
          "Puerto Rico",
          "Qatar",
          "Romania",
          "Russia",
          "Rwanda",
          "Samoa",
          "San Marino",
          "Sao Tome and Principe",
          "Saudi Arabia",
          "Senegal",
          "Serbia",
          "Seychelles",
          "Sierra Leone",
          "Singapore",
          "Sint Maarten (Dutch part)",
          "Slovakia",
          "Slovenia",
          "Solomon Islands",
          "Somalia",
          "South Africa",
          "South Sudan",
          "Spain",
          "Sri Lanka",
          "St. Kitts and Nevis",
          "St. Lucia",
          "St. Martin (French part)",
          "St. Vincent and the Grenadines",
          "Sudan",
          "Suriname",
          "Sweden",
          "Switzerland",
          "Syria",
          "Tajikistan",
          "Tanzania",
          "Thailand",
          "Timor-Leste",
          "Togo",
          "Tonga",
          "Trinidad and Tobago",
          "Tunisia",
          "Turkey",
          "Turkmenistan",
          "Turks and Caicos Islands",
          "Tuvalu",
          "Uganda",
          "Ukraine",
          "United Arab Emirates",
          "United Kingdom",
          "United States",
          "Uruguay",
          "Uzbekistan",
          "Vanuatu",
          "Vietnam",
          "West Bank and Gaza",
          "Yemen",
          "Zambia",
          "Zimbabwe",
          "Congo"
         ],
         "legendgroup": "",
         "marker": {
          "color": [
           0.509,
           0.792,
           0.746,
           null,
           0.867,
           0.582,
           0.772,
           0.842,
           0.771,
           null,
           0.943,
           0.921,
           0.754,
           0.812,
           0.852,
           0.625,
           0.81,
           0.823,
           0.93,
           0.714,
           0.541,
           null,
           0.649,
           0.714,
           0.777,
           0.73,
           0.762,
           null,
           0.836,
           0.813,
           0.443,
           0.431,
           0.663,
           0.585,
           0.56,
           0.928,
           null,
           0.395,
           0.397,
           null,
           0.849,
           0.755,
           0.764,
           0.552,
           0.808,
           0.534,
           0.848,
           0.781,
           null,
           0.885,
           0.898,
           0.939,
           0.518,
           0.738,
           0.751,
           0.762,
           0.701,
           0.67,
           0.582,
           0.456,
           0.889,
           0.605,
           0.478,
           null,
           0.742,
           0.937,
           0.898,
           null,
           0.697,
           0.487,
           0.805,
           0.946,
           0.606,
           null,
           0.881,
           null,
           0.773,
           null,
           0.657,
           0.473,
           0.472,
           0.68,
           0.508,
           0.633,
           0.946,
           0.85,
           0.946,
           0.642,
           0.712,
           0.785,
           0.671,
           0.951,
           null,
           0.916,
           0.89,
           0.734,
           0.917,
           0.728,
           0.819,
           0.599,
           0.628,
           0.914,
           null,
           0.807,
           0.696,
           0.609,
           0.863,
           0.747,
           0.522,
           0.48,
           0.721,
           0.919,
           0.876,
           0.913,
           null,
           0.527,
           0.478,
           0.805,
           0.734,
           0.431,
           0.894,
           0.702,
           0.542,
           0.801,
           0.776,
           0.618,
           0.746,
           null,
           0.735,
           0.826,
           0.68,
           0.452,
           0.579,
           0.645,
           null,
           0.596,
           0.942,
           null,
           0.928,
           0.659,
           0.391,
           0.534,
           0.77,
           null,
           0.956,
           0.813,
           0.552,
           0.822,
           0.812,
           0.549,
           0.727,
           0.771,
           0.711,
           0.877,
           0.86,
           null,
           0.845,
           0.823,
           0.823,
           0.54,
           0.709,
           null,
           0.624,
           0.854,
           0.516,
           0.803,
           0.79,
           0.447,
           0.936,
           null,
           0.858,
           0.912,
           0.564,
           null,
           0.707,
           0.429,
           0.905,
           0.779,
           0.773,
           0.758,
           null,
           null,
           0.506,
           0.734,
           0.943,
           0.955,
           0.563,
           0.661,
           0.524,
           0.772,
           0.599,
           0.51,
           0.723,
           0.795,
           0.738,
           0.817,
           0.71,
           null,
           null,
           0.538,
           0.774,
           0.889,
           0.928,
           0.925,
           0.816,
           0.717,
           0.603,
           0.7,
           null,
           0.468,
           0.582,
           0.569,
           0.573
          ],
          "coloraxis": "coloraxis",
          "symbol": "circle"
         },
         "mode": "markers",
         "name": "",
         "orientation": "v",
         "showlegend": false,
         "type": "scatter",
         "x": [
          null,
          4.485545992750001,
          3.416745662749999,
          null,
          null,
          null,
          null,
          3.75650507225,
          4.123025775249999,
          null,
          5.32498466975,
          4.710301160749999,
          4.406499505,
          null,
          4.816789984750001,
          3.38388782725,
          null,
          null,
          5.36690354325,
          null,
          3.302977741,
          null,
          4.3412513735,
          null,
          3.23686605675,
          3.6361775995,
          3.182566643,
          null,
          4.584998965500001,
          3.773089886,
          null,
          3.3095909355,
          null,
          3.3678638935,
          3.99517446775,
          5.579452038,
          null,
          null,
          2.61314469575,
          null,
          4.121846437249999,
          4.513828873750001,
          3.800363958,
          null,
          4.787541389499999,
          null,
          3.622494161,
          null,
          null,
          4.1842525005,
          4.48947828975,
          5.44074654575,
          null,
          null,
          3.09706348175,
          3.7505168915,
          2.9052241445,
          2.927667737,
          null,
          null,
          5.2810070515,
          3.09669226425,
          3.548745334249999,
          null,
          null,
          5.877574682,
          4.96322739125,
          null,
          null,
          4.03637063525,
          3.5151272415,
          5.28436040875,
          4.018807113,
          null,
          3.778220594,
          null,
          null,
          null,
          3.289593935,
          2.7947496775,
          null,
          null,
          2.7684766055,
          3.36910063025,
          5.37197506425,
          3.66430544875,
          5.4105769395,
          4.605217695249999,
          4.6026746035,
          3.83756726975,
          null,
          5.26850879225,
          null,
          5.07211995125,
          4.437981963,
          4.37463819975,
          4.76136147975,
          4.31229245675,
          4.113367319,
          4.36485934275,
          null,
          4.5241591335,
          null,
          3.48593091975,
          3.1524888275,
          3.8370832205,
          4.36378258475,
          5.118548751000001,
          3.5835725665,
          2.89157027,
          null,
          null,
          4.4885306955,
          4.68427121625,
          null,
          3.67245489375,
          2.92263948925,
          5.25812911975,
          null,
          3.66399663725,
          5.124402999999999,
          null,
          2.3659526705,
          4.3772073985,
          3.51215380425,
          null,
          3.76005345575,
          null,
          3.69268512725,
          4.08039987125,
          3.4795261025,
          2.790258944,
          null,
          3.34541547275,
          null,
          3.83100247375,
          5.77895951275,
          null,
          5.5188162325,
          3.03231650575,
          null,
          3.16824227575,
          null,
          null,
          5.386394262250001,
          3.7034083605,
          3.66025239225,
          null,
          3.680060029,
          null,
          2.7540509105,
          3.27700579175,
          4.3122189045,
          4.217128813,
          4.821053028250001,
          null,
          5.650964141,
          3.7737690805,
          4.3563212755,
          4.394029140500001,
          null,
          null,
          null,
          4.336327791,
          4.09712105975,
          3.99615168575,
          3.995258987,
          2.91684859975,
          6.1019439695,
          null,
          3.798733771,
          4.796257138250001,
          null,
          null,
          3.4022233485,
          null,
          4.5152790545,
          4.124032378,
          null,
          null,
          null,
          null,
          null,
          null,
          5.199332714000001,
          6.1326652765,
          null,
          4.13513046525,
          3.15139406925,
          4.05051058525,
          null,
          null,
          null,
          4.468680382000001,
          3.79927766325,
          3.551756382,
          null,
          null,
          null,
          3.343117058,
          4.374483644750001,
          5.4820508955,
          5.2462177275,
          5.697491168999999,
          3.90237712875,
          null,
          null,
          3.68711513275,
          null,
          2.2447446585,
          3.6091204285,
          3.793227315,
          null
         ],
         "xaxis": "x",
         "y": [
          0.509,
          0.792,
          0.746,
          null,
          0.867,
          0.582,
          0.772,
          0.842,
          0.771,
          null,
          0.943,
          0.921,
          0.754,
          0.812,
          0.852,
          0.625,
          0.81,
          0.823,
          0.93,
          0.714,
          0.541,
          null,
          0.649,
          0.714,
          0.777,
          0.73,
          0.762,
          null,
          0.836,
          0.813,
          0.443,
          0.431,
          0.663,
          0.585,
          0.56,
          0.928,
          null,
          0.395,
          0.397,
          null,
          0.849,
          0.755,
          0.764,
          0.552,
          0.808,
          0.534,
          0.848,
          0.781,
          null,
          0.885,
          0.898,
          0.939,
          0.518,
          0.738,
          0.751,
          0.762,
          0.701,
          0.67,
          0.582,
          0.456,
          0.889,
          0.605,
          0.478,
          null,
          0.742,
          0.937,
          0.898,
          null,
          0.697,
          0.487,
          0.805,
          0.946,
          0.606,
          null,
          0.881,
          null,
          0.773,
          null,
          0.657,
          0.473,
          0.472,
          0.68,
          0.508,
          0.633,
          0.946,
          0.85,
          0.946,
          0.642,
          0.712,
          0.785,
          0.671,
          0.951,
          null,
          0.916,
          0.89,
          0.734,
          0.917,
          0.728,
          0.819,
          0.599,
          0.628,
          0.914,
          null,
          0.807,
          0.696,
          0.609,
          0.863,
          0.747,
          0.522,
          0.48,
          0.721,
          0.919,
          0.876,
          0.913,
          null,
          0.527,
          0.478,
          0.805,
          0.734,
          0.431,
          0.894,
          0.702,
          0.542,
          0.801,
          0.776,
          0.618,
          0.746,
          null,
          0.735,
          0.826,
          0.68,
          0.452,
          0.579,
          0.645,
          null,
          0.596,
          0.942,
          null,
          0.928,
          0.659,
          0.391,
          0.534,
          0.77,
          null,
          0.956,
          0.813,
          0.552,
          0.822,
          0.812,
          0.549,
          0.727,
          0.771,
          0.711,
          0.877,
          0.86,
          null,
          0.845,
          0.823,
          0.823,
          0.54,
          0.709,
          null,
          0.624,
          0.854,
          0.516,
          0.803,
          0.79,
          0.447,
          0.936,
          null,
          0.858,
          0.912,
          0.564,
          null,
          0.707,
          0.429,
          0.905,
          0.779,
          0.773,
          0.758,
          null,
          null,
          0.506,
          0.734,
          0.943,
          0.955,
          0.563,
          0.661,
          0.524,
          0.772,
          0.599,
          0.51,
          0.723,
          0.795,
          0.738,
          0.817,
          0.71,
          null,
          null,
          0.538,
          0.774,
          0.889,
          0.928,
          0.925,
          0.816,
          0.717,
          0.603,
          0.7,
          null,
          0.468,
          0.582,
          0.569,
          0.573
         ],
         "yaxis": "y"
        },
        {
         "hovertemplate": "<b>OLS trendline</b><br>hdi_index = 0.130258 * edu_quality_index + 0.213664<br>R<sup>2</sup>=0.536393<br><br>edu_quality_index=%{x}<br>hdi_index=%{y} <b>(trend)</b><extra></extra>",
         "legendgroup": "",
         "line": {
          "color": "Purple"
         },
         "marker": {
          "symbol": "circle"
         },
         "mode": "lines",
         "name": "",
         "showlegend": false,
         "type": "scatter",
         "x": [
          2.2447446585,
          2.3659526705,
          2.61314469575,
          2.7540509105,
          2.7684766055,
          2.790258944,
          2.7947496775,
          2.89157027,
          2.9052241445,
          2.91684859975,
          2.92263948925,
          2.927667737,
          3.03231650575,
          3.09669226425,
          3.09706348175,
          3.15139406925,
          3.1524888275,
          3.16824227575,
          3.182566643,
          3.23686605675,
          3.27700579175,
          3.289593935,
          3.302977741,
          3.3095909355,
          3.343117058,
          3.34541547275,
          3.3678638935,
          3.36910063025,
          3.38388782725,
          3.4022233485,
          3.416745662749999,
          3.4795261025,
          3.48593091975,
          3.51215380425,
          3.5151272415,
          3.548745334249999,
          3.551756382,
          3.5835725665,
          3.6091204285,
          3.622494161,
          3.6361775995,
          3.66025239225,
          3.66399663725,
          3.66430544875,
          3.67245489375,
          3.680060029,
          3.68711513275,
          3.69268512725,
          3.7034083605,
          3.7505168915,
          3.75650507225,
          3.76005345575,
          3.773089886,
          3.7737690805,
          3.778220594,
          3.793227315,
          3.798733771,
          3.79927766325,
          3.800363958,
          3.83100247375,
          3.8370832205,
          3.83756726975,
          3.90237712875,
          3.99517446775,
          3.995258987,
          3.99615168575,
          4.018807113,
          4.03637063525,
          4.05051058525,
          4.08039987125,
          4.09712105975,
          4.113367319,
          4.121846437249999,
          4.123025775249999,
          4.124032378,
          4.13513046525,
          4.1842525005,
          4.217128813,
          4.3122189045,
          4.31229245675,
          4.336327791,
          4.3412513735,
          4.3563212755,
          4.36378258475,
          4.36485934275,
          4.374483644750001,
          4.37463819975,
          4.3772073985,
          4.394029140500001,
          4.406499505,
          4.437981963,
          4.468680382000001,
          4.485545992750001,
          4.4885306955,
          4.48947828975,
          4.513828873750001,
          4.5152790545,
          4.5241591335,
          4.584998965500001,
          4.6026746035,
          4.605217695249999,
          4.68427121625,
          4.710301160749999,
          4.76136147975,
          4.787541389499999,
          4.796257138250001,
          4.816789984750001,
          4.821053028250001,
          4.96322739125,
          5.07211995125,
          5.118548751000001,
          5.124402999999999,
          5.199332714000001,
          5.2462177275,
          5.25812911975,
          5.26850879225,
          5.2810070515,
          5.28436040875,
          5.32498466975,
          5.36690354325,
          5.37197506425,
          5.386394262250001,
          5.4105769395,
          5.44074654575,
          5.4820508955,
          5.5188162325,
          5.579452038,
          5.650964141,
          5.697491168999999,
          5.77895951275,
          5.877574682,
          6.1019439695,
          6.1326652765
         ],
         "xaxis": "x",
         "y": [
          0.5060598644666547,
          0.5218481716758838,
          0.5540468982280403,
          0.5724010529530812,
          0.5742801144161686,
          0.5771174371830284,
          0.5777023909243105,
          0.5903140428551217,
          0.5920925685618403,
          0.5936067462766512,
          0.5943610556736298,
          0.5950160249194015,
          0.6086473590435233,
          0.6170328133980189,
          0.6170811674287031,
          0.6241581583978142,
          0.624300759363589,
          0.6263527712435931,
          0.6282186339616519,
          0.6352915643019832,
          0.6405200839107121,
          0.6421597896491807,
          0.643903136786635,
          0.644764557947477,
          0.6491316019475406,
          0.649430988741932,
          0.652355074017442,
          0.6525161688116206,
          0.6544423187842758,
          0.6568306662009165,
          0.6587223130894732,
          0.6668999644934374,
          0.6677342428607945,
          0.6711499820480533,
          0.6715372958897354,
          0.6759163197460571,
          0.6763085326543811,
          0.6804528436353376,
          0.6837806557753056,
          0.6855226907592971,
          0.6873050674120598,
          0.6904410005707978,
          0.6909287182501095,
          0.6909689434031443,
          0.6920304734053419,
          0.6930211027351483,
          0.6939400860891364,
          0.6946656221561722,
          0.696062408540452,
          0.7021986692325545,
          0.7029786773833804,
          0.7034408825451494,
          0.705138981229407,
          0.7052274517128666,
          0.705807296737336,
          0.7077620414562841,
          0.7084793011285416,
          0.7085501474182383,
          0.7086916459458503,
          0.7126825562092395,
          0.7134746218174974,
          0.7135376730806714,
          0.7219796724765432,
          0.7340672636527021,
          0.7340782729569724,
          0.7341945540664282,
          0.7371456035843374,
          0.7394333919935651,
          0.7412752328986295,
          0.7451685500304418,
          0.7473466177718832,
          0.7494628222026577,
          0.7505672947666856,
          0.7507209129173364,
          0.7508520309283693,
          0.7522976450263699,
          0.7586961806551004,
          0.7629785817364465,
          0.7753648221539173,
          0.775374402919246,
          0.7785051962946502,
          0.7791465320594837,
          0.781109506605993,
          0.7820814014558323,
          0.7822216577459362,
          0.7834752995980145,
          0.7834954316155309,
          0.78383009017875,
          0.7860212558130021,
          0.7876456199329008,
          0.7917464603839895,
          0.7957451735219433,
          0.7979420534096546,
          0.7983308346722762,
          0.7984542663570455,
          0.8016261235187334,
          0.8018150210908666,
          0.8029717219803608,
          0.810896593796375,
          0.8131989861733995,
          0.8135302440923087,
          0.8238275937057918,
          0.8272182009241098,
          0.8338692134213137,
          0.8372793548057206,
          0.8384146503736695,
          0.8410892168736293,
          0.841644512182196,
          0.8601638532990229,
          0.8743479749730869,
          0.8803956952657751,
          0.8811582577413587,
          0.8909184487073792,
          0.8970255944680641,
          0.8985771480083748,
          0.8999291828735385,
          0.9015571805063979,
          0.9019939819485773,
          0.9072856149209579,
          0.9127458814640872,
          0.9134064873947088,
          0.915284702571893,
          0.9184346885444755,
          0.9223645196174945,
          0.9277447395565068,
          0.9325337169980875,
          0.9404320127403943,
          0.9497470327024579,
          0.9558075480056573,
          0.9664194474810162,
          0.9792648573010296,
          1.0084907408124748,
          1.012492435294396
         ],
         "yaxis": "y"
        }
       ],
       "layout": {
        "coloraxis": {
         "colorbar": {
          "title": {
           "text": "hdi_index"
          }
         },
         "colorscale": [
          [
           0,
           "rgb(209, 238, 234)"
          ],
          [
           0.16666666666666666,
           "rgb(168, 219, 217)"
          ],
          [
           0.3333333333333333,
           "rgb(133, 196, 201)"
          ],
          [
           0.5,
           "rgb(104, 171, 184)"
          ],
          [
           0.6666666666666666,
           "rgb(79, 144, 166)"
          ],
          [
           0.8333333333333334,
           "rgb(59, 115, 143)"
          ],
          [
           1,
           "rgb(42, 86, 116)"
          ]
         ]
        },
        "legend": {
         "tracegroupgap": 0
        },
        "margin": {
         "t": 60
        },
        "template": {
         "data": {
          "bar": [
           {
            "error_x": {
             "color": "#2a3f5f"
            },
            "error_y": {
             "color": "#2a3f5f"
            },
            "marker": {
             "line": {
              "color": "#E5ECF6",
              "width": 0.5
             },
             "pattern": {
              "fillmode": "overlay",
              "size": 10,
              "solidity": 0.2
             }
            },
            "type": "bar"
           }
          ],
          "barpolar": [
           {
            "marker": {
             "line": {
              "color": "#E5ECF6",
              "width": 0.5
             },
             "pattern": {
              "fillmode": "overlay",
              "size": 10,
              "solidity": 0.2
             }
            },
            "type": "barpolar"
           }
          ],
          "carpet": [
           {
            "aaxis": {
             "endlinecolor": "#2a3f5f",
             "gridcolor": "white",
             "linecolor": "white",
             "minorgridcolor": "white",
             "startlinecolor": "#2a3f5f"
            },
            "baxis": {
             "endlinecolor": "#2a3f5f",
             "gridcolor": "white",
             "linecolor": "white",
             "minorgridcolor": "white",
             "startlinecolor": "#2a3f5f"
            },
            "type": "carpet"
           }
          ],
          "choropleth": [
           {
            "colorbar": {
             "outlinewidth": 0,
             "ticks": ""
            },
            "type": "choropleth"
           }
          ],
          "contour": [
           {
            "colorbar": {
             "outlinewidth": 0,
             "ticks": ""
            },
            "colorscale": [
             [
              0,
              "#0d0887"
             ],
             [
              0.1111111111111111,
              "#46039f"
             ],
             [
              0.2222222222222222,
              "#7201a8"
             ],
             [
              0.3333333333333333,
              "#9c179e"
             ],
             [
              0.4444444444444444,
              "#bd3786"
             ],
             [
              0.5555555555555556,
              "#d8576b"
             ],
             [
              0.6666666666666666,
              "#ed7953"
             ],
             [
              0.7777777777777778,
              "#fb9f3a"
             ],
             [
              0.8888888888888888,
              "#fdca26"
             ],
             [
              1,
              "#f0f921"
             ]
            ],
            "type": "contour"
           }
          ],
          "contourcarpet": [
           {
            "colorbar": {
             "outlinewidth": 0,
             "ticks": ""
            },
            "type": "contourcarpet"
           }
          ],
          "heatmap": [
           {
            "colorbar": {
             "outlinewidth": 0,
             "ticks": ""
            },
            "colorscale": [
             [
              0,
              "#0d0887"
             ],
             [
              0.1111111111111111,
              "#46039f"
             ],
             [
              0.2222222222222222,
              "#7201a8"
             ],
             [
              0.3333333333333333,
              "#9c179e"
             ],
             [
              0.4444444444444444,
              "#bd3786"
             ],
             [
              0.5555555555555556,
              "#d8576b"
             ],
             [
              0.6666666666666666,
              "#ed7953"
             ],
             [
              0.7777777777777778,
              "#fb9f3a"
             ],
             [
              0.8888888888888888,
              "#fdca26"
             ],
             [
              1,
              "#f0f921"
             ]
            ],
            "type": "heatmap"
           }
          ],
          "heatmapgl": [
           {
            "colorbar": {
             "outlinewidth": 0,
             "ticks": ""
            },
            "colorscale": [
             [
              0,
              "#0d0887"
             ],
             [
              0.1111111111111111,
              "#46039f"
             ],
             [
              0.2222222222222222,
              "#7201a8"
             ],
             [
              0.3333333333333333,
              "#9c179e"
             ],
             [
              0.4444444444444444,
              "#bd3786"
             ],
             [
              0.5555555555555556,
              "#d8576b"
             ],
             [
              0.6666666666666666,
              "#ed7953"
             ],
             [
              0.7777777777777778,
              "#fb9f3a"
             ],
             [
              0.8888888888888888,
              "#fdca26"
             ],
             [
              1,
              "#f0f921"
             ]
            ],
            "type": "heatmapgl"
           }
          ],
          "histogram": [
           {
            "marker": {
             "pattern": {
              "fillmode": "overlay",
              "size": 10,
              "solidity": 0.2
             }
            },
            "type": "histogram"
           }
          ],
          "histogram2d": [
           {
            "colorbar": {
             "outlinewidth": 0,
             "ticks": ""
            },
            "colorscale": [
             [
              0,
              "#0d0887"
             ],
             [
              0.1111111111111111,
              "#46039f"
             ],
             [
              0.2222222222222222,
              "#7201a8"
             ],
             [
              0.3333333333333333,
              "#9c179e"
             ],
             [
              0.4444444444444444,
              "#bd3786"
             ],
             [
              0.5555555555555556,
              "#d8576b"
             ],
             [
              0.6666666666666666,
              "#ed7953"
             ],
             [
              0.7777777777777778,
              "#fb9f3a"
             ],
             [
              0.8888888888888888,
              "#fdca26"
             ],
             [
              1,
              "#f0f921"
             ]
            ],
            "type": "histogram2d"
           }
          ],
          "histogram2dcontour": [
           {
            "colorbar": {
             "outlinewidth": 0,
             "ticks": ""
            },
            "colorscale": [
             [
              0,
              "#0d0887"
             ],
             [
              0.1111111111111111,
              "#46039f"
             ],
             [
              0.2222222222222222,
              "#7201a8"
             ],
             [
              0.3333333333333333,
              "#9c179e"
             ],
             [
              0.4444444444444444,
              "#bd3786"
             ],
             [
              0.5555555555555556,
              "#d8576b"
             ],
             [
              0.6666666666666666,
              "#ed7953"
             ],
             [
              0.7777777777777778,
              "#fb9f3a"
             ],
             [
              0.8888888888888888,
              "#fdca26"
             ],
             [
              1,
              "#f0f921"
             ]
            ],
            "type": "histogram2dcontour"
           }
          ],
          "mesh3d": [
           {
            "colorbar": {
             "outlinewidth": 0,
             "ticks": ""
            },
            "type": "mesh3d"
           }
          ],
          "parcoords": [
           {
            "line": {
             "colorbar": {
              "outlinewidth": 0,
              "ticks": ""
             }
            },
            "type": "parcoords"
           }
          ],
          "pie": [
           {
            "automargin": true,
            "type": "pie"
           }
          ],
          "scatter": [
           {
            "marker": {
             "colorbar": {
              "outlinewidth": 0,
              "ticks": ""
             }
            },
            "type": "scatter"
           }
          ],
          "scatter3d": [
           {
            "line": {
             "colorbar": {
              "outlinewidth": 0,
              "ticks": ""
             }
            },
            "marker": {
             "colorbar": {
              "outlinewidth": 0,
              "ticks": ""
             }
            },
            "type": "scatter3d"
           }
          ],
          "scattercarpet": [
           {
            "marker": {
             "colorbar": {
              "outlinewidth": 0,
              "ticks": ""
             }
            },
            "type": "scattercarpet"
           }
          ],
          "scattergeo": [
           {
            "marker": {
             "colorbar": {
              "outlinewidth": 0,
              "ticks": ""
             }
            },
            "type": "scattergeo"
           }
          ],
          "scattergl": [
           {
            "marker": {
             "colorbar": {
              "outlinewidth": 0,
              "ticks": ""
             }
            },
            "type": "scattergl"
           }
          ],
          "scattermapbox": [
           {
            "marker": {
             "colorbar": {
              "outlinewidth": 0,
              "ticks": ""
             }
            },
            "type": "scattermapbox"
           }
          ],
          "scatterpolar": [
           {
            "marker": {
             "colorbar": {
              "outlinewidth": 0,
              "ticks": ""
             }
            },
            "type": "scatterpolar"
           }
          ],
          "scatterpolargl": [
           {
            "marker": {
             "colorbar": {
              "outlinewidth": 0,
              "ticks": ""
             }
            },
            "type": "scatterpolargl"
           }
          ],
          "scatterternary": [
           {
            "marker": {
             "colorbar": {
              "outlinewidth": 0,
              "ticks": ""
             }
            },
            "type": "scatterternary"
           }
          ],
          "surface": [
           {
            "colorbar": {
             "outlinewidth": 0,
             "ticks": ""
            },
            "colorscale": [
             [
              0,
              "#0d0887"
             ],
             [
              0.1111111111111111,
              "#46039f"
             ],
             [
              0.2222222222222222,
              "#7201a8"
             ],
             [
              0.3333333333333333,
              "#9c179e"
             ],
             [
              0.4444444444444444,
              "#bd3786"
             ],
             [
              0.5555555555555556,
              "#d8576b"
             ],
             [
              0.6666666666666666,
              "#ed7953"
             ],
             [
              0.7777777777777778,
              "#fb9f3a"
             ],
             [
              0.8888888888888888,
              "#fdca26"
             ],
             [
              1,
              "#f0f921"
             ]
            ],
            "type": "surface"
           }
          ],
          "table": [
           {
            "cells": {
             "fill": {
              "color": "#EBF0F8"
             },
             "line": {
              "color": "white"
             }
            },
            "header": {
             "fill": {
              "color": "#C8D4E3"
             },
             "line": {
              "color": "white"
             }
            },
            "type": "table"
           }
          ]
         },
         "layout": {
          "annotationdefaults": {
           "arrowcolor": "#2a3f5f",
           "arrowhead": 0,
           "arrowwidth": 1
          },
          "autotypenumbers": "strict",
          "coloraxis": {
           "colorbar": {
            "outlinewidth": 0,
            "ticks": ""
           }
          },
          "colorscale": {
           "diverging": [
            [
             0,
             "#8e0152"
            ],
            [
             0.1,
             "#c51b7d"
            ],
            [
             0.2,
             "#de77ae"
            ],
            [
             0.3,
             "#f1b6da"
            ],
            [
             0.4,
             "#fde0ef"
            ],
            [
             0.5,
             "#f7f7f7"
            ],
            [
             0.6,
             "#e6f5d0"
            ],
            [
             0.7,
             "#b8e186"
            ],
            [
             0.8,
             "#7fbc41"
            ],
            [
             0.9,
             "#4d9221"
            ],
            [
             1,
             "#276419"
            ]
           ],
           "sequential": [
            [
             0,
             "#0d0887"
            ],
            [
             0.1111111111111111,
             "#46039f"
            ],
            [
             0.2222222222222222,
             "#7201a8"
            ],
            [
             0.3333333333333333,
             "#9c179e"
            ],
            [
             0.4444444444444444,
             "#bd3786"
            ],
            [
             0.5555555555555556,
             "#d8576b"
            ],
            [
             0.6666666666666666,
             "#ed7953"
            ],
            [
             0.7777777777777778,
             "#fb9f3a"
            ],
            [
             0.8888888888888888,
             "#fdca26"
            ],
            [
             1,
             "#f0f921"
            ]
           ],
           "sequentialminus": [
            [
             0,
             "#0d0887"
            ],
            [
             0.1111111111111111,
             "#46039f"
            ],
            [
             0.2222222222222222,
             "#7201a8"
            ],
            [
             0.3333333333333333,
             "#9c179e"
            ],
            [
             0.4444444444444444,
             "#bd3786"
            ],
            [
             0.5555555555555556,
             "#d8576b"
            ],
            [
             0.6666666666666666,
             "#ed7953"
            ],
            [
             0.7777777777777778,
             "#fb9f3a"
            ],
            [
             0.8888888888888888,
             "#fdca26"
            ],
            [
             1,
             "#f0f921"
            ]
           ]
          },
          "colorway": [
           "#636efa",
           "#EF553B",
           "#00cc96",
           "#ab63fa",
           "#FFA15A",
           "#19d3f3",
           "#FF6692",
           "#B6E880",
           "#FF97FF",
           "#FECB52"
          ],
          "font": {
           "color": "#2a3f5f"
          },
          "geo": {
           "bgcolor": "white",
           "lakecolor": "white",
           "landcolor": "#E5ECF6",
           "showlakes": true,
           "showland": true,
           "subunitcolor": "white"
          },
          "hoverlabel": {
           "align": "left"
          },
          "hovermode": "closest",
          "mapbox": {
           "style": "light"
          },
          "paper_bgcolor": "white",
          "plot_bgcolor": "#E5ECF6",
          "polar": {
           "angularaxis": {
            "gridcolor": "white",
            "linecolor": "white",
            "ticks": ""
           },
           "bgcolor": "#E5ECF6",
           "radialaxis": {
            "gridcolor": "white",
            "linecolor": "white",
            "ticks": ""
           }
          },
          "scene": {
           "xaxis": {
            "backgroundcolor": "#E5ECF6",
            "gridcolor": "white",
            "gridwidth": 2,
            "linecolor": "white",
            "showbackground": true,
            "ticks": "",
            "zerolinecolor": "white"
           },
           "yaxis": {
            "backgroundcolor": "#E5ECF6",
            "gridcolor": "white",
            "gridwidth": 2,
            "linecolor": "white",
            "showbackground": true,
            "ticks": "",
            "zerolinecolor": "white"
           },
           "zaxis": {
            "backgroundcolor": "#E5ECF6",
            "gridcolor": "white",
            "gridwidth": 2,
            "linecolor": "white",
            "showbackground": true,
            "ticks": "",
            "zerolinecolor": "white"
           }
          },
          "shapedefaults": {
           "line": {
            "color": "#2a3f5f"
           }
          },
          "ternary": {
           "aaxis": {
            "gridcolor": "white",
            "linecolor": "white",
            "ticks": ""
           },
           "baxis": {
            "gridcolor": "white",
            "linecolor": "white",
            "ticks": ""
           },
           "bgcolor": "#E5ECF6",
           "caxis": {
            "gridcolor": "white",
            "linecolor": "white",
            "ticks": ""
           }
          },
          "title": {
           "x": 0.05
          },
          "xaxis": {
           "automargin": true,
           "gridcolor": "white",
           "linecolor": "white",
           "ticks": "",
           "title": {
            "standoff": 15
           },
           "zerolinecolor": "white",
           "zerolinewidth": 2
          },
          "yaxis": {
           "automargin": true,
           "gridcolor": "white",
           "linecolor": "white",
           "ticks": "",
           "title": {
            "standoff": 15
           },
           "zerolinecolor": "white",
           "zerolinewidth": 2
          }
         }
        },
        "title": {
         "text": "Relationship between Quality of Education and Human Development Index by Country in 2018",
         "x": 0.5,
         "xanchor": "center"
        },
        "xaxis": {
         "anchor": "y",
         "domain": [
          0,
          1
         ],
         "title": {
          "text": "Quality of Education Index"
         }
        },
        "yaxis": {
         "anchor": "x",
         "domain": [
          0,
          1
         ],
         "title": {
          "text": "Human Development Index (HDI)"
         }
        }
       }
      }
     },
     "metadata": {},
     "output_type": "display_data"
    }
   ],
   "source": [
    "fig = px.scatter(data_frame=df_indicators_2018,x='edu_quality_index',y='hdi_index',hover_name='country',color='hdi_index', trendline='ols', labels={'hdi':'HDI Index'},\n",
    "                 color_continuous_scale=px.colors.sequential.Teal, trendline_color_override='Purple')\n",
    "#Setting the labels of the plot\n",
    "fig.update_layout(\n",
    "    title={\n",
    "        'text': \"Relationship between Quality of Education and Human Development Index by Country in 2018\",\n",
    "        'x':0.5,\n",
    "        'xanchor': 'center'},\n",
    "    xaxis_title=\"Quality of Education Index\",\n",
    "    yaxis_title=\"Human Development Index (HDI)\"\n",
    ")\n",
    "\n",
    "fig.show()"
   ]
  },
  {
   "cell_type": "markdown",
   "metadata": {},
   "source": [
    "#### 2.1.2 Relationship among different income groups"
   ]
  },
  {
   "cell_type": "markdown",
   "metadata": {},
   "source": [
    "There is an interaction between the income groups and the HDI which shows that for different income groups the strength of the relationship between both variables change. \n",
    "\n",
    "From the plots we can conclude that the 'High Income' groups show the highest correlation suggesting that the effects of the socioeconomic indicator and the quality of education might be more prominent in wealthy countries, further increasing the inequality gap between countries."
   ]
  },
  {
   "cell_type": "code",
   "execution_count": 7,
   "metadata": {},
   "outputs": [
    {
     "data": {
      "application/vnd.plotly.v1+json": {
       "config": {
        "plotlyServerURL": "https://plot.ly"
       },
       "data": [
        {
         "hovertemplate": "<b>%{hovertext}</b><br><br>income_group=Low income<br>edu_quality_index=%{x}<br>hdi_index=%{marker.color}<extra></extra>",
         "hovertext": [
          "Afghanistan",
          "Burkina Faso",
          "Burundi",
          "Central African Republic",
          "Chad",
          "Eritrea",
          "Ethiopia",
          "Gambia",
          "Guinea",
          "Guinea-Bissau",
          "Liberia",
          "Madagascar",
          "Malawi",
          "Mali",
          "Mozambique",
          "Niger",
          "Rwanda",
          "Sierra Leone",
          "Somalia",
          "South Sudan",
          "Sudan",
          "Syria",
          "Togo",
          "Uganda",
          "Yemen"
         ],
         "legendgroup": "",
         "marker": {
          "color": [
           0.509,
           0.443,
           0.431,
           0.395,
           0.397,
           0.456,
           0.478,
           0.487,
           0.473,
           0.472,
           0.48,
           0.527,
           0.478,
           0.431,
           0.452,
           0.391,
           0.54,
           0.447,
           null,
           0.429,
           0.506,
           0.563,
           0.51,
           0.538,
           0.468
          ],
          "coloraxis": "coloraxis",
          "symbol": "circle"
         },
         "mode": "markers",
         "name": "",
         "orientation": "v",
         "showlegend": false,
         "type": "scatter",
         "x": [
          null,
          null,
          3.3095909355,
          null,
          2.61314469575,
          null,
          3.548745334249999,
          4.03637063525,
          2.7947496775,
          null,
          2.89157027,
          3.67245489375,
          2.92263948925,
          3.66399663725,
          2.790258944,
          null,
          4.394029140500001,
          2.91684859975,
          null,
          null,
          null,
          null,
          null,
          3.343117058,
          2.2447446585
         ],
         "xaxis": "x",
         "y": [
          0.509,
          0.443,
          0.431,
          0.395,
          0.397,
          0.456,
          0.478,
          0.487,
          0.473,
          0.472,
          0.48,
          0.527,
          0.478,
          0.431,
          0.452,
          0.391,
          0.54,
          0.447,
          null,
          0.429,
          0.506,
          0.563,
          0.51,
          0.538,
          0.468
         ],
         "yaxis": "y"
        },
        {
         "hovertemplate": "<b>OLS trendline</b><br>hdi_index = 0.0364453 * edu_quality_index + 0.355841<br>R<sup>2</sup>=0.270218<br><br>income_group=Low income<br>edu_quality_index=%{x}<br>hdi_index=%{y} <b>(trend)</b><extra></extra>",
         "legendgroup": "",
         "line": {
          "color": "Purple"
         },
         "marker": {
          "symbol": "circle"
         },
         "mode": "lines",
         "name": "",
         "showlegend": false,
         "type": "scatter",
         "x": [
          2.2447446585,
          2.61314469575,
          2.790258944,
          2.7947496775,
          2.89157027,
          2.91684859975,
          2.92263948925,
          3.3095909355,
          3.343117058,
          3.548745334249999,
          3.66399663725,
          3.67245489375,
          4.03637063525,
          4.394029140500001
         ],
         "xaxis": "x",
         "y": [
          0.43765155989845705,
          0.4510780208623706,
          0.457533008104046,
          0.457696674368814,
          0.4612253328222931,
          0.46214660989423595,
          0.4623576607735965,
          0.4764602339622085,
          0.47768210456346516,
          0.48517629496788656,
          0.4893766667493899,
          0.4896849306995451,
          0.5029479600246145,
          0.5159829423090816
         ],
         "yaxis": "y"
        },
        {
         "hovertemplate": "<b>%{hovertext}</b><br><br>income_group=Upper middle income<br>edu_quality_index=%{x}<br>hdi_index=%{marker.color}<extra></extra>",
         "hovertext": [
          "Albania",
          "American Samoa",
          "Argentina",
          "Armenia",
          "Azerbaijan",
          "Belarus",
          "Bosnia and Herzegovina",
          "Botswana",
          "Brazil",
          "Bulgaria",
          "China",
          "Colombia",
          "Costa Rica",
          "Cuba",
          "Dominica",
          "Dominican Republic",
          "Ecuador",
          "Equatorial Guinea",
          "Fiji",
          "Gabon",
          "Georgia",
          "Grenada",
          "Guatemala",
          "Guyana",
          "Iraq",
          "Jamaica",
          "Jordan",
          "Kazakhstan",
          "Kosovo",
          "Lebanon",
          "Libya",
          "Malaysia",
          "Maldives",
          "Marshall Islands",
          "Mauritius",
          "Mexico",
          "Moldova",
          "Montenegro",
          "Namibia",
          "North Macedonia",
          "Panama",
          "Paraguay",
          "Peru",
          "Romania",
          "Russia",
          "Serbia",
          "South Africa",
          "St. Lucia",
          "St. Vincent and the Grenadines",
          "Suriname",
          "Thailand",
          "Tonga",
          "Turkey",
          "Turkmenistan",
          "Tuvalu"
         ],
         "legendgroup": "",
         "marker": {
          "color": [
           0.792,
           null,
           0.842,
           0.771,
           0.754,
           0.823,
           0.777,
           0.73,
           0.762,
           0.813,
           0.755,
           0.764,
           0.808,
           0.781,
           0.738,
           0.751,
           0.762,
           0.582,
           0.742,
           0.697,
           0.805,
           0.773,
           0.657,
           0.68,
           0.671,
           0.734,
           0.728,
           0.819,
           null,
           0.747,
           0.721,
           0.805,
           0.734,
           0.702,
           0.801,
           0.776,
           0.746,
           0.826,
           0.645,
           0.77,
           0.812,
           0.727,
           0.771,
           0.823,
           0.823,
           0.803,
           0.707,
           0.758,
           null,
           0.734,
           0.772,
           0.723,
           0.817,
           0.71,
           null
          ],
          "coloraxis": "coloraxis",
          "symbol": "circle"
         },
         "mode": "markers",
         "name": "",
         "orientation": "v",
         "showlegend": false,
         "type": "scatter",
         "x": [
          4.485545992750001,
          null,
          3.75650507225,
          4.123025775249999,
          4.406499505,
          null,
          3.23686605675,
          3.6361775995,
          3.182566643,
          3.773089886,
          4.513828873750001,
          3.800363958,
          4.787541389499999,
          null,
          null,
          3.09706348175,
          3.7505168915,
          null,
          null,
          null,
          3.5151272415,
          null,
          3.289593935,
          null,
          null,
          4.37463819975,
          4.31229245675,
          4.113367319,
          null,
          5.118548751000001,
          null,
          5.25812911975,
          null,
          null,
          4.3772073985,
          3.51215380425,
          3.76005345575,
          4.08039987125,
          3.34541547275,
          null,
          3.680060029,
          2.7540509105,
          3.27700579175,
          3.7737690805,
          4.3563212755,
          3.99615168575,
          3.4022233485,
          null,
          null,
          null,
          4.05051058525,
          null,
          3.551756382,
          null,
          null
         ],
         "xaxis": "x2",
         "y": [
          0.792,
          null,
          0.842,
          0.771,
          0.754,
          0.823,
          0.777,
          0.73,
          0.762,
          0.813,
          0.755,
          0.764,
          0.808,
          0.781,
          0.738,
          0.751,
          0.762,
          0.582,
          0.742,
          0.697,
          0.805,
          0.773,
          0.657,
          0.68,
          0.671,
          0.734,
          0.728,
          0.819,
          null,
          0.747,
          0.721,
          0.805,
          0.734,
          0.702,
          0.801,
          0.776,
          0.746,
          0.826,
          0.645,
          0.77,
          0.812,
          0.727,
          0.771,
          0.823,
          0.823,
          0.803,
          0.707,
          0.758,
          null,
          0.734,
          0.772,
          0.723,
          0.817,
          0.71,
          null
         ],
         "yaxis": "y2"
        },
        {
         "hovertemplate": "<b>OLS trendline</b><br>hdi_index = 0.0241298 * edu_quality_index + 0.677325<br>R<sup>2</sup>=0.091635<br><br>income_group=Upper middle income<br>edu_quality_index=%{x}<br>hdi_index=%{y} <b>(trend)</b><extra></extra>",
         "legendgroup": "",
         "line": {
          "color": "Purple"
         },
         "marker": {
          "symbol": "circle"
         },
         "mode": "lines",
         "name": "",
         "showlegend": false,
         "type": "scatter",
         "x": [
          2.7540509105,
          3.09706348175,
          3.182566643,
          3.23686605675,
          3.27700579175,
          3.289593935,
          3.34541547275,
          3.4022233485,
          3.51215380425,
          3.5151272415,
          3.551756382,
          3.6361775995,
          3.680060029,
          3.7505168915,
          3.75650507225,
          3.76005345575,
          3.773089886,
          3.7737690805,
          3.800363958,
          3.99615168575,
          4.05051058525,
          4.08039987125,
          4.113367319,
          4.123025775249999,
          4.31229245675,
          4.3563212755,
          4.37463819975,
          4.3772073985,
          4.406499505,
          4.485545992750001,
          4.513828873750001,
          4.787541389499999,
          5.118548751000001,
          5.25812911975
         ],
         "xaxis": "x2",
         "y": [
          0.7437796387542172,
          0.7520564581135512,
          0.7541196309522004,
          0.7554298640940608,
          0.7563984272418073,
          0.7567021764232731,
          0.758049138088944,
          0.7594198998778102,
          0.7620724980639824,
          0.7621442464634794,
          0.7630280997231468,
          0.7650651654924747,
          0.7661240390512385,
          0.7678241479464104,
          0.7679686414563077,
          0.7680542631848062,
          0.7683688294348903,
          0.7683852182516787,
          0.7690269469094622,
          0.7737512625503024,
          0.7750629310704796,
          0.7757841530947919,
          0.776579650498198,
          0.7768127069642626,
          0.7813796711656252,
          0.7824420770654167,
          0.7828840604967625,
          0.7829460547084455,
          0.7836528669202293,
          0.7855602416199738,
          0.7862427014381241,
          0.7928473254056825,
          0.8008344616431717,
          0.8042025058347969
         ],
         "yaxis": "y2"
        },
        {
         "hovertemplate": "<b>%{hovertext}</b><br><br>income_group=Lower middle income<br>edu_quality_index=%{x}<br>hdi_index=%{marker.color}<extra></extra>",
         "hovertext": [
          "Algeria",
          "Angola",
          "Bangladesh",
          "Belize",
          "Benin",
          "Bhutan",
          "Bolivia",
          "Cabo Verde",
          "Cambodia",
          "Cameroon",
          "Comoros",
          "Cote d'Ivoire",
          "Djibouti",
          "Egypt",
          "El Salvador",
          "Eswatini",
          "Ghana",
          "Haiti",
          "Honduras",
          "India",
          "Indonesia",
          "Iran",
          "Kenya",
          "Kiribati",
          "Kyrgyzstan",
          "Lao PDR",
          "Lesotho",
          "Mauritania",
          "Micronesia",
          "Mongolia",
          "Morocco",
          "Myanmar",
          "Nepal",
          "Nicaragua",
          "Nigeria",
          "Pakistan",
          "Papua New Guinea",
          "Philippines",
          "Samoa",
          "Sao Tome and Principe",
          "Senegal",
          "Solomon Islands",
          "Sri Lanka",
          "Tajikistan",
          "Tanzania",
          "Timor-Leste",
          "Tunisia",
          "Ukraine",
          "Uzbekistan",
          "Vanuatu",
          "Vietnam",
          "West Bank and Gaza",
          "Zambia",
          "Zimbabwe",
          "Congo"
         ],
         "legendgroup": "",
         "marker": {
          "color": [
           0.746,
           0.582,
           0.625,
           0.714,
           0.541,
           0.649,
           0.714,
           0.663,
           0.585,
           0.56,
           0.552,
           0.534,
           0.518,
           0.701,
           0.67,
           0.605,
           0.606,
           0.508,
           0.633,
           0.642,
           0.712,
           0.785,
           0.599,
           0.628,
           0.696,
           0.609,
           0.522,
           0.542,
           0.618,
           0.735,
           0.68,
           0.579,
           0.596,
           0.659,
           0.534,
           0.552,
           0.549,
           0.711,
           0.709,
           0.624,
           0.516,
           0.564,
           0.779,
           0.661,
           0.524,
           0.599,
           0.738,
           0.774,
           0.717,
           0.603,
           0.7,
           null,
           0.582,
           0.569,
           0.573
          ],
          "coloraxis": "coloraxis",
          "symbol": "circle"
         },
         "mode": "markers",
         "name": "",
         "orientation": "v",
         "showlegend": false,
         "type": "scatter",
         "x": [
          3.416745662749999,
          null,
          3.38388782725,
          null,
          3.302977741,
          4.3412513735,
          null,
          null,
          3.3678638935,
          3.99517446775,
          null,
          null,
          null,
          2.9052241445,
          2.927667737,
          3.09669226425,
          4.018807113,
          2.7684766055,
          3.36910063025,
          4.605217695249999,
          4.6026746035,
          3.83756726975,
          4.36485934275,
          null,
          3.1524888275,
          3.8370832205,
          3.5835725665,
          2.3659526705,
          null,
          3.69268512725,
          3.4795261025,
          null,
          3.83100247375,
          3.03231650575,
          3.16824227575,
          3.66025239225,
          null,
          4.3122189045,
          null,
          null,
          4.09712105975,
          null,
          4.124032378,
          4.13513046525,
          3.15139406925,
          null,
          3.79927766325,
          4.374483644750001,
          null,
          null,
          3.68711513275,
          null,
          3.6091204285,
          3.793227315,
          null
         ],
         "xaxis": "x3",
         "y": [
          0.746,
          0.582,
          0.625,
          0.714,
          0.541,
          0.649,
          0.714,
          0.663,
          0.585,
          0.56,
          0.552,
          0.534,
          0.518,
          0.701,
          0.67,
          0.605,
          0.606,
          0.508,
          0.633,
          0.642,
          0.712,
          0.785,
          0.599,
          0.628,
          0.696,
          0.609,
          0.522,
          0.542,
          0.618,
          0.735,
          0.68,
          0.579,
          0.596,
          0.659,
          0.534,
          0.552,
          0.549,
          0.711,
          0.709,
          0.624,
          0.516,
          0.564,
          0.779,
          0.661,
          0.524,
          0.599,
          0.738,
          0.774,
          0.717,
          0.603,
          0.7,
          null,
          0.582,
          0.569,
          0.573
         ],
         "yaxis": "y3"
        },
        {
         "hovertemplate": "<b>OLS trendline</b><br>hdi_index = 0.0483093 * edu_quality_index + 0.458563<br>R<sup>2</sup>=0.101303<br><br>income_group=Lower middle income<br>edu_quality_index=%{x}<br>hdi_index=%{y} <b>(trend)</b><extra></extra>",
         "legendgroup": "",
         "line": {
          "color": "Purple"
         },
         "marker": {
          "symbol": "circle"
         },
         "mode": "lines",
         "name": "",
         "showlegend": false,
         "type": "scatter",
         "x": [
          2.3659526705,
          2.7684766055,
          2.9052241445,
          2.927667737,
          3.03231650575,
          3.09669226425,
          3.15139406925,
          3.1524888275,
          3.16824227575,
          3.302977741,
          3.3678638935,
          3.36910063025,
          3.38388782725,
          3.416745662749999,
          3.4795261025,
          3.5835725665,
          3.6091204285,
          3.66025239225,
          3.68711513275,
          3.69268512725,
          3.793227315,
          3.79927766325,
          3.83100247375,
          3.8370832205,
          3.83756726975,
          3.99517446775,
          4.018807113,
          4.09712105975,
          4.124032378,
          4.13513046525,
          4.3122189045,
          4.3412513735,
          4.36485934275,
          4.374483644750001,
          4.6026746035,
          4.605217695249999
         ],
         "xaxis": "x3",
         "y": [
          0.5728608964275702,
          0.5923065497744384,
          0.5989127289558859,
          0.5999969634116913,
          0.6050524731673759,
          0.6081624216074176,
          0.6108050280339845,
          0.6108579150490836,
          0.6116189532558858,
          0.6181279305438587,
          0.6212625357656004,
          0.6213222816639948,
          0.6220366409401304,
          0.6236239802839669,
          0.6266568599768042,
          0.6316832728059231,
          0.6329174723776967,
          0.635387622238542,
          0.6366853426826936,
          0.6369544252707662,
          0.6418115489340391,
          0.6421038370800777,
          0.6436364407685468,
          0.6439301974451295,
          0.6439535815301487,
          0.6515674764337629,
          0.6527091532068497,
          0.6564924458965765,
          0.6577925130982866,
          0.6583286540298234,
          0.6668836742459341,
          0.6682862127756682,
          0.6694266974682345,
          0.66989164085203,
          0.6809153884976004,
          0.6810382435039735
         ],
         "yaxis": "y3"
        },
        {
         "hovertemplate": "<b>%{hovertext}</b><br><br>income_group=High income<br>edu_quality_index=%{x}<br>hdi_index=%{marker.color}<extra></extra>",
         "hovertext": [
          "Andorra",
          "Antigua and Barbuda",
          "Aruba",
          "Australia",
          "Austria",
          "Bahamas",
          "Bahrain",
          "Barbados",
          "Belgium",
          "Bermuda",
          "British Virgin Islands",
          "Brunei",
          "Canada",
          "Cayman Islands",
          "Channel Islands",
          "Chile",
          "Croatia",
          "Curacao",
          "Cyprus",
          "Czech",
          "Denmark",
          "Estonia",
          "Faroe Islands",
          "Finland",
          "France",
          "French Polynesia",
          "Germany",
          "Gibraltar",
          "Greece",
          "Greenland",
          "Guam",
          "Hong Kong",
          "Hungary",
          "Iceland",
          "Ireland",
          "Isle of Man",
          "Israel",
          "Italy",
          "Japan",
          "Korea, Rep.",
          "Kuwait",
          "Latvia",
          "Liechtenstein",
          "Lithuania",
          "Luxembourg",
          "Macao SAR, China",
          "Malta",
          "Monaco",
          "Nauru",
          "Netherlands",
          "New Caledonia",
          "New Zealand",
          "Northern Mariana Islands",
          "Norway",
          "Oman",
          "Palau",
          "Poland",
          "Portugal",
          "Puerto Rico",
          "Qatar",
          "San Marino",
          "Saudi Arabia",
          "Seychelles",
          "Singapore",
          "Sint Maarten (Dutch part)",
          "Slovakia",
          "Slovenia",
          "Spain",
          "St. Kitts and Nevis",
          "St. Martin (French part)",
          "Sweden",
          "Switzerland",
          "Trinidad and Tobago",
          "Turks and Caicos Islands",
          "United Arab Emirates",
          "United Kingdom",
          "United States",
          "Uruguay"
         ],
         "legendgroup": "",
         "marker": {
          "color": [
           0.867,
           0.772,
           null,
           0.943,
           0.921,
           0.812,
           0.852,
           0.81,
           0.93,
           null,
           null,
           0.836,
           0.928,
           null,
           null,
           0.849,
           0.848,
           null,
           0.885,
           0.898,
           0.939,
           0.889,
           null,
           0.937,
           0.898,
           null,
           0.946,
           null,
           0.881,
           null,
           null,
           0.946,
           0.85,
           0.946,
           0.951,
           null,
           0.916,
           0.89,
           0.917,
           0.914,
           0.807,
           0.863,
           0.919,
           0.876,
           0.913,
           null,
           0.894,
           null,
           null,
           0.942,
           null,
           0.928,
           null,
           0.956,
           0.813,
           0.822,
           0.877,
           0.86,
           null,
           0.845,
           null,
           0.854,
           0.79,
           0.936,
           null,
           0.858,
           0.912,
           0.905,
           0.773,
           null,
           0.943,
           0.955,
           0.795,
           null,
           0.889,
           0.928,
           0.925,
           0.816
          ],
          "coloraxis": "coloraxis",
          "symbol": "circle"
         },
         "mode": "markers",
         "name": "",
         "orientation": "v",
         "showlegend": false,
         "type": "scatter",
         "x": [
          null,
          null,
          null,
          5.32498466975,
          4.710301160749999,
          null,
          4.816789984750001,
          null,
          5.36690354325,
          null,
          null,
          4.584998965500001,
          5.579452038,
          null,
          null,
          4.121846437249999,
          3.622494161,
          null,
          4.1842525005,
          4.48947828975,
          5.44074654575,
          5.2810070515,
          null,
          5.877574682,
          4.96322739125,
          null,
          5.28436040875,
          null,
          3.778220594,
          null,
          null,
          5.37197506425,
          3.66430544875,
          5.4105769395,
          5.26850879225,
          null,
          5.07211995125,
          4.437981963,
          4.76136147975,
          4.5241591335,
          3.48593091975,
          4.36378258475,
          null,
          4.4885306955,
          4.68427121625,
          null,
          5.124402999999999,
          null,
          null,
          5.77895951275,
          null,
          5.5188162325,
          null,
          5.386394262250001,
          3.7034083605,
          null,
          4.217128813,
          4.821053028250001,
          null,
          5.650964141,
          null,
          4.336327791,
          3.995258987,
          6.1019439695,
          null,
          3.798733771,
          4.796257138250001,
          4.5152790545,
          null,
          null,
          5.199332714000001,
          6.1326652765,
          4.468680382000001,
          null,
          5.4820508955,
          5.2462177275,
          5.697491168999999,
          3.90237712875
         ],
         "xaxis": "x4",
         "y": [
          0.867,
          0.772,
          null,
          0.943,
          0.921,
          0.812,
          0.852,
          0.81,
          0.93,
          null,
          null,
          0.836,
          0.928,
          null,
          null,
          0.849,
          0.848,
          null,
          0.885,
          0.898,
          0.939,
          0.889,
          null,
          0.937,
          0.898,
          null,
          0.946,
          null,
          0.881,
          null,
          null,
          0.946,
          0.85,
          0.946,
          0.951,
          null,
          0.916,
          0.89,
          0.917,
          0.914,
          0.807,
          0.863,
          0.919,
          0.876,
          0.913,
          null,
          0.894,
          null,
          null,
          0.942,
          null,
          0.928,
          null,
          0.956,
          0.813,
          0.822,
          0.877,
          0.86,
          null,
          0.845,
          null,
          0.854,
          0.79,
          0.936,
          null,
          0.858,
          0.912,
          0.905,
          0.773,
          null,
          0.943,
          0.955,
          0.795,
          null,
          0.889,
          0.928,
          0.925,
          0.816
         ],
         "yaxis": "y4"
        },
        {
         "hovertemplate": "<b>OLS trendline</b><br>hdi_index = 0.0493819 * edu_quality_index + 0.654994<br>R<sup>2</sup>=0.564144<br><br>income_group=High income<br>edu_quality_index=%{x}<br>hdi_index=%{y} <b>(trend)</b><extra></extra>",
         "legendgroup": "",
         "line": {
          "color": "Purple"
         },
         "marker": {
          "symbol": "circle"
         },
         "mode": "lines",
         "name": "",
         "showlegend": false,
         "type": "scatter",
         "x": [
          3.48593091975,
          3.622494161,
          3.66430544875,
          3.7034083605,
          3.778220594,
          3.798733771,
          3.90237712875,
          3.995258987,
          4.121846437249999,
          4.1842525005,
          4.217128813,
          4.336327791,
          4.36378258475,
          4.437981963,
          4.468680382000001,
          4.4885306955,
          4.48947828975,
          4.5152790545,
          4.5241591335,
          4.584998965500001,
          4.68427121625,
          4.710301160749999,
          4.76136147975,
          4.796257138250001,
          4.816789984750001,
          4.821053028250001,
          4.96322739125,
          5.07211995125,
          5.124402999999999,
          5.199332714000001,
          5.2462177275,
          5.26850879225,
          5.2810070515,
          5.28436040875,
          5.32498466975,
          5.36690354325,
          5.37197506425,
          5.386394262250001,
          5.4105769395,
          5.44074654575,
          5.4820508955,
          5.5188162325,
          5.579452038,
          5.650964141,
          5.697491168999999,
          5.77895951275,
          5.877574682,
          6.1019439695,
          6.1326652765
         ],
         "xaxis": "x4",
         "y": [
          0.8271356137255388,
          0.833879366806134,
          0.8359440878686015,
          0.8378750641632514,
          0.8415694348117061,
          0.8425824145807883,
          0.8477005210837693,
          0.8522872042348976,
          0.8585383337465744,
          0.861620064067544,
          0.8632435590261516,
          0.8691298316990426,
          0.8704856017308166,
          0.8741497084192017,
          0.875665654846701,
          0.8766459011530356,
          0.876692695162786,
          0.87796678609071,
          0.8784053013131377,
          0.8814096881504551,
          0.8863119410604263,
          0.887597349321118,
          0.890118805171174,
          0.8918420192832204,
          0.8928559703696937,
          0.8930664875811533,
          0.9000873285460195,
          0.905464650658707,
          0.9080464872337869,
          0.9117466592931962,
          0.9140619306014214,
          0.9151627058554472,
          0.9157798937132322,
          0.915945488884217,
          0.9179515923038343,
          0.9200216261556466,
          0.920272067526648,
          0.9209841150003472,
          0.9221783016841794,
          0.9236681343304061,
          0.9257078218284394,
          0.9275233642275759,
          0.9305176758475411,
          0.934049079763352,
          0.9363466730654291,
          0.9403697351215595,
          0.9452395400949611,
          0.9563193230579264,
          0.9578363997384798
         ],
         "yaxis": "y4"
        }
       ],
       "layout": {
        "annotations": [
         {
          "font": {},
          "showarrow": false,
          "text": "income_group=Low income",
          "x": 0.1175,
          "xanchor": "center",
          "xref": "paper",
          "y": 1,
          "yanchor": "bottom",
          "yref": "paper"
         },
         {
          "font": {},
          "showarrow": false,
          "text": "income_group=Upper middle income",
          "x": 0.3725,
          "xanchor": "center",
          "xref": "paper",
          "y": 1,
          "yanchor": "bottom",
          "yref": "paper"
         },
         {
          "font": {},
          "showarrow": false,
          "text": "income_group=Lower middle income",
          "x": 0.6275,
          "xanchor": "center",
          "xref": "paper",
          "y": 1,
          "yanchor": "bottom",
          "yref": "paper"
         },
         {
          "font": {},
          "showarrow": false,
          "text": "income_group=High income",
          "x": 0.8824999999999998,
          "xanchor": "center",
          "xref": "paper",
          "y": 1,
          "yanchor": "bottom",
          "yref": "paper"
         }
        ],
        "coloraxis": {
         "colorbar": {
          "title": {
           "text": "hdi_index"
          }
         },
         "colorscale": [
          [
           0,
           "rgb(209, 238, 234)"
          ],
          [
           0.16666666666666666,
           "rgb(168, 219, 217)"
          ],
          [
           0.3333333333333333,
           "rgb(133, 196, 201)"
          ],
          [
           0.5,
           "rgb(104, 171, 184)"
          ],
          [
           0.6666666666666666,
           "rgb(79, 144, 166)"
          ],
          [
           0.8333333333333334,
           "rgb(59, 115, 143)"
          ],
          [
           1,
           "rgb(42, 86, 116)"
          ]
         ]
        },
        "legend": {
         "tracegroupgap": 0
        },
        "margin": {
         "t": 60
        },
        "template": {
         "data": {
          "bar": [
           {
            "error_x": {
             "color": "#2a3f5f"
            },
            "error_y": {
             "color": "#2a3f5f"
            },
            "marker": {
             "line": {
              "color": "#E5ECF6",
              "width": 0.5
             },
             "pattern": {
              "fillmode": "overlay",
              "size": 10,
              "solidity": 0.2
             }
            },
            "type": "bar"
           }
          ],
          "barpolar": [
           {
            "marker": {
             "line": {
              "color": "#E5ECF6",
              "width": 0.5
             },
             "pattern": {
              "fillmode": "overlay",
              "size": 10,
              "solidity": 0.2
             }
            },
            "type": "barpolar"
           }
          ],
          "carpet": [
           {
            "aaxis": {
             "endlinecolor": "#2a3f5f",
             "gridcolor": "white",
             "linecolor": "white",
             "minorgridcolor": "white",
             "startlinecolor": "#2a3f5f"
            },
            "baxis": {
             "endlinecolor": "#2a3f5f",
             "gridcolor": "white",
             "linecolor": "white",
             "minorgridcolor": "white",
             "startlinecolor": "#2a3f5f"
            },
            "type": "carpet"
           }
          ],
          "choropleth": [
           {
            "colorbar": {
             "outlinewidth": 0,
             "ticks": ""
            },
            "type": "choropleth"
           }
          ],
          "contour": [
           {
            "colorbar": {
             "outlinewidth": 0,
             "ticks": ""
            },
            "colorscale": [
             [
              0,
              "#0d0887"
             ],
             [
              0.1111111111111111,
              "#46039f"
             ],
             [
              0.2222222222222222,
              "#7201a8"
             ],
             [
              0.3333333333333333,
              "#9c179e"
             ],
             [
              0.4444444444444444,
              "#bd3786"
             ],
             [
              0.5555555555555556,
              "#d8576b"
             ],
             [
              0.6666666666666666,
              "#ed7953"
             ],
             [
              0.7777777777777778,
              "#fb9f3a"
             ],
             [
              0.8888888888888888,
              "#fdca26"
             ],
             [
              1,
              "#f0f921"
             ]
            ],
            "type": "contour"
           }
          ],
          "contourcarpet": [
           {
            "colorbar": {
             "outlinewidth": 0,
             "ticks": ""
            },
            "type": "contourcarpet"
           }
          ],
          "heatmap": [
           {
            "colorbar": {
             "outlinewidth": 0,
             "ticks": ""
            },
            "colorscale": [
             [
              0,
              "#0d0887"
             ],
             [
              0.1111111111111111,
              "#46039f"
             ],
             [
              0.2222222222222222,
              "#7201a8"
             ],
             [
              0.3333333333333333,
              "#9c179e"
             ],
             [
              0.4444444444444444,
              "#bd3786"
             ],
             [
              0.5555555555555556,
              "#d8576b"
             ],
             [
              0.6666666666666666,
              "#ed7953"
             ],
             [
              0.7777777777777778,
              "#fb9f3a"
             ],
             [
              0.8888888888888888,
              "#fdca26"
             ],
             [
              1,
              "#f0f921"
             ]
            ],
            "type": "heatmap"
           }
          ],
          "heatmapgl": [
           {
            "colorbar": {
             "outlinewidth": 0,
             "ticks": ""
            },
            "colorscale": [
             [
              0,
              "#0d0887"
             ],
             [
              0.1111111111111111,
              "#46039f"
             ],
             [
              0.2222222222222222,
              "#7201a8"
             ],
             [
              0.3333333333333333,
              "#9c179e"
             ],
             [
              0.4444444444444444,
              "#bd3786"
             ],
             [
              0.5555555555555556,
              "#d8576b"
             ],
             [
              0.6666666666666666,
              "#ed7953"
             ],
             [
              0.7777777777777778,
              "#fb9f3a"
             ],
             [
              0.8888888888888888,
              "#fdca26"
             ],
             [
              1,
              "#f0f921"
             ]
            ],
            "type": "heatmapgl"
           }
          ],
          "histogram": [
           {
            "marker": {
             "pattern": {
              "fillmode": "overlay",
              "size": 10,
              "solidity": 0.2
             }
            },
            "type": "histogram"
           }
          ],
          "histogram2d": [
           {
            "colorbar": {
             "outlinewidth": 0,
             "ticks": ""
            },
            "colorscale": [
             [
              0,
              "#0d0887"
             ],
             [
              0.1111111111111111,
              "#46039f"
             ],
             [
              0.2222222222222222,
              "#7201a8"
             ],
             [
              0.3333333333333333,
              "#9c179e"
             ],
             [
              0.4444444444444444,
              "#bd3786"
             ],
             [
              0.5555555555555556,
              "#d8576b"
             ],
             [
              0.6666666666666666,
              "#ed7953"
             ],
             [
              0.7777777777777778,
              "#fb9f3a"
             ],
             [
              0.8888888888888888,
              "#fdca26"
             ],
             [
              1,
              "#f0f921"
             ]
            ],
            "type": "histogram2d"
           }
          ],
          "histogram2dcontour": [
           {
            "colorbar": {
             "outlinewidth": 0,
             "ticks": ""
            },
            "colorscale": [
             [
              0,
              "#0d0887"
             ],
             [
              0.1111111111111111,
              "#46039f"
             ],
             [
              0.2222222222222222,
              "#7201a8"
             ],
             [
              0.3333333333333333,
              "#9c179e"
             ],
             [
              0.4444444444444444,
              "#bd3786"
             ],
             [
              0.5555555555555556,
              "#d8576b"
             ],
             [
              0.6666666666666666,
              "#ed7953"
             ],
             [
              0.7777777777777778,
              "#fb9f3a"
             ],
             [
              0.8888888888888888,
              "#fdca26"
             ],
             [
              1,
              "#f0f921"
             ]
            ],
            "type": "histogram2dcontour"
           }
          ],
          "mesh3d": [
           {
            "colorbar": {
             "outlinewidth": 0,
             "ticks": ""
            },
            "type": "mesh3d"
           }
          ],
          "parcoords": [
           {
            "line": {
             "colorbar": {
              "outlinewidth": 0,
              "ticks": ""
             }
            },
            "type": "parcoords"
           }
          ],
          "pie": [
           {
            "automargin": true,
            "type": "pie"
           }
          ],
          "scatter": [
           {
            "marker": {
             "colorbar": {
              "outlinewidth": 0,
              "ticks": ""
             }
            },
            "type": "scatter"
           }
          ],
          "scatter3d": [
           {
            "line": {
             "colorbar": {
              "outlinewidth": 0,
              "ticks": ""
             }
            },
            "marker": {
             "colorbar": {
              "outlinewidth": 0,
              "ticks": ""
             }
            },
            "type": "scatter3d"
           }
          ],
          "scattercarpet": [
           {
            "marker": {
             "colorbar": {
              "outlinewidth": 0,
              "ticks": ""
             }
            },
            "type": "scattercarpet"
           }
          ],
          "scattergeo": [
           {
            "marker": {
             "colorbar": {
              "outlinewidth": 0,
              "ticks": ""
             }
            },
            "type": "scattergeo"
           }
          ],
          "scattergl": [
           {
            "marker": {
             "colorbar": {
              "outlinewidth": 0,
              "ticks": ""
             }
            },
            "type": "scattergl"
           }
          ],
          "scattermapbox": [
           {
            "marker": {
             "colorbar": {
              "outlinewidth": 0,
              "ticks": ""
             }
            },
            "type": "scattermapbox"
           }
          ],
          "scatterpolar": [
           {
            "marker": {
             "colorbar": {
              "outlinewidth": 0,
              "ticks": ""
             }
            },
            "type": "scatterpolar"
           }
          ],
          "scatterpolargl": [
           {
            "marker": {
             "colorbar": {
              "outlinewidth": 0,
              "ticks": ""
             }
            },
            "type": "scatterpolargl"
           }
          ],
          "scatterternary": [
           {
            "marker": {
             "colorbar": {
              "outlinewidth": 0,
              "ticks": ""
             }
            },
            "type": "scatterternary"
           }
          ],
          "surface": [
           {
            "colorbar": {
             "outlinewidth": 0,
             "ticks": ""
            },
            "colorscale": [
             [
              0,
              "#0d0887"
             ],
             [
              0.1111111111111111,
              "#46039f"
             ],
             [
              0.2222222222222222,
              "#7201a8"
             ],
             [
              0.3333333333333333,
              "#9c179e"
             ],
             [
              0.4444444444444444,
              "#bd3786"
             ],
             [
              0.5555555555555556,
              "#d8576b"
             ],
             [
              0.6666666666666666,
              "#ed7953"
             ],
             [
              0.7777777777777778,
              "#fb9f3a"
             ],
             [
              0.8888888888888888,
              "#fdca26"
             ],
             [
              1,
              "#f0f921"
             ]
            ],
            "type": "surface"
           }
          ],
          "table": [
           {
            "cells": {
             "fill": {
              "color": "#EBF0F8"
             },
             "line": {
              "color": "white"
             }
            },
            "header": {
             "fill": {
              "color": "#C8D4E3"
             },
             "line": {
              "color": "white"
             }
            },
            "type": "table"
           }
          ]
         },
         "layout": {
          "annotationdefaults": {
           "arrowcolor": "#2a3f5f",
           "arrowhead": 0,
           "arrowwidth": 1
          },
          "autotypenumbers": "strict",
          "coloraxis": {
           "colorbar": {
            "outlinewidth": 0,
            "ticks": ""
           }
          },
          "colorscale": {
           "diverging": [
            [
             0,
             "#8e0152"
            ],
            [
             0.1,
             "#c51b7d"
            ],
            [
             0.2,
             "#de77ae"
            ],
            [
             0.3,
             "#f1b6da"
            ],
            [
             0.4,
             "#fde0ef"
            ],
            [
             0.5,
             "#f7f7f7"
            ],
            [
             0.6,
             "#e6f5d0"
            ],
            [
             0.7,
             "#b8e186"
            ],
            [
             0.8,
             "#7fbc41"
            ],
            [
             0.9,
             "#4d9221"
            ],
            [
             1,
             "#276419"
            ]
           ],
           "sequential": [
            [
             0,
             "#0d0887"
            ],
            [
             0.1111111111111111,
             "#46039f"
            ],
            [
             0.2222222222222222,
             "#7201a8"
            ],
            [
             0.3333333333333333,
             "#9c179e"
            ],
            [
             0.4444444444444444,
             "#bd3786"
            ],
            [
             0.5555555555555556,
             "#d8576b"
            ],
            [
             0.6666666666666666,
             "#ed7953"
            ],
            [
             0.7777777777777778,
             "#fb9f3a"
            ],
            [
             0.8888888888888888,
             "#fdca26"
            ],
            [
             1,
             "#f0f921"
            ]
           ],
           "sequentialminus": [
            [
             0,
             "#0d0887"
            ],
            [
             0.1111111111111111,
             "#46039f"
            ],
            [
             0.2222222222222222,
             "#7201a8"
            ],
            [
             0.3333333333333333,
             "#9c179e"
            ],
            [
             0.4444444444444444,
             "#bd3786"
            ],
            [
             0.5555555555555556,
             "#d8576b"
            ],
            [
             0.6666666666666666,
             "#ed7953"
            ],
            [
             0.7777777777777778,
             "#fb9f3a"
            ],
            [
             0.8888888888888888,
             "#fdca26"
            ],
            [
             1,
             "#f0f921"
            ]
           ]
          },
          "colorway": [
           "#636efa",
           "#EF553B",
           "#00cc96",
           "#ab63fa",
           "#FFA15A",
           "#19d3f3",
           "#FF6692",
           "#B6E880",
           "#FF97FF",
           "#FECB52"
          ],
          "font": {
           "color": "#2a3f5f"
          },
          "geo": {
           "bgcolor": "white",
           "lakecolor": "white",
           "landcolor": "#E5ECF6",
           "showlakes": true,
           "showland": true,
           "subunitcolor": "white"
          },
          "hoverlabel": {
           "align": "left"
          },
          "hovermode": "closest",
          "mapbox": {
           "style": "light"
          },
          "paper_bgcolor": "white",
          "plot_bgcolor": "#E5ECF6",
          "polar": {
           "angularaxis": {
            "gridcolor": "white",
            "linecolor": "white",
            "ticks": ""
           },
           "bgcolor": "#E5ECF6",
           "radialaxis": {
            "gridcolor": "white",
            "linecolor": "white",
            "ticks": ""
           }
          },
          "scene": {
           "xaxis": {
            "backgroundcolor": "#E5ECF6",
            "gridcolor": "white",
            "gridwidth": 2,
            "linecolor": "white",
            "showbackground": true,
            "ticks": "",
            "zerolinecolor": "white"
           },
           "yaxis": {
            "backgroundcolor": "#E5ECF6",
            "gridcolor": "white",
            "gridwidth": 2,
            "linecolor": "white",
            "showbackground": true,
            "ticks": "",
            "zerolinecolor": "white"
           },
           "zaxis": {
            "backgroundcolor": "#E5ECF6",
            "gridcolor": "white",
            "gridwidth": 2,
            "linecolor": "white",
            "showbackground": true,
            "ticks": "",
            "zerolinecolor": "white"
           }
          },
          "shapedefaults": {
           "line": {
            "color": "#2a3f5f"
           }
          },
          "ternary": {
           "aaxis": {
            "gridcolor": "white",
            "linecolor": "white",
            "ticks": ""
           },
           "baxis": {
            "gridcolor": "white",
            "linecolor": "white",
            "ticks": ""
           },
           "bgcolor": "#E5ECF6",
           "caxis": {
            "gridcolor": "white",
            "linecolor": "white",
            "ticks": ""
           }
          },
          "title": {
           "x": 0.05
          },
          "xaxis": {
           "automargin": true,
           "gridcolor": "white",
           "linecolor": "white",
           "ticks": "",
           "title": {
            "standoff": 15
           },
           "zerolinecolor": "white",
           "zerolinewidth": 2
          },
          "yaxis": {
           "automargin": true,
           "gridcolor": "white",
           "linecolor": "white",
           "ticks": "",
           "title": {
            "standoff": 15
           },
           "zerolinecolor": "white",
           "zerolinewidth": 2
          }
         }
        },
        "title": {
         "text": "Relationship between Quality of Education and Human Development Index by Income group in 2018",
         "x": 0.5,
         "xanchor": "center"
        },
        "xaxis": {
         "anchor": "y",
         "domain": [
          0,
          0.235
         ],
         "title": {
          "text": "Quality of Education Index"
         }
        },
        "xaxis2": {
         "anchor": "y2",
         "domain": [
          0.255,
          0.49
         ],
         "matches": "x",
         "title": {
          "text": "Quality of Education Index"
         }
        },
        "xaxis3": {
         "anchor": "y3",
         "domain": [
          0.51,
          0.745
         ],
         "matches": "x",
         "title": {
          "text": "Quality of Education Index"
         }
        },
        "xaxis4": {
         "anchor": "y4",
         "domain": [
          0.7649999999999999,
          0.9999999999999999
         ],
         "matches": "x",
         "title": {
          "text": "Quality of Education Index"
         }
        },
        "yaxis": {
         "anchor": "x",
         "domain": [
          0,
          1
         ],
         "title": {
          "text": "Human Development Index (HDI)"
         }
        },
        "yaxis2": {
         "anchor": "x2",
         "domain": [
          0,
          1
         ],
         "matches": "y",
         "showticklabels": false
        },
        "yaxis3": {
         "anchor": "x3",
         "domain": [
          0,
          1
         ],
         "matches": "y",
         "showticklabels": false
        },
        "yaxis4": {
         "anchor": "x4",
         "domain": [
          0,
          1
         ],
         "matches": "y",
         "showticklabels": false
        }
       }
      }
     },
     "metadata": {},
     "output_type": "display_data"
    }
   ],
   "source": [
    "fig = px.scatter(data_frame=df_indicators_2018,x='edu_quality_index',y='hdi_index',facet_col='income_group',hover_name='country',color='hdi_index',trendline='ols',\n",
    "                 category_orders= income_grp_ord, labels={'hdi':'Human Development Index'}, color_continuous_scale=px.colors.sequential.Teal, trendline_color_override='Purple')\n",
    "\n",
    "#Setting the labels of the plot\n",
    "fig.update_layout(\n",
    "    title={\n",
    "        'text': \"Relationship between Quality of Education and Human Development Index by Income group in 2018\",\n",
    "        'x':0.5,\n",
    "        'xanchor': 'center'},\n",
    "    xaxis_title=\"Quality of Education\",\n",
    "    yaxis_title=\"Human Development Index (HDI)\"\n",
    ")\n",
    "#Ensuring that all x-axis show the correct label\n",
    "fig.for_each_xaxis(lambda x: x.update(title=\"Quality of Education Index\"))\n",
    "\n",
    "fig.show()"
   ]
  },
  {
   "cell_type": "markdown",
   "metadata": {},
   "source": [
    "#### 2.1.3 Relationship among different regions"
   ]
  },
  {
   "cell_type": "markdown",
   "metadata": {},
   "source": [
    "In general there aren't mcuh difference between the regions except for North America which can be explianed by the low number of observations/countries."
   ]
  },
  {
   "cell_type": "code",
   "execution_count": 8,
   "metadata": {},
   "outputs": [
    {
     "data": {
      "application/vnd.plotly.v1+json": {
       "config": {
        "plotlyServerURL": "https://plot.ly"
       },
       "data": [
        {
         "hovertemplate": "<b>%{hovertext}</b><br><br>region=East Asia & Pacific<br>edu_quality_index=%{x}<br>hdi_index=%{marker.color}<extra></extra>",
         "hovertext": [
          "American Samoa",
          "Australia",
          "Brunei",
          "Cambodia",
          "China",
          "Fiji",
          "French Polynesia",
          "Guam",
          "Hong Kong",
          "Indonesia",
          "Japan",
          "Kiribati",
          "Korea, Rep.",
          "Lao PDR",
          "Macao SAR, China",
          "Malaysia",
          "Marshall Islands",
          "Micronesia",
          "Mongolia",
          "Myanmar",
          "Nauru",
          "New Caledonia",
          "New Zealand",
          "Northern Mariana Islands",
          "Palau",
          "Papua New Guinea",
          "Philippines",
          "Samoa",
          "Singapore",
          "Solomon Islands",
          "Thailand",
          "Timor-Leste",
          "Tonga",
          "Tuvalu",
          "Vanuatu",
          "Vietnam"
         ],
         "legendgroup": "",
         "marker": {
          "color": [
           null,
           0.943,
           0.836,
           0.585,
           0.755,
           0.742,
           null,
           null,
           0.946,
           0.712,
           0.917,
           0.628,
           0.914,
           0.609,
           null,
           0.805,
           0.702,
           0.618,
           0.735,
           0.579,
           null,
           null,
           0.928,
           null,
           0.822,
           0.549,
           0.711,
           0.709,
           0.936,
           0.564,
           0.772,
           0.599,
           0.723,
           null,
           0.603,
           0.7
          ],
          "coloraxis": "coloraxis",
          "symbol": "circle"
         },
         "mode": "markers",
         "name": "",
         "orientation": "v",
         "showlegend": false,
         "type": "scatter",
         "x": [
          null,
          5.32498466975,
          4.584998965500001,
          3.3678638935,
          4.513828873750001,
          null,
          null,
          null,
          5.37197506425,
          4.6026746035,
          4.76136147975,
          null,
          4.5241591335,
          3.8370832205,
          null,
          5.25812911975,
          null,
          null,
          3.69268512725,
          null,
          null,
          null,
          5.5188162325,
          null,
          null,
          null,
          4.3122189045,
          null,
          6.1019439695,
          null,
          4.05051058525,
          null,
          null,
          null,
          null,
          3.68711513275
         ],
         "xaxis": "x",
         "y": [
          null,
          0.943,
          0.836,
          0.585,
          0.755,
          0.742,
          null,
          null,
          0.946,
          0.712,
          0.917,
          0.628,
          0.914,
          0.609,
          null,
          0.805,
          0.702,
          0.618,
          0.735,
          0.579,
          null,
          null,
          0.928,
          null,
          0.822,
          0.549,
          0.711,
          0.709,
          0.936,
          0.564,
          0.772,
          0.599,
          0.723,
          null,
          0.603,
          0.7
         ],
         "yaxis": "y"
        },
        {
         "hovertemplate": "<b>OLS trendline</b><br>hdi_index = 0.13093 * edu_quality_index + 0.198708<br>R<sup>2</sup>=0.688274<br><br>region=East Asia & Pacific<br>edu_quality_index=%{x}<br>hdi_index=%{y} <b>(trend)</b><extra></extra>",
         "legendgroup": "",
         "line": {
          "color": "Purple"
         },
         "marker": {
          "symbol": "circle"
         },
         "mode": "lines",
         "name": "",
         "showlegend": false,
         "type": "scatter",
         "x": [
          3.3678638935,
          3.68711513275,
          3.69268512725,
          3.8370832205,
          4.05051058525,
          4.3122189045,
          4.513828873750001,
          4.5241591335,
          4.584998965500001,
          4.6026746035,
          4.76136147975,
          5.25812911975,
          5.32498466975,
          5.37197506425,
          5.5188162325,
          6.1019439695
         ],
         "xaxis": "x",
         "y": [
          0.639660652236295,
          0.6814600589653999,
          0.682189335588198,
          0.701095306461932,
          0.7290392456844209,
          0.7633045863810465,
          0.7897012798602031,
          0.791053815655904,
          0.7990195447446078,
          0.8013338072786986,
          0.8221106014378301,
          0.8871521426484413,
          0.8959055067171698,
          0.9020579358093197,
          0.921283777283508,
          0.9976324032470186
         ],
         "yaxis": "y"
        },
        {
         "hovertemplate": "<b>%{hovertext}</b><br><br>region=Middle East & North Africa<br>edu_quality_index=%{x}<br>hdi_index=%{marker.color}<extra></extra>",
         "hovertext": [
          "Algeria",
          "Bahrain",
          "Djibouti",
          "Egypt",
          "Iran",
          "Iraq",
          "Israel",
          "Jordan",
          "Kuwait",
          "Lebanon",
          "Libya",
          "Malta",
          "Morocco",
          "Oman",
          "Qatar",
          "Saudi Arabia",
          "Syria",
          "Tunisia",
          "United Arab Emirates",
          "West Bank and Gaza",
          "Yemen"
         ],
         "legendgroup": "",
         "marker": {
          "color": [
           0.746,
           0.852,
           0.518,
           0.701,
           0.785,
           0.671,
           0.916,
           0.728,
           0.807,
           0.747,
           0.721,
           0.894,
           0.68,
           0.813,
           0.845,
           0.854,
           0.563,
           0.738,
           0.889,
           null,
           0.468
          ],
          "coloraxis": "coloraxis",
          "symbol": "circle"
         },
         "mode": "markers",
         "name": "",
         "orientation": "v",
         "showlegend": false,
         "type": "scatter",
         "x": [
          3.416745662749999,
          4.816789984750001,
          null,
          2.9052241445,
          3.83756726975,
          null,
          5.07211995125,
          4.31229245675,
          3.48593091975,
          5.118548751000001,
          null,
          5.124402999999999,
          3.4795261025,
          3.7034083605,
          5.650964141,
          4.336327791,
          null,
          3.79927766325,
          5.4820508955,
          null,
          2.2447446585
         ],
         "xaxis": "x2",
         "y": [
          0.746,
          0.852,
          0.518,
          0.701,
          0.785,
          0.671,
          0.916,
          0.728,
          0.807,
          0.747,
          0.721,
          0.894,
          0.68,
          0.813,
          0.845,
          0.854,
          0.563,
          0.738,
          0.889,
          null,
          0.468
         ],
         "yaxis": "y2"
        },
        {
         "hovertemplate": "<b>OLS trendline</b><br>hdi_index = 0.0886201 * edu_quality_index + 0.409027<br>R<sup>2</sup>=0.622130<br><br>region=Middle East & North Africa<br>edu_quality_index=%{x}<br>hdi_index=%{y} <b>(trend)</b><extra></extra>",
         "legendgroup": "",
         "line": {
          "color": "Purple"
         },
         "marker": {
          "symbol": "circle"
         },
         "mode": "lines",
         "name": "",
         "showlegend": false,
         "type": "scatter",
         "x": [
          2.2447446585,
          2.9052241445,
          3.416745662749999,
          3.4795261025,
          3.48593091975,
          3.7034083605,
          3.79927766325,
          3.83756726975,
          4.31229245675,
          4.336327791,
          4.816789984750001,
          5.07211995125,
          5.118548751000001,
          5.124402999999999,
          5.4820508955,
          5.650964141
         ],
         "xaxis": "x2",
         "y": [
          0.6079560855250222,
          0.6664878330325958,
          0.7118189129306619,
          0.7173825207727705,
          0.7179501162152566,
          0.737222985275375,
          0.7457189309349047,
          0.7491121590779849,
          0.7911823450110111,
          0.7933123583504128,
          0.8358909583033414,
          0.8585183213737747,
          0.8626328455060909,
          0.8631516495440323,
          0.89484643607374,
          0.9098155420730304
         ],
         "yaxis": "y2"
        },
        {
         "hovertemplate": "<b>%{hovertext}</b><br><br>region=Latin America & Caribbean<br>edu_quality_index=%{x}<br>hdi_index=%{marker.color}<extra></extra>",
         "hovertext": [
          "Antigua and Barbuda",
          "Argentina",
          "Aruba",
          "Bahamas",
          "Barbados",
          "Belize",
          "Bolivia",
          "Brazil",
          "British Virgin Islands",
          "Cayman Islands",
          "Chile",
          "Colombia",
          "Costa Rica",
          "Cuba",
          "Curacao",
          "Dominica",
          "Dominican Republic",
          "Ecuador",
          "El Salvador",
          "Grenada",
          "Guatemala",
          "Guyana",
          "Haiti",
          "Honduras",
          "Jamaica",
          "Mexico",
          "Nicaragua",
          "Panama",
          "Paraguay",
          "Peru",
          "Puerto Rico",
          "Sint Maarten (Dutch part)",
          "St. Kitts and Nevis",
          "St. Lucia",
          "St. Martin (French part)",
          "St. Vincent and the Grenadines",
          "Suriname",
          "Trinidad and Tobago",
          "Turks and Caicos Islands",
          "Uruguay"
         ],
         "legendgroup": "",
         "marker": {
          "color": [
           0.772,
           0.842,
           null,
           0.812,
           0.81,
           0.714,
           0.714,
           0.762,
           null,
           null,
           0.849,
           0.764,
           0.808,
           0.781,
           null,
           0.738,
           0.751,
           0.762,
           0.67,
           0.773,
           0.657,
           0.68,
           0.508,
           0.633,
           0.734,
           0.776,
           0.659,
           0.812,
           0.727,
           0.771,
           null,
           null,
           0.773,
           0.758,
           null,
           null,
           0.734,
           0.795,
           null,
           0.816
          ],
          "coloraxis": "coloraxis",
          "symbol": "circle"
         },
         "mode": "markers",
         "name": "",
         "orientation": "v",
         "showlegend": false,
         "type": "scatter",
         "x": [
          null,
          3.75650507225,
          null,
          null,
          null,
          null,
          null,
          3.182566643,
          null,
          null,
          4.121846437249999,
          3.800363958,
          4.787541389499999,
          null,
          null,
          null,
          3.09706348175,
          3.7505168915,
          2.927667737,
          null,
          3.289593935,
          null,
          2.7684766055,
          3.36910063025,
          4.37463819975,
          3.51215380425,
          3.03231650575,
          3.680060029,
          2.7540509105,
          3.27700579175,
          null,
          null,
          null,
          null,
          null,
          null,
          null,
          4.468680382000001,
          null,
          3.90237712875
         ],
         "xaxis": "x3",
         "y": [
          0.772,
          0.842,
          null,
          0.812,
          0.81,
          0.714,
          0.714,
          0.762,
          null,
          null,
          0.849,
          0.764,
          0.808,
          0.781,
          null,
          0.738,
          0.751,
          0.762,
          0.67,
          0.773,
          0.657,
          0.68,
          0.508,
          0.633,
          0.734,
          0.776,
          0.659,
          0.812,
          0.727,
          0.771,
          null,
          null,
          0.773,
          0.758,
          null,
          null,
          0.734,
          0.795,
          null,
          0.816
         ],
         "yaxis": "y3"
        },
        {
         "hovertemplate": "<b>OLS trendline</b><br>hdi_index = 0.0911925 * edu_quality_index + 0.41623<br>R<sup>2</sup>=0.393042<br><br>region=Latin America & Caribbean<br>edu_quality_index=%{x}<br>hdi_index=%{y} <b>(trend)</b><extra></extra>",
         "legendgroup": "",
         "line": {
          "color": "Purple"
         },
         "marker": {
          "symbol": "circle"
         },
         "mode": "lines",
         "name": "",
         "showlegend": false,
         "type": "scatter",
         "x": [
          2.7540509105,
          2.7684766055,
          2.927667737,
          3.03231650575,
          3.09706348175,
          3.182566643,
          3.27700579175,
          3.289593935,
          3.36910063025,
          3.51215380425,
          3.680060029,
          3.7505168915,
          3.75650507225,
          3.800363958,
          3.90237712875,
          4.121846437249999,
          4.37463819975,
          4.468680382000001,
          4.787541389499999
         ],
         "xaxis": "x3",
         "y": [
          0.6673782095722014,
          0.6686937243443853,
          0.6832107569787864,
          0.6927539367827044,
          0.6986583735105178,
          0.7064556180587213,
          0.715067757387405,
          0.7162157012750127,
          0.7234661132717238,
          0.7365114856856555,
          0.7518232692080612,
          0.758248404594639,
          0.7587944815937113,
          0.7627940817582546,
          0.7720969148681285,
          0.7921108634073656,
          0.8151635688648947,
          0.8237395078375602,
          0.8528172310002697
         ],
         "yaxis": "y3"
        },
        {
         "hovertemplate": "<b>%{hovertext}</b><br><br>region=Europe & Central Asia<br>edu_quality_index=%{x}<br>hdi_index=%{marker.color}<extra></extra>",
         "hovertext": [
          "Albania",
          "Andorra",
          "Armenia",
          "Austria",
          "Azerbaijan",
          "Belarus",
          "Belgium",
          "Bosnia and Herzegovina",
          "Bulgaria",
          "Channel Islands",
          "Croatia",
          "Cyprus",
          "Czech",
          "Denmark",
          "Estonia",
          "Faroe Islands",
          "Finland",
          "France",
          "Georgia",
          "Germany",
          "Gibraltar",
          "Greece",
          "Greenland",
          "Hungary",
          "Iceland",
          "Ireland",
          "Isle of Man",
          "Italy",
          "Kazakhstan",
          "Kosovo",
          "Kyrgyzstan",
          "Latvia",
          "Liechtenstein",
          "Lithuania",
          "Luxembourg",
          "Moldova",
          "Monaco",
          "Montenegro",
          "Netherlands",
          "North Macedonia",
          "Norway",
          "Poland",
          "Portugal",
          "Romania",
          "Russia",
          "San Marino",
          "Serbia",
          "Slovakia",
          "Slovenia",
          "Spain",
          "Sweden",
          "Switzerland",
          "Tajikistan",
          "Turkey",
          "Turkmenistan",
          "Ukraine",
          "United Kingdom",
          "Uzbekistan"
         ],
         "legendgroup": "",
         "marker": {
          "color": [
           0.792,
           0.867,
           0.771,
           0.921,
           0.754,
           0.823,
           0.93,
           0.777,
           0.813,
           null,
           0.848,
           0.885,
           0.898,
           0.939,
           0.889,
           null,
           0.937,
           0.898,
           0.805,
           0.946,
           null,
           0.881,
           null,
           0.85,
           0.946,
           0.951,
           null,
           0.89,
           0.819,
           null,
           0.696,
           0.863,
           0.919,
           0.876,
           0.913,
           0.746,
           null,
           0.826,
           0.942,
           0.77,
           0.956,
           0.877,
           0.86,
           0.823,
           0.823,
           null,
           0.803,
           0.858,
           0.912,
           0.905,
           0.943,
           0.955,
           0.661,
           0.817,
           0.71,
           0.774,
           0.928,
           0.717
          ],
          "coloraxis": "coloraxis",
          "symbol": "circle"
         },
         "mode": "markers",
         "name": "",
         "orientation": "v",
         "showlegend": false,
         "type": "scatter",
         "x": [
          4.485545992750001,
          null,
          4.123025775249999,
          4.710301160749999,
          4.406499505,
          null,
          5.36690354325,
          3.23686605675,
          3.773089886,
          null,
          3.622494161,
          4.1842525005,
          4.48947828975,
          5.44074654575,
          5.2810070515,
          null,
          5.877574682,
          4.96322739125,
          3.5151272415,
          5.28436040875,
          null,
          3.778220594,
          null,
          3.66430544875,
          5.4105769395,
          5.26850879225,
          null,
          4.437981963,
          4.113367319,
          null,
          3.1524888275,
          4.36378258475,
          null,
          4.4885306955,
          4.68427121625,
          3.76005345575,
          null,
          4.08039987125,
          5.77895951275,
          null,
          5.386394262250001,
          4.217128813,
          4.821053028250001,
          3.7737690805,
          4.3563212755,
          null,
          3.99615168575,
          3.798733771,
          4.796257138250001,
          4.5152790545,
          5.199332714000001,
          6.1326652765,
          4.13513046525,
          3.551756382,
          null,
          4.374483644750001,
          5.2462177275,
          null
         ],
         "xaxis": "x4",
         "y": [
          0.792,
          0.867,
          0.771,
          0.921,
          0.754,
          0.823,
          0.93,
          0.777,
          0.813,
          null,
          0.848,
          0.885,
          0.898,
          0.939,
          0.889,
          null,
          0.937,
          0.898,
          0.805,
          0.946,
          null,
          0.881,
          null,
          0.85,
          0.946,
          0.951,
          null,
          0.89,
          0.819,
          null,
          0.696,
          0.863,
          0.919,
          0.876,
          0.913,
          0.746,
          null,
          0.826,
          0.942,
          0.77,
          0.956,
          0.877,
          0.86,
          0.823,
          0.823,
          null,
          0.803,
          0.858,
          0.912,
          0.905,
          0.943,
          0.955,
          0.661,
          0.817,
          0.71,
          0.774,
          0.928,
          0.717
         ],
         "yaxis": "y4"
        },
        {
         "hovertemplate": "<b>OLS trendline</b><br>hdi_index = 0.0746785 * edu_quality_index + 0.52517<br>R<sup>2</sup>=0.569595<br><br>region=Europe & Central Asia<br>edu_quality_index=%{x}<br>hdi_index=%{y} <b>(trend)</b><extra></extra>",
         "legendgroup": "",
         "line": {
          "color": "Purple"
         },
         "marker": {
          "symbol": "circle"
         },
         "mode": "lines",
         "name": "",
         "showlegend": false,
         "type": "scatter",
         "x": [
          3.1524888275,
          3.23686605675,
          3.5151272415,
          3.551756382,
          3.622494161,
          3.66430544875,
          3.76005345575,
          3.773089886,
          3.7737690805,
          3.778220594,
          3.798733771,
          3.99615168575,
          4.08039987125,
          4.113367319,
          4.123025775249999,
          4.13513046525,
          4.1842525005,
          4.217128813,
          4.3563212755,
          4.36378258475,
          4.374483644750001,
          4.406499505,
          4.437981963,
          4.485545992750001,
          4.4885306955,
          4.48947828975,
          4.5152790545,
          4.68427121625,
          4.710301160749999,
          4.796257138250001,
          4.821053028250001,
          4.96322739125,
          5.199332714000001,
          5.2462177275,
          5.26850879225,
          5.2810070515,
          5.28436040875,
          5.36690354325,
          5.386394262250001,
          5.4105769395,
          5.44074654575,
          5.77895951275,
          5.877574682,
          6.1326652765
         ],
         "xaxis": "x4",
         "y": [
          0.7605929501599888,
          0.7668941183308704,
          0.7876742569550416,
          0.7904096676374841,
          0.7956922615964893,
          0.7988146674623333,
          0.805964988698246,
          0.8069385302577801,
          0.8069892515104602,
          0.8073216840331654,
          0.8088535781134164,
          0.8235964594789419,
          0.8298879908511588,
          0.8323499516702563,
          0.8330712310680666,
          0.8339751916273829,
          0.8376435534325464,
          0.8400987084043595,
          0.8504933980869627,
          0.85105059775774,
          0.8518497372799316,
          0.854240634935186,
          0.8565916988899285,
          0.8601437111212328,
          0.8603666043607359,
          0.8604373693145047,
          0.8623641327206056,
          0.8749842203936974,
          0.8769280986086034,
          0.8833471653916007,
          0.8851988862199032,
          0.8958162598740748,
          0.9134482603309754,
          0.9169495646210489,
          0.9186142287602516,
          0.9195475804959928,
          0.9197980043148016,
          0.9259622049701128,
          0.9274177433811517,
          0.9292236703774377,
          0.9314766924821014,
          0.9567339425907235,
          0.9640983793133738,
          0.9831481721193476
         ],
         "yaxis": "y4"
        },
        {
         "hovertemplate": "<b>%{hovertext}</b><br><br>region=Sub-Saharan Africa<br>edu_quality_index=%{x}<br>hdi_index=%{marker.color}<extra></extra>",
         "hovertext": [
          "Angola",
          "Benin",
          "Botswana",
          "Burkina Faso",
          "Burundi",
          "Cabo Verde",
          "Cameroon",
          "Central African Republic",
          "Chad",
          "Comoros",
          "Cote d'Ivoire",
          "Equatorial Guinea",
          "Eritrea",
          "Eswatini",
          "Ethiopia",
          "Gabon",
          "Gambia",
          "Ghana",
          "Guinea",
          "Guinea-Bissau",
          "Kenya",
          "Lesotho",
          "Liberia",
          "Madagascar",
          "Malawi",
          "Mali",
          "Mauritania",
          "Mauritius",
          "Mozambique",
          "Namibia",
          "Niger",
          "Nigeria",
          "Rwanda",
          "Sao Tome and Principe",
          "Senegal",
          "Seychelles",
          "Sierra Leone",
          "Somalia",
          "South Africa",
          "South Sudan",
          "Sudan",
          "Tanzania",
          "Togo",
          "Uganda",
          "Zambia",
          "Zimbabwe",
          "Congo"
         ],
         "legendgroup": "",
         "marker": {
          "color": [
           0.582,
           0.541,
           0.73,
           0.443,
           0.431,
           0.663,
           0.56,
           0.395,
           0.397,
           0.552,
           0.534,
           0.582,
           0.456,
           0.605,
           0.478,
           0.697,
           0.487,
           0.606,
           0.473,
           0.472,
           0.599,
           0.522,
           0.48,
           0.527,
           0.478,
           0.431,
           0.542,
           0.801,
           0.452,
           0.645,
           0.391,
           0.534,
           0.54,
           0.624,
           0.516,
           0.79,
           0.447,
           null,
           0.707,
           0.429,
           0.506,
           0.524,
           0.51,
           0.538,
           0.582,
           0.569,
           0.573
          ],
          "coloraxis": "coloraxis",
          "symbol": "circle"
         },
         "mode": "markers",
         "name": "",
         "orientation": "v",
         "showlegend": false,
         "type": "scatter",
         "x": [
          null,
          3.302977741,
          3.6361775995,
          null,
          3.3095909355,
          null,
          3.99517446775,
          null,
          2.61314469575,
          null,
          null,
          null,
          null,
          3.09669226425,
          3.548745334249999,
          null,
          4.03637063525,
          4.018807113,
          2.7947496775,
          null,
          4.36485934275,
          3.5835725665,
          2.89157027,
          3.67245489375,
          2.92263948925,
          3.66399663725,
          2.3659526705,
          4.3772073985,
          2.790258944,
          3.34541547275,
          null,
          3.16824227575,
          4.394029140500001,
          null,
          4.09712105975,
          3.995258987,
          2.91684859975,
          null,
          3.4022233485,
          null,
          null,
          3.15139406925,
          null,
          3.343117058,
          3.6091204285,
          3.793227315,
          null
         ],
         "xaxis": "x5",
         "y": [
          0.582,
          0.541,
          0.73,
          0.443,
          0.431,
          0.663,
          0.56,
          0.395,
          0.397,
          0.552,
          0.534,
          0.582,
          0.456,
          0.605,
          0.478,
          0.697,
          0.487,
          0.606,
          0.473,
          0.472,
          0.599,
          0.522,
          0.48,
          0.527,
          0.478,
          0.431,
          0.542,
          0.801,
          0.452,
          0.645,
          0.391,
          0.534,
          0.54,
          0.624,
          0.516,
          0.79,
          0.447,
          null,
          0.707,
          0.429,
          0.506,
          0.524,
          0.51,
          0.538,
          0.582,
          0.569,
          0.573
         ],
         "yaxis": "y5"
        },
        {
         "hovertemplate": "<b>OLS trendline</b><br>hdi_index = 0.0889933 * edu_quality_index + 0.24196<br>R<sup>2</sup>=0.226918<br><br>region=Sub-Saharan Africa<br>edu_quality_index=%{x}<br>hdi_index=%{y} <b>(trend)</b><extra></extra>",
         "legendgroup": "",
         "line": {
          "color": "Purple"
         },
         "marker": {
          "symbol": "circle"
         },
         "mode": "lines",
         "name": "",
         "showlegend": false,
         "type": "scatter",
         "x": [
          2.3659526705,
          2.61314469575,
          2.790258944,
          2.7947496775,
          2.89157027,
          2.91684859975,
          2.92263948925,
          3.09669226425,
          3.15139406925,
          3.16824227575,
          3.302977741,
          3.3095909355,
          3.343117058,
          3.34541547275,
          3.4022233485,
          3.548745334249999,
          3.5835725665,
          3.6091204285,
          3.6361775995,
          3.66399663725,
          3.67245489375,
          3.793227315,
          3.99517446775,
          3.995258987,
          4.018807113,
          4.03637063525,
          4.09712105975,
          4.36485934275,
          4.3772073985,
          4.394029140500001
         ],
         "xaxis": "x5",
         "y": [
          0.4525143687881781,
          0.4745128136974874,
          0.49027480289936737,
          0.49067444829003976,
          0.49929083657377926,
          0.5015404396661215,
          0.5020557902868091,
          0.5175453287469497,
          0.5224134252905791,
          0.5239128035255204,
          0.5359033631183496,
          0.5364918934106828,
          0.5394754951595382,
          0.5396800387737809,
          0.5447355615959164,
          0.5577750430608386,
          0.5608744349171111,
          0.5631480245856663,
          0.565555932709091,
          0.5680316419021948,
          0.5687843704315875,
          0.5795323120480091,
          0.597504264459782,
          0.5975117861104623,
          0.5996074125854854,
          0.6011704491609545,
          0.6065768325797919,
          0.6304037576706472,
          0.6315026524423484,
          0.6329996755129403
         ],
         "yaxis": "y5"
        },
        {
         "hovertemplate": "<b>%{hovertext}</b><br><br>region=South Asia<br>edu_quality_index=%{x}<br>hdi_index=%{marker.color}<extra></extra>",
         "hovertext": [
          "Afghanistan",
          "Bangladesh",
          "Bhutan",
          "India",
          "Maldives",
          "Nepal",
          "Pakistan",
          "Sri Lanka"
         ],
         "legendgroup": "",
         "marker": {
          "color": [
           0.509,
           0.625,
           0.649,
           0.642,
           0.734,
           0.596,
           0.552,
           0.779
          ],
          "coloraxis": "coloraxis",
          "symbol": "circle"
         },
         "mode": "markers",
         "name": "",
         "orientation": "v",
         "showlegend": false,
         "type": "scatter",
         "x": [
          null,
          3.38388782725,
          4.3412513735,
          4.605217695249999,
          null,
          3.83100247375,
          3.66025239225,
          4.124032378
         ],
         "xaxis": "x6",
         "y": [
          0.509,
          0.625,
          0.649,
          0.642,
          0.734,
          0.596,
          0.552,
          0.779
         ],
         "yaxis": "y6"
        },
        {
         "hovertemplate": "<b>OLS trendline</b><br>hdi_index = 0.0667095 * edu_quality_index + 0.374266<br>R<sup>2</sup>=0.155054<br><br>region=South Asia<br>edu_quality_index=%{x}<br>hdi_index=%{y} <b>(trend)</b><extra></extra>",
         "legendgroup": "",
         "line": {
          "color": "Purple"
         },
         "marker": {
          "symbol": "circle"
         },
         "mode": "lines",
         "name": "",
         "showlegend": false,
         "type": "scatter",
         "x": [
          3.38388782725,
          3.66025239225,
          3.83100247375,
          4.124032378,
          4.3412513735,
          4.605217695249999
         ],
         "xaxis": "x6",
         "y": [
          0.6000038233844724,
          0.6184399578980534,
          0.6298306058660333,
          0.6493784763799495,
          0.6638690411162171,
          0.6814780953552734
         ],
         "yaxis": "y6"
        },
        {
         "hovertemplate": "<b>%{hovertext}</b><br><br>region=North America<br>edu_quality_index=%{x}<br>hdi_index=%{marker.color}<extra></extra>",
         "hovertext": [
          "Bermuda",
          "Canada",
          "United States"
         ],
         "legendgroup": "",
         "marker": {
          "color": [
           null,
           0.928,
           0.925
          ],
          "coloraxis": "coloraxis",
          "symbol": "circle"
         },
         "mode": "markers",
         "name": "",
         "orientation": "v",
         "showlegend": false,
         "type": "scatter",
         "x": [
          null,
          5.579452038,
          5.697491168999999
         ],
         "xaxis": "x7",
         "y": [
          null,
          0.928,
          0.925
         ],
         "yaxis": "y7"
        },
        {
         "hovertemplate": "<b>OLS trendline</b><br>hdi_index = -0.0254153 * edu_quality_index + 1.0698<br>R<sup>2</sup>=1.000000<br><br>region=North America<br>edu_quality_index=%{x}<br>hdi_index=%{y} <b>(trend)</b><extra></extra>",
         "legendgroup": "",
         "line": {
          "color": "Purple"
         },
         "marker": {
          "symbol": "circle"
         },
         "mode": "lines",
         "name": "",
         "showlegend": false,
         "type": "scatter",
         "x": [
          5.579452038,
          5.697491168999999
         ],
         "xaxis": "x7",
         "y": [
          0.9279999999999912,
          0.924999999999991
         ],
         "yaxis": "y7"
        }
       ],
       "layout": {
        "annotations": [
         {
          "font": {},
          "showarrow": false,
          "text": "region=East Asia & Pacific",
          "x": 0.06285714285714285,
          "xanchor": "center",
          "xref": "paper",
          "y": 1,
          "yanchor": "bottom",
          "yref": "paper"
         },
         {
          "font": {},
          "showarrow": false,
          "text": "region=Middle East & North Africa",
          "x": 0.20857142857142852,
          "xanchor": "center",
          "xref": "paper",
          "y": 1,
          "yanchor": "bottom",
          "yref": "paper"
         },
         {
          "font": {},
          "showarrow": false,
          "text": "region=Latin America & Caribbean",
          "x": 0.3542857142857142,
          "xanchor": "center",
          "xref": "paper",
          "y": 1,
          "yanchor": "bottom",
          "yref": "paper"
         },
         {
          "font": {},
          "showarrow": false,
          "text": "region=Europe & Central Asia",
          "x": 0.5,
          "xanchor": "center",
          "xref": "paper",
          "y": 1,
          "yanchor": "bottom",
          "yref": "paper"
         },
         {
          "font": {},
          "showarrow": false,
          "text": "region=Sub-Saharan Africa",
          "x": 0.6457142857142856,
          "xanchor": "center",
          "xref": "paper",
          "y": 1,
          "yanchor": "bottom",
          "yref": "paper"
         },
         {
          "font": {},
          "showarrow": false,
          "text": "region=South Asia",
          "x": 0.7914285714285713,
          "xanchor": "center",
          "xref": "paper",
          "y": 1,
          "yanchor": "bottom",
          "yref": "paper"
         },
         {
          "font": {},
          "showarrow": false,
          "text": "region=North America",
          "x": 0.9371428571428569,
          "xanchor": "center",
          "xref": "paper",
          "y": 1,
          "yanchor": "bottom",
          "yref": "paper"
         }
        ],
        "coloraxis": {
         "colorbar": {
          "title": {
           "text": "hdi_index"
          }
         },
         "colorscale": [
          [
           0,
           "rgb(209, 238, 234)"
          ],
          [
           0.16666666666666666,
           "rgb(168, 219, 217)"
          ],
          [
           0.3333333333333333,
           "rgb(133, 196, 201)"
          ],
          [
           0.5,
           "rgb(104, 171, 184)"
          ],
          [
           0.6666666666666666,
           "rgb(79, 144, 166)"
          ],
          [
           0.8333333333333334,
           "rgb(59, 115, 143)"
          ],
          [
           1,
           "rgb(42, 86, 116)"
          ]
         ]
        },
        "legend": {
         "tracegroupgap": 0
        },
        "margin": {
         "t": 60
        },
        "template": {
         "data": {
          "bar": [
           {
            "error_x": {
             "color": "#2a3f5f"
            },
            "error_y": {
             "color": "#2a3f5f"
            },
            "marker": {
             "line": {
              "color": "#E5ECF6",
              "width": 0.5
             },
             "pattern": {
              "fillmode": "overlay",
              "size": 10,
              "solidity": 0.2
             }
            },
            "type": "bar"
           }
          ],
          "barpolar": [
           {
            "marker": {
             "line": {
              "color": "#E5ECF6",
              "width": 0.5
             },
             "pattern": {
              "fillmode": "overlay",
              "size": 10,
              "solidity": 0.2
             }
            },
            "type": "barpolar"
           }
          ],
          "carpet": [
           {
            "aaxis": {
             "endlinecolor": "#2a3f5f",
             "gridcolor": "white",
             "linecolor": "white",
             "minorgridcolor": "white",
             "startlinecolor": "#2a3f5f"
            },
            "baxis": {
             "endlinecolor": "#2a3f5f",
             "gridcolor": "white",
             "linecolor": "white",
             "minorgridcolor": "white",
             "startlinecolor": "#2a3f5f"
            },
            "type": "carpet"
           }
          ],
          "choropleth": [
           {
            "colorbar": {
             "outlinewidth": 0,
             "ticks": ""
            },
            "type": "choropleth"
           }
          ],
          "contour": [
           {
            "colorbar": {
             "outlinewidth": 0,
             "ticks": ""
            },
            "colorscale": [
             [
              0,
              "#0d0887"
             ],
             [
              0.1111111111111111,
              "#46039f"
             ],
             [
              0.2222222222222222,
              "#7201a8"
             ],
             [
              0.3333333333333333,
              "#9c179e"
             ],
             [
              0.4444444444444444,
              "#bd3786"
             ],
             [
              0.5555555555555556,
              "#d8576b"
             ],
             [
              0.6666666666666666,
              "#ed7953"
             ],
             [
              0.7777777777777778,
              "#fb9f3a"
             ],
             [
              0.8888888888888888,
              "#fdca26"
             ],
             [
              1,
              "#f0f921"
             ]
            ],
            "type": "contour"
           }
          ],
          "contourcarpet": [
           {
            "colorbar": {
             "outlinewidth": 0,
             "ticks": ""
            },
            "type": "contourcarpet"
           }
          ],
          "heatmap": [
           {
            "colorbar": {
             "outlinewidth": 0,
             "ticks": ""
            },
            "colorscale": [
             [
              0,
              "#0d0887"
             ],
             [
              0.1111111111111111,
              "#46039f"
             ],
             [
              0.2222222222222222,
              "#7201a8"
             ],
             [
              0.3333333333333333,
              "#9c179e"
             ],
             [
              0.4444444444444444,
              "#bd3786"
             ],
             [
              0.5555555555555556,
              "#d8576b"
             ],
             [
              0.6666666666666666,
              "#ed7953"
             ],
             [
              0.7777777777777778,
              "#fb9f3a"
             ],
             [
              0.8888888888888888,
              "#fdca26"
             ],
             [
              1,
              "#f0f921"
             ]
            ],
            "type": "heatmap"
           }
          ],
          "heatmapgl": [
           {
            "colorbar": {
             "outlinewidth": 0,
             "ticks": ""
            },
            "colorscale": [
             [
              0,
              "#0d0887"
             ],
             [
              0.1111111111111111,
              "#46039f"
             ],
             [
              0.2222222222222222,
              "#7201a8"
             ],
             [
              0.3333333333333333,
              "#9c179e"
             ],
             [
              0.4444444444444444,
              "#bd3786"
             ],
             [
              0.5555555555555556,
              "#d8576b"
             ],
             [
              0.6666666666666666,
              "#ed7953"
             ],
             [
              0.7777777777777778,
              "#fb9f3a"
             ],
             [
              0.8888888888888888,
              "#fdca26"
             ],
             [
              1,
              "#f0f921"
             ]
            ],
            "type": "heatmapgl"
           }
          ],
          "histogram": [
           {
            "marker": {
             "pattern": {
              "fillmode": "overlay",
              "size": 10,
              "solidity": 0.2
             }
            },
            "type": "histogram"
           }
          ],
          "histogram2d": [
           {
            "colorbar": {
             "outlinewidth": 0,
             "ticks": ""
            },
            "colorscale": [
             [
              0,
              "#0d0887"
             ],
             [
              0.1111111111111111,
              "#46039f"
             ],
             [
              0.2222222222222222,
              "#7201a8"
             ],
             [
              0.3333333333333333,
              "#9c179e"
             ],
             [
              0.4444444444444444,
              "#bd3786"
             ],
             [
              0.5555555555555556,
              "#d8576b"
             ],
             [
              0.6666666666666666,
              "#ed7953"
             ],
             [
              0.7777777777777778,
              "#fb9f3a"
             ],
             [
              0.8888888888888888,
              "#fdca26"
             ],
             [
              1,
              "#f0f921"
             ]
            ],
            "type": "histogram2d"
           }
          ],
          "histogram2dcontour": [
           {
            "colorbar": {
             "outlinewidth": 0,
             "ticks": ""
            },
            "colorscale": [
             [
              0,
              "#0d0887"
             ],
             [
              0.1111111111111111,
              "#46039f"
             ],
             [
              0.2222222222222222,
              "#7201a8"
             ],
             [
              0.3333333333333333,
              "#9c179e"
             ],
             [
              0.4444444444444444,
              "#bd3786"
             ],
             [
              0.5555555555555556,
              "#d8576b"
             ],
             [
              0.6666666666666666,
              "#ed7953"
             ],
             [
              0.7777777777777778,
              "#fb9f3a"
             ],
             [
              0.8888888888888888,
              "#fdca26"
             ],
             [
              1,
              "#f0f921"
             ]
            ],
            "type": "histogram2dcontour"
           }
          ],
          "mesh3d": [
           {
            "colorbar": {
             "outlinewidth": 0,
             "ticks": ""
            },
            "type": "mesh3d"
           }
          ],
          "parcoords": [
           {
            "line": {
             "colorbar": {
              "outlinewidth": 0,
              "ticks": ""
             }
            },
            "type": "parcoords"
           }
          ],
          "pie": [
           {
            "automargin": true,
            "type": "pie"
           }
          ],
          "scatter": [
           {
            "marker": {
             "colorbar": {
              "outlinewidth": 0,
              "ticks": ""
             }
            },
            "type": "scatter"
           }
          ],
          "scatter3d": [
           {
            "line": {
             "colorbar": {
              "outlinewidth": 0,
              "ticks": ""
             }
            },
            "marker": {
             "colorbar": {
              "outlinewidth": 0,
              "ticks": ""
             }
            },
            "type": "scatter3d"
           }
          ],
          "scattercarpet": [
           {
            "marker": {
             "colorbar": {
              "outlinewidth": 0,
              "ticks": ""
             }
            },
            "type": "scattercarpet"
           }
          ],
          "scattergeo": [
           {
            "marker": {
             "colorbar": {
              "outlinewidth": 0,
              "ticks": ""
             }
            },
            "type": "scattergeo"
           }
          ],
          "scattergl": [
           {
            "marker": {
             "colorbar": {
              "outlinewidth": 0,
              "ticks": ""
             }
            },
            "type": "scattergl"
           }
          ],
          "scattermapbox": [
           {
            "marker": {
             "colorbar": {
              "outlinewidth": 0,
              "ticks": ""
             }
            },
            "type": "scattermapbox"
           }
          ],
          "scatterpolar": [
           {
            "marker": {
             "colorbar": {
              "outlinewidth": 0,
              "ticks": ""
             }
            },
            "type": "scatterpolar"
           }
          ],
          "scatterpolargl": [
           {
            "marker": {
             "colorbar": {
              "outlinewidth": 0,
              "ticks": ""
             }
            },
            "type": "scatterpolargl"
           }
          ],
          "scatterternary": [
           {
            "marker": {
             "colorbar": {
              "outlinewidth": 0,
              "ticks": ""
             }
            },
            "type": "scatterternary"
           }
          ],
          "surface": [
           {
            "colorbar": {
             "outlinewidth": 0,
             "ticks": ""
            },
            "colorscale": [
             [
              0,
              "#0d0887"
             ],
             [
              0.1111111111111111,
              "#46039f"
             ],
             [
              0.2222222222222222,
              "#7201a8"
             ],
             [
              0.3333333333333333,
              "#9c179e"
             ],
             [
              0.4444444444444444,
              "#bd3786"
             ],
             [
              0.5555555555555556,
              "#d8576b"
             ],
             [
              0.6666666666666666,
              "#ed7953"
             ],
             [
              0.7777777777777778,
              "#fb9f3a"
             ],
             [
              0.8888888888888888,
              "#fdca26"
             ],
             [
              1,
              "#f0f921"
             ]
            ],
            "type": "surface"
           }
          ],
          "table": [
           {
            "cells": {
             "fill": {
              "color": "#EBF0F8"
             },
             "line": {
              "color": "white"
             }
            },
            "header": {
             "fill": {
              "color": "#C8D4E3"
             },
             "line": {
              "color": "white"
             }
            },
            "type": "table"
           }
          ]
         },
         "layout": {
          "annotationdefaults": {
           "arrowcolor": "#2a3f5f",
           "arrowhead": 0,
           "arrowwidth": 1
          },
          "autotypenumbers": "strict",
          "coloraxis": {
           "colorbar": {
            "outlinewidth": 0,
            "ticks": ""
           }
          },
          "colorscale": {
           "diverging": [
            [
             0,
             "#8e0152"
            ],
            [
             0.1,
             "#c51b7d"
            ],
            [
             0.2,
             "#de77ae"
            ],
            [
             0.3,
             "#f1b6da"
            ],
            [
             0.4,
             "#fde0ef"
            ],
            [
             0.5,
             "#f7f7f7"
            ],
            [
             0.6,
             "#e6f5d0"
            ],
            [
             0.7,
             "#b8e186"
            ],
            [
             0.8,
             "#7fbc41"
            ],
            [
             0.9,
             "#4d9221"
            ],
            [
             1,
             "#276419"
            ]
           ],
           "sequential": [
            [
             0,
             "#0d0887"
            ],
            [
             0.1111111111111111,
             "#46039f"
            ],
            [
             0.2222222222222222,
             "#7201a8"
            ],
            [
             0.3333333333333333,
             "#9c179e"
            ],
            [
             0.4444444444444444,
             "#bd3786"
            ],
            [
             0.5555555555555556,
             "#d8576b"
            ],
            [
             0.6666666666666666,
             "#ed7953"
            ],
            [
             0.7777777777777778,
             "#fb9f3a"
            ],
            [
             0.8888888888888888,
             "#fdca26"
            ],
            [
             1,
             "#f0f921"
            ]
           ],
           "sequentialminus": [
            [
             0,
             "#0d0887"
            ],
            [
             0.1111111111111111,
             "#46039f"
            ],
            [
             0.2222222222222222,
             "#7201a8"
            ],
            [
             0.3333333333333333,
             "#9c179e"
            ],
            [
             0.4444444444444444,
             "#bd3786"
            ],
            [
             0.5555555555555556,
             "#d8576b"
            ],
            [
             0.6666666666666666,
             "#ed7953"
            ],
            [
             0.7777777777777778,
             "#fb9f3a"
            ],
            [
             0.8888888888888888,
             "#fdca26"
            ],
            [
             1,
             "#f0f921"
            ]
           ]
          },
          "colorway": [
           "#636efa",
           "#EF553B",
           "#00cc96",
           "#ab63fa",
           "#FFA15A",
           "#19d3f3",
           "#FF6692",
           "#B6E880",
           "#FF97FF",
           "#FECB52"
          ],
          "font": {
           "color": "#2a3f5f"
          },
          "geo": {
           "bgcolor": "white",
           "lakecolor": "white",
           "landcolor": "#E5ECF6",
           "showlakes": true,
           "showland": true,
           "subunitcolor": "white"
          },
          "hoverlabel": {
           "align": "left"
          },
          "hovermode": "closest",
          "mapbox": {
           "style": "light"
          },
          "paper_bgcolor": "white",
          "plot_bgcolor": "#E5ECF6",
          "polar": {
           "angularaxis": {
            "gridcolor": "white",
            "linecolor": "white",
            "ticks": ""
           },
           "bgcolor": "#E5ECF6",
           "radialaxis": {
            "gridcolor": "white",
            "linecolor": "white",
            "ticks": ""
           }
          },
          "scene": {
           "xaxis": {
            "backgroundcolor": "#E5ECF6",
            "gridcolor": "white",
            "gridwidth": 2,
            "linecolor": "white",
            "showbackground": true,
            "ticks": "",
            "zerolinecolor": "white"
           },
           "yaxis": {
            "backgroundcolor": "#E5ECF6",
            "gridcolor": "white",
            "gridwidth": 2,
            "linecolor": "white",
            "showbackground": true,
            "ticks": "",
            "zerolinecolor": "white"
           },
           "zaxis": {
            "backgroundcolor": "#E5ECF6",
            "gridcolor": "white",
            "gridwidth": 2,
            "linecolor": "white",
            "showbackground": true,
            "ticks": "",
            "zerolinecolor": "white"
           }
          },
          "shapedefaults": {
           "line": {
            "color": "#2a3f5f"
           }
          },
          "ternary": {
           "aaxis": {
            "gridcolor": "white",
            "linecolor": "white",
            "ticks": ""
           },
           "baxis": {
            "gridcolor": "white",
            "linecolor": "white",
            "ticks": ""
           },
           "bgcolor": "#E5ECF6",
           "caxis": {
            "gridcolor": "white",
            "linecolor": "white",
            "ticks": ""
           }
          },
          "title": {
           "x": 0.05
          },
          "xaxis": {
           "automargin": true,
           "gridcolor": "white",
           "linecolor": "white",
           "ticks": "",
           "title": {
            "standoff": 15
           },
           "zerolinecolor": "white",
           "zerolinewidth": 2
          },
          "yaxis": {
           "automargin": true,
           "gridcolor": "white",
           "linecolor": "white",
           "ticks": "",
           "title": {
            "standoff": 15
           },
           "zerolinecolor": "white",
           "zerolinewidth": 2
          }
         }
        },
        "title": {
         "text": "Relationship between Quality of Education and Human Development Index by Income group in 2018",
         "x": 0.5,
         "xanchor": "center"
        },
        "xaxis": {
         "anchor": "y",
         "domain": [
          0,
          0.1257142857142857
         ],
         "title": {
          "text": "Quality of Education Index"
         }
        },
        "xaxis2": {
         "anchor": "y2",
         "domain": [
          0.14571428571428569,
          0.27142857142857135
         ],
         "matches": "x",
         "title": {
          "text": "Quality of Education Index"
         }
        },
        "xaxis3": {
         "anchor": "y3",
         "domain": [
          0.29142857142857137,
          0.41714285714285704
         ],
         "matches": "x",
         "title": {
          "text": "Quality of Education Index"
         }
        },
        "xaxis4": {
         "anchor": "y4",
         "domain": [
          0.4371428571428571,
          0.5628571428571428
         ],
         "matches": "x",
         "title": {
          "text": "Quality of Education Index"
         }
        },
        "xaxis5": {
         "anchor": "y5",
         "domain": [
          0.5828571428571427,
          0.7085714285714284
         ],
         "matches": "x",
         "title": {
          "text": "Quality of Education Index"
         }
        },
        "xaxis6": {
         "anchor": "y6",
         "domain": [
          0.7285714285714284,
          0.8542857142857141
         ],
         "matches": "x",
         "title": {
          "text": "Quality of Education Index"
         }
        },
        "xaxis7": {
         "anchor": "y7",
         "domain": [
          0.8742857142857141,
          0.9999999999999998
         ],
         "matches": "x",
         "title": {
          "text": "Quality of Education Index"
         }
        },
        "yaxis": {
         "anchor": "x",
         "domain": [
          0,
          1
         ],
         "title": {
          "text": "Human Development Index (HDI)"
         }
        },
        "yaxis2": {
         "anchor": "x2",
         "domain": [
          0,
          1
         ],
         "matches": "y",
         "showticklabels": false
        },
        "yaxis3": {
         "anchor": "x3",
         "domain": [
          0,
          1
         ],
         "matches": "y",
         "showticklabels": false
        },
        "yaxis4": {
         "anchor": "x4",
         "domain": [
          0,
          1
         ],
         "matches": "y",
         "showticklabels": false
        },
        "yaxis5": {
         "anchor": "x5",
         "domain": [
          0,
          1
         ],
         "matches": "y",
         "showticklabels": false
        },
        "yaxis6": {
         "anchor": "x6",
         "domain": [
          0,
          1
         ],
         "matches": "y",
         "showticklabels": false
        },
        "yaxis7": {
         "anchor": "x7",
         "domain": [
          0,
          1
         ],
         "matches": "y",
         "showticklabels": false
        }
       }
      }
     },
     "metadata": {},
     "output_type": "display_data"
    }
   ],
   "source": [
    "fig = px.scatter(data_frame=df_indicators_2018,x='edu_quality_index',y='hdi_index',facet_col='region',hover_name='country',color='hdi_index',trendline='ols',\n",
    "                 category_orders= regions_ord, labels={'hdi':'Humand Development Index'},\n",
    "                 color_continuous_scale=px.colors.sequential.Teal, trendline_color_override='Purple')\n",
    "\n",
    "#Setting the labels of the plot\n",
    "fig.update_layout(\n",
    "    title={\n",
    "        'text': \"Relationship between Quality of Education and Human Development Index by Income group in 2018\",\n",
    "        'x':0.5,\n",
    "        'xanchor': 'center'},\n",
    "    xaxis_title=\"Quality of Education Index\",\n",
    "    yaxis_title=\"Human Development Index (HDI)\"\n",
    ")\n",
    "#Ensuring that all x-axis show the correct label\n",
    "fig.for_each_xaxis(lambda x: x.update(title=\"Quality of Education Index\"))\n",
    "\n",
    "fig.show()"
   ]
  },
  {
   "cell_type": "markdown",
   "metadata": {},
   "source": [
    "### 2.2 Does the education expenditure as a % of the GDP correlate with increase in quality of education?\n"
   ]
  },
  {
   "cell_type": "markdown",
   "metadata": {},
   "source": [
    "In this question, we want to explore if countries investing higher % of the GDP in education would lead to a better quality of education. We are using the Quality of Education Index by the Global Economic Forum as an indicator of the quality of education and the education expenditure as a percentage of the GDP."
   ]
  },
  {
   "cell_type": "markdown",
   "metadata": {},
   "source": [
    "#### 2.2.1 Overall relationship"
   ]
  },
  {
   "cell_type": "markdown",
   "metadata": {},
   "source": [
    "In general, there is no association between the % of the GDP that is spent on education and the education quality. This is not a very promising news for countries as it suggests that there are no value from increasing the education expenditure if the objective is to increase the quality of education."
   ]
  },
  {
   "cell_type": "code",
   "execution_count": 9,
   "metadata": {},
   "outputs": [
    {
     "data": {
      "application/vnd.plotly.v1+json": {
       "config": {
        "plotlyServerURL": "https://plot.ly"
       },
       "data": [
        {
         "hovertemplate": "<b>%{hovertext}</b><br><br>edu_exp_pct_gdp=%{x}<br>Quality of Education Index=%{marker.color}<extra></extra>",
         "hovertext": [
          "Afghanistan",
          "Albania",
          "Algeria",
          "American Samoa",
          "Andorra",
          "Angola",
          "Antigua and Barbuda",
          "Argentina",
          "Armenia",
          "Aruba",
          "Australia",
          "Austria",
          "Azerbaijan",
          "Bahamas",
          "Bahrain",
          "Bangladesh",
          "Barbados",
          "Belarus",
          "Belgium",
          "Belize",
          "Benin",
          "Bermuda",
          "Bhutan",
          "Bolivia",
          "Bosnia and Herzegovina",
          "Botswana",
          "Brazil",
          "British Virgin Islands",
          "Brunei",
          "Bulgaria",
          "Burkina Faso",
          "Burundi",
          "Cabo Verde",
          "Cambodia",
          "Cameroon",
          "Canada",
          "Cayman Islands",
          "Central African Republic",
          "Chad",
          "Channel Islands",
          "Chile",
          "China",
          "Colombia",
          "Comoros",
          "Costa Rica",
          "Cote d'Ivoire",
          "Croatia",
          "Cuba",
          "Curacao",
          "Cyprus",
          "Czech",
          "Denmark",
          "Djibouti",
          "Dominica",
          "Dominican Republic",
          "Ecuador",
          "Egypt",
          "El Salvador",
          "Equatorial Guinea",
          "Eritrea",
          "Estonia",
          "Eswatini",
          "Ethiopia",
          "Faroe Islands",
          "Fiji",
          "Finland",
          "France",
          "French Polynesia",
          "Gabon",
          "Gambia",
          "Georgia",
          "Germany",
          "Ghana",
          "Gibraltar",
          "Greece",
          "Greenland",
          "Grenada",
          "Guam",
          "Guatemala",
          "Guinea",
          "Guinea-Bissau",
          "Guyana",
          "Haiti",
          "Honduras",
          "Hong Kong",
          "Hungary",
          "Iceland",
          "India",
          "Indonesia",
          "Iran",
          "Iraq",
          "Ireland",
          "Isle of Man",
          "Israel",
          "Italy",
          "Jamaica",
          "Japan",
          "Jordan",
          "Kazakhstan",
          "Kenya",
          "Kiribati",
          "Korea, Rep.",
          "Kosovo",
          "Kuwait",
          "Kyrgyzstan",
          "Lao PDR",
          "Latvia",
          "Lebanon",
          "Lesotho",
          "Liberia",
          "Libya",
          "Liechtenstein",
          "Lithuania",
          "Luxembourg",
          "Macao SAR, China",
          "Madagascar",
          "Malawi",
          "Malaysia",
          "Maldives",
          "Mali",
          "Malta",
          "Marshall Islands",
          "Mauritania",
          "Mauritius",
          "Mexico",
          "Micronesia",
          "Moldova",
          "Monaco",
          "Mongolia",
          "Montenegro",
          "Morocco",
          "Mozambique",
          "Myanmar",
          "Namibia",
          "Nauru",
          "Nepal",
          "Netherlands",
          "New Caledonia",
          "New Zealand",
          "Nicaragua",
          "Niger",
          "Nigeria",
          "North Macedonia",
          "Northern Mariana Islands",
          "Norway",
          "Oman",
          "Pakistan",
          "Palau",
          "Panama",
          "Papua New Guinea",
          "Paraguay",
          "Peru",
          "Philippines",
          "Poland",
          "Portugal",
          "Puerto Rico",
          "Qatar",
          "Romania",
          "Russia",
          "Rwanda",
          "Samoa",
          "San Marino",
          "Sao Tome and Principe",
          "Saudi Arabia",
          "Senegal",
          "Serbia",
          "Seychelles",
          "Sierra Leone",
          "Singapore",
          "Sint Maarten (Dutch part)",
          "Slovakia",
          "Slovenia",
          "Solomon Islands",
          "Somalia",
          "South Africa",
          "South Sudan",
          "Spain",
          "Sri Lanka",
          "St. Kitts and Nevis",
          "St. Lucia",
          "St. Martin (French part)",
          "St. Vincent and the Grenadines",
          "Sudan",
          "Suriname",
          "Sweden",
          "Switzerland",
          "Syria",
          "Tajikistan",
          "Tanzania",
          "Thailand",
          "Timor-Leste",
          "Togo",
          "Tonga",
          "Trinidad and Tobago",
          "Tunisia",
          "Turkey",
          "Turkmenistan",
          "Turks and Caicos Islands",
          "Tuvalu",
          "Uganda",
          "Ukraine",
          "United Arab Emirates",
          "United Kingdom",
          "United States",
          "Uruguay",
          "Uzbekistan",
          "Vanuatu",
          "Vietnam",
          "West Bank and Gaza",
          "Yemen",
          "Zambia",
          "Zimbabwe",
          "Congo"
         ],
         "legendgroup": "",
         "marker": {
          "color": [
           null,
           4.485545992750001,
           3.416745662749999,
           null,
           null,
           null,
           null,
           3.75650507225,
           4.123025775249999,
           null,
           5.32498466975,
           4.710301160749999,
           4.406499505,
           null,
           4.816789984750001,
           3.38388782725,
           null,
           null,
           5.36690354325,
           null,
           3.302977741,
           null,
           4.3412513735,
           null,
           3.23686605675,
           3.6361775995,
           3.182566643,
           null,
           4.584998965500001,
           3.773089886,
           null,
           3.3095909355,
           null,
           3.3678638935,
           3.99517446775,
           5.579452038,
           null,
           null,
           2.61314469575,
           null,
           4.121846437249999,
           4.513828873750001,
           3.800363958,
           null,
           4.787541389499999,
           null,
           3.622494161,
           null,
           null,
           4.1842525005,
           4.48947828975,
           5.44074654575,
           null,
           null,
           3.09706348175,
           3.7505168915,
           2.9052241445,
           2.927667737,
           null,
           null,
           5.2810070515,
           3.09669226425,
           3.548745334249999,
           null,
           null,
           5.877574682,
           4.96322739125,
           null,
           null,
           4.03637063525,
           3.5151272415,
           5.28436040875,
           4.018807113,
           null,
           3.778220594,
           null,
           null,
           null,
           3.289593935,
           2.7947496775,
           null,
           null,
           2.7684766055,
           3.36910063025,
           5.37197506425,
           3.66430544875,
           5.4105769395,
           4.605217695249999,
           4.6026746035,
           3.83756726975,
           null,
           5.26850879225,
           null,
           5.07211995125,
           4.437981963,
           4.37463819975,
           4.76136147975,
           4.31229245675,
           4.113367319,
           4.36485934275,
           null,
           4.5241591335,
           null,
           3.48593091975,
           3.1524888275,
           3.8370832205,
           4.36378258475,
           5.118548751000001,
           3.5835725665,
           2.89157027,
           null,
           null,
           4.4885306955,
           4.68427121625,
           null,
           3.67245489375,
           2.92263948925,
           5.25812911975,
           null,
           3.66399663725,
           5.124402999999999,
           null,
           2.3659526705,
           4.3772073985,
           3.51215380425,
           null,
           3.76005345575,
           null,
           3.69268512725,
           4.08039987125,
           3.4795261025,
           2.790258944,
           null,
           3.34541547275,
           null,
           3.83100247375,
           5.77895951275,
           null,
           5.5188162325,
           3.03231650575,
           null,
           3.16824227575,
           null,
           null,
           5.386394262250001,
           3.7034083605,
           3.66025239225,
           null,
           3.680060029,
           null,
           2.7540509105,
           3.27700579175,
           4.3122189045,
           4.217128813,
           4.821053028250001,
           null,
           5.650964141,
           3.7737690805,
           4.3563212755,
           4.394029140500001,
           null,
           null,
           null,
           4.336327791,
           4.09712105975,
           3.99615168575,
           3.995258987,
           2.91684859975,
           6.1019439695,
           null,
           3.798733771,
           4.796257138250001,
           null,
           null,
           3.4022233485,
           null,
           4.5152790545,
           4.124032378,
           null,
           null,
           null,
           null,
           null,
           null,
           5.199332714000001,
           6.1326652765,
           null,
           4.13513046525,
           3.15139406925,
           4.05051058525,
           null,
           null,
           null,
           4.468680382000001,
           3.79927766325,
           3.551756382,
           null,
           null,
           null,
           3.343117058,
           4.374483644750001,
           5.4820508955,
           5.2462177275,
           5.697491168999999,
           3.90237712875,
           null,
           null,
           3.68711513275,
           null,
           2.2447446585,
           3.6091204285,
           3.793227315,
           null
          ],
          "coloraxis": "coloraxis",
          "symbol": "circle"
         },
         "mode": "markers",
         "name": "",
         "orientation": "v",
         "showlegend": false,
         "type": "scatter",
         "x": [
          3.19979000091553,
          null,
          5.8663501739502,
          null,
          3.2467200756073,
          2.04469990730286,
          2.64407992362976,
          4.94551992416382,
          2.25587010383606,
          null,
          5.10789012908936,
          5.22535991668701,
          2.45543003082275,
          2.30952000617981,
          null,
          null,
          5.42886018753052,
          5.38111019134521,
          6.37663984298706,
          7.47227001190186,
          2.93396997451782,
          null,
          6.85084009170532,
          null,
          null,
          6.72133016586304,
          6.08851003646851,
          2.69412994384766,
          null,
          null,
          5.43056011199951,
          5.07864999771118,
          5.36885023117065,
          2.16285991668701,
          3.13120007514954,
          null,
          null,
          1.56587994098663,
          2.25947999954224,
          null,
          5.43316984176636,
          3.54249000549316,
          4.44910001754761,
          null,
          6.7790699005127,
          3.23993992805481,
          null,
          null,
          null,
          null,
          4.26692008972168,
          null,
          3.62773990631104,
          5.57154989242554,
          3.92848992347717,
          4.6214599609375,
          null,
          3.60575008392334,
          null,
          null,
          5.23887014389038,
          5.67916011810303,
          5.06867980957031,
          null,
          4.83571004867554,
          6.26929998397827,
          5.41316986083984,
          null,
          2.93345999717712,
          2.36543989181519,
          3.5210599899292,
          4.99274015426636,
          4.0041298866272,
          null,
          3.59395003318787,
          10.5601902008057,
          3.55255007743835,
          null,
          3.13704991340637,
          2.38432002067566,
          2.13787007331848,
          4.45058012008667,
          1.68210005760193,
          6.05646991729736,
          3.32651996612549,
          4.62730979919434,
          7.57405996322632,
          null,
          3,
          3.9553599357605,
          null,
          3.38309001922607,
          null,
          6.1648998260498,
          4.2557201385498,
          5.41380977630615,
          null,
          2.98481011390686,
          2.61595010757446,
          5.30625009536743,
          11.9682903289795,
          4.45807981491089,
          null,
          6.38917016983032,
          5.55267000198364,
          null,
          4.24517011642456,
          2.52447009086609,
          7.28535985946655,
          2.58412003517151,
          null,
          null,
          3.89495992660522,
          3.66626000404358,
          2.72788000106812,
          2.87452006340027,
          3.38193988800049,
          4.47959995269775,
          3.91248989105225,
          3.88252997398376,
          null,
          null,
          null,
          4.83458995819092,
          4.25442981719971,
          9.69705009460449,
          5.43973016738892,
          null,
          6.17301988601685,
          null,
          null,
          5.45218992233276,
          1.92288994789124,
          8.98805046081543,
          null,
          4.43445014953613,
          5.35764980316162,
          null,
          6.04850006103516,
          3.56255006790161,
          3.44697999954224,
          null,
          null,
          null,
          7.64411020278931,
          5.20723009109497,
          null,
          null,
          2.8829300403595,
          1.8748300075531,
          3.28320002555847,
          3.71429991722107,
          3.1331000328064,
          4.61579990386963,
          4.67515993118286,
          null,
          null,
          3.34474992752075,
          4.67819976806641,
          3.07375001907349,
          4.53214979171753,
          3.55516004562378,
          5.23510980606079,
          null,
          4.85822010040283,
          3.58231997489929,
          4.49883985519409,
          6.98963022232056,
          2.64509010314941,
          null,
          3.975830078125,
          4.93603992462158,
          null,
          null,
          6.15898990631104,
          null,
          4.17816019058228,
          2.13539004325867,
          null,
          3.33179998397827,
          null,
          5.69377994537354,
          null,
          5.68860006332397,
          7.64084005355835,
          4.86093997955322,
          null,
          5.55836009979248,
          3.69643998146057,
          3.05677008628845,
          6.83091020584106,
          4.04394006729126,
          6.3729100227356,
          3.2862401008606,
          null,
          4.29460000991821,
          null,
          2.7437698841095,
          null,
          2.13052010536194,
          5.31947994232178,
          null,
          5.23890018463135,
          null,
          4.66279983520508,
          5.90000009536743,
          null,
          4.16744995117188,
          5.31887006759644,
          null,
          4.73973989486694,
          3.58728003501892,
          null
         ],
         "xaxis": "x",
         "y": [
          null,
          4.485545992750001,
          3.416745662749999,
          null,
          null,
          null,
          null,
          3.75650507225,
          4.123025775249999,
          null,
          5.32498466975,
          4.710301160749999,
          4.406499505,
          null,
          4.816789984750001,
          3.38388782725,
          null,
          null,
          5.36690354325,
          null,
          3.302977741,
          null,
          4.3412513735,
          null,
          3.23686605675,
          3.6361775995,
          3.182566643,
          null,
          4.584998965500001,
          3.773089886,
          null,
          3.3095909355,
          null,
          3.3678638935,
          3.99517446775,
          5.579452038,
          null,
          null,
          2.61314469575,
          null,
          4.121846437249999,
          4.513828873750001,
          3.800363958,
          null,
          4.787541389499999,
          null,
          3.622494161,
          null,
          null,
          4.1842525005,
          4.48947828975,
          5.44074654575,
          null,
          null,
          3.09706348175,
          3.7505168915,
          2.9052241445,
          2.927667737,
          null,
          null,
          5.2810070515,
          3.09669226425,
          3.548745334249999,
          null,
          null,
          5.877574682,
          4.96322739125,
          null,
          null,
          4.03637063525,
          3.5151272415,
          5.28436040875,
          4.018807113,
          null,
          3.778220594,
          null,
          null,
          null,
          3.289593935,
          2.7947496775,
          null,
          null,
          2.7684766055,
          3.36910063025,
          5.37197506425,
          3.66430544875,
          5.4105769395,
          4.605217695249999,
          4.6026746035,
          3.83756726975,
          null,
          5.26850879225,
          null,
          5.07211995125,
          4.437981963,
          4.37463819975,
          4.76136147975,
          4.31229245675,
          4.113367319,
          4.36485934275,
          null,
          4.5241591335,
          null,
          3.48593091975,
          3.1524888275,
          3.8370832205,
          4.36378258475,
          5.118548751000001,
          3.5835725665,
          2.89157027,
          null,
          null,
          4.4885306955,
          4.68427121625,
          null,
          3.67245489375,
          2.92263948925,
          5.25812911975,
          null,
          3.66399663725,
          5.124402999999999,
          null,
          2.3659526705,
          4.3772073985,
          3.51215380425,
          null,
          3.76005345575,
          null,
          3.69268512725,
          4.08039987125,
          3.4795261025,
          2.790258944,
          null,
          3.34541547275,
          null,
          3.83100247375,
          5.77895951275,
          null,
          5.5188162325,
          3.03231650575,
          null,
          3.16824227575,
          null,
          null,
          5.386394262250001,
          3.7034083605,
          3.66025239225,
          null,
          3.680060029,
          null,
          2.7540509105,
          3.27700579175,
          4.3122189045,
          4.217128813,
          4.821053028250001,
          null,
          5.650964141,
          3.7737690805,
          4.3563212755,
          4.394029140500001,
          null,
          null,
          null,
          4.336327791,
          4.09712105975,
          3.99615168575,
          3.995258987,
          2.91684859975,
          6.1019439695,
          null,
          3.798733771,
          4.796257138250001,
          null,
          null,
          3.4022233485,
          null,
          4.5152790545,
          4.124032378,
          null,
          null,
          null,
          null,
          null,
          null,
          5.199332714000001,
          6.1326652765,
          null,
          4.13513046525,
          3.15139406925,
          4.05051058525,
          null,
          null,
          null,
          4.468680382000001,
          3.79927766325,
          3.551756382,
          null,
          null,
          null,
          3.343117058,
          4.374483644750001,
          5.4820508955,
          5.2462177275,
          5.697491168999999,
          3.90237712875,
          null,
          null,
          3.68711513275,
          null,
          2.2447446585,
          3.6091204285,
          3.793227315,
          null
         ],
         "yaxis": "y"
        },
        {
         "hovertemplate": "<b>OLS trendline</b><br>edu_quality_index = 0.118517 * edu_exp_pct_gdp + 3.55719<br>R<sup>2</sup>=0.044718<br><br>edu_exp_pct_gdp=%{x}<br>Quality of Education Index=%{y} <b>(trend)</b><extra></extra>",
         "legendgroup": "",
         "line": {
          "color": "Purple"
         },
         "marker": {
          "symbol": "circle"
         },
         "mode": "lines",
         "name": "",
         "showlegend": false,
         "type": "scatter",
         "x": [
          1.68210005760193,
          2.13052010536194,
          2.13539004325867,
          2.16285991668701,
          2.25587010383606,
          2.25947999954224,
          2.36543989181519,
          2.38432002067566,
          2.45543003082275,
          2.52447009086609,
          2.58412003517151,
          2.61595010757446,
          2.64509010314941,
          2.87452006340027,
          2.8829300403595,
          2.93396997451782,
          2.98481011390686,
          3,
          3.05677008628845,
          3.07375001907349,
          3.13120007514954,
          3.1331000328064,
          3.13704991340637,
          3.28320002555847,
          3.2862401008606,
          3.32651996612549,
          3.34474992752075,
          3.38193988800049,
          3.38309001922607,
          3.5210599899292,
          3.54249000549316,
          3.56255006790161,
          3.58231997489929,
          3.58728003501892,
          3.59395003318787,
          3.60575008392334,
          3.66626000404358,
          3.69643998146057,
          3.71429991722107,
          3.88252997398376,
          3.89495992660522,
          3.92848992347717,
          3.9553599357605,
          3.975830078125,
          4.0041298866272,
          4.16744995117188,
          4.17816019058228,
          4.24517011642456,
          4.25442981719971,
          4.2557201385498,
          4.26692008972168,
          4.29460000991821,
          4.43445014953613,
          4.44910001754761,
          4.45807981491089,
          4.47959995269775,
          4.49883985519409,
          4.61579990386963,
          4.6214599609375,
          4.62730979919434,
          4.66279983520508,
          4.67515993118286,
          4.67819976806641,
          4.73973989486694,
          4.83458995819092,
          4.85822010040283,
          4.86093997955322,
          4.93603992462158,
          4.94551992416382,
          4.99274015426636,
          5.06867980957031,
          5.07864999771118,
          5.10789012908936,
          5.20723009109497,
          5.22535991668701,
          5.23887014389038,
          5.23890018463135,
          5.30625009536743,
          5.31947994232178,
          5.35764980316162,
          5.41316986083984,
          5.41380977630615,
          5.43316984176636,
          5.43973016738892,
          5.45218992233276,
          5.55267000198364,
          5.55836009979248,
          5.67916011810303,
          5.8663501739502,
          6.04850006103516,
          6.05646991729736,
          6.08851003646851,
          6.15898990631104,
          6.1648998260498,
          6.17301988601685,
          6.26929998397827,
          6.37663984298706,
          6.38917016983032,
          6.72133016586304,
          6.7790699005127,
          6.85084009170532,
          6.98963022232056,
          7.28535985946655,
          7.57405996322632,
          7.64084005355835,
          7.64411020278931,
          8.98805046081543
         ],
         "xaxis": "x",
         "y": [
          3.7565518576727053,
          3.8096971456010724,
          3.8102743148266853,
          3.8135299550238564,
          3.8245532203774006,
          3.824981053494262,
          3.8375390758481567,
          3.8397766874121952,
          3.848204414902824,
          3.8563868186288026,
          3.8634563363295795,
          3.867228733150564,
          3.870682310801247,
          3.897873604673664,
          3.8988703278335715,
          3.9049194150905726,
          3.910944823320302,
          3.912745079294698,
          3.9194732855749237,
          3.9214856920705143,
          3.928294486161934,
          3.928519662973787,
          3.928987789996244,
          3.946309026702511,
          3.946669326555434,
          3.951443165387823,
          3.9536037212151407,
          3.958011354566088,
          3.95814766438418,
          3.9744994172888815,
          3.9770392331448967,
          3.979416686601502,
          3.98175975178103,
          3.9823476019998516,
          3.983138108523682,
          3.9845366122191312,
          3.9917080514609236,
          3.9952848843824436,
          3.997401585973096,
          4.017339666015502,
          4.018812823637029,
          4.022786689986,
          4.0259712365881635,
          4.028397291389528,
          4.0317512927966455,
          4.051107456505347,
          4.052376799301439,
          4.060318598114263,
          4.061416027781567,
          4.061568952477983,
          4.062896334321829,
          4.066176868579892,
          4.082751452998996,
          4.084487707783927,
          4.085551964207773,
          4.088102461056997,
          4.090382711824083,
          4.104244436994551,
          4.104915248578614,
          4.105608552412925,
          4.109814716235887,
          4.111279594674848,
          4.111639866271174,
          4.118933402263376,
          4.130174723766634,
          4.132975291488603,
          4.133297642733378,
          4.142198244354559,
          4.143321783116374,
          4.148918171452219,
          4.157918292803772,
          4.159099927126531,
          4.162565372547447,
          4.1743388222626265,
          4.176487510319713,
          4.178088698576767,
          4.178092258907837,
          4.186074351626257,
          4.1876423101266615,
          4.192166078086307,
          4.198746135034803,
          4.198821975737904,
          4.201116467829269,
          4.2018939763190355,
          4.2033706660150365,
          4.215279238771286,
          4.215953610686418,
          4.230270436588685,
          4.25245559415472,
          4.274043407285748,
          4.2749879687698265,
          4.278785259651703,
          4.287138304959659,
          4.287838729456108,
          4.288801092595535,
          4.3002118971603425,
          4.312933468690671,
          4.314418522339027,
          4.353785046462167,
          4.3606281723174725,
          4.369134142321845,
          4.385583097916065,
          4.420632014202445,
          4.454847813018545,
          4.462762372473026,
          4.463149939940887,
          4.622429375211693
         ],
         "yaxis": "y"
        }
       ],
       "layout": {
        "coloraxis": {
         "colorbar": {
          "title": {
           "text": "Quality of Education Index"
          }
         },
         "colorscale": [
          [
           0,
           "rgb(209, 238, 234)"
          ],
          [
           0.16666666666666666,
           "rgb(168, 219, 217)"
          ],
          [
           0.3333333333333333,
           "rgb(133, 196, 201)"
          ],
          [
           0.5,
           "rgb(104, 171, 184)"
          ],
          [
           0.6666666666666666,
           "rgb(79, 144, 166)"
          ],
          [
           0.8333333333333334,
           "rgb(59, 115, 143)"
          ],
          [
           1,
           "rgb(42, 86, 116)"
          ]
         ]
        },
        "legend": {
         "tracegroupgap": 0
        },
        "margin": {
         "t": 60
        },
        "template": {
         "data": {
          "bar": [
           {
            "error_x": {
             "color": "#2a3f5f"
            },
            "error_y": {
             "color": "#2a3f5f"
            },
            "marker": {
             "line": {
              "color": "#E5ECF6",
              "width": 0.5
             },
             "pattern": {
              "fillmode": "overlay",
              "size": 10,
              "solidity": 0.2
             }
            },
            "type": "bar"
           }
          ],
          "barpolar": [
           {
            "marker": {
             "line": {
              "color": "#E5ECF6",
              "width": 0.5
             },
             "pattern": {
              "fillmode": "overlay",
              "size": 10,
              "solidity": 0.2
             }
            },
            "type": "barpolar"
           }
          ],
          "carpet": [
           {
            "aaxis": {
             "endlinecolor": "#2a3f5f",
             "gridcolor": "white",
             "linecolor": "white",
             "minorgridcolor": "white",
             "startlinecolor": "#2a3f5f"
            },
            "baxis": {
             "endlinecolor": "#2a3f5f",
             "gridcolor": "white",
             "linecolor": "white",
             "minorgridcolor": "white",
             "startlinecolor": "#2a3f5f"
            },
            "type": "carpet"
           }
          ],
          "choropleth": [
           {
            "colorbar": {
             "outlinewidth": 0,
             "ticks": ""
            },
            "type": "choropleth"
           }
          ],
          "contour": [
           {
            "colorbar": {
             "outlinewidth": 0,
             "ticks": ""
            },
            "colorscale": [
             [
              0,
              "#0d0887"
             ],
             [
              0.1111111111111111,
              "#46039f"
             ],
             [
              0.2222222222222222,
              "#7201a8"
             ],
             [
              0.3333333333333333,
              "#9c179e"
             ],
             [
              0.4444444444444444,
              "#bd3786"
             ],
             [
              0.5555555555555556,
              "#d8576b"
             ],
             [
              0.6666666666666666,
              "#ed7953"
             ],
             [
              0.7777777777777778,
              "#fb9f3a"
             ],
             [
              0.8888888888888888,
              "#fdca26"
             ],
             [
              1,
              "#f0f921"
             ]
            ],
            "type": "contour"
           }
          ],
          "contourcarpet": [
           {
            "colorbar": {
             "outlinewidth": 0,
             "ticks": ""
            },
            "type": "contourcarpet"
           }
          ],
          "heatmap": [
           {
            "colorbar": {
             "outlinewidth": 0,
             "ticks": ""
            },
            "colorscale": [
             [
              0,
              "#0d0887"
             ],
             [
              0.1111111111111111,
              "#46039f"
             ],
             [
              0.2222222222222222,
              "#7201a8"
             ],
             [
              0.3333333333333333,
              "#9c179e"
             ],
             [
              0.4444444444444444,
              "#bd3786"
             ],
             [
              0.5555555555555556,
              "#d8576b"
             ],
             [
              0.6666666666666666,
              "#ed7953"
             ],
             [
              0.7777777777777778,
              "#fb9f3a"
             ],
             [
              0.8888888888888888,
              "#fdca26"
             ],
             [
              1,
              "#f0f921"
             ]
            ],
            "type": "heatmap"
           }
          ],
          "heatmapgl": [
           {
            "colorbar": {
             "outlinewidth": 0,
             "ticks": ""
            },
            "colorscale": [
             [
              0,
              "#0d0887"
             ],
             [
              0.1111111111111111,
              "#46039f"
             ],
             [
              0.2222222222222222,
              "#7201a8"
             ],
             [
              0.3333333333333333,
              "#9c179e"
             ],
             [
              0.4444444444444444,
              "#bd3786"
             ],
             [
              0.5555555555555556,
              "#d8576b"
             ],
             [
              0.6666666666666666,
              "#ed7953"
             ],
             [
              0.7777777777777778,
              "#fb9f3a"
             ],
             [
              0.8888888888888888,
              "#fdca26"
             ],
             [
              1,
              "#f0f921"
             ]
            ],
            "type": "heatmapgl"
           }
          ],
          "histogram": [
           {
            "marker": {
             "pattern": {
              "fillmode": "overlay",
              "size": 10,
              "solidity": 0.2
             }
            },
            "type": "histogram"
           }
          ],
          "histogram2d": [
           {
            "colorbar": {
             "outlinewidth": 0,
             "ticks": ""
            },
            "colorscale": [
             [
              0,
              "#0d0887"
             ],
             [
              0.1111111111111111,
              "#46039f"
             ],
             [
              0.2222222222222222,
              "#7201a8"
             ],
             [
              0.3333333333333333,
              "#9c179e"
             ],
             [
              0.4444444444444444,
              "#bd3786"
             ],
             [
              0.5555555555555556,
              "#d8576b"
             ],
             [
              0.6666666666666666,
              "#ed7953"
             ],
             [
              0.7777777777777778,
              "#fb9f3a"
             ],
             [
              0.8888888888888888,
              "#fdca26"
             ],
             [
              1,
              "#f0f921"
             ]
            ],
            "type": "histogram2d"
           }
          ],
          "histogram2dcontour": [
           {
            "colorbar": {
             "outlinewidth": 0,
             "ticks": ""
            },
            "colorscale": [
             [
              0,
              "#0d0887"
             ],
             [
              0.1111111111111111,
              "#46039f"
             ],
             [
              0.2222222222222222,
              "#7201a8"
             ],
             [
              0.3333333333333333,
              "#9c179e"
             ],
             [
              0.4444444444444444,
              "#bd3786"
             ],
             [
              0.5555555555555556,
              "#d8576b"
             ],
             [
              0.6666666666666666,
              "#ed7953"
             ],
             [
              0.7777777777777778,
              "#fb9f3a"
             ],
             [
              0.8888888888888888,
              "#fdca26"
             ],
             [
              1,
              "#f0f921"
             ]
            ],
            "type": "histogram2dcontour"
           }
          ],
          "mesh3d": [
           {
            "colorbar": {
             "outlinewidth": 0,
             "ticks": ""
            },
            "type": "mesh3d"
           }
          ],
          "parcoords": [
           {
            "line": {
             "colorbar": {
              "outlinewidth": 0,
              "ticks": ""
             }
            },
            "type": "parcoords"
           }
          ],
          "pie": [
           {
            "automargin": true,
            "type": "pie"
           }
          ],
          "scatter": [
           {
            "marker": {
             "colorbar": {
              "outlinewidth": 0,
              "ticks": ""
             }
            },
            "type": "scatter"
           }
          ],
          "scatter3d": [
           {
            "line": {
             "colorbar": {
              "outlinewidth": 0,
              "ticks": ""
             }
            },
            "marker": {
             "colorbar": {
              "outlinewidth": 0,
              "ticks": ""
             }
            },
            "type": "scatter3d"
           }
          ],
          "scattercarpet": [
           {
            "marker": {
             "colorbar": {
              "outlinewidth": 0,
              "ticks": ""
             }
            },
            "type": "scattercarpet"
           }
          ],
          "scattergeo": [
           {
            "marker": {
             "colorbar": {
              "outlinewidth": 0,
              "ticks": ""
             }
            },
            "type": "scattergeo"
           }
          ],
          "scattergl": [
           {
            "marker": {
             "colorbar": {
              "outlinewidth": 0,
              "ticks": ""
             }
            },
            "type": "scattergl"
           }
          ],
          "scattermapbox": [
           {
            "marker": {
             "colorbar": {
              "outlinewidth": 0,
              "ticks": ""
             }
            },
            "type": "scattermapbox"
           }
          ],
          "scatterpolar": [
           {
            "marker": {
             "colorbar": {
              "outlinewidth": 0,
              "ticks": ""
             }
            },
            "type": "scatterpolar"
           }
          ],
          "scatterpolargl": [
           {
            "marker": {
             "colorbar": {
              "outlinewidth": 0,
              "ticks": ""
             }
            },
            "type": "scatterpolargl"
           }
          ],
          "scatterternary": [
           {
            "marker": {
             "colorbar": {
              "outlinewidth": 0,
              "ticks": ""
             }
            },
            "type": "scatterternary"
           }
          ],
          "surface": [
           {
            "colorbar": {
             "outlinewidth": 0,
             "ticks": ""
            },
            "colorscale": [
             [
              0,
              "#0d0887"
             ],
             [
              0.1111111111111111,
              "#46039f"
             ],
             [
              0.2222222222222222,
              "#7201a8"
             ],
             [
              0.3333333333333333,
              "#9c179e"
             ],
             [
              0.4444444444444444,
              "#bd3786"
             ],
             [
              0.5555555555555556,
              "#d8576b"
             ],
             [
              0.6666666666666666,
              "#ed7953"
             ],
             [
              0.7777777777777778,
              "#fb9f3a"
             ],
             [
              0.8888888888888888,
              "#fdca26"
             ],
             [
              1,
              "#f0f921"
             ]
            ],
            "type": "surface"
           }
          ],
          "table": [
           {
            "cells": {
             "fill": {
              "color": "#EBF0F8"
             },
             "line": {
              "color": "white"
             }
            },
            "header": {
             "fill": {
              "color": "#C8D4E3"
             },
             "line": {
              "color": "white"
             }
            },
            "type": "table"
           }
          ]
         },
         "layout": {
          "annotationdefaults": {
           "arrowcolor": "#2a3f5f",
           "arrowhead": 0,
           "arrowwidth": 1
          },
          "autotypenumbers": "strict",
          "coloraxis": {
           "colorbar": {
            "outlinewidth": 0,
            "ticks": ""
           }
          },
          "colorscale": {
           "diverging": [
            [
             0,
             "#8e0152"
            ],
            [
             0.1,
             "#c51b7d"
            ],
            [
             0.2,
             "#de77ae"
            ],
            [
             0.3,
             "#f1b6da"
            ],
            [
             0.4,
             "#fde0ef"
            ],
            [
             0.5,
             "#f7f7f7"
            ],
            [
             0.6,
             "#e6f5d0"
            ],
            [
             0.7,
             "#b8e186"
            ],
            [
             0.8,
             "#7fbc41"
            ],
            [
             0.9,
             "#4d9221"
            ],
            [
             1,
             "#276419"
            ]
           ],
           "sequential": [
            [
             0,
             "#0d0887"
            ],
            [
             0.1111111111111111,
             "#46039f"
            ],
            [
             0.2222222222222222,
             "#7201a8"
            ],
            [
             0.3333333333333333,
             "#9c179e"
            ],
            [
             0.4444444444444444,
             "#bd3786"
            ],
            [
             0.5555555555555556,
             "#d8576b"
            ],
            [
             0.6666666666666666,
             "#ed7953"
            ],
            [
             0.7777777777777778,
             "#fb9f3a"
            ],
            [
             0.8888888888888888,
             "#fdca26"
            ],
            [
             1,
             "#f0f921"
            ]
           ],
           "sequentialminus": [
            [
             0,
             "#0d0887"
            ],
            [
             0.1111111111111111,
             "#46039f"
            ],
            [
             0.2222222222222222,
             "#7201a8"
            ],
            [
             0.3333333333333333,
             "#9c179e"
            ],
            [
             0.4444444444444444,
             "#bd3786"
            ],
            [
             0.5555555555555556,
             "#d8576b"
            ],
            [
             0.6666666666666666,
             "#ed7953"
            ],
            [
             0.7777777777777778,
             "#fb9f3a"
            ],
            [
             0.8888888888888888,
             "#fdca26"
            ],
            [
             1,
             "#f0f921"
            ]
           ]
          },
          "colorway": [
           "#636efa",
           "#EF553B",
           "#00cc96",
           "#ab63fa",
           "#FFA15A",
           "#19d3f3",
           "#FF6692",
           "#B6E880",
           "#FF97FF",
           "#FECB52"
          ],
          "font": {
           "color": "#2a3f5f"
          },
          "geo": {
           "bgcolor": "white",
           "lakecolor": "white",
           "landcolor": "#E5ECF6",
           "showlakes": true,
           "showland": true,
           "subunitcolor": "white"
          },
          "hoverlabel": {
           "align": "left"
          },
          "hovermode": "closest",
          "mapbox": {
           "style": "light"
          },
          "paper_bgcolor": "white",
          "plot_bgcolor": "#E5ECF6",
          "polar": {
           "angularaxis": {
            "gridcolor": "white",
            "linecolor": "white",
            "ticks": ""
           },
           "bgcolor": "#E5ECF6",
           "radialaxis": {
            "gridcolor": "white",
            "linecolor": "white",
            "ticks": ""
           }
          },
          "scene": {
           "xaxis": {
            "backgroundcolor": "#E5ECF6",
            "gridcolor": "white",
            "gridwidth": 2,
            "linecolor": "white",
            "showbackground": true,
            "ticks": "",
            "zerolinecolor": "white"
           },
           "yaxis": {
            "backgroundcolor": "#E5ECF6",
            "gridcolor": "white",
            "gridwidth": 2,
            "linecolor": "white",
            "showbackground": true,
            "ticks": "",
            "zerolinecolor": "white"
           },
           "zaxis": {
            "backgroundcolor": "#E5ECF6",
            "gridcolor": "white",
            "gridwidth": 2,
            "linecolor": "white",
            "showbackground": true,
            "ticks": "",
            "zerolinecolor": "white"
           }
          },
          "shapedefaults": {
           "line": {
            "color": "#2a3f5f"
           }
          },
          "ternary": {
           "aaxis": {
            "gridcolor": "white",
            "linecolor": "white",
            "ticks": ""
           },
           "baxis": {
            "gridcolor": "white",
            "linecolor": "white",
            "ticks": ""
           },
           "bgcolor": "#E5ECF6",
           "caxis": {
            "gridcolor": "white",
            "linecolor": "white",
            "ticks": ""
           }
          },
          "title": {
           "x": 0.05
          },
          "xaxis": {
           "automargin": true,
           "gridcolor": "white",
           "linecolor": "white",
           "ticks": "",
           "title": {
            "standoff": 15
           },
           "zerolinecolor": "white",
           "zerolinewidth": 2
          },
          "yaxis": {
           "automargin": true,
           "gridcolor": "white",
           "linecolor": "white",
           "ticks": "",
           "title": {
            "standoff": 15
           },
           "zerolinecolor": "white",
           "zerolinewidth": 2
          }
         }
        },
        "title": {
         "text": "Education Exp. (%GDP) and Education Quality in 2018",
         "x": 0.5,
         "xanchor": "center"
        },
        "xaxis": {
         "anchor": "y",
         "domain": [
          0,
          1
         ],
         "title": {
          "text": "Percentage of the GDP"
         }
        },
        "yaxis": {
         "anchor": "x",
         "domain": [
          0,
          1
         ],
         "title": {
          "text": "Education Quality Index"
         }
        }
       }
      }
     },
     "metadata": {},
     "output_type": "display_data"
    }
   ],
   "source": [
    "fig = px.scatter(data_frame=df_indicators_2018,x='edu_exp_pct_gdp',y='edu_quality_index',hover_name='country',color='edu_quality_index', trendline='ols', labels={'edu_quality_index':'Quality of Education Index'},\n",
    "                 color_continuous_scale=px.colors.sequential.Teal, trendline_color_override='Purple')\n",
    "\n",
    "#Setting the labels of the plot\n",
    "fig.update_layout(\n",
    "    title={\n",
    "        'text': \"Education Exp. (%GDP) and Education Quality in 2018\",\n",
    "        'x':0.5,\n",
    "        'xanchor': 'center'},\n",
    "    xaxis_title=\"Percentage of the GDP\",\n",
    "    yaxis_title=\"Education Quality Index\"\n",
    ")\n",
    "\n",
    "fig.show()"
   ]
  },
  {
   "cell_type": "markdown",
   "metadata": {},
   "source": [
    "#### 2.2.2 Exploring the relationship among different income groups"
   ]
  },
  {
   "cell_type": "markdown",
   "metadata": {},
   "source": [
    "While the graphs show a slightly higher trend line among the High income the R2 is really low 0.04 suggesting that there is no association. But looking at the trend, it is not really promising for low income countries."
   ]
  },
  {
   "cell_type": "code",
   "execution_count": 10,
   "metadata": {},
   "outputs": [
    {
     "data": {
      "application/vnd.plotly.v1+json": {
       "config": {
        "plotlyServerURL": "https://plot.ly"
       },
       "data": [
        {
         "hovertemplate": "<b>%{hovertext}</b><br><br>income_group=Low income<br>edu_exp_pct_gdp=%{x}<br>Quality of Education Index=%{marker.color}<extra></extra>",
         "hovertext": [
          "Afghanistan",
          "Burkina Faso",
          "Burundi",
          "Central African Republic",
          "Chad",
          "Eritrea",
          "Ethiopia",
          "Gambia",
          "Guinea",
          "Guinea-Bissau",
          "Liberia",
          "Madagascar",
          "Malawi",
          "Mali",
          "Mozambique",
          "Niger",
          "Rwanda",
          "Sierra Leone",
          "Somalia",
          "South Sudan",
          "Sudan",
          "Syria",
          "Togo",
          "Uganda",
          "Yemen"
         ],
         "legendgroup": "",
         "marker": {
          "color": [
           null,
           null,
           3.3095909355,
           null,
           2.61314469575,
           null,
           3.548745334249999,
           4.03637063525,
           2.7947496775,
           null,
           2.89157027,
           3.67245489375,
           2.92263948925,
           3.66399663725,
           2.790258944,
           null,
           4.394029140500001,
           2.91684859975,
           null,
           null,
           null,
           null,
           null,
           3.343117058,
           2.2447446585
          ],
          "coloraxis": "coloraxis",
          "symbol": "circle"
         },
         "mode": "markers",
         "name": "",
         "orientation": "v",
         "showlegend": false,
         "type": "scatter",
         "x": [
          3.19979000091553,
          5.43056011199951,
          5.07864999771118,
          1.56587994098663,
          2.25947999954224,
          null,
          5.06867980957031,
          2.36543989181519,
          2.38432002067566,
          2.13787007331848,
          2.58412003517151,
          2.87452006340027,
          3.38193988800049,
          3.88252997398376,
          5.45218992233276,
          3.44697999954224,
          3.07375001907349,
          6.98963022232056,
          null,
          null,
          null,
          null,
          4.04394006729126,
          2.13052010536194,
          null
         ],
         "xaxis": "x",
         "y": [
          null,
          null,
          3.3095909355,
          null,
          2.61314469575,
          null,
          3.548745334249999,
          4.03637063525,
          2.7947496775,
          null,
          2.89157027,
          3.67245489375,
          2.92263948925,
          3.66399663725,
          2.790258944,
          null,
          4.394029140500001,
          2.91684859975,
          null,
          null,
          null,
          null,
          null,
          3.343117058,
          2.2447446585
         ],
         "yaxis": "y"
        },
        {
         "hovertemplate": "<b>OLS trendline</b><br>edu_quality_index = -0.0549534 * edu_exp_pct_gdp + 3.50071<br>R<sup>2</sup>=0.024165<br><br>income_group=Low income<br>edu_exp_pct_gdp=%{x}<br>Quality of Education Index=%{y} <b>(trend)</b><extra></extra>",
         "legendgroup": "",
         "line": {
          "color": "Purple"
         },
         "marker": {
          "symbol": "circle"
         },
         "mode": "lines",
         "name": "",
         "showlegend": false,
         "type": "scatter",
         "x": [
          2.13052010536194,
          2.25947999954224,
          2.36543989181519,
          2.38432002067566,
          2.58412003517151,
          2.87452006340027,
          3.07375001907349,
          3.38193988800049,
          3.88252997398376,
          5.06867980957031,
          5.07864999771118,
          5.45218992233276,
          6.98963022232056
         ],
         "xaxis": "x",
         "y": [
          3.383629901649928,
          3.376543110688429,
          3.370720249157607,
          3.3696827209600944,
          3.3587030210631874,
          3.342744537936695,
          3.331796164738196,
          3.3148600685090552,
          3.2873509167738475,
          3.2221678923362984,
          3.2216199961112726,
          3.201092688932607,
          3.116605041892787
         ],
         "yaxis": "y"
        },
        {
         "hovertemplate": "<b>%{hovertext}</b><br><br>income_group=Upper middle income<br>edu_exp_pct_gdp=%{x}<br>Quality of Education Index=%{marker.color}<extra></extra>",
         "hovertext": [
          "Albania",
          "American Samoa",
          "Argentina",
          "Armenia",
          "Azerbaijan",
          "Belarus",
          "Bosnia and Herzegovina",
          "Botswana",
          "Brazil",
          "Bulgaria",
          "China",
          "Colombia",
          "Costa Rica",
          "Cuba",
          "Dominica",
          "Dominican Republic",
          "Ecuador",
          "Equatorial Guinea",
          "Fiji",
          "Gabon",
          "Georgia",
          "Grenada",
          "Guatemala",
          "Guyana",
          "Iraq",
          "Jamaica",
          "Jordan",
          "Kazakhstan",
          "Kosovo",
          "Lebanon",
          "Libya",
          "Malaysia",
          "Maldives",
          "Marshall Islands",
          "Mauritius",
          "Mexico",
          "Moldova",
          "Montenegro",
          "Namibia",
          "North Macedonia",
          "Panama",
          "Paraguay",
          "Peru",
          "Romania",
          "Russia",
          "Serbia",
          "South Africa",
          "St. Lucia",
          "St. Vincent and the Grenadines",
          "Suriname",
          "Thailand",
          "Tonga",
          "Turkey",
          "Turkmenistan",
          "Tuvalu"
         ],
         "legendgroup": "",
         "marker": {
          "color": [
           4.485545992750001,
           null,
           3.75650507225,
           4.123025775249999,
           4.406499505,
           null,
           3.23686605675,
           3.6361775995,
           3.182566643,
           3.773089886,
           4.513828873750001,
           3.800363958,
           4.787541389499999,
           null,
           null,
           3.09706348175,
           3.7505168915,
           null,
           null,
           null,
           3.5151272415,
           null,
           3.289593935,
           null,
           null,
           4.37463819975,
           4.31229245675,
           4.113367319,
           null,
           5.118548751000001,
           null,
           5.25812911975,
           null,
           null,
           4.3772073985,
           3.51215380425,
           3.76005345575,
           4.08039987125,
           3.34541547275,
           null,
           3.680060029,
           2.7540509105,
           3.27700579175,
           3.7737690805,
           4.3563212755,
           3.99615168575,
           3.4022233485,
           null,
           null,
           null,
           4.05051058525,
           null,
           3.551756382,
           null,
           null
          ],
          "coloraxis": "coloraxis",
          "symbol": "circle"
         },
         "mode": "markers",
         "name": "",
         "orientation": "v",
         "showlegend": false,
         "type": "scatter",
         "x": [
          null,
          null,
          4.94551992416382,
          2.25587010383606,
          2.45543003082275,
          5.38111019134521,
          null,
          6.72133016586304,
          6.08851003646851,
          null,
          3.54249000549316,
          4.44910001754761,
          6.7790699005127,
          null,
          5.57154989242554,
          3.92848992347717,
          4.6214599609375,
          null,
          4.83571004867554,
          2.93345999717712,
          3.5210599899292,
          3.55255007743835,
          3.13704991340637,
          4.45058012008667,
          null,
          5.41380977630615,
          2.98481011390686,
          2.61595010757446,
          null,
          2.52447009086609,
          null,
          4.47959995269775,
          3.91248989105225,
          null,
          4.83458995819092,
          4.25442981719971,
          5.43973016738892,
          null,
          8.98805046081543,
          null,
          2.8829300403595,
          3.28320002555847,
          3.71429991722107,
          3.34474992752075,
          4.67819976806641,
          3.58231997489929,
          6.15898990631104,
          3.33179998397827,
          5.69377994537354,
          5.68860006332397,
          3.05677008628845,
          6.3729100227356,
          4.29460000991821,
          null,
          null
         ],
         "xaxis": "x2",
         "y": [
          4.485545992750001,
          null,
          3.75650507225,
          4.123025775249999,
          4.406499505,
          null,
          3.23686605675,
          3.6361775995,
          3.182566643,
          3.773089886,
          4.513828873750001,
          3.800363958,
          4.787541389499999,
          null,
          null,
          3.09706348175,
          3.7505168915,
          null,
          null,
          null,
          3.5151272415,
          null,
          3.289593935,
          null,
          null,
          4.37463819975,
          4.31229245675,
          4.113367319,
          null,
          5.118548751000001,
          null,
          5.25812911975,
          null,
          null,
          4.3772073985,
          3.51215380425,
          3.76005345575,
          4.08039987125,
          3.34541547275,
          null,
          3.680060029,
          2.7540509105,
          3.27700579175,
          3.7737690805,
          4.3563212755,
          3.99615168575,
          3.4022233485,
          null,
          null,
          null,
          4.05051058525,
          null,
          3.551756382,
          null,
          null
         ],
         "yaxis": "y2"
        },
        {
         "hovertemplate": "<b>OLS trendline</b><br>edu_quality_index = -0.0620068 * edu_exp_pct_gdp + 4.16233<br>R<sup>2</sup>=0.026022<br><br>income_group=Upper middle income<br>edu_exp_pct_gdp=%{x}<br>Quality of Education Index=%{y} <b>(trend)</b><extra></extra>",
         "legendgroup": "",
         "line": {
          "color": "Purple"
         },
         "marker": {
          "symbol": "circle"
         },
         "mode": "lines",
         "name": "",
         "showlegend": false,
         "type": "scatter",
         "x": [
          2.25587010383606,
          2.45543003082275,
          2.52447009086609,
          2.61595010757446,
          2.8829300403595,
          2.98481011390686,
          3.05677008628845,
          3.13704991340637,
          3.28320002555847,
          3.34474992752075,
          3.5210599899292,
          3.54249000549316,
          3.58231997489929,
          3.71429991722107,
          3.92848992347717,
          4.25442981719971,
          4.29460000991821,
          4.44910001754761,
          4.47959995269775,
          4.6214599609375,
          4.67819976806641,
          4.83458995819092,
          4.94551992416382,
          5.41380977630615,
          5.43973016738892,
          6.08851003646851,
          6.15898990631104,
          6.72133016586304,
          6.7790699005127,
          8.98805046081543
         ],
         "xaxis": "x2",
         "y": [
          4.022450997373215,
          4.0100769266106235,
          4.005795974009921,
          4.0001235916974744,
          3.98356902269979,
          3.9772517662324782,
          3.972789759236538,
          3.9678118647435623,
          3.958749565227631,
          3.9549330532965428,
          3.944000632036715,
          3.9426718255321425,
          3.9402020969280818,
          3.9320184441767894,
          3.9187372091409114,
          3.898526722144977,
          3.89603589738496,
          3.8864558476420346,
          3.8845646445257525,
          3.8757683605881583,
          3.872250107203972,
          3.8625528533093823,
          3.855674442050332,
          3.826637290878198,
          3.8250300505955654,
          3.7848012925951133,
          3.7804310620085495,
          3.745562146843961,
          3.74198189116259,
          3.605010094373963
         ],
         "yaxis": "y2"
        },
        {
         "hovertemplate": "<b>%{hovertext}</b><br><br>income_group=Lower middle income<br>edu_exp_pct_gdp=%{x}<br>Quality of Education Index=%{marker.color}<extra></extra>",
         "hovertext": [
          "Algeria",
          "Angola",
          "Bangladesh",
          "Belize",
          "Benin",
          "Bhutan",
          "Bolivia",
          "Cabo Verde",
          "Cambodia",
          "Cameroon",
          "Comoros",
          "Cote d'Ivoire",
          "Djibouti",
          "Egypt",
          "El Salvador",
          "Eswatini",
          "Ghana",
          "Haiti",
          "Honduras",
          "India",
          "Indonesia",
          "Iran",
          "Kenya",
          "Kiribati",
          "Kyrgyzstan",
          "Lao PDR",
          "Lesotho",
          "Mauritania",
          "Micronesia",
          "Mongolia",
          "Morocco",
          "Myanmar",
          "Nepal",
          "Nicaragua",
          "Nigeria",
          "Pakistan",
          "Papua New Guinea",
          "Philippines",
          "Samoa",
          "Sao Tome and Principe",
          "Senegal",
          "Solomon Islands",
          "Sri Lanka",
          "Tajikistan",
          "Tanzania",
          "Timor-Leste",
          "Tunisia",
          "Ukraine",
          "Uzbekistan",
          "Vanuatu",
          "Vietnam",
          "West Bank and Gaza",
          "Zambia",
          "Zimbabwe",
          "Congo"
         ],
         "legendgroup": "",
         "marker": {
          "color": [
           3.416745662749999,
           null,
           3.38388782725,
           null,
           3.302977741,
           4.3412513735,
           null,
           null,
           3.3678638935,
           3.99517446775,
           null,
           null,
           null,
           2.9052241445,
           2.927667737,
           3.09669226425,
           4.018807113,
           2.7684766055,
           3.36910063025,
           4.605217695249999,
           4.6026746035,
           3.83756726975,
           4.36485934275,
           null,
           3.1524888275,
           3.8370832205,
           3.5835725665,
           2.3659526705,
           null,
           3.69268512725,
           3.4795261025,
           null,
           3.83100247375,
           3.03231650575,
           3.16824227575,
           3.66025239225,
           null,
           4.3122189045,
           null,
           null,
           4.09712105975,
           null,
           4.124032378,
           4.13513046525,
           3.15139406925,
           null,
           3.79927766325,
           4.374483644750001,
           null,
           null,
           3.68711513275,
           null,
           3.6091204285,
           3.793227315,
           null
          ],
          "coloraxis": "coloraxis",
          "symbol": "circle"
         },
         "mode": "markers",
         "name": "",
         "orientation": "v",
         "showlegend": false,
         "type": "scatter",
         "x": [
          5.8663501739502,
          2.04469990730286,
          null,
          7.47227001190186,
          2.93396997451782,
          6.85084009170532,
          null,
          5.36885023117065,
          2.16285991668701,
          3.13120007514954,
          null,
          3.23993992805481,
          3.62773990631104,
          null,
          3.60575008392334,
          5.67916011810303,
          4.0041298866272,
          1.68210005760193,
          6.05646991729736,
          null,
          3,
          3.9553599357605,
          5.30625009536743,
          11.9682903289795,
          5.55267000198364,
          null,
          7.28535985946655,
          null,
          9.69705009460449,
          6.17301988601685,
          null,
          1.92288994789124,
          4.43445014953613,
          3.56255006790161,
          null,
          null,
          1.8748300075531,
          3.1331000328064,
          4.53214979171753,
          5.23510980606079,
          4.85822010040283,
          null,
          2.13539004325867,
          5.55836009979248,
          3.69643998146057,
          6.83091020584106,
          null,
          5.31947994232178,
          5.90000009536743,
          null,
          4.16744995117188,
          5.31887006759644,
          4.73973989486694,
          3.58728003501892,
          null
         ],
         "xaxis": "x3",
         "y": [
          3.416745662749999,
          null,
          3.38388782725,
          null,
          3.302977741,
          4.3412513735,
          null,
          null,
          3.3678638935,
          3.99517446775,
          null,
          null,
          null,
          2.9052241445,
          2.927667737,
          3.09669226425,
          4.018807113,
          2.7684766055,
          3.36910063025,
          4.605217695249999,
          4.6026746035,
          3.83756726975,
          4.36485934275,
          null,
          3.1524888275,
          3.8370832205,
          3.5835725665,
          2.3659526705,
          null,
          3.69268512725,
          3.4795261025,
          null,
          3.83100247375,
          3.03231650575,
          3.16824227575,
          3.66025239225,
          null,
          4.3122189045,
          null,
          null,
          4.09712105975,
          null,
          4.124032378,
          4.13513046525,
          3.15139406925,
          null,
          3.79927766325,
          4.374483644750001,
          null,
          null,
          3.68711513275,
          null,
          3.6091204285,
          3.793227315,
          null
         ],
         "yaxis": "y3"
        },
        {
         "hovertemplate": "<b>OLS trendline</b><br>edu_quality_index = 0.0446948 * edu_exp_pct_gdp + 3.50712<br>R<sup>2</sup>=0.017040<br><br>income_group=Lower middle income<br>edu_exp_pct_gdp=%{x}<br>Quality of Education Index=%{y} <b>(trend)</b><extra></extra>",
         "legendgroup": "",
         "line": {
          "color": "Purple"
         },
         "marker": {
          "symbol": "circle"
         },
         "mode": "lines",
         "name": "",
         "showlegend": false,
         "type": "scatter",
         "x": [
          1.68210005760193,
          2.13539004325867,
          2.16285991668701,
          2.93396997451782,
          3,
          3.13120007514954,
          3.1331000328064,
          3.56255006790161,
          3.58728003501892,
          3.60575008392334,
          3.69643998146057,
          3.9553599357605,
          4.0041298866272,
          4.16744995117188,
          4.43445014953613,
          4.73973989486694,
          4.85822010040283,
          5.30625009536743,
          5.31947994232178,
          5.55267000198364,
          5.55836009979248,
          5.67916011810303,
          5.8663501739502,
          6.05646991729736,
          6.17301988601685,
          6.85084009170532,
          7.28535985946655
         ],
         "xaxis": "x3",
         "y": [
          3.5822998875532432,
          3.602559596078189,
          3.6037873567755025,
          3.638251972157799,
          3.64120317141764,
          3.6470671334840636,
          3.6471520517252682,
          3.6663462382556653,
          3.6674515393685994,
          3.6682770546437777,
          3.672330422131258,
          3.683902799574825,
          3.686082563127077,
          3.6933821219275136,
          3.705315644321848,
          3.7189605106365007,
          3.724255960582643,
          3.74428057483761,
          3.744871880296821,
          3.755294265059677,
          3.755548582884322,
          3.7609477164152203,
          3.7693141398753314,
          3.7778115051534775,
          3.7830206835372167,
          3.813315726962169,
          3.832736504216745
         ],
         "yaxis": "y3"
        },
        {
         "hovertemplate": "<b>%{hovertext}</b><br><br>income_group=High income<br>edu_exp_pct_gdp=%{x}<br>Quality of Education Index=%{marker.color}<extra></extra>",
         "hovertext": [
          "Andorra",
          "Antigua and Barbuda",
          "Aruba",
          "Australia",
          "Austria",
          "Bahamas",
          "Bahrain",
          "Barbados",
          "Belgium",
          "Bermuda",
          "British Virgin Islands",
          "Brunei",
          "Canada",
          "Cayman Islands",
          "Channel Islands",
          "Chile",
          "Croatia",
          "Curacao",
          "Cyprus",
          "Czech",
          "Denmark",
          "Estonia",
          "Faroe Islands",
          "Finland",
          "France",
          "French Polynesia",
          "Germany",
          "Gibraltar",
          "Greece",
          "Greenland",
          "Guam",
          "Hong Kong",
          "Hungary",
          "Iceland",
          "Ireland",
          "Isle of Man",
          "Israel",
          "Italy",
          "Japan",
          "Korea, Rep.",
          "Kuwait",
          "Latvia",
          "Liechtenstein",
          "Lithuania",
          "Luxembourg",
          "Macao SAR, China",
          "Malta",
          "Monaco",
          "Nauru",
          "Netherlands",
          "New Caledonia",
          "New Zealand",
          "Northern Mariana Islands",
          "Norway",
          "Oman",
          "Palau",
          "Poland",
          "Portugal",
          "Puerto Rico",
          "Qatar",
          "San Marino",
          "Saudi Arabia",
          "Seychelles",
          "Singapore",
          "Sint Maarten (Dutch part)",
          "Slovakia",
          "Slovenia",
          "Spain",
          "St. Kitts and Nevis",
          "St. Martin (French part)",
          "Sweden",
          "Switzerland",
          "Trinidad and Tobago",
          "Turks and Caicos Islands",
          "United Arab Emirates",
          "United Kingdom",
          "United States",
          "Uruguay"
         ],
         "legendgroup": "",
         "marker": {
          "color": [
           null,
           null,
           null,
           5.32498466975,
           4.710301160749999,
           null,
           4.816789984750001,
           null,
           5.36690354325,
           null,
           null,
           4.584998965500001,
           5.579452038,
           null,
           null,
           4.121846437249999,
           3.622494161,
           null,
           4.1842525005,
           4.48947828975,
           5.44074654575,
           5.2810070515,
           null,
           5.877574682,
           4.96322739125,
           null,
           5.28436040875,
           null,
           3.778220594,
           null,
           null,
           5.37197506425,
           3.66430544875,
           5.4105769395,
           5.26850879225,
           null,
           5.07211995125,
           4.437981963,
           4.76136147975,
           4.5241591335,
           3.48593091975,
           4.36378258475,
           null,
           4.4885306955,
           4.68427121625,
           null,
           5.124402999999999,
           null,
           null,
           5.77895951275,
           null,
           5.5188162325,
           null,
           5.386394262250001,
           3.7034083605,
           null,
           4.217128813,
           4.821053028250001,
           null,
           5.650964141,
           null,
           4.336327791,
           3.995258987,
           6.1019439695,
           null,
           3.798733771,
           4.796257138250001,
           4.5152790545,
           null,
           null,
           5.199332714000001,
           6.1326652765,
           4.468680382000001,
           null,
           5.4820508955,
           5.2462177275,
           5.697491168999999,
           3.90237712875
          ],
          "coloraxis": "coloraxis",
          "symbol": "circle"
         },
         "mode": "markers",
         "name": "",
         "orientation": "v",
         "showlegend": false,
         "type": "scatter",
         "x": [
          3.2467200756073,
          2.64407992362976,
          null,
          5.10789012908936,
          5.22535991668701,
          2.30952000617981,
          null,
          5.42886018753052,
          6.37663984298706,
          null,
          2.69412994384766,
          null,
          null,
          null,
          null,
          5.43316984176636,
          null,
          null,
          null,
          4.26692008972168,
          null,
          5.23887014389038,
          null,
          6.26929998397827,
          5.41316986083984,
          null,
          4.99274015426636,
          null,
          3.59395003318787,
          10.5601902008057,
          null,
          3.32651996612549,
          4.62730979919434,
          7.57405996322632,
          3.38309001922607,
          null,
          6.1648998260498,
          4.2557201385498,
          null,
          4.45807981491089,
          6.38917016983032,
          4.24517011642456,
          null,
          3.89495992660522,
          3.66626000404358,
          2.72788000106812,
          null,
          null,
          null,
          5.35764980316162,
          null,
          6.04850006103516,
          null,
          7.64411020278931,
          5.20723009109497,
          null,
          4.61579990386963,
          4.67515993118286,
          null,
          null,
          3.55516004562378,
          null,
          4.49883985519409,
          2.64509010314941,
          null,
          3.975830078125,
          4.93603992462158,
          4.17816019058228,
          null,
          null,
          7.64084005355835,
          4.86093997955322,
          3.2862401008606,
          2.7437698841095,
          null,
          5.23890018463135,
          null,
          4.66279983520508
         ],
         "xaxis": "x4",
         "y": [
          null,
          null,
          null,
          5.32498466975,
          4.710301160749999,
          null,
          4.816789984750001,
          null,
          5.36690354325,
          null,
          null,
          4.584998965500001,
          5.579452038,
          null,
          null,
          4.121846437249999,
          3.622494161,
          null,
          4.1842525005,
          4.48947828975,
          5.44074654575,
          5.2810070515,
          null,
          5.877574682,
          4.96322739125,
          null,
          5.28436040875,
          null,
          3.778220594,
          null,
          null,
          5.37197506425,
          3.66430544875,
          5.4105769395,
          5.26850879225,
          null,
          5.07211995125,
          4.437981963,
          4.76136147975,
          4.5241591335,
          3.48593091975,
          4.36378258475,
          null,
          4.4885306955,
          4.68427121625,
          null,
          5.124402999999999,
          null,
          null,
          5.77895951275,
          null,
          5.5188162325,
          null,
          5.386394262250001,
          3.7034083605,
          null,
          4.217128813,
          4.821053028250001,
          null,
          5.650964141,
          null,
          4.336327791,
          3.995258987,
          6.1019439695,
          null,
          3.798733771,
          4.796257138250001,
          4.5152790545,
          null,
          null,
          5.199332714000001,
          6.1326652765,
          4.468680382000001,
          null,
          5.4820508955,
          5.2462177275,
          5.697491168999999,
          3.90237712875
         ],
         "yaxis": "y4"
        },
        {
         "hovertemplate": "<b>OLS trendline</b><br>edu_quality_index = 0.130365 * edu_exp_pct_gdp + 4.15262<br>R<sup>2</sup>=0.048939<br><br>income_group=High income<br>edu_exp_pct_gdp=%{x}<br>Quality of Education Index=%{y} <b>(trend)</b><extra></extra>",
         "legendgroup": "",
         "line": {
          "color": "Purple"
         },
         "marker": {
          "symbol": "circle"
         },
         "mode": "lines",
         "name": "",
         "showlegend": false,
         "type": "scatter",
         "x": [
          2.64509010314941,
          3.2862401008606,
          3.32651996612549,
          3.38309001922607,
          3.59395003318787,
          3.66626000404358,
          3.89495992660522,
          3.975830078125,
          4.17816019058228,
          4.24517011642456,
          4.2557201385498,
          4.26692008972168,
          4.45807981491089,
          4.49883985519409,
          4.61579990386963,
          4.62730979919434,
          4.66279983520508,
          4.67515993118286,
          4.86093997955322,
          4.93603992462158,
          4.99274015426636,
          5.10789012908936,
          5.20723009109497,
          5.22535991668701,
          5.23887014389038,
          5.23890018463135,
          5.35764980316162,
          5.41316986083984,
          5.43316984176636,
          6.04850006103516,
          6.1648998260498,
          6.26929998397827,
          6.37663984298706,
          6.38917016983032,
          7.57405996322632,
          7.64084005355835,
          7.64411020278931
         ],
         "xaxis": "x4",
         "y": [
          4.497444096551052,
          4.581027583325766,
          4.586278665908116,
          4.5936534179974196,
          4.621142172970839,
          4.630568858636088,
          4.660383312384896,
          4.670925945566137,
          4.697302700364657,
          4.706038445931852,
          4.707413799028515,
          4.70887388009222,
          4.733794407923848,
          4.7391080884979875,
          4.754355579282579,
          4.7558560661999705,
          4.7604827229357225,
          4.7620940462179195,
          4.78631325275524,
          4.796103653266527,
          4.8034953758143795,
          4.818506896413436,
          4.831457345497328,
          4.833820839286628,
          4.835582099367432,
          4.835586015627098,
          4.851066803594593,
          4.858304673084175,
          4.860911969578339,
          4.941129462252343,
          4.956303911686037,
          4.969914032953514,
          4.9839073882025025,
          4.985540903622803,
          5.140009001149677,
          5.148714784222292,
          5.149141097060119
         ],
         "yaxis": "y4"
        }
       ],
       "layout": {
        "annotations": [
         {
          "font": {},
          "showarrow": false,
          "text": "income_group=Low income",
          "x": 0.1175,
          "xanchor": "center",
          "xref": "paper",
          "y": 1,
          "yanchor": "bottom",
          "yref": "paper"
         },
         {
          "font": {},
          "showarrow": false,
          "text": "income_group=Upper middle income",
          "x": 0.3725,
          "xanchor": "center",
          "xref": "paper",
          "y": 1,
          "yanchor": "bottom",
          "yref": "paper"
         },
         {
          "font": {},
          "showarrow": false,
          "text": "income_group=Lower middle income",
          "x": 0.6275,
          "xanchor": "center",
          "xref": "paper",
          "y": 1,
          "yanchor": "bottom",
          "yref": "paper"
         },
         {
          "font": {},
          "showarrow": false,
          "text": "income_group=High income",
          "x": 0.8824999999999998,
          "xanchor": "center",
          "xref": "paper",
          "y": 1,
          "yanchor": "bottom",
          "yref": "paper"
         }
        ],
        "coloraxis": {
         "colorbar": {
          "title": {
           "text": "Quality of Education Index"
          }
         },
         "colorscale": [
          [
           0,
           "rgb(209, 238, 234)"
          ],
          [
           0.16666666666666666,
           "rgb(168, 219, 217)"
          ],
          [
           0.3333333333333333,
           "rgb(133, 196, 201)"
          ],
          [
           0.5,
           "rgb(104, 171, 184)"
          ],
          [
           0.6666666666666666,
           "rgb(79, 144, 166)"
          ],
          [
           0.8333333333333334,
           "rgb(59, 115, 143)"
          ],
          [
           1,
           "rgb(42, 86, 116)"
          ]
         ]
        },
        "legend": {
         "title": {
          "text": "Quality of Education Index"
         },
         "tracegroupgap": 0
        },
        "margin": {
         "t": 60
        },
        "template": {
         "data": {
          "bar": [
           {
            "error_x": {
             "color": "#2a3f5f"
            },
            "error_y": {
             "color": "#2a3f5f"
            },
            "marker": {
             "line": {
              "color": "#E5ECF6",
              "width": 0.5
             },
             "pattern": {
              "fillmode": "overlay",
              "size": 10,
              "solidity": 0.2
             }
            },
            "type": "bar"
           }
          ],
          "barpolar": [
           {
            "marker": {
             "line": {
              "color": "#E5ECF6",
              "width": 0.5
             },
             "pattern": {
              "fillmode": "overlay",
              "size": 10,
              "solidity": 0.2
             }
            },
            "type": "barpolar"
           }
          ],
          "carpet": [
           {
            "aaxis": {
             "endlinecolor": "#2a3f5f",
             "gridcolor": "white",
             "linecolor": "white",
             "minorgridcolor": "white",
             "startlinecolor": "#2a3f5f"
            },
            "baxis": {
             "endlinecolor": "#2a3f5f",
             "gridcolor": "white",
             "linecolor": "white",
             "minorgridcolor": "white",
             "startlinecolor": "#2a3f5f"
            },
            "type": "carpet"
           }
          ],
          "choropleth": [
           {
            "colorbar": {
             "outlinewidth": 0,
             "ticks": ""
            },
            "type": "choropleth"
           }
          ],
          "contour": [
           {
            "colorbar": {
             "outlinewidth": 0,
             "ticks": ""
            },
            "colorscale": [
             [
              0,
              "#0d0887"
             ],
             [
              0.1111111111111111,
              "#46039f"
             ],
             [
              0.2222222222222222,
              "#7201a8"
             ],
             [
              0.3333333333333333,
              "#9c179e"
             ],
             [
              0.4444444444444444,
              "#bd3786"
             ],
             [
              0.5555555555555556,
              "#d8576b"
             ],
             [
              0.6666666666666666,
              "#ed7953"
             ],
             [
              0.7777777777777778,
              "#fb9f3a"
             ],
             [
              0.8888888888888888,
              "#fdca26"
             ],
             [
              1,
              "#f0f921"
             ]
            ],
            "type": "contour"
           }
          ],
          "contourcarpet": [
           {
            "colorbar": {
             "outlinewidth": 0,
             "ticks": ""
            },
            "type": "contourcarpet"
           }
          ],
          "heatmap": [
           {
            "colorbar": {
             "outlinewidth": 0,
             "ticks": ""
            },
            "colorscale": [
             [
              0,
              "#0d0887"
             ],
             [
              0.1111111111111111,
              "#46039f"
             ],
             [
              0.2222222222222222,
              "#7201a8"
             ],
             [
              0.3333333333333333,
              "#9c179e"
             ],
             [
              0.4444444444444444,
              "#bd3786"
             ],
             [
              0.5555555555555556,
              "#d8576b"
             ],
             [
              0.6666666666666666,
              "#ed7953"
             ],
             [
              0.7777777777777778,
              "#fb9f3a"
             ],
             [
              0.8888888888888888,
              "#fdca26"
             ],
             [
              1,
              "#f0f921"
             ]
            ],
            "type": "heatmap"
           }
          ],
          "heatmapgl": [
           {
            "colorbar": {
             "outlinewidth": 0,
             "ticks": ""
            },
            "colorscale": [
             [
              0,
              "#0d0887"
             ],
             [
              0.1111111111111111,
              "#46039f"
             ],
             [
              0.2222222222222222,
              "#7201a8"
             ],
             [
              0.3333333333333333,
              "#9c179e"
             ],
             [
              0.4444444444444444,
              "#bd3786"
             ],
             [
              0.5555555555555556,
              "#d8576b"
             ],
             [
              0.6666666666666666,
              "#ed7953"
             ],
             [
              0.7777777777777778,
              "#fb9f3a"
             ],
             [
              0.8888888888888888,
              "#fdca26"
             ],
             [
              1,
              "#f0f921"
             ]
            ],
            "type": "heatmapgl"
           }
          ],
          "histogram": [
           {
            "marker": {
             "pattern": {
              "fillmode": "overlay",
              "size": 10,
              "solidity": 0.2
             }
            },
            "type": "histogram"
           }
          ],
          "histogram2d": [
           {
            "colorbar": {
             "outlinewidth": 0,
             "ticks": ""
            },
            "colorscale": [
             [
              0,
              "#0d0887"
             ],
             [
              0.1111111111111111,
              "#46039f"
             ],
             [
              0.2222222222222222,
              "#7201a8"
             ],
             [
              0.3333333333333333,
              "#9c179e"
             ],
             [
              0.4444444444444444,
              "#bd3786"
             ],
             [
              0.5555555555555556,
              "#d8576b"
             ],
             [
              0.6666666666666666,
              "#ed7953"
             ],
             [
              0.7777777777777778,
              "#fb9f3a"
             ],
             [
              0.8888888888888888,
              "#fdca26"
             ],
             [
              1,
              "#f0f921"
             ]
            ],
            "type": "histogram2d"
           }
          ],
          "histogram2dcontour": [
           {
            "colorbar": {
             "outlinewidth": 0,
             "ticks": ""
            },
            "colorscale": [
             [
              0,
              "#0d0887"
             ],
             [
              0.1111111111111111,
              "#46039f"
             ],
             [
              0.2222222222222222,
              "#7201a8"
             ],
             [
              0.3333333333333333,
              "#9c179e"
             ],
             [
              0.4444444444444444,
              "#bd3786"
             ],
             [
              0.5555555555555556,
              "#d8576b"
             ],
             [
              0.6666666666666666,
              "#ed7953"
             ],
             [
              0.7777777777777778,
              "#fb9f3a"
             ],
             [
              0.8888888888888888,
              "#fdca26"
             ],
             [
              1,
              "#f0f921"
             ]
            ],
            "type": "histogram2dcontour"
           }
          ],
          "mesh3d": [
           {
            "colorbar": {
             "outlinewidth": 0,
             "ticks": ""
            },
            "type": "mesh3d"
           }
          ],
          "parcoords": [
           {
            "line": {
             "colorbar": {
              "outlinewidth": 0,
              "ticks": ""
             }
            },
            "type": "parcoords"
           }
          ],
          "pie": [
           {
            "automargin": true,
            "type": "pie"
           }
          ],
          "scatter": [
           {
            "marker": {
             "colorbar": {
              "outlinewidth": 0,
              "ticks": ""
             }
            },
            "type": "scatter"
           }
          ],
          "scatter3d": [
           {
            "line": {
             "colorbar": {
              "outlinewidth": 0,
              "ticks": ""
             }
            },
            "marker": {
             "colorbar": {
              "outlinewidth": 0,
              "ticks": ""
             }
            },
            "type": "scatter3d"
           }
          ],
          "scattercarpet": [
           {
            "marker": {
             "colorbar": {
              "outlinewidth": 0,
              "ticks": ""
             }
            },
            "type": "scattercarpet"
           }
          ],
          "scattergeo": [
           {
            "marker": {
             "colorbar": {
              "outlinewidth": 0,
              "ticks": ""
             }
            },
            "type": "scattergeo"
           }
          ],
          "scattergl": [
           {
            "marker": {
             "colorbar": {
              "outlinewidth": 0,
              "ticks": ""
             }
            },
            "type": "scattergl"
           }
          ],
          "scattermapbox": [
           {
            "marker": {
             "colorbar": {
              "outlinewidth": 0,
              "ticks": ""
             }
            },
            "type": "scattermapbox"
           }
          ],
          "scatterpolar": [
           {
            "marker": {
             "colorbar": {
              "outlinewidth": 0,
              "ticks": ""
             }
            },
            "type": "scatterpolar"
           }
          ],
          "scatterpolargl": [
           {
            "marker": {
             "colorbar": {
              "outlinewidth": 0,
              "ticks": ""
             }
            },
            "type": "scatterpolargl"
           }
          ],
          "scatterternary": [
           {
            "marker": {
             "colorbar": {
              "outlinewidth": 0,
              "ticks": ""
             }
            },
            "type": "scatterternary"
           }
          ],
          "surface": [
           {
            "colorbar": {
             "outlinewidth": 0,
             "ticks": ""
            },
            "colorscale": [
             [
              0,
              "#0d0887"
             ],
             [
              0.1111111111111111,
              "#46039f"
             ],
             [
              0.2222222222222222,
              "#7201a8"
             ],
             [
              0.3333333333333333,
              "#9c179e"
             ],
             [
              0.4444444444444444,
              "#bd3786"
             ],
             [
              0.5555555555555556,
              "#d8576b"
             ],
             [
              0.6666666666666666,
              "#ed7953"
             ],
             [
              0.7777777777777778,
              "#fb9f3a"
             ],
             [
              0.8888888888888888,
              "#fdca26"
             ],
             [
              1,
              "#f0f921"
             ]
            ],
            "type": "surface"
           }
          ],
          "table": [
           {
            "cells": {
             "fill": {
              "color": "#EBF0F8"
             },
             "line": {
              "color": "white"
             }
            },
            "header": {
             "fill": {
              "color": "#C8D4E3"
             },
             "line": {
              "color": "white"
             }
            },
            "type": "table"
           }
          ]
         },
         "layout": {
          "annotationdefaults": {
           "arrowcolor": "#2a3f5f",
           "arrowhead": 0,
           "arrowwidth": 1
          },
          "autotypenumbers": "strict",
          "coloraxis": {
           "colorbar": {
            "outlinewidth": 0,
            "ticks": ""
           }
          },
          "colorscale": {
           "diverging": [
            [
             0,
             "#8e0152"
            ],
            [
             0.1,
             "#c51b7d"
            ],
            [
             0.2,
             "#de77ae"
            ],
            [
             0.3,
             "#f1b6da"
            ],
            [
             0.4,
             "#fde0ef"
            ],
            [
             0.5,
             "#f7f7f7"
            ],
            [
             0.6,
             "#e6f5d0"
            ],
            [
             0.7,
             "#b8e186"
            ],
            [
             0.8,
             "#7fbc41"
            ],
            [
             0.9,
             "#4d9221"
            ],
            [
             1,
             "#276419"
            ]
           ],
           "sequential": [
            [
             0,
             "#0d0887"
            ],
            [
             0.1111111111111111,
             "#46039f"
            ],
            [
             0.2222222222222222,
             "#7201a8"
            ],
            [
             0.3333333333333333,
             "#9c179e"
            ],
            [
             0.4444444444444444,
             "#bd3786"
            ],
            [
             0.5555555555555556,
             "#d8576b"
            ],
            [
             0.6666666666666666,
             "#ed7953"
            ],
            [
             0.7777777777777778,
             "#fb9f3a"
            ],
            [
             0.8888888888888888,
             "#fdca26"
            ],
            [
             1,
             "#f0f921"
            ]
           ],
           "sequentialminus": [
            [
             0,
             "#0d0887"
            ],
            [
             0.1111111111111111,
             "#46039f"
            ],
            [
             0.2222222222222222,
             "#7201a8"
            ],
            [
             0.3333333333333333,
             "#9c179e"
            ],
            [
             0.4444444444444444,
             "#bd3786"
            ],
            [
             0.5555555555555556,
             "#d8576b"
            ],
            [
             0.6666666666666666,
             "#ed7953"
            ],
            [
             0.7777777777777778,
             "#fb9f3a"
            ],
            [
             0.8888888888888888,
             "#fdca26"
            ],
            [
             1,
             "#f0f921"
            ]
           ]
          },
          "colorway": [
           "#636efa",
           "#EF553B",
           "#00cc96",
           "#ab63fa",
           "#FFA15A",
           "#19d3f3",
           "#FF6692",
           "#B6E880",
           "#FF97FF",
           "#FECB52"
          ],
          "font": {
           "color": "#2a3f5f"
          },
          "geo": {
           "bgcolor": "white",
           "lakecolor": "white",
           "landcolor": "#E5ECF6",
           "showlakes": true,
           "showland": true,
           "subunitcolor": "white"
          },
          "hoverlabel": {
           "align": "left"
          },
          "hovermode": "closest",
          "mapbox": {
           "style": "light"
          },
          "paper_bgcolor": "white",
          "plot_bgcolor": "#E5ECF6",
          "polar": {
           "angularaxis": {
            "gridcolor": "white",
            "linecolor": "white",
            "ticks": ""
           },
           "bgcolor": "#E5ECF6",
           "radialaxis": {
            "gridcolor": "white",
            "linecolor": "white",
            "ticks": ""
           }
          },
          "scene": {
           "xaxis": {
            "backgroundcolor": "#E5ECF6",
            "gridcolor": "white",
            "gridwidth": 2,
            "linecolor": "white",
            "showbackground": true,
            "ticks": "",
            "zerolinecolor": "white"
           },
           "yaxis": {
            "backgroundcolor": "#E5ECF6",
            "gridcolor": "white",
            "gridwidth": 2,
            "linecolor": "white",
            "showbackground": true,
            "ticks": "",
            "zerolinecolor": "white"
           },
           "zaxis": {
            "backgroundcolor": "#E5ECF6",
            "gridcolor": "white",
            "gridwidth": 2,
            "linecolor": "white",
            "showbackground": true,
            "ticks": "",
            "zerolinecolor": "white"
           }
          },
          "shapedefaults": {
           "line": {
            "color": "#2a3f5f"
           }
          },
          "ternary": {
           "aaxis": {
            "gridcolor": "white",
            "linecolor": "white",
            "ticks": ""
           },
           "baxis": {
            "gridcolor": "white",
            "linecolor": "white",
            "ticks": ""
           },
           "bgcolor": "#E5ECF6",
           "caxis": {
            "gridcolor": "white",
            "linecolor": "white",
            "ticks": ""
           }
          },
          "title": {
           "x": 0.05
          },
          "xaxis": {
           "automargin": true,
           "gridcolor": "white",
           "linecolor": "white",
           "ticks": "",
           "title": {
            "standoff": 15
           },
           "zerolinecolor": "white",
           "zerolinewidth": 2
          },
          "yaxis": {
           "automargin": true,
           "gridcolor": "white",
           "linecolor": "white",
           "ticks": "",
           "title": {
            "standoff": 15
           },
           "zerolinecolor": "white",
           "zerolinewidth": 2
          }
         }
        },
        "xaxis": {
         "anchor": "y",
         "domain": [
          0,
          0.235
         ],
         "title": {
          "text": "Percentage of the GDP"
         }
        },
        "xaxis2": {
         "anchor": "y2",
         "domain": [
          0.255,
          0.49
         ],
         "matches": "x",
         "title": {
          "text": "Percentage of the GDP"
         }
        },
        "xaxis3": {
         "anchor": "y3",
         "domain": [
          0.51,
          0.745
         ],
         "matches": "x",
         "title": {
          "text": "Percentage of the GDP"
         }
        },
        "xaxis4": {
         "anchor": "y4",
         "domain": [
          0.7649999999999999,
          0.9999999999999999
         ],
         "matches": "x",
         "title": {
          "text": "Percentage of the GDP"
         }
        },
        "yaxis": {
         "anchor": "x",
         "domain": [
          0,
          1
         ],
         "title": {
          "text": "Quality of Education Index"
         }
        },
        "yaxis2": {
         "anchor": "x2",
         "domain": [
          0,
          1
         ],
         "matches": "y",
         "showticklabels": false
        },
        "yaxis3": {
         "anchor": "x3",
         "domain": [
          0,
          1
         ],
         "matches": "y",
         "showticklabels": false
        },
        "yaxis4": {
         "anchor": "x4",
         "domain": [
          0,
          1
         ],
         "matches": "y",
         "showticklabels": false
        }
       }
      }
     },
     "metadata": {},
     "output_type": "display_data"
    }
   ],
   "source": [
    "fig = px.scatter(data_frame=df_indicators_2018,x='edu_exp_pct_gdp',y='edu_quality_index', facet_col = 'income_group', hover_name='country',\n",
    "                color='edu_quality_index', trendline='ols', labels={'edu_quality_index':'Quality of Education Index'}, \n",
    "                color_continuous_scale=px.colors.sequential.Teal, trendline_color_override='Purple', facet_col_wrap=4)\n",
    " \n",
    "#Setting the labels of the plot\n",
    "fig.update_layout(\n",
    "    # title={\n",
    "    #     'text': 'Education Exp. (% GDP) vs. Quality of Education By Income group in 2018',\n",
    "    #     'x':0.5,\n",
    "    #     'xanchor': 'center'},\n",
    "    xaxis_title='Percentage of the GDP',\n",
    "    yaxis_title='Quality of Education Index',\n",
    "    legend={'title':'Quality of Education Index'}\n",
    ")\n",
    "\n",
    "#Ensuring that all x-axis show the correct label\n",
    "fig.for_each_xaxis(lambda x: x.update(title = 'Percentage of the GDP'))\n",
    "\n",
    "fig.show()"
   ]
  },
  {
   "cell_type": "markdown",
   "metadata": {},
   "source": [
    "While the R2 across the different income groups are still low. We can see that the trend. It emphasis the gap; low income countries remain locked in the vicious cycle even if they increased the education expenditure and the high income increases as they increase the budget"
   ]
  },
  {
   "cell_type": "markdown",
   "metadata": {},
   "source": [
    "Now we'll check for the interaction between regions"
   ]
  },
  {
   "cell_type": "markdown",
   "metadata": {},
   "source": [
    "#### 2.2.3 Exploring the relationship among different regions"
   ]
  },
  {
   "cell_type": "code",
   "execution_count": 11,
   "metadata": {},
   "outputs": [
    {
     "data": {
      "application/vnd.plotly.v1+json": {
       "config": {
        "plotlyServerURL": "https://plot.ly"
       },
       "data": [
        {
         "hovertemplate": "<b>%{hovertext}</b><br><br>region=South Asia<br>edu_exp_pct_gdp=%{x}<br>Quality of Education Index=%{marker.color}<extra></extra>",
         "hovertext": [
          "Afghanistan",
          "Bangladesh",
          "Bhutan",
          "India",
          "Maldives",
          "Nepal",
          "Pakistan",
          "Sri Lanka"
         ],
         "legendgroup": "",
         "marker": {
          "color": [
           null,
           3.38388782725,
           4.3412513735,
           4.605217695249999,
           null,
           3.83100247375,
           3.66025239225,
           4.124032378
          ],
          "coloraxis": "coloraxis",
          "symbol": "circle"
         },
         "mode": "markers",
         "name": "",
         "orientation": "v",
         "showlegend": false,
         "type": "scatter",
         "x": [
          3.19979000091553,
          null,
          6.85084009170532,
          null,
          3.91248989105225,
          4.43445014953613,
          null,
          2.13539004325867
         ],
         "xaxis": "x",
         "y": [
          null,
          3.38388782725,
          4.3412513735,
          4.605217695249999,
          null,
          3.83100247375,
          3.66025239225,
          4.124032378
         ],
         "yaxis": "y"
        },
        {
         "hovertemplate": "<b>OLS trendline</b><br>edu_quality_index = 0.0474685 * edu_exp_pct_gdp + 3.88641<br>R<sup>2</sup>=0.191073<br><br>region=South Asia<br>edu_exp_pct_gdp=%{x}<br>Quality of Education Index=%{y} <b>(trend)</b><extra></extra>",
         "legendgroup": "",
         "line": {
          "color": "Purple"
         },
         "marker": {
          "symbol": "circle"
         },
         "mode": "lines",
         "name": "",
         "showlegend": false,
         "type": "scatter",
         "x": [
          2.13539004325867,
          4.43445014953613,
          6.85084009170532
         ],
         "xaxis": "x",
         "y": [
          3.9877727211206344,
          4.096905585834771,
          4.211607918294594
         ],
         "yaxis": "y"
        },
        {
         "hovertemplate": "<b>%{hovertext}</b><br><br>region=Europe & Central Asia<br>edu_exp_pct_gdp=%{x}<br>Quality of Education Index=%{marker.color}<extra></extra>",
         "hovertext": [
          "Albania",
          "Andorra",
          "Armenia",
          "Austria",
          "Azerbaijan",
          "Belarus",
          "Belgium",
          "Bosnia and Herzegovina",
          "Bulgaria",
          "Channel Islands",
          "Croatia",
          "Cyprus",
          "Czech",
          "Denmark",
          "Estonia",
          "Faroe Islands",
          "Finland",
          "France",
          "Georgia",
          "Germany",
          "Gibraltar",
          "Greece",
          "Greenland",
          "Hungary",
          "Iceland",
          "Ireland",
          "Isle of Man",
          "Italy",
          "Kazakhstan",
          "Kosovo",
          "Kyrgyzstan",
          "Latvia",
          "Liechtenstein",
          "Lithuania",
          "Luxembourg",
          "Moldova",
          "Monaco",
          "Montenegro",
          "Netherlands",
          "North Macedonia",
          "Norway",
          "Poland",
          "Portugal",
          "Romania",
          "Russia",
          "San Marino",
          "Serbia",
          "Slovakia",
          "Slovenia",
          "Spain",
          "Sweden",
          "Switzerland",
          "Tajikistan",
          "Turkey",
          "Turkmenistan",
          "Ukraine",
          "United Kingdom",
          "Uzbekistan"
         ],
         "legendgroup": "",
         "marker": {
          "color": [
           4.485545992750001,
           null,
           4.123025775249999,
           4.710301160749999,
           4.406499505,
           null,
           5.36690354325,
           3.23686605675,
           3.773089886,
           null,
           3.622494161,
           4.1842525005,
           4.48947828975,
           5.44074654575,
           5.2810070515,
           null,
           5.877574682,
           4.96322739125,
           3.5151272415,
           5.28436040875,
           null,
           3.778220594,
           null,
           3.66430544875,
           5.4105769395,
           5.26850879225,
           null,
           4.437981963,
           4.113367319,
           null,
           3.1524888275,
           4.36378258475,
           null,
           4.4885306955,
           4.68427121625,
           3.76005345575,
           null,
           4.08039987125,
           5.77895951275,
           null,
           5.386394262250001,
           4.217128813,
           4.821053028250001,
           3.7737690805,
           4.3563212755,
           null,
           3.99615168575,
           3.798733771,
           4.796257138250001,
           4.5152790545,
           5.199332714000001,
           6.1326652765,
           4.13513046525,
           3.551756382,
           null,
           4.374483644750001,
           5.2462177275,
           null
          ],
          "coloraxis": "coloraxis",
          "symbol": "circle"
         },
         "mode": "markers",
         "name": "",
         "orientation": "v",
         "showlegend": false,
         "type": "scatter",
         "x": [
          null,
          3.2467200756073,
          2.25587010383606,
          5.22535991668701,
          2.45543003082275,
          5.38111019134521,
          6.37663984298706,
          null,
          null,
          null,
          null,
          null,
          4.26692008972168,
          null,
          5.23887014389038,
          null,
          6.26929998397827,
          5.41316986083984,
          3.5210599899292,
          4.99274015426636,
          null,
          3.59395003318787,
          10.5601902008057,
          4.62730979919434,
          7.57405996322632,
          3.38309001922607,
          null,
          4.2557201385498,
          2.61595010757446,
          null,
          5.55267000198364,
          4.24517011642456,
          null,
          3.89495992660522,
          3.66626000404358,
          5.43973016738892,
          null,
          null,
          5.35764980316162,
          null,
          7.64411020278931,
          4.61579990386963,
          4.67515993118286,
          3.34474992752075,
          4.67819976806641,
          3.55516004562378,
          3.58231997489929,
          3.975830078125,
          4.93603992462158,
          4.17816019058228,
          7.64084005355835,
          4.86093997955322,
          5.55836009979248,
          4.29460000991821,
          null,
          5.31947994232178,
          5.23890018463135,
          5.90000009536743
         ],
         "xaxis": "x2",
         "y": [
          4.485545992750001,
          null,
          4.123025775249999,
          4.710301160749999,
          4.406499505,
          null,
          5.36690354325,
          3.23686605675,
          3.773089886,
          null,
          3.622494161,
          4.1842525005,
          4.48947828975,
          5.44074654575,
          5.2810070515,
          null,
          5.877574682,
          4.96322739125,
          3.5151272415,
          5.28436040875,
          null,
          3.778220594,
          null,
          3.66430544875,
          5.4105769395,
          5.26850879225,
          null,
          4.437981963,
          4.113367319,
          null,
          3.1524888275,
          4.36378258475,
          null,
          4.4885306955,
          4.68427121625,
          3.76005345575,
          null,
          4.08039987125,
          5.77895951275,
          null,
          5.386394262250001,
          4.217128813,
          4.821053028250001,
          3.7737690805,
          4.3563212755,
          null,
          3.99615168575,
          3.798733771,
          4.796257138250001,
          4.5152790545,
          5.199332714000001,
          6.1326652765,
          4.13513046525,
          3.551756382,
          null,
          4.374483644750001,
          5.2462177275,
          null
         ],
         "yaxis": "y2"
        },
        {
         "hovertemplate": "<b>OLS trendline</b><br>edu_quality_index = 0.272985 * edu_exp_pct_gdp + 3.28408<br>R<sup>2</sup>=0.240171<br><br>region=Europe & Central Asia<br>edu_exp_pct_gdp=%{x}<br>Quality of Education Index=%{y} <b>(trend)</b><extra></extra>",
         "legendgroup": "",
         "line": {
          "color": "Purple"
         },
         "marker": {
          "symbol": "circle"
         },
         "mode": "lines",
         "name": "",
         "showlegend": false,
         "type": "scatter",
         "x": [
          2.25587010383606,
          2.45543003082275,
          2.61595010757446,
          3.34474992752075,
          3.38309001922607,
          3.5210599899292,
          3.58231997489929,
          3.59395003318787,
          3.66626000404358,
          3.89495992660522,
          3.975830078125,
          4.17816019058228,
          4.24517011642456,
          4.2557201385498,
          4.26692008972168,
          4.29460000991821,
          4.61579990386963,
          4.62730979919434,
          4.67515993118286,
          4.67819976806641,
          4.86093997955322,
          4.93603992462158,
          4.99274015426636,
          5.22535991668701,
          5.23887014389038,
          5.23890018463135,
          5.31947994232178,
          5.35764980316162,
          5.41316986083984,
          5.43973016738892,
          5.55267000198364,
          5.55836009979248,
          6.26929998397827,
          6.37663984298706,
          7.57405996322632,
          7.64084005355835,
          7.64411020278931
         ],
         "xaxis": "x2",
         "y": [
          3.8998964445046935,
          3.954373367022847,
          3.9981929850987457,
          4.197144607911809,
          4.207610888576007,
          4.245274659641265,
          4.261997733782806,
          4.265172568499552,
          4.284912126130575,
          4.347343838495999,
          4.369420199441292,
          4.424653341815411,
          4.442946065175149,
          4.445826065917582,
          4.4488834877227035,
          4.456439698484174,
          4.544122541426874,
          4.547264573423298,
          4.560326955095727,
          4.561156785818124,
          4.611042173593305,
          4.631543353115583,
          4.647021681173531,
          4.710523452119891,
          4.714211545274033,
          4.7142197459541135,
          4.73621683365863,
          4.746636643802374,
          4.761792802285743,
          4.769043375002324,
          4.799874287356988,
          4.801427600299789,
          4.995503723550914,
          5.024805925003019,
          5.351683991641634,
          5.369913973290284,
          5.370806675893296
         ],
         "yaxis": "y2"
        },
        {
         "hovertemplate": "<b>%{hovertext}</b><br><br>region=Middle East & North Africa<br>edu_exp_pct_gdp=%{x}<br>Quality of Education Index=%{marker.color}<extra></extra>",
         "hovertext": [
          "Algeria",
          "Bahrain",
          "Djibouti",
          "Egypt",
          "Iran",
          "Iraq",
          "Israel",
          "Jordan",
          "Kuwait",
          "Lebanon",
          "Libya",
          "Malta",
          "Morocco",
          "Oman",
          "Qatar",
          "Saudi Arabia",
          "Syria",
          "Tunisia",
          "United Arab Emirates",
          "West Bank and Gaza",
          "Yemen"
         ],
         "legendgroup": "",
         "marker": {
          "color": [
           3.416745662749999,
           4.816789984750001,
           null,
           2.9052241445,
           3.83756726975,
           null,
           5.07211995125,
           4.31229245675,
           3.48593091975,
           5.118548751000001,
           null,
           5.124402999999999,
           3.4795261025,
           3.7034083605,
           5.650964141,
           4.336327791,
           null,
           3.79927766325,
           5.4820508955,
           null,
           2.2447446585
          ],
          "coloraxis": "coloraxis",
          "symbol": "circle"
         },
         "mode": "markers",
         "name": "",
         "orientation": "v",
         "showlegend": false,
         "type": "scatter",
         "x": [
          5.8663501739502,
          null,
          3.62773990631104,
          null,
          3.9553599357605,
          null,
          6.1648998260498,
          2.98481011390686,
          6.38917016983032,
          2.52447009086609,
          null,
          null,
          null,
          5.20723009109497,
          null,
          null,
          null,
          null,
          null,
          5.31887006759644,
          null
         ],
         "xaxis": "x3",
         "y": [
          3.416745662749999,
          4.816789984750001,
          null,
          2.9052241445,
          3.83756726975,
          null,
          5.07211995125,
          4.31229245675,
          3.48593091975,
          5.118548751000001,
          null,
          5.124402999999999,
          3.4795261025,
          3.7034083605,
          5.650964141,
          4.336327791,
          null,
          3.79927766325,
          5.4820508955,
          null,
          2.2447446585
         ],
         "yaxis": "y3"
        },
        {
         "hovertemplate": "<b>OLS trendline</b><br>edu_quality_index = -0.202323 * edu_exp_pct_gdp + 5.0917<br>R<sup>2</sup>=0.196672<br><br>region=Middle East & North Africa<br>edu_exp_pct_gdp=%{x}<br>Quality of Education Index=%{y} <b>(trend)</b><extra></extra>",
         "legendgroup": "",
         "line": {
          "color": "Purple"
         },
         "marker": {
          "symbol": "circle"
         },
         "mode": "lines",
         "name": "",
         "showlegend": false,
         "type": "scatter",
         "x": [
          2.52447009086609,
          2.98481011390686,
          3.9553599357605,
          5.20723009109497,
          5.8663501739502,
          6.1648998260498,
          6.38917016983032
         ],
         "xaxis": "x3",
         "y": [
          4.580947004900459,
          4.487809847528197,
          4.291445753660136,
          4.038164218639883,
          3.9048093769760968,
          3.8444060565188356,
          3.799031113526387
         ],
         "yaxis": "y3"
        },
        {
         "hovertemplate": "<b>%{hovertext}</b><br><br>region=East Asia & Pacific<br>edu_exp_pct_gdp=%{x}<br>Quality of Education Index=%{marker.color}<extra></extra>",
         "hovertext": [
          "American Samoa",
          "Australia",
          "Brunei",
          "Cambodia",
          "China",
          "Fiji",
          "French Polynesia",
          "Guam",
          "Hong Kong",
          "Indonesia",
          "Japan",
          "Kiribati",
          "Korea, Rep.",
          "Lao PDR",
          "Macao SAR, China",
          "Malaysia",
          "Marshall Islands",
          "Micronesia",
          "Mongolia",
          "Myanmar",
          "Nauru",
          "New Caledonia",
          "New Zealand",
          "Northern Mariana Islands",
          "Palau",
          "Papua New Guinea",
          "Philippines",
          "Samoa",
          "Singapore",
          "Solomon Islands",
          "Thailand",
          "Timor-Leste",
          "Tonga",
          "Tuvalu",
          "Vanuatu",
          "Vietnam"
         ],
         "legendgroup": "",
         "marker": {
          "color": [
           null,
           5.32498466975,
           4.584998965500001,
           3.3678638935,
           4.513828873750001,
           null,
           null,
           null,
           5.37197506425,
           4.6026746035,
           4.76136147975,
           null,
           4.5241591335,
           3.8370832205,
           null,
           5.25812911975,
           null,
           null,
           3.69268512725,
           null,
           null,
           null,
           5.5188162325,
           null,
           null,
           null,
           4.3122189045,
           null,
           6.1019439695,
           null,
           4.05051058525,
           null,
           null,
           null,
           null,
           3.68711513275
          ],
          "coloraxis": "coloraxis",
          "symbol": "circle"
         },
         "mode": "markers",
         "name": "",
         "orientation": "v",
         "showlegend": false,
         "type": "scatter",
         "x": [
          null,
          5.10789012908936,
          null,
          2.16285991668701,
          3.54249000549316,
          4.83571004867554,
          null,
          null,
          3.32651996612549,
          3,
          null,
          11.9682903289795,
          4.45807981491089,
          null,
          2.72788000106812,
          4.47959995269775,
          null,
          9.69705009460449,
          6.17301988601685,
          1.92288994789124,
          null,
          null,
          6.04850006103516,
          null,
          null,
          1.8748300075531,
          3.1331000328064,
          4.53214979171753,
          2.64509010314941,
          null,
          3.05677008628845,
          6.83091020584106,
          6.3729100227356,
          null,
          null,
          4.16744995117188
         ],
         "xaxis": "x4",
         "y": [
          null,
          5.32498466975,
          4.584998965500001,
          3.3678638935,
          4.513828873750001,
          null,
          null,
          null,
          5.37197506425,
          4.6026746035,
          4.76136147975,
          null,
          4.5241591335,
          3.8370832205,
          null,
          5.25812911975,
          null,
          null,
          3.69268512725,
          null,
          null,
          null,
          5.5188162325,
          null,
          null,
          null,
          4.3122189045,
          null,
          6.1019439695,
          null,
          4.05051058525,
          null,
          null,
          null,
          null,
          3.68711513275
         ],
         "yaxis": "y4"
        },
        {
         "hovertemplate": "<b>OLS trendline</b><br>edu_quality_index = 0.0724608 * edu_exp_pct_gdp + 4.35458<br>R<sup>2</sup>=0.012215<br><br>region=East Asia & Pacific<br>edu_exp_pct_gdp=%{x}<br>Quality of Education Index=%{y} <b>(trend)</b><extra></extra>",
         "legendgroup": "",
         "line": {
          "color": "Purple"
         },
         "marker": {
          "symbol": "circle"
         },
         "mode": "lines",
         "name": "",
         "showlegend": false,
         "type": "scatter",
         "x": [
          2.16285991668701,
          2.64509010314941,
          3,
          3.05677008628845,
          3.1331000328064,
          3.32651996612549,
          3.54249000549316,
          4.16744995117188,
          4.45807981491089,
          4.47959995269775,
          5.10789012908936,
          6.04850006103516,
          6.17301988601685
         ],
         "xaxis": "x4",
         "y": [
          4.511304564243464,
          4.546247369061252,
          4.571964438630306,
          4.5760780468206566,
          4.581608978931098,
          4.595624349945964,
          4.611273720607464,
          4.65655884379933,
          4.677618128116125,
          4.679177495396416,
          4.724703929906125,
          4.792861316532558,
          4.801884127759286
         ],
         "yaxis": "y4"
        },
        {
         "hovertemplate": "<b>%{hovertext}</b><br><br>region=Sub-Saharan Africa<br>edu_exp_pct_gdp=%{x}<br>Quality of Education Index=%{marker.color}<extra></extra>",
         "hovertext": [
          "Angola",
          "Benin",
          "Botswana",
          "Burkina Faso",
          "Burundi",
          "Cabo Verde",
          "Cameroon",
          "Central African Republic",
          "Chad",
          "Comoros",
          "Cote d'Ivoire",
          "Equatorial Guinea",
          "Eritrea",
          "Eswatini",
          "Ethiopia",
          "Gabon",
          "Gambia",
          "Ghana",
          "Guinea",
          "Guinea-Bissau",
          "Kenya",
          "Lesotho",
          "Liberia",
          "Madagascar",
          "Malawi",
          "Mali",
          "Mauritania",
          "Mauritius",
          "Mozambique",
          "Namibia",
          "Niger",
          "Nigeria",
          "Rwanda",
          "Sao Tome and Principe",
          "Senegal",
          "Seychelles",
          "Sierra Leone",
          "Somalia",
          "South Africa",
          "South Sudan",
          "Sudan",
          "Tanzania",
          "Togo",
          "Uganda",
          "Zambia",
          "Zimbabwe",
          "Congo"
         ],
         "legendgroup": "",
         "marker": {
          "color": [
           null,
           3.302977741,
           3.6361775995,
           null,
           3.3095909355,
           null,
           3.99517446775,
           null,
           2.61314469575,
           null,
           null,
           null,
           null,
           3.09669226425,
           3.548745334249999,
           null,
           4.03637063525,
           4.018807113,
           2.7947496775,
           null,
           4.36485934275,
           3.5835725665,
           2.89157027,
           3.67245489375,
           2.92263948925,
           3.66399663725,
           2.3659526705,
           4.3772073985,
           2.790258944,
           3.34541547275,
           null,
           3.16824227575,
           4.394029140500001,
           null,
           4.09712105975,
           3.995258987,
           2.91684859975,
           null,
           3.4022233485,
           null,
           null,
           3.15139406925,
           null,
           3.343117058,
           3.6091204285,
           3.793227315,
           null
          ],
          "coloraxis": "coloraxis",
          "symbol": "circle"
         },
         "mode": "markers",
         "name": "",
         "orientation": "v",
         "showlegend": false,
         "type": "scatter",
         "x": [
          2.04469990730286,
          2.93396997451782,
          6.72133016586304,
          5.43056011199951,
          5.07864999771118,
          5.36885023117065,
          3.13120007514954,
          1.56587994098663,
          2.25947999954224,
          null,
          3.23993992805481,
          null,
          null,
          5.67916011810303,
          5.06867980957031,
          2.93345999717712,
          2.36543989181519,
          4.0041298866272,
          2.38432002067566,
          2.13787007331848,
          5.30625009536743,
          7.28535985946655,
          2.58412003517151,
          2.87452006340027,
          3.38193988800049,
          3.88252997398376,
          null,
          4.83458995819092,
          5.45218992233276,
          8.98805046081543,
          3.44697999954224,
          null,
          3.07375001907349,
          5.23510980606079,
          4.85822010040283,
          4.49883985519409,
          6.98963022232056,
          null,
          6.15898990631104,
          null,
          null,
          3.69643998146057,
          4.04394006729126,
          2.13052010536194,
          4.73973989486694,
          3.58728003501892,
          null
         ],
         "xaxis": "x5",
         "y": [
          null,
          3.302977741,
          3.6361775995,
          null,
          3.3095909355,
          null,
          3.99517446775,
          null,
          2.61314469575,
          null,
          null,
          null,
          null,
          3.09669226425,
          3.548745334249999,
          null,
          4.03637063525,
          4.018807113,
          2.7947496775,
          null,
          4.36485934275,
          3.5835725665,
          2.89157027,
          3.67245489375,
          2.92263948925,
          3.66399663725,
          2.3659526705,
          4.3772073985,
          2.790258944,
          3.34541547275,
          null,
          3.16824227575,
          4.394029140500001,
          null,
          4.09712105975,
          3.995258987,
          2.91684859975,
          null,
          3.4022233485,
          null,
          null,
          3.15139406925,
          null,
          3.343117058,
          3.6091204285,
          3.793227315,
          null
         ],
         "yaxis": "y5"
        },
        {
         "hovertemplate": "<b>OLS trendline</b><br>edu_quality_index = 0.0063906 * edu_exp_pct_gdp + 3.49552<br>R<sup>2</sup>=0.000465<br><br>region=Sub-Saharan Africa<br>edu_exp_pct_gdp=%{x}<br>Quality of Education Index=%{y} <b>(trend)</b><extra></extra>",
         "legendgroup": "",
         "line": {
          "color": "Purple"
         },
         "marker": {
          "symbol": "circle"
         },
         "mode": "lines",
         "name": "",
         "showlegend": false,
         "type": "scatter",
         "x": [
          2.13052010536194,
          2.25947999954224,
          2.36543989181519,
          2.38432002067566,
          2.58412003517151,
          2.87452006340027,
          2.93396997451782,
          3.07375001907349,
          3.13120007514954,
          3.38193988800049,
          3.58728003501892,
          3.69643998146057,
          3.88252997398376,
          4.0041298866272,
          4.49883985519409,
          4.73973989486694,
          4.83458995819092,
          4.85822010040283,
          5.06867980957031,
          5.07864999771118,
          5.30625009536743,
          5.45218992233276,
          5.67916011810303,
          6.15898990631104,
          6.72133016586304,
          6.98963022232056,
          7.28535985946655,
          8.98805046081543
         ],
         "xaxis": "x5",
         "y": [
          3.509137970774387,
          3.509962102328727,
          3.5106392499898016,
          3.5107599054078507,
          3.512036748084795,
          3.5138925795288714,
          3.5142725003404234,
          3.515165779185894,
          3.5155329197167684,
          3.517135298448647,
          3.518447545916019,
          3.5191451438545442,
          3.5203343712167414,
          3.5211114680471276,
          3.5242729633161334,
          3.525812459958854,
          3.526418609107884,
          3.5265696199780012,
          3.52791458453729,
          3.527978300056769,
          3.529432802043155,
          3.5303654456158062,
          3.5318159221489793,
          3.53488232408493,
          3.538476017729906,
          3.5401906170164774,
          3.5420805078780875,
          3.552961728437154
         ],
         "yaxis": "y5"
        },
        {
         "hovertemplate": "<b>%{hovertext}</b><br><br>region=Latin America & Caribbean<br>edu_exp_pct_gdp=%{x}<br>Quality of Education Index=%{marker.color}<extra></extra>",
         "hovertext": [
          "Antigua and Barbuda",
          "Argentina",
          "Aruba",
          "Bahamas",
          "Barbados",
          "Belize",
          "Bolivia",
          "Brazil",
          "British Virgin Islands",
          "Cayman Islands",
          "Chile",
          "Colombia",
          "Costa Rica",
          "Cuba",
          "Curacao",
          "Dominica",
          "Dominican Republic",
          "Ecuador",
          "El Salvador",
          "Grenada",
          "Guatemala",
          "Guyana",
          "Haiti",
          "Honduras",
          "Jamaica",
          "Mexico",
          "Nicaragua",
          "Panama",
          "Paraguay",
          "Peru",
          "Puerto Rico",
          "Sint Maarten (Dutch part)",
          "St. Kitts and Nevis",
          "St. Lucia",
          "St. Martin (French part)",
          "St. Vincent and the Grenadines",
          "Suriname",
          "Trinidad and Tobago",
          "Turks and Caicos Islands",
          "Uruguay"
         ],
         "legendgroup": "",
         "marker": {
          "color": [
           null,
           3.75650507225,
           null,
           null,
           null,
           null,
           null,
           3.182566643,
           null,
           null,
           4.121846437249999,
           3.800363958,
           4.787541389499999,
           null,
           null,
           null,
           3.09706348175,
           3.7505168915,
           2.927667737,
           null,
           3.289593935,
           null,
           2.7684766055,
           3.36910063025,
           4.37463819975,
           3.51215380425,
           3.03231650575,
           3.680060029,
           2.7540509105,
           3.27700579175,
           null,
           null,
           null,
           null,
           null,
           null,
           null,
           4.468680382000001,
           null,
           3.90237712875
          ],
          "coloraxis": "coloraxis",
          "symbol": "circle"
         },
         "mode": "markers",
         "name": "",
         "orientation": "v",
         "showlegend": false,
         "type": "scatter",
         "x": [
          2.64407992362976,
          4.94551992416382,
          null,
          2.30952000617981,
          5.42886018753052,
          7.47227001190186,
          null,
          6.08851003646851,
          2.69412994384766,
          null,
          5.43316984176636,
          4.44910001754761,
          6.7790699005127,
          null,
          null,
          5.57154989242554,
          3.92848992347717,
          4.6214599609375,
          3.60575008392334,
          3.55255007743835,
          3.13704991340637,
          4.45058012008667,
          1.68210005760193,
          6.05646991729736,
          5.41380977630615,
          4.25442981719971,
          3.56255006790161,
          2.8829300403595,
          3.28320002555847,
          3.71429991722107,
          null,
          null,
          null,
          3.33179998397827,
          null,
          5.69377994537354,
          5.68860006332397,
          3.2862401008606,
          2.7437698841095,
          4.66279983520508
         ],
         "xaxis": "x6",
         "y": [
          null,
          3.75650507225,
          null,
          null,
          null,
          null,
          null,
          3.182566643,
          null,
          null,
          4.121846437249999,
          3.800363958,
          4.787541389499999,
          null,
          null,
          null,
          3.09706348175,
          3.7505168915,
          2.927667737,
          null,
          3.289593935,
          null,
          2.7684766055,
          3.36910063025,
          4.37463819975,
          3.51215380425,
          3.03231650575,
          3.680060029,
          2.7540509105,
          3.27700579175,
          null,
          null,
          null,
          null,
          null,
          null,
          null,
          4.468680382000001,
          null,
          3.90237712875
         ],
         "yaxis": "y6"
        },
        {
         "hovertemplate": "<b>OLS trendline</b><br>edu_quality_index = 0.245027 * edu_exp_pct_gdp + 2.51645<br>R<sup>2</sup>=0.290588<br><br>region=Latin America & Caribbean<br>edu_exp_pct_gdp=%{x}<br>Quality of Education Index=%{y} <b>(trend)</b><extra></extra>",
         "legendgroup": "",
         "line": {
          "color": "Purple"
         },
         "marker": {
          "symbol": "circle"
         },
         "mode": "lines",
         "name": "",
         "showlegend": false,
         "type": "scatter",
         "x": [
          1.68210005760193,
          2.8829300403595,
          3.13704991340637,
          3.28320002555847,
          3.2862401008606,
          3.56255006790161,
          3.60575008392334,
          3.71429991722107,
          3.92848992347717,
          4.25442981719971,
          4.44910001754761,
          4.6214599609375,
          4.66279983520508,
          4.94551992416382,
          5.41380977630615,
          5.43316984176636,
          6.05646991729736,
          6.08851003646851,
          6.7790699005127
         ],
         "xaxis": "x6",
         "y": [
          2.928608257167739,
          3.222843941985375,
          3.2851101544761834,
          3.320920867860019,
          3.3216657681800172,
          3.3893691512913824,
          3.399954318617982,
          3.4265519510853637,
          3.4790342708781568,
          3.5588983225889645,
          3.60659776425465,
          3.6488305921375725,
          3.6589599746397186,
          3.728234010249197,
          3.842977635339099,
          3.8477213727545476,
          4.000446677089135,
          4.008297369144903,
          4.177503133010008
         ],
         "yaxis": "y6"
        },
        {
         "hovertemplate": "<b>%{hovertext}</b><br><br>region=North America<br>edu_exp_pct_gdp=%{x}<br>Quality of Education Index=%{marker.color}<extra></extra>",
         "hovertext": [
          "Bermuda",
          "Canada",
          "United States"
         ],
         "legendgroup": "",
         "marker": {
          "color": [
           null,
           5.579452038,
           5.697491168999999
          ],
          "coloraxis": "coloraxis",
          "symbol": "circle"
         },
         "mode": "markers",
         "name": "",
         "orientation": "v",
         "showlegend": false,
         "type": "scatter",
         "x": [
          null,
          null,
          null
         ],
         "xaxis": "x7",
         "y": [
          null,
          5.579452038,
          5.697491168999999
         ],
         "yaxis": "y7"
        },
        {
         "hovertemplate": "region=North America<extra></extra>",
         "legendgroup": "",
         "line": {
          "color": "Purple"
         },
         "marker": {
          "symbol": "circle"
         },
         "mode": "lines",
         "name": "",
         "showlegend": false,
         "type": "scatter",
         "xaxis": "x7",
         "yaxis": "y7"
        }
       ],
       "layout": {
        "annotations": [
         {
          "font": {},
          "showarrow": false,
          "text": "region=South Asia",
          "x": 0.06285714285714285,
          "xanchor": "center",
          "xref": "paper",
          "y": 1,
          "yanchor": "bottom",
          "yref": "paper"
         },
         {
          "font": {},
          "showarrow": false,
          "text": "region=Europe & Central Asia",
          "x": 0.20857142857142852,
          "xanchor": "center",
          "xref": "paper",
          "y": 1,
          "yanchor": "bottom",
          "yref": "paper"
         },
         {
          "font": {},
          "showarrow": false,
          "text": "region=Middle East & North Africa",
          "x": 0.3542857142857142,
          "xanchor": "center",
          "xref": "paper",
          "y": 1,
          "yanchor": "bottom",
          "yref": "paper"
         },
         {
          "font": {},
          "showarrow": false,
          "text": "region=East Asia & Pacific",
          "x": 0.5,
          "xanchor": "center",
          "xref": "paper",
          "y": 1,
          "yanchor": "bottom",
          "yref": "paper"
         },
         {
          "font": {},
          "showarrow": false,
          "text": "region=Sub-Saharan Africa",
          "x": 0.6457142857142856,
          "xanchor": "center",
          "xref": "paper",
          "y": 1,
          "yanchor": "bottom",
          "yref": "paper"
         },
         {
          "font": {},
          "showarrow": false,
          "text": "region=Latin America & Caribbean",
          "x": 0.7914285714285713,
          "xanchor": "center",
          "xref": "paper",
          "y": 1,
          "yanchor": "bottom",
          "yref": "paper"
         },
         {
          "font": {},
          "showarrow": false,
          "text": "region=North America",
          "x": 0.9371428571428569,
          "xanchor": "center",
          "xref": "paper",
          "y": 1,
          "yanchor": "bottom",
          "yref": "paper"
         }
        ],
        "coloraxis": {
         "colorbar": {
          "title": {
           "text": "Quality of Education Index"
          }
         },
         "colorscale": [
          [
           0,
           "rgb(209, 238, 234)"
          ],
          [
           0.16666666666666666,
           "rgb(168, 219, 217)"
          ],
          [
           0.3333333333333333,
           "rgb(133, 196, 201)"
          ],
          [
           0.5,
           "rgb(104, 171, 184)"
          ],
          [
           0.6666666666666666,
           "rgb(79, 144, 166)"
          ],
          [
           0.8333333333333334,
           "rgb(59, 115, 143)"
          ],
          [
           1,
           "rgb(42, 86, 116)"
          ]
         ]
        },
        "legend": {
         "title": {
          "text": "Quality of Education Index"
         },
         "tracegroupgap": 0
        },
        "margin": {
         "t": 60
        },
        "template": {
         "data": {
          "bar": [
           {
            "error_x": {
             "color": "#2a3f5f"
            },
            "error_y": {
             "color": "#2a3f5f"
            },
            "marker": {
             "line": {
              "color": "#E5ECF6",
              "width": 0.5
             },
             "pattern": {
              "fillmode": "overlay",
              "size": 10,
              "solidity": 0.2
             }
            },
            "type": "bar"
           }
          ],
          "barpolar": [
           {
            "marker": {
             "line": {
              "color": "#E5ECF6",
              "width": 0.5
             },
             "pattern": {
              "fillmode": "overlay",
              "size": 10,
              "solidity": 0.2
             }
            },
            "type": "barpolar"
           }
          ],
          "carpet": [
           {
            "aaxis": {
             "endlinecolor": "#2a3f5f",
             "gridcolor": "white",
             "linecolor": "white",
             "minorgridcolor": "white",
             "startlinecolor": "#2a3f5f"
            },
            "baxis": {
             "endlinecolor": "#2a3f5f",
             "gridcolor": "white",
             "linecolor": "white",
             "minorgridcolor": "white",
             "startlinecolor": "#2a3f5f"
            },
            "type": "carpet"
           }
          ],
          "choropleth": [
           {
            "colorbar": {
             "outlinewidth": 0,
             "ticks": ""
            },
            "type": "choropleth"
           }
          ],
          "contour": [
           {
            "colorbar": {
             "outlinewidth": 0,
             "ticks": ""
            },
            "colorscale": [
             [
              0,
              "#0d0887"
             ],
             [
              0.1111111111111111,
              "#46039f"
             ],
             [
              0.2222222222222222,
              "#7201a8"
             ],
             [
              0.3333333333333333,
              "#9c179e"
             ],
             [
              0.4444444444444444,
              "#bd3786"
             ],
             [
              0.5555555555555556,
              "#d8576b"
             ],
             [
              0.6666666666666666,
              "#ed7953"
             ],
             [
              0.7777777777777778,
              "#fb9f3a"
             ],
             [
              0.8888888888888888,
              "#fdca26"
             ],
             [
              1,
              "#f0f921"
             ]
            ],
            "type": "contour"
           }
          ],
          "contourcarpet": [
           {
            "colorbar": {
             "outlinewidth": 0,
             "ticks": ""
            },
            "type": "contourcarpet"
           }
          ],
          "heatmap": [
           {
            "colorbar": {
             "outlinewidth": 0,
             "ticks": ""
            },
            "colorscale": [
             [
              0,
              "#0d0887"
             ],
             [
              0.1111111111111111,
              "#46039f"
             ],
             [
              0.2222222222222222,
              "#7201a8"
             ],
             [
              0.3333333333333333,
              "#9c179e"
             ],
             [
              0.4444444444444444,
              "#bd3786"
             ],
             [
              0.5555555555555556,
              "#d8576b"
             ],
             [
              0.6666666666666666,
              "#ed7953"
             ],
             [
              0.7777777777777778,
              "#fb9f3a"
             ],
             [
              0.8888888888888888,
              "#fdca26"
             ],
             [
              1,
              "#f0f921"
             ]
            ],
            "type": "heatmap"
           }
          ],
          "heatmapgl": [
           {
            "colorbar": {
             "outlinewidth": 0,
             "ticks": ""
            },
            "colorscale": [
             [
              0,
              "#0d0887"
             ],
             [
              0.1111111111111111,
              "#46039f"
             ],
             [
              0.2222222222222222,
              "#7201a8"
             ],
             [
              0.3333333333333333,
              "#9c179e"
             ],
             [
              0.4444444444444444,
              "#bd3786"
             ],
             [
              0.5555555555555556,
              "#d8576b"
             ],
             [
              0.6666666666666666,
              "#ed7953"
             ],
             [
              0.7777777777777778,
              "#fb9f3a"
             ],
             [
              0.8888888888888888,
              "#fdca26"
             ],
             [
              1,
              "#f0f921"
             ]
            ],
            "type": "heatmapgl"
           }
          ],
          "histogram": [
           {
            "marker": {
             "pattern": {
              "fillmode": "overlay",
              "size": 10,
              "solidity": 0.2
             }
            },
            "type": "histogram"
           }
          ],
          "histogram2d": [
           {
            "colorbar": {
             "outlinewidth": 0,
             "ticks": ""
            },
            "colorscale": [
             [
              0,
              "#0d0887"
             ],
             [
              0.1111111111111111,
              "#46039f"
             ],
             [
              0.2222222222222222,
              "#7201a8"
             ],
             [
              0.3333333333333333,
              "#9c179e"
             ],
             [
              0.4444444444444444,
              "#bd3786"
             ],
             [
              0.5555555555555556,
              "#d8576b"
             ],
             [
              0.6666666666666666,
              "#ed7953"
             ],
             [
              0.7777777777777778,
              "#fb9f3a"
             ],
             [
              0.8888888888888888,
              "#fdca26"
             ],
             [
              1,
              "#f0f921"
             ]
            ],
            "type": "histogram2d"
           }
          ],
          "histogram2dcontour": [
           {
            "colorbar": {
             "outlinewidth": 0,
             "ticks": ""
            },
            "colorscale": [
             [
              0,
              "#0d0887"
             ],
             [
              0.1111111111111111,
              "#46039f"
             ],
             [
              0.2222222222222222,
              "#7201a8"
             ],
             [
              0.3333333333333333,
              "#9c179e"
             ],
             [
              0.4444444444444444,
              "#bd3786"
             ],
             [
              0.5555555555555556,
              "#d8576b"
             ],
             [
              0.6666666666666666,
              "#ed7953"
             ],
             [
              0.7777777777777778,
              "#fb9f3a"
             ],
             [
              0.8888888888888888,
              "#fdca26"
             ],
             [
              1,
              "#f0f921"
             ]
            ],
            "type": "histogram2dcontour"
           }
          ],
          "mesh3d": [
           {
            "colorbar": {
             "outlinewidth": 0,
             "ticks": ""
            },
            "type": "mesh3d"
           }
          ],
          "parcoords": [
           {
            "line": {
             "colorbar": {
              "outlinewidth": 0,
              "ticks": ""
             }
            },
            "type": "parcoords"
           }
          ],
          "pie": [
           {
            "automargin": true,
            "type": "pie"
           }
          ],
          "scatter": [
           {
            "marker": {
             "colorbar": {
              "outlinewidth": 0,
              "ticks": ""
             }
            },
            "type": "scatter"
           }
          ],
          "scatter3d": [
           {
            "line": {
             "colorbar": {
              "outlinewidth": 0,
              "ticks": ""
             }
            },
            "marker": {
             "colorbar": {
              "outlinewidth": 0,
              "ticks": ""
             }
            },
            "type": "scatter3d"
           }
          ],
          "scattercarpet": [
           {
            "marker": {
             "colorbar": {
              "outlinewidth": 0,
              "ticks": ""
             }
            },
            "type": "scattercarpet"
           }
          ],
          "scattergeo": [
           {
            "marker": {
             "colorbar": {
              "outlinewidth": 0,
              "ticks": ""
             }
            },
            "type": "scattergeo"
           }
          ],
          "scattergl": [
           {
            "marker": {
             "colorbar": {
              "outlinewidth": 0,
              "ticks": ""
             }
            },
            "type": "scattergl"
           }
          ],
          "scattermapbox": [
           {
            "marker": {
             "colorbar": {
              "outlinewidth": 0,
              "ticks": ""
             }
            },
            "type": "scattermapbox"
           }
          ],
          "scatterpolar": [
           {
            "marker": {
             "colorbar": {
              "outlinewidth": 0,
              "ticks": ""
             }
            },
            "type": "scatterpolar"
           }
          ],
          "scatterpolargl": [
           {
            "marker": {
             "colorbar": {
              "outlinewidth": 0,
              "ticks": ""
             }
            },
            "type": "scatterpolargl"
           }
          ],
          "scatterternary": [
           {
            "marker": {
             "colorbar": {
              "outlinewidth": 0,
              "ticks": ""
             }
            },
            "type": "scatterternary"
           }
          ],
          "surface": [
           {
            "colorbar": {
             "outlinewidth": 0,
             "ticks": ""
            },
            "colorscale": [
             [
              0,
              "#0d0887"
             ],
             [
              0.1111111111111111,
              "#46039f"
             ],
             [
              0.2222222222222222,
              "#7201a8"
             ],
             [
              0.3333333333333333,
              "#9c179e"
             ],
             [
              0.4444444444444444,
              "#bd3786"
             ],
             [
              0.5555555555555556,
              "#d8576b"
             ],
             [
              0.6666666666666666,
              "#ed7953"
             ],
             [
              0.7777777777777778,
              "#fb9f3a"
             ],
             [
              0.8888888888888888,
              "#fdca26"
             ],
             [
              1,
              "#f0f921"
             ]
            ],
            "type": "surface"
           }
          ],
          "table": [
           {
            "cells": {
             "fill": {
              "color": "#EBF0F8"
             },
             "line": {
              "color": "white"
             }
            },
            "header": {
             "fill": {
              "color": "#C8D4E3"
             },
             "line": {
              "color": "white"
             }
            },
            "type": "table"
           }
          ]
         },
         "layout": {
          "annotationdefaults": {
           "arrowcolor": "#2a3f5f",
           "arrowhead": 0,
           "arrowwidth": 1
          },
          "autotypenumbers": "strict",
          "coloraxis": {
           "colorbar": {
            "outlinewidth": 0,
            "ticks": ""
           }
          },
          "colorscale": {
           "diverging": [
            [
             0,
             "#8e0152"
            ],
            [
             0.1,
             "#c51b7d"
            ],
            [
             0.2,
             "#de77ae"
            ],
            [
             0.3,
             "#f1b6da"
            ],
            [
             0.4,
             "#fde0ef"
            ],
            [
             0.5,
             "#f7f7f7"
            ],
            [
             0.6,
             "#e6f5d0"
            ],
            [
             0.7,
             "#b8e186"
            ],
            [
             0.8,
             "#7fbc41"
            ],
            [
             0.9,
             "#4d9221"
            ],
            [
             1,
             "#276419"
            ]
           ],
           "sequential": [
            [
             0,
             "#0d0887"
            ],
            [
             0.1111111111111111,
             "#46039f"
            ],
            [
             0.2222222222222222,
             "#7201a8"
            ],
            [
             0.3333333333333333,
             "#9c179e"
            ],
            [
             0.4444444444444444,
             "#bd3786"
            ],
            [
             0.5555555555555556,
             "#d8576b"
            ],
            [
             0.6666666666666666,
             "#ed7953"
            ],
            [
             0.7777777777777778,
             "#fb9f3a"
            ],
            [
             0.8888888888888888,
             "#fdca26"
            ],
            [
             1,
             "#f0f921"
            ]
           ],
           "sequentialminus": [
            [
             0,
             "#0d0887"
            ],
            [
             0.1111111111111111,
             "#46039f"
            ],
            [
             0.2222222222222222,
             "#7201a8"
            ],
            [
             0.3333333333333333,
             "#9c179e"
            ],
            [
             0.4444444444444444,
             "#bd3786"
            ],
            [
             0.5555555555555556,
             "#d8576b"
            ],
            [
             0.6666666666666666,
             "#ed7953"
            ],
            [
             0.7777777777777778,
             "#fb9f3a"
            ],
            [
             0.8888888888888888,
             "#fdca26"
            ],
            [
             1,
             "#f0f921"
            ]
           ]
          },
          "colorway": [
           "#636efa",
           "#EF553B",
           "#00cc96",
           "#ab63fa",
           "#FFA15A",
           "#19d3f3",
           "#FF6692",
           "#B6E880",
           "#FF97FF",
           "#FECB52"
          ],
          "font": {
           "color": "#2a3f5f"
          },
          "geo": {
           "bgcolor": "white",
           "lakecolor": "white",
           "landcolor": "#E5ECF6",
           "showlakes": true,
           "showland": true,
           "subunitcolor": "white"
          },
          "hoverlabel": {
           "align": "left"
          },
          "hovermode": "closest",
          "mapbox": {
           "style": "light"
          },
          "paper_bgcolor": "white",
          "plot_bgcolor": "#E5ECF6",
          "polar": {
           "angularaxis": {
            "gridcolor": "white",
            "linecolor": "white",
            "ticks": ""
           },
           "bgcolor": "#E5ECF6",
           "radialaxis": {
            "gridcolor": "white",
            "linecolor": "white",
            "ticks": ""
           }
          },
          "scene": {
           "xaxis": {
            "backgroundcolor": "#E5ECF6",
            "gridcolor": "white",
            "gridwidth": 2,
            "linecolor": "white",
            "showbackground": true,
            "ticks": "",
            "zerolinecolor": "white"
           },
           "yaxis": {
            "backgroundcolor": "#E5ECF6",
            "gridcolor": "white",
            "gridwidth": 2,
            "linecolor": "white",
            "showbackground": true,
            "ticks": "",
            "zerolinecolor": "white"
           },
           "zaxis": {
            "backgroundcolor": "#E5ECF6",
            "gridcolor": "white",
            "gridwidth": 2,
            "linecolor": "white",
            "showbackground": true,
            "ticks": "",
            "zerolinecolor": "white"
           }
          },
          "shapedefaults": {
           "line": {
            "color": "#2a3f5f"
           }
          },
          "ternary": {
           "aaxis": {
            "gridcolor": "white",
            "linecolor": "white",
            "ticks": ""
           },
           "baxis": {
            "gridcolor": "white",
            "linecolor": "white",
            "ticks": ""
           },
           "bgcolor": "#E5ECF6",
           "caxis": {
            "gridcolor": "white",
            "linecolor": "white",
            "ticks": ""
           }
          },
          "title": {
           "x": 0.05
          },
          "xaxis": {
           "automargin": true,
           "gridcolor": "white",
           "linecolor": "white",
           "ticks": "",
           "title": {
            "standoff": 15
           },
           "zerolinecolor": "white",
           "zerolinewidth": 2
          },
          "yaxis": {
           "automargin": true,
           "gridcolor": "white",
           "linecolor": "white",
           "ticks": "",
           "title": {
            "standoff": 15
           },
           "zerolinecolor": "white",
           "zerolinewidth": 2
          }
         }
        },
        "title": {
         "text": "Education Exp. (% of GDP) vs. Quality of Education Index by Region",
         "x": 0.5,
         "xanchor": "center"
        },
        "xaxis": {
         "anchor": "y",
         "domain": [
          0,
          0.1257142857142857
         ],
         "title": {
          "text": "Percentage of the GDP"
         }
        },
        "xaxis2": {
         "anchor": "y2",
         "domain": [
          0.14571428571428569,
          0.27142857142857135
         ],
         "matches": "x",
         "title": {
          "text": "Percentage of the GDP"
         }
        },
        "xaxis3": {
         "anchor": "y3",
         "domain": [
          0.29142857142857137,
          0.41714285714285704
         ],
         "matches": "x",
         "title": {
          "text": "Percentage of the GDP"
         }
        },
        "xaxis4": {
         "anchor": "y4",
         "domain": [
          0.4371428571428571,
          0.5628571428571428
         ],
         "matches": "x",
         "title": {
          "text": "Percentage of the GDP"
         }
        },
        "xaxis5": {
         "anchor": "y5",
         "domain": [
          0.5828571428571427,
          0.7085714285714284
         ],
         "matches": "x",
         "title": {
          "text": "Percentage of the GDP"
         }
        },
        "xaxis6": {
         "anchor": "y6",
         "domain": [
          0.7285714285714284,
          0.8542857142857141
         ],
         "matches": "x",
         "title": {
          "text": "Percentage of the GDP"
         }
        },
        "xaxis7": {
         "anchor": "y7",
         "domain": [
          0.8742857142857141,
          0.9999999999999998
         ],
         "matches": "x",
         "title": {
          "text": "Percentage of the GDP"
         }
        },
        "yaxis": {
         "anchor": "x",
         "domain": [
          0,
          1
         ],
         "title": {
          "text": "Quality of Education Index"
         }
        },
        "yaxis2": {
         "anchor": "x2",
         "domain": [
          0,
          1
         ],
         "matches": "y",
         "showticklabels": false
        },
        "yaxis3": {
         "anchor": "x3",
         "domain": [
          0,
          1
         ],
         "matches": "y",
         "showticklabels": false
        },
        "yaxis4": {
         "anchor": "x4",
         "domain": [
          0,
          1
         ],
         "matches": "y",
         "showticklabels": false
        },
        "yaxis5": {
         "anchor": "x5",
         "domain": [
          0,
          1
         ],
         "matches": "y",
         "showticklabels": false
        },
        "yaxis6": {
         "anchor": "x6",
         "domain": [
          0,
          1
         ],
         "matches": "y",
         "showticklabels": false
        },
        "yaxis7": {
         "anchor": "x7",
         "domain": [
          0,
          1
         ],
         "matches": "y",
         "showticklabels": false
        }
       }
      }
     },
     "metadata": {},
     "output_type": "display_data"
    }
   ],
   "source": [
    "fig = px.scatter(data_frame=df_indicators_2018,x='edu_exp_pct_gdp',y='edu_quality_index', facet_col = 'region', hover_name='country',\n",
    "                color='edu_quality_index', trendline='ols', labels={'edu_quality_index':'Quality of Education Index'}, \n",
    "                color_continuous_scale=px.colors.sequential.Teal, trendline_color_override='Purple')\n",
    "\n",
    "# fig = px.scatter(data_frame=df_gdp_qual_2018,x='edu_pcnt_gdp',y='val_qual_ed',color='val_qual_ed',hover_data=['country_name','year'],facet_col='region',trendline='ols', \n",
    "#                  category_orders=regions_ord, labels={'val_qual_ed':'Quality of Education Index'}, color_continuous_scale=px.colors.sequential.Teal, trendline_color_override='Purple')\n",
    "\n",
    "#Setting the labels of the plot\n",
    "fig.update_layout(\n",
    "    title={\n",
    "        'text': 'Education Exp. (% of GDP) vs. Quality of Education Index by Region',\n",
    "        'x':0.5,\n",
    "        'xanchor': 'center'},\n",
    "    xaxis_title='Percentage of the GDP',\n",
    "    yaxis_title='Quality of Education Index',\n",
    "    legend={'title':'Quality of Education Index'}\n",
    ")\n",
    "\n",
    "#Ensuring that all x-axis show the correct label\n",
    "fig.for_each_xaxis(lambda x: x.update(title = 'Percentage of the GDP'))\n",
    "\n",
    "fig.show()"
   ]
  },
  {
   "cell_type": "markdown",
   "metadata": {},
   "source": [
    "The caveat in looking at the GDP is that there are some very wealthy countries with low population and poor countries with high population. Both countries can spend very little % or very high % and get different results because the distribution per individual is very different. We will attempt to fix this in the next section"
   ]
  },
  {
   "cell_type": "markdown",
   "metadata": {},
   "source": [
    "### 2.3 Does the increase in education expenditure per capita ($ per capita) result in an increase in the quality of education?"
   ]
  },
  {
   "cell_type": "markdown",
   "metadata": {},
   "source": [
    "In this section we will use the new indicator we created in the data cleaning where we divide the total education budget by the population to get an educational spend per capita. This will allow us to measure these countries on better grounds "
   ]
  },
  {
   "cell_type": "markdown",
   "metadata": {},
   "source": [
    "#### 2.3.1 Overall relationship"
   ]
  },
  {
   "cell_type": "markdown",
   "metadata": {},
   "source": [
    "There's an association (R^2 0.5) between the education expenditure per capita in USD and the the increase in quality of education. That's much more promising. \n",
    "\n",
    "Looking at this analysis we can see that there is a quite good correlation between the amount of spend per individual and the quality of education. So it is quite likely that when we increase the spending per individual we would see and increase in the education quality."
   ]
  },
  {
   "cell_type": "code",
   "execution_count": 35,
   "metadata": {},
   "outputs": [
    {
     "data": {
      "application/vnd.plotly.v1+json": {
       "config": {
        "plotlyServerURL": "https://plot.ly"
       },
       "data": [
        {
         "hovertemplate": "<b>%{hovertext}</b><br><br>edu_exp_per_capita=%{x}<br>Quality of Education Index=%{marker.color}<extra></extra>",
         "hovertext": [
          "Afghanistan",
          "Albania",
          "Algeria",
          "American Samoa",
          "Andorra",
          "Angola",
          "Antigua and Barbuda",
          "Argentina",
          "Armenia",
          "Aruba",
          "Australia",
          "Austria",
          "Azerbaijan",
          "Bahamas",
          "Bahrain",
          "Bangladesh",
          "Barbados",
          "Belarus",
          "Belgium",
          "Belize",
          "Benin",
          "Bermuda",
          "Bhutan",
          "Bolivia",
          "Bosnia and Herzegovina",
          "Botswana",
          "Brazil",
          "British Virgin Islands",
          "Brunei",
          "Bulgaria",
          "Burkina Faso",
          "Burundi",
          "Cabo Verde",
          "Cambodia",
          "Cameroon",
          "Canada",
          "Cayman Islands",
          "Central African Republic",
          "Chad",
          "Channel Islands",
          "Chile",
          "China",
          "Colombia",
          "Comoros",
          "Costa Rica",
          "Cote d'Ivoire",
          "Croatia",
          "Cuba",
          "Curacao",
          "Cyprus",
          "Czech",
          "Denmark",
          "Djibouti",
          "Dominica",
          "Dominican Republic",
          "Ecuador",
          "Egypt",
          "El Salvador",
          "Equatorial Guinea",
          "Eritrea",
          "Estonia",
          "Eswatini",
          "Ethiopia",
          "Faroe Islands",
          "Fiji",
          "Finland",
          "France",
          "French Polynesia",
          "Gabon",
          "Gambia",
          "Georgia",
          "Germany",
          "Ghana",
          "Gibraltar",
          "Greece",
          "Greenland",
          "Grenada",
          "Guam",
          "Guatemala",
          "Guinea",
          "Guinea-Bissau",
          "Guyana",
          "Haiti",
          "Honduras",
          "Hong Kong",
          "Hungary",
          "Iceland",
          "India",
          "Indonesia",
          "Iran",
          "Iraq",
          "Ireland",
          "Isle of Man",
          "Israel",
          "Italy",
          "Jamaica",
          "Japan",
          "Jordan",
          "Kazakhstan",
          "Kenya",
          "Kiribati",
          "Korea, Rep.",
          "Kosovo",
          "Kuwait",
          "Kyrgyzstan",
          "Lao PDR",
          "Latvia",
          "Lebanon",
          "Lesotho",
          "Liberia",
          "Libya",
          "Liechtenstein",
          "Lithuania",
          "Luxembourg",
          "Macao SAR, China",
          "Madagascar",
          "Malawi",
          "Malaysia",
          "Maldives",
          "Mali",
          "Malta",
          "Marshall Islands",
          "Mauritania",
          "Mauritius",
          "Mexico",
          "Micronesia",
          "Moldova",
          "Monaco",
          "Mongolia",
          "Montenegro",
          "Morocco",
          "Mozambique",
          "Myanmar",
          "Namibia",
          "Nauru",
          "Nepal",
          "Netherlands",
          "New Caledonia",
          "New Zealand",
          "Nicaragua",
          "Niger",
          "Nigeria",
          "North Macedonia",
          "Northern Mariana Islands",
          "Norway",
          "Oman",
          "Pakistan",
          "Palau",
          "Panama",
          "Papua New Guinea",
          "Paraguay",
          "Peru",
          "Philippines",
          "Poland",
          "Portugal",
          "Puerto Rico",
          "Qatar",
          "Romania",
          "Russia",
          "Rwanda",
          "Samoa",
          "San Marino",
          "Sao Tome and Principe",
          "Saudi Arabia",
          "Senegal",
          "Serbia",
          "Seychelles",
          "Sierra Leone",
          "Singapore",
          "Sint Maarten (Dutch part)",
          "Slovakia",
          "Slovenia",
          "Solomon Islands",
          "Somalia",
          "South Africa",
          "South Sudan",
          "Spain",
          "Sri Lanka",
          "St. Kitts and Nevis",
          "St. Lucia",
          "St. Martin (French part)",
          "St. Vincent and the Grenadines",
          "Sudan",
          "Suriname",
          "Sweden",
          "Switzerland",
          "Syria",
          "Tajikistan",
          "Tanzania",
          "Thailand",
          "Timor-Leste",
          "Togo",
          "Tonga",
          "Trinidad and Tobago",
          "Tunisia",
          "Turkey",
          "Turkmenistan",
          "Turks and Caicos Islands",
          "Tuvalu",
          "Uganda",
          "Ukraine",
          "United Arab Emirates",
          "United Kingdom",
          "United States",
          "Uruguay",
          "Uzbekistan",
          "Vanuatu",
          "Vietnam",
          "West Bank and Gaza",
          "Yemen",
          "Zambia",
          "Zimbabwe",
          "Congo"
         ],
         "legendgroup": "",
         "marker": {
          "color": [
           null,
           4.485545992750001,
           3.416745662749999,
           null,
           null,
           null,
           null,
           3.75650507225,
           4.123025775249999,
           null,
           5.32498466975,
           4.710301160749999,
           4.406499505,
           null,
           4.816789984750001,
           3.38388782725,
           null,
           null,
           5.36690354325,
           null,
           3.302977741,
           null,
           4.3412513735,
           null,
           3.23686605675,
           3.6361775995,
           3.182566643,
           null,
           4.584998965500001,
           3.773089886,
           null,
           3.3095909355,
           null,
           3.3678638935,
           3.99517446775,
           5.579452038,
           null,
           null,
           2.61314469575,
           null,
           4.121846437249999,
           4.513828873750001,
           3.800363958,
           null,
           4.787541389499999,
           null,
           3.622494161,
           null,
           null,
           4.1842525005,
           4.48947828975,
           5.44074654575,
           null,
           null,
           3.09706348175,
           3.7505168915,
           2.9052241445,
           2.927667737,
           null,
           null,
           5.2810070515,
           3.09669226425,
           3.548745334249999,
           null,
           null,
           5.877574682,
           4.96322739125,
           null,
           null,
           4.03637063525,
           3.5151272415,
           5.28436040875,
           4.018807113,
           null,
           3.778220594,
           null,
           null,
           null,
           3.289593935,
           2.7947496775,
           null,
           null,
           2.7684766055,
           3.36910063025,
           5.37197506425,
           3.66430544875,
           5.4105769395,
           4.605217695249999,
           4.6026746035,
           3.83756726975,
           null,
           5.26850879225,
           null,
           5.07211995125,
           4.437981963,
           4.37463819975,
           4.76136147975,
           4.31229245675,
           4.113367319,
           4.36485934275,
           null,
           4.5241591335,
           null,
           3.48593091975,
           3.1524888275,
           3.8370832205,
           4.36378258475,
           5.118548751000001,
           3.5835725665,
           2.89157027,
           null,
           null,
           4.4885306955,
           4.68427121625,
           null,
           3.67245489375,
           2.92263948925,
           5.25812911975,
           null,
           3.66399663725,
           5.124402999999999,
           null,
           2.3659526705,
           4.3772073985,
           3.51215380425,
           null,
           3.76005345575,
           null,
           3.69268512725,
           4.08039987125,
           3.4795261025,
           2.790258944,
           null,
           3.34541547275,
           null,
           3.83100247375,
           5.77895951275,
           null,
           5.5188162325,
           3.03231650575,
           null,
           3.16824227575,
           null,
           null,
           5.386394262250001,
           3.7034083605,
           3.66025239225,
           null,
           3.680060029,
           null,
           2.7540509105,
           3.27700579175,
           4.3122189045,
           4.217128813,
           4.821053028250001,
           null,
           5.650964141,
           3.7737690805,
           4.3563212755,
           4.394029140500001,
           null,
           null,
           null,
           4.336327791,
           4.09712105975,
           3.99615168575,
           3.995258987,
           2.91684859975,
           6.1019439695,
           null,
           3.798733771,
           4.796257138250001,
           null,
           null,
           3.4022233485,
           null,
           4.5152790545,
           4.124032378,
           null,
           null,
           null,
           null,
           null,
           null,
           5.199332714000001,
           6.1326652765,
           null,
           4.13513046525,
           3.15139406925,
           4.05051058525,
           null,
           null,
           null,
           4.468680382000001,
           3.79927766325,
           3.551756382,
           null,
           null,
           null,
           3.343117058,
           4.374483644750001,
           5.4820508955,
           5.2462177275,
           5.697491168999999,
           3.90237712875,
           null,
           null,
           3.68711513275,
           null,
           2.2447446585,
           3.6091204285,
           3.793227315,
           null
          ],
          "coloraxis": "coloraxis",
          "symbol": "circle"
         },
         "mode": "markers",
         "name": "",
         "orientation": "v",
         "showlegend": false,
         "type": "scatter",
         "x": [
          12.93875497497009,
          174.3624355271726,
          180.8800796481706,
          null,
          null,
          108.3405737274328,
          356.9360308001495,
          560.0333544251534,
          98.37191014045034,
          null,
          2794.209327484769,
          2574.313905281408,
          114.8199543176508,
          1227.344974401183,
          659.6456650442196,
          18.02310693151353,
          740.0999649450147,
          288.47854294707,
          2896.361124227531,
          281.8418517716037,
          36.02493668985658,
          1885.37686222103,
          207.8284638569372,
          210.529348287716,
          null,
          719.1800421194224,
          549.5929370302869,
          null,
          1269.820930254735,
          365.9815690694042,
          33.55353336543222,
          14.09284243246113,
          183.8028448747105,
          28.26255785349846,
          40.38663781279865,
          2253.317736663776,
          null,
          5.881989867295277,
          12.63366022998965,
          null,
          805.6092774084815,
          176.349632153754,
          261.8990445329052,
          36.09997983807565,
          823.869759362601,
          71.28904382283682,
          563.4786707675881,
          null,
          1018.133869984454,
          1126.636378157462,
          823.3315497631743,
          4586.499788538234,
          253.3678105903175,
          385.4820978415659,
          193.7002054046905,
          240.9225245149672,
          109.101223320886,
          136.34232664991,
          76.60229240484475,
          null,
          1052.976861517379,
          269.4753441544425,
          23.61398042943789,
          null,
          233.7507541753161,
          2909.82140157325,
          2091.076630270128,
          null,
          227.4844717987047,
          19.13256131770122,
          79.88778929781951,
          2189.605715604408,
          91.63796955105884,
          null,
          605.7847277180538,
          null,
          355.8215590763488,
          null,
          129.7960884232141,
          17.8316117351592,
          9.01616268801646,
          178.4220167469612,
          21.04589907655498,
          146.1063907330496,
          1438.893299198618,
          694.2163415851852,
          5276.752411072292,
          61.02426416607886,
          123.5623249586868,
          208.8174188032245,
          265.7049804644914,
          2582.5422397403,
          null,
          2302.635695036565,
          1379.096379956423,
          284.2490456902557,
          1108.311911034956,
          117.0464351793349,
          245.01651090779,
          82.95852440843298,
          191.4428956164431,
          1556.643895951321,
          null,
          1227.906438815135,
          68.35318613330976,
          63.33905567227081,
          687.0020086938024,
          167.301947043535,
          82.51191773114512,
          21.47099300764312,
          171.2238238304187,
          null,
          694.8796652797726,
          3748.89226536248,
          1940.723779934677,
          10.60735963184964,
          17.19717028484114,
          476.3903031019601,
          412.7267966367723,
          32.97221281739136,
          1356.804834850308,
          314.962542114634,
          46.64983895644915,
          598.6360093391069,
          427.0737330733611,
          864.6788255541549,
          203.3169615038812,
          null,
          160.9056899992543,
          null,
          167.1244032842462,
          26.53944274252154,
          21.93609317536513,
          153.9199832256693,
          null,
          33.94489197510876,
          2454.730260270135,
          null,
          3047.603130228952,
          78.70694162928106,
          14.52268006809275,
          16.44096836709654,
          191.2898879779907,
          null,
          5618.595058673122,
          1002.414327872628,
          29.53029872719616,
          null,
          403.5955652895902,
          188.3464370022555,
          188.5927935373355,
          214.956455076754,
          66.21791366365075,
          659.281514823987,
          1136.818381361084,
          1831.885241952593,
          1479.553645327554,
          341.9940053312191,
          498.2857107794745,
          23.06561496665843,
          171.1103746989721,
          null,
          67.99426038610258,
          1693.483598775347,
          71.22350729670593,
          251.7127195296912,
          708.6267351291034,
          13.47329042381214,
          1651.435336947893,
          null,
          726.1990288092377,
          1165.602694633033,
          239.5750046705552,
          null,
          373.0700456377192,
          null,
          1214.979954652523,
          64.7109335494047,
          608.6060842362409,
          355.1149126994656,
          null,
          377.3695571499065,
          16.91072242655604,
          183.8394479791731,
          3961.486231668641,
          3781.048899997592,
          null,
          36.22049956723336,
          37.23183311729789,
          290.6738025649786,
          55.9584456228861,
          32.68229053941042,
          147.3300708823729,
          477.8095505603878,
          195.9323721027638,
          353.5526296802311,
          154.8180192041501,
          699.0352107620623,
          null,
          12.87812544773116,
          146.9087250419515,
          null,
          2282.764844267613,
          2802.936439030158,
          840.2686754270705,
          147.6348947952431,
          142.8914845475634,
          111.0291120146588,
          null,
          29.65261480735794,
          53.20634607877913,
          30.03688838389197,
          null
         ],
         "xaxis": "x",
         "y": [
          null,
          4.485545992750001,
          3.416745662749999,
          null,
          null,
          null,
          null,
          3.75650507225,
          4.123025775249999,
          null,
          5.32498466975,
          4.710301160749999,
          4.406499505,
          null,
          4.816789984750001,
          3.38388782725,
          null,
          null,
          5.36690354325,
          null,
          3.302977741,
          null,
          4.3412513735,
          null,
          3.23686605675,
          3.6361775995,
          3.182566643,
          null,
          4.584998965500001,
          3.773089886,
          null,
          3.3095909355,
          null,
          3.3678638935,
          3.99517446775,
          5.579452038,
          null,
          null,
          2.61314469575,
          null,
          4.121846437249999,
          4.513828873750001,
          3.800363958,
          null,
          4.787541389499999,
          null,
          3.622494161,
          null,
          null,
          4.1842525005,
          4.48947828975,
          5.44074654575,
          null,
          null,
          3.09706348175,
          3.7505168915,
          2.9052241445,
          2.927667737,
          null,
          null,
          5.2810070515,
          3.09669226425,
          3.548745334249999,
          null,
          null,
          5.877574682,
          4.96322739125,
          null,
          null,
          4.03637063525,
          3.5151272415,
          5.28436040875,
          4.018807113,
          null,
          3.778220594,
          null,
          null,
          null,
          3.289593935,
          2.7947496775,
          null,
          null,
          2.7684766055,
          3.36910063025,
          5.37197506425,
          3.66430544875,
          5.4105769395,
          4.605217695249999,
          4.6026746035,
          3.83756726975,
          null,
          5.26850879225,
          null,
          5.07211995125,
          4.437981963,
          4.37463819975,
          4.76136147975,
          4.31229245675,
          4.113367319,
          4.36485934275,
          null,
          4.5241591335,
          null,
          3.48593091975,
          3.1524888275,
          3.8370832205,
          4.36378258475,
          5.118548751000001,
          3.5835725665,
          2.89157027,
          null,
          null,
          4.4885306955,
          4.68427121625,
          null,
          3.67245489375,
          2.92263948925,
          5.25812911975,
          null,
          3.66399663725,
          5.124402999999999,
          null,
          2.3659526705,
          4.3772073985,
          3.51215380425,
          null,
          3.76005345575,
          null,
          3.69268512725,
          4.08039987125,
          3.4795261025,
          2.790258944,
          null,
          3.34541547275,
          null,
          3.83100247375,
          5.77895951275,
          null,
          5.5188162325,
          3.03231650575,
          null,
          3.16824227575,
          null,
          null,
          5.386394262250001,
          3.7034083605,
          3.66025239225,
          null,
          3.680060029,
          null,
          2.7540509105,
          3.27700579175,
          4.3122189045,
          4.217128813,
          4.821053028250001,
          null,
          5.650964141,
          3.7737690805,
          4.3563212755,
          4.394029140500001,
          null,
          null,
          null,
          4.336327791,
          4.09712105975,
          3.99615168575,
          3.995258987,
          2.91684859975,
          6.1019439695,
          null,
          3.798733771,
          4.796257138250001,
          null,
          null,
          3.4022233485,
          null,
          4.5152790545,
          4.124032378,
          null,
          null,
          null,
          null,
          null,
          null,
          5.199332714000001,
          6.1326652765,
          null,
          4.13513046525,
          3.15139406925,
          4.05051058525,
          null,
          null,
          null,
          4.468680382000001,
          3.79927766325,
          3.551756382,
          null,
          null,
          null,
          3.343117058,
          4.374483644750001,
          5.4820508955,
          5.2462177275,
          5.697491168999999,
          3.90237712875,
          null,
          null,
          3.68711513275,
          null,
          2.2447446585,
          3.6091204285,
          3.793227315,
          null
         ],
         "yaxis": "y"
        },
        {
         "hovertemplate": "<b>OLS trendline</b><br>edu_quality_index = 0.00052972 * edu_exp_per_capita + 3.67628<br>R<sup>2</sup>=0.506401<br><br>edu_exp_per_capita=%{x}<br>Quality of Education Index=%{y} <b>(trend)</b><extra></extra>",
         "legendgroup": "",
         "line": {
          "color": "Purple"
         },
         "marker": {
          "symbol": "circle"
         },
         "mode": "lines",
         "name": "",
         "showlegend": false,
         "type": "scatter",
         "x": [
          10.60735963184964,
          12.63366022998965,
          12.87812544773116,
          13.47329042381214,
          14.09284243246113,
          16.44096836709654,
          17.19717028484114,
          17.8316117351592,
          18.02310693151353,
          19.13256131770122,
          21.04589907655498,
          21.47099300764312,
          23.06561496665843,
          23.61398042943789,
          26.53944274252154,
          28.26255785349846,
          29.53029872719616,
          29.65261480735794,
          30.03688838389197,
          32.97221281739136,
          33.94489197510876,
          36.02493668985658,
          36.22049956723336,
          37.23183311729789,
          40.38663781279865,
          46.64983895644915,
          53.20634607877913,
          61.02426416607886,
          63.33905567227081,
          64.7109335494047,
          66.21791366365075,
          68.35318613330976,
          71.22350729670593,
          78.70694162928106,
          79.88778929781951,
          82.51191773114512,
          82.95852440843298,
          91.63796955105884,
          98.37191014045034,
          109.101223320886,
          111.0291120146588,
          114.8199543176508,
          117.0464351793349,
          123.5623249586868,
          129.7960884232141,
          136.34232664991,
          146.1063907330496,
          146.9087250419515,
          153.9199832256693,
          160.9056899992543,
          167.1244032842462,
          167.301947043535,
          174.3624355271726,
          176.349632153754,
          180.8800796481706,
          188.5927935373355,
          193.7002054046905,
          195.9323721027638,
          203.3169615038812,
          207.8284638569372,
          208.8174188032245,
          214.956455076754,
          240.9225245149672,
          245.01651090779,
          251.7127195296912,
          261.8990445329052,
          269.4753441544425,
          284.2490456902557,
          290.6738025649786,
          341.9940053312191,
          353.5526296802311,
          365.9815690694042,
          373.0700456377192,
          403.5955652895902,
          427.0737330733611,
          476.3903031019601,
          477.8095505603878,
          498.2857107794745,
          549.5929370302869,
          560.0333544251534,
          563.4786707675881,
          598.6360093391069,
          605.7847277180538,
          659.281514823987,
          659.6456650442196,
          687.0020086938024,
          694.2163415851852,
          694.8796652797726,
          708.6267351291034,
          719.1800421194224,
          726.1990288092377,
          805.6092774084815,
          823.3315497631743,
          823.869759362601,
          840.2686754270705,
          1002.414327872628,
          1052.976861517379,
          1108.311911034956,
          1126.636378157462,
          1136.818381361084,
          1165.602694633033,
          1214.979954652523,
          1227.906438815135,
          1269.820930254735,
          1356.804834850308,
          1379.096379956423,
          1438.893299198618,
          1479.553645327554,
          1556.643895951321,
          1651.435336947893,
          1693.483598775347,
          2091.076630270128,
          2189.605715604408,
          2253.317736663776,
          2282.764844267613,
          2302.635695036565,
          2454.730260270135,
          2574.313905281408,
          2582.5422397403,
          2794.209327484769,
          2802.936439030158,
          2896.361124227531,
          2909.82140157325,
          3047.603130228952,
          3748.89226536248,
          3781.048899997592,
          3961.486231668641,
          4586.499788538234,
          5276.752411072292,
          5618.595058673122
         ],
         "xaxis": "x",
         "y": [
          3.6819010960344194,
          3.682974467463502,
          3.683103965515454,
          3.6834192361527434,
          3.683747425082621,
          3.6849912737457653,
          3.685391848830168,
          3.685727924991238,
          3.6858293637771524,
          3.686417063667829,
          3.6874305964508833,
          3.68765577709818,
          3.6885004798301266,
          3.6887909598413273,
          3.6903406349816317,
          3.6912534030728223,
          3.691924950440748,
          3.6919897436831146,
          3.692193300982748,
          3.69374820028293,
          3.6942634476349347,
          3.695365288383575,
          3.695468881900429,
          3.6960046052471567,
          3.697675767574994,
          3.7009935088658774,
          3.7044666201239727,
          3.708607925672378,
          3.7098341164307036,
          3.710560827225172,
          3.7113591043417617,
          3.7124902003224576,
          3.7140106661072028,
          3.717974789007514,
          3.718600307329263,
          3.7199903599646715,
          3.720226936338324,
          3.724824609775787,
          3.72839171104419,
          3.7340752400487855,
          3.7350964807493243,
          3.7371045647541967,
          3.7382839756207407,
          3.741735571070412,
          3.7450377186415196,
          3.7485053902628738,
          3.7536776077651495,
          3.7541026200878713,
          3.757816621960659,
          3.7615170887470764,
          3.7648112639409703,
          3.764905312375249,
          3.768645392509785,
          3.769698049793161,
          3.7720979172688596,
          3.776183494076623,
          3.778888990970819,
          3.780071413737145,
          3.783983176525914,
          3.7863730083862284,
          3.7868968773447476,
          3.790148846052725,
          3.8039035856437473,
          3.8060722510575276,
          3.809619364957865,
          3.8150152624055758,
          3.8190285778827517,
          3.8268544992415516,
          3.830257819792539,
          3.857443144336472,
          3.8635659758389225,
          3.8701498303994857,
          3.8739047363750028,
          3.8900747067546635,
          3.9025115557243755,
          3.9286355164524296,
          3.929387319849256,
          3.9402339461477713,
          3.9674123967753054,
          3.9729428919790437,
          3.9747679440614023,
          3.993391480361933,
          3.9971782976138064,
          4.0255166018515505,
          4.025709499412086,
          4.040200694698993,
          4.044022269253434,
          4.044373644909473,
          4.051655739196676,
          4.057246034247737,
          4.060964130062778,
          4.103029306424569,
          4.1124171439553905,
          4.1127022442052805,
          4.12138907378411,
          4.2072808268856745,
          4.234064799138417,
          4.2633768672656975,
          4.2730836992532675,
          4.278477307358416,
          4.293724926344576,
          4.319881035758918,
          4.32672844960826,
          4.348931383179461,
          4.395008474637967,
          4.406816746149593,
          4.43849235475408,
          4.460030942795492,
          4.500867170429394,
          4.551080068052121,
          4.573353862438599,
          4.783966740310971,
          4.836159541926151,
          4.869909057253245,
          4.8855077714815724,
          4.896033753414624,
          4.97660124719629,
          5.039947064721321,
          5.044305775924,
          5.156430010931655,
          5.161052934203669,
          5.210541834297727,
          5.2176720089340485,
          5.290657710623311,
          5.662144410014918,
          5.6791784142018855,
          5.774759630894689,
          6.1058416506842645,
          6.471482091474431,
          6.652562890401027
         ],
         "yaxis": "y"
        }
       ],
       "layout": {
        "coloraxis": {
         "colorbar": {
          "title": {
           "text": "Quality of Education Index"
          }
         },
         "colorscale": [
          [
           0,
           "rgb(209, 238, 234)"
          ],
          [
           0.16666666666666666,
           "rgb(168, 219, 217)"
          ],
          [
           0.3333333333333333,
           "rgb(133, 196, 201)"
          ],
          [
           0.5,
           "rgb(104, 171, 184)"
          ],
          [
           0.6666666666666666,
           "rgb(79, 144, 166)"
          ],
          [
           0.8333333333333334,
           "rgb(59, 115, 143)"
          ],
          [
           1,
           "rgb(42, 86, 116)"
          ]
         ]
        },
        "legend": {
         "tracegroupgap": 0
        },
        "margin": {
         "t": 60
        },
        "template": {
         "data": {
          "bar": [
           {
            "error_x": {
             "color": "#2a3f5f"
            },
            "error_y": {
             "color": "#2a3f5f"
            },
            "marker": {
             "line": {
              "color": "#E5ECF6",
              "width": 0.5
             },
             "pattern": {
              "fillmode": "overlay",
              "size": 10,
              "solidity": 0.2
             }
            },
            "type": "bar"
           }
          ],
          "barpolar": [
           {
            "marker": {
             "line": {
              "color": "#E5ECF6",
              "width": 0.5
             },
             "pattern": {
              "fillmode": "overlay",
              "size": 10,
              "solidity": 0.2
             }
            },
            "type": "barpolar"
           }
          ],
          "carpet": [
           {
            "aaxis": {
             "endlinecolor": "#2a3f5f",
             "gridcolor": "white",
             "linecolor": "white",
             "minorgridcolor": "white",
             "startlinecolor": "#2a3f5f"
            },
            "baxis": {
             "endlinecolor": "#2a3f5f",
             "gridcolor": "white",
             "linecolor": "white",
             "minorgridcolor": "white",
             "startlinecolor": "#2a3f5f"
            },
            "type": "carpet"
           }
          ],
          "choropleth": [
           {
            "colorbar": {
             "outlinewidth": 0,
             "ticks": ""
            },
            "type": "choropleth"
           }
          ],
          "contour": [
           {
            "colorbar": {
             "outlinewidth": 0,
             "ticks": ""
            },
            "colorscale": [
             [
              0,
              "#0d0887"
             ],
             [
              0.1111111111111111,
              "#46039f"
             ],
             [
              0.2222222222222222,
              "#7201a8"
             ],
             [
              0.3333333333333333,
              "#9c179e"
             ],
             [
              0.4444444444444444,
              "#bd3786"
             ],
             [
              0.5555555555555556,
              "#d8576b"
             ],
             [
              0.6666666666666666,
              "#ed7953"
             ],
             [
              0.7777777777777778,
              "#fb9f3a"
             ],
             [
              0.8888888888888888,
              "#fdca26"
             ],
             [
              1,
              "#f0f921"
             ]
            ],
            "type": "contour"
           }
          ],
          "contourcarpet": [
           {
            "colorbar": {
             "outlinewidth": 0,
             "ticks": ""
            },
            "type": "contourcarpet"
           }
          ],
          "heatmap": [
           {
            "colorbar": {
             "outlinewidth": 0,
             "ticks": ""
            },
            "colorscale": [
             [
              0,
              "#0d0887"
             ],
             [
              0.1111111111111111,
              "#46039f"
             ],
             [
              0.2222222222222222,
              "#7201a8"
             ],
             [
              0.3333333333333333,
              "#9c179e"
             ],
             [
              0.4444444444444444,
              "#bd3786"
             ],
             [
              0.5555555555555556,
              "#d8576b"
             ],
             [
              0.6666666666666666,
              "#ed7953"
             ],
             [
              0.7777777777777778,
              "#fb9f3a"
             ],
             [
              0.8888888888888888,
              "#fdca26"
             ],
             [
              1,
              "#f0f921"
             ]
            ],
            "type": "heatmap"
           }
          ],
          "heatmapgl": [
           {
            "colorbar": {
             "outlinewidth": 0,
             "ticks": ""
            },
            "colorscale": [
             [
              0,
              "#0d0887"
             ],
             [
              0.1111111111111111,
              "#46039f"
             ],
             [
              0.2222222222222222,
              "#7201a8"
             ],
             [
              0.3333333333333333,
              "#9c179e"
             ],
             [
              0.4444444444444444,
              "#bd3786"
             ],
             [
              0.5555555555555556,
              "#d8576b"
             ],
             [
              0.6666666666666666,
              "#ed7953"
             ],
             [
              0.7777777777777778,
              "#fb9f3a"
             ],
             [
              0.8888888888888888,
              "#fdca26"
             ],
             [
              1,
              "#f0f921"
             ]
            ],
            "type": "heatmapgl"
           }
          ],
          "histogram": [
           {
            "marker": {
             "pattern": {
              "fillmode": "overlay",
              "size": 10,
              "solidity": 0.2
             }
            },
            "type": "histogram"
           }
          ],
          "histogram2d": [
           {
            "colorbar": {
             "outlinewidth": 0,
             "ticks": ""
            },
            "colorscale": [
             [
              0,
              "#0d0887"
             ],
             [
              0.1111111111111111,
              "#46039f"
             ],
             [
              0.2222222222222222,
              "#7201a8"
             ],
             [
              0.3333333333333333,
              "#9c179e"
             ],
             [
              0.4444444444444444,
              "#bd3786"
             ],
             [
              0.5555555555555556,
              "#d8576b"
             ],
             [
              0.6666666666666666,
              "#ed7953"
             ],
             [
              0.7777777777777778,
              "#fb9f3a"
             ],
             [
              0.8888888888888888,
              "#fdca26"
             ],
             [
              1,
              "#f0f921"
             ]
            ],
            "type": "histogram2d"
           }
          ],
          "histogram2dcontour": [
           {
            "colorbar": {
             "outlinewidth": 0,
             "ticks": ""
            },
            "colorscale": [
             [
              0,
              "#0d0887"
             ],
             [
              0.1111111111111111,
              "#46039f"
             ],
             [
              0.2222222222222222,
              "#7201a8"
             ],
             [
              0.3333333333333333,
              "#9c179e"
             ],
             [
              0.4444444444444444,
              "#bd3786"
             ],
             [
              0.5555555555555556,
              "#d8576b"
             ],
             [
              0.6666666666666666,
              "#ed7953"
             ],
             [
              0.7777777777777778,
              "#fb9f3a"
             ],
             [
              0.8888888888888888,
              "#fdca26"
             ],
             [
              1,
              "#f0f921"
             ]
            ],
            "type": "histogram2dcontour"
           }
          ],
          "mesh3d": [
           {
            "colorbar": {
             "outlinewidth": 0,
             "ticks": ""
            },
            "type": "mesh3d"
           }
          ],
          "parcoords": [
           {
            "line": {
             "colorbar": {
              "outlinewidth": 0,
              "ticks": ""
             }
            },
            "type": "parcoords"
           }
          ],
          "pie": [
           {
            "automargin": true,
            "type": "pie"
           }
          ],
          "scatter": [
           {
            "marker": {
             "colorbar": {
              "outlinewidth": 0,
              "ticks": ""
             }
            },
            "type": "scatter"
           }
          ],
          "scatter3d": [
           {
            "line": {
             "colorbar": {
              "outlinewidth": 0,
              "ticks": ""
             }
            },
            "marker": {
             "colorbar": {
              "outlinewidth": 0,
              "ticks": ""
             }
            },
            "type": "scatter3d"
           }
          ],
          "scattercarpet": [
           {
            "marker": {
             "colorbar": {
              "outlinewidth": 0,
              "ticks": ""
             }
            },
            "type": "scattercarpet"
           }
          ],
          "scattergeo": [
           {
            "marker": {
             "colorbar": {
              "outlinewidth": 0,
              "ticks": ""
             }
            },
            "type": "scattergeo"
           }
          ],
          "scattergl": [
           {
            "marker": {
             "colorbar": {
              "outlinewidth": 0,
              "ticks": ""
             }
            },
            "type": "scattergl"
           }
          ],
          "scattermapbox": [
           {
            "marker": {
             "colorbar": {
              "outlinewidth": 0,
              "ticks": ""
             }
            },
            "type": "scattermapbox"
           }
          ],
          "scatterpolar": [
           {
            "marker": {
             "colorbar": {
              "outlinewidth": 0,
              "ticks": ""
             }
            },
            "type": "scatterpolar"
           }
          ],
          "scatterpolargl": [
           {
            "marker": {
             "colorbar": {
              "outlinewidth": 0,
              "ticks": ""
             }
            },
            "type": "scatterpolargl"
           }
          ],
          "scatterternary": [
           {
            "marker": {
             "colorbar": {
              "outlinewidth": 0,
              "ticks": ""
             }
            },
            "type": "scatterternary"
           }
          ],
          "surface": [
           {
            "colorbar": {
             "outlinewidth": 0,
             "ticks": ""
            },
            "colorscale": [
             [
              0,
              "#0d0887"
             ],
             [
              0.1111111111111111,
              "#46039f"
             ],
             [
              0.2222222222222222,
              "#7201a8"
             ],
             [
              0.3333333333333333,
              "#9c179e"
             ],
             [
              0.4444444444444444,
              "#bd3786"
             ],
             [
              0.5555555555555556,
              "#d8576b"
             ],
             [
              0.6666666666666666,
              "#ed7953"
             ],
             [
              0.7777777777777778,
              "#fb9f3a"
             ],
             [
              0.8888888888888888,
              "#fdca26"
             ],
             [
              1,
              "#f0f921"
             ]
            ],
            "type": "surface"
           }
          ],
          "table": [
           {
            "cells": {
             "fill": {
              "color": "#EBF0F8"
             },
             "line": {
              "color": "white"
             }
            },
            "header": {
             "fill": {
              "color": "#C8D4E3"
             },
             "line": {
              "color": "white"
             }
            },
            "type": "table"
           }
          ]
         },
         "layout": {
          "annotationdefaults": {
           "arrowcolor": "#2a3f5f",
           "arrowhead": 0,
           "arrowwidth": 1
          },
          "autotypenumbers": "strict",
          "coloraxis": {
           "colorbar": {
            "outlinewidth": 0,
            "ticks": ""
           }
          },
          "colorscale": {
           "diverging": [
            [
             0,
             "#8e0152"
            ],
            [
             0.1,
             "#c51b7d"
            ],
            [
             0.2,
             "#de77ae"
            ],
            [
             0.3,
             "#f1b6da"
            ],
            [
             0.4,
             "#fde0ef"
            ],
            [
             0.5,
             "#f7f7f7"
            ],
            [
             0.6,
             "#e6f5d0"
            ],
            [
             0.7,
             "#b8e186"
            ],
            [
             0.8,
             "#7fbc41"
            ],
            [
             0.9,
             "#4d9221"
            ],
            [
             1,
             "#276419"
            ]
           ],
           "sequential": [
            [
             0,
             "#0d0887"
            ],
            [
             0.1111111111111111,
             "#46039f"
            ],
            [
             0.2222222222222222,
             "#7201a8"
            ],
            [
             0.3333333333333333,
             "#9c179e"
            ],
            [
             0.4444444444444444,
             "#bd3786"
            ],
            [
             0.5555555555555556,
             "#d8576b"
            ],
            [
             0.6666666666666666,
             "#ed7953"
            ],
            [
             0.7777777777777778,
             "#fb9f3a"
            ],
            [
             0.8888888888888888,
             "#fdca26"
            ],
            [
             1,
             "#f0f921"
            ]
           ],
           "sequentialminus": [
            [
             0,
             "#0d0887"
            ],
            [
             0.1111111111111111,
             "#46039f"
            ],
            [
             0.2222222222222222,
             "#7201a8"
            ],
            [
             0.3333333333333333,
             "#9c179e"
            ],
            [
             0.4444444444444444,
             "#bd3786"
            ],
            [
             0.5555555555555556,
             "#d8576b"
            ],
            [
             0.6666666666666666,
             "#ed7953"
            ],
            [
             0.7777777777777778,
             "#fb9f3a"
            ],
            [
             0.8888888888888888,
             "#fdca26"
            ],
            [
             1,
             "#f0f921"
            ]
           ]
          },
          "colorway": [
           "#636efa",
           "#EF553B",
           "#00cc96",
           "#ab63fa",
           "#FFA15A",
           "#19d3f3",
           "#FF6692",
           "#B6E880",
           "#FF97FF",
           "#FECB52"
          ],
          "font": {
           "color": "#2a3f5f"
          },
          "geo": {
           "bgcolor": "white",
           "lakecolor": "white",
           "landcolor": "#E5ECF6",
           "showlakes": true,
           "showland": true,
           "subunitcolor": "white"
          },
          "hoverlabel": {
           "align": "left"
          },
          "hovermode": "closest",
          "mapbox": {
           "style": "light"
          },
          "paper_bgcolor": "white",
          "plot_bgcolor": "#E5ECF6",
          "polar": {
           "angularaxis": {
            "gridcolor": "white",
            "linecolor": "white",
            "ticks": ""
           },
           "bgcolor": "#E5ECF6",
           "radialaxis": {
            "gridcolor": "white",
            "linecolor": "white",
            "ticks": ""
           }
          },
          "scene": {
           "xaxis": {
            "backgroundcolor": "#E5ECF6",
            "gridcolor": "white",
            "gridwidth": 2,
            "linecolor": "white",
            "showbackground": true,
            "ticks": "",
            "zerolinecolor": "white"
           },
           "yaxis": {
            "backgroundcolor": "#E5ECF6",
            "gridcolor": "white",
            "gridwidth": 2,
            "linecolor": "white",
            "showbackground": true,
            "ticks": "",
            "zerolinecolor": "white"
           },
           "zaxis": {
            "backgroundcolor": "#E5ECF6",
            "gridcolor": "white",
            "gridwidth": 2,
            "linecolor": "white",
            "showbackground": true,
            "ticks": "",
            "zerolinecolor": "white"
           }
          },
          "shapedefaults": {
           "line": {
            "color": "#2a3f5f"
           }
          },
          "ternary": {
           "aaxis": {
            "gridcolor": "white",
            "linecolor": "white",
            "ticks": ""
           },
           "baxis": {
            "gridcolor": "white",
            "linecolor": "white",
            "ticks": ""
           },
           "bgcolor": "#E5ECF6",
           "caxis": {
            "gridcolor": "white",
            "linecolor": "white",
            "ticks": ""
           }
          },
          "title": {
           "x": 0.05
          },
          "xaxis": {
           "automargin": true,
           "gridcolor": "white",
           "linecolor": "white",
           "ticks": "",
           "title": {
            "standoff": 15
           },
           "zerolinecolor": "white",
           "zerolinewidth": 2
          },
          "yaxis": {
           "automargin": true,
           "gridcolor": "white",
           "linecolor": "white",
           "ticks": "",
           "title": {
            "standoff": 15
           },
           "zerolinecolor": "white",
           "zerolinewidth": 2
          }
         }
        },
        "title": {
         "text": "Education Exp. ($ per Capita) and Education Quality in 2018",
         "x": 0.5,
         "xanchor": "center"
        },
        "xaxis": {
         "anchor": "y",
         "domain": [
          0,
          1
         ],
         "title": {
          "text": "$ per Capita"
         }
        },
        "yaxis": {
         "anchor": "x",
         "domain": [
          0,
          1
         ],
         "title": {
          "text": "Education Quality Index"
         }
        }
       }
      }
     },
     "metadata": {},
     "output_type": "display_data"
    }
   ],
   "source": [
    "fig = px.scatter(data_frame=df_indicators_2018,x='edu_exp_per_capita',y='edu_quality_index',hover_name='country',color='edu_quality_index', trendline='ols', labels={'edu_quality_index':'Quality of Education Index'},\n",
    "                 color_continuous_scale=px.colors.sequential.Teal, trendline_color_override='Purple')\n",
    "\n",
    "#Setting the labels of the plot\n",
    "fig.update_layout(\n",
    "    title={\n",
    "        'text': \"Education Exp. ($ per Capita) and Education Quality in 2018\",\n",
    "        'x':0.5,\n",
    "        'xanchor': 'center'},\n",
    "    xaxis_title=\"$ per Capita\",\n",
    "    yaxis_title=\"Education Quality Index\"\n",
    ")\n",
    "\n",
    "fig.show()"
   ]
  },
  {
   "cell_type": "markdown",
   "metadata": {},
   "source": [
    "### 2.4 Does the increase in quality of education result in an increase in the living standards of the people (GDP)?"
   ]
  },
  {
   "cell_type": "markdown",
   "metadata": {},
   "source": [
    "To answer this question we'll look at the education quality index and the GDP per Capita. Since the GDP is highly affected by the population, we are using the GDP per Capita to remove this effect. We will then analyze the relationship between the 2 variables to come up with an answer to our question."
   ]
  },
  {
   "cell_type": "markdown",
   "metadata": {},
   "source": [
    "#### 2.4.1 Overall relationship"
   ]
  },
  {
   "cell_type": "markdown",
   "metadata": {},
   "source": [
    "Ok there's a strong association"
   ]
  },
  {
   "cell_type": "code",
   "execution_count": 31,
   "metadata": {},
   "outputs": [
    {
     "data": {
      "application/vnd.plotly.v1+json": {
       "config": {
        "plotlyServerURL": "https://plot.ly"
       },
       "data": [
        {
         "hovertemplate": "<b>%{hovertext}</b><br><br>edu_quality_index=%{marker.color}<br>gdppc=%{y}<extra></extra>",
         "hovertext": [
          "Afghanistan",
          "Albania",
          "Algeria",
          "American Samoa",
          "Andorra",
          "Angola",
          "Antigua and Barbuda",
          "Argentina",
          "Armenia",
          "Aruba",
          "Australia",
          "Austria",
          "Azerbaijan",
          "Bahamas",
          "Bahrain",
          "Bangladesh",
          "Barbados",
          "Belarus",
          "Belgium",
          "Belize",
          "Benin",
          "Bermuda",
          "Bhutan",
          "Bolivia",
          "Bosnia and Herzegovina",
          "Botswana",
          "Brazil",
          "British Virgin Islands",
          "Brunei",
          "Bulgaria",
          "Burkina Faso",
          "Burundi",
          "Cabo Verde",
          "Cambodia",
          "Cameroon",
          "Canada",
          "Cayman Islands",
          "Central African Republic",
          "Chad",
          "Channel Islands",
          "Chile",
          "China",
          "Colombia",
          "Comoros",
          "Costa Rica",
          "Cote d'Ivoire",
          "Croatia",
          "Cuba",
          "Curacao",
          "Cyprus",
          "Czech",
          "Denmark",
          "Djibouti",
          "Dominica",
          "Dominican Republic",
          "Ecuador",
          "Egypt",
          "El Salvador",
          "Equatorial Guinea",
          "Eritrea",
          "Estonia",
          "Eswatini",
          "Ethiopia",
          "Faroe Islands",
          "Fiji",
          "Finland",
          "France",
          "French Polynesia",
          "Gabon",
          "Gambia",
          "Georgia",
          "Germany",
          "Ghana",
          "Gibraltar",
          "Greece",
          "Greenland",
          "Grenada",
          "Guam",
          "Guatemala",
          "Guinea",
          "Guinea-Bissau",
          "Guyana",
          "Haiti",
          "Honduras",
          "Hong Kong",
          "Hungary",
          "Iceland",
          "India",
          "Indonesia",
          "Iran",
          "Iraq",
          "Ireland",
          "Isle of Man",
          "Israel",
          "Italy",
          "Jamaica",
          "Japan",
          "Jordan",
          "Kazakhstan",
          "Kenya",
          "Kiribati",
          "Korea, Rep.",
          "Kosovo",
          "Kuwait",
          "Kyrgyzstan",
          "Lao PDR",
          "Latvia",
          "Lebanon",
          "Lesotho",
          "Liberia",
          "Libya",
          "Liechtenstein",
          "Lithuania",
          "Luxembourg",
          "Macao SAR, China",
          "Madagascar",
          "Malawi",
          "Malaysia",
          "Maldives",
          "Mali",
          "Malta",
          "Marshall Islands",
          "Mauritania",
          "Mauritius",
          "Mexico",
          "Micronesia",
          "Moldova",
          "Monaco",
          "Mongolia",
          "Montenegro",
          "Morocco",
          "Mozambique",
          "Myanmar",
          "Namibia",
          "Nauru",
          "Nepal",
          "Netherlands",
          "New Caledonia",
          "New Zealand",
          "Nicaragua",
          "Niger",
          "Nigeria",
          "North Macedonia",
          "Northern Mariana Islands",
          "Norway",
          "Oman",
          "Pakistan",
          "Palau",
          "Panama",
          "Papua New Guinea",
          "Paraguay",
          "Peru",
          "Philippines",
          "Poland",
          "Portugal",
          "Puerto Rico",
          "Qatar",
          "Romania",
          "Russia",
          "Rwanda",
          "Samoa",
          "San Marino",
          "Sao Tome and Principe",
          "Saudi Arabia",
          "Senegal",
          "Serbia",
          "Seychelles",
          "Sierra Leone",
          "Singapore",
          "Sint Maarten (Dutch part)",
          "Slovakia",
          "Slovenia",
          "Solomon Islands",
          "Somalia",
          "South Africa",
          "South Sudan",
          "Spain",
          "Sri Lanka",
          "St. Kitts and Nevis",
          "St. Lucia",
          "St. Martin (French part)",
          "St. Vincent and the Grenadines",
          "Sudan",
          "Suriname",
          "Sweden",
          "Switzerland",
          "Syria",
          "Tajikistan",
          "Tanzania",
          "Thailand",
          "Timor-Leste",
          "Togo",
          "Tonga",
          "Trinidad and Tobago",
          "Tunisia",
          "Turkey",
          "Turkmenistan",
          "Turks and Caicos Islands",
          "Tuvalu",
          "Uganda",
          "Ukraine",
          "United Arab Emirates",
          "United Kingdom",
          "United States",
          "Uruguay",
          "Uzbekistan",
          "Vanuatu",
          "Vietnam",
          "West Bank and Gaza",
          "Yemen",
          "Zambia",
          "Zimbabwe",
          "Congo"
         ],
         "legendgroup": "",
         "marker": {
          "color": [
           null,
           4.485545992750001,
           3.416745662749999,
           null,
           null,
           null,
           null,
           3.75650507225,
           4.123025775249999,
           null,
           5.32498466975,
           4.710301160749999,
           4.406499505,
           null,
           4.816789984750001,
           3.38388782725,
           null,
           null,
           5.36690354325,
           null,
           3.302977741,
           null,
           4.3412513735,
           null,
           3.23686605675,
           3.6361775995,
           3.182566643,
           null,
           4.584998965500001,
           3.773089886,
           null,
           3.3095909355,
           null,
           3.3678638935,
           3.99517446775,
           5.579452038,
           null,
           null,
           2.61314469575,
           null,
           4.121846437249999,
           4.513828873750001,
           3.800363958,
           null,
           4.787541389499999,
           null,
           3.622494161,
           null,
           null,
           4.1842525005,
           4.48947828975,
           5.44074654575,
           null,
           null,
           3.09706348175,
           3.7505168915,
           2.9052241445,
           2.927667737,
           null,
           null,
           5.2810070515,
           3.09669226425,
           3.548745334249999,
           null,
           null,
           5.877574682,
           4.96322739125,
           null,
           null,
           4.03637063525,
           3.5151272415,
           5.28436040875,
           4.018807113,
           null,
           3.778220594,
           null,
           null,
           null,
           3.289593935,
           2.7947496775,
           null,
           null,
           2.7684766055,
           3.36910063025,
           5.37197506425,
           3.66430544875,
           5.4105769395,
           4.605217695249999,
           4.6026746035,
           3.83756726975,
           null,
           5.26850879225,
           null,
           5.07211995125,
           4.437981963,
           4.37463819975,
           4.76136147975,
           4.31229245675,
           4.113367319,
           4.36485934275,
           null,
           4.5241591335,
           null,
           3.48593091975,
           3.1524888275,
           3.8370832205,
           4.36378258475,
           5.118548751000001,
           3.5835725665,
           2.89157027,
           null,
           null,
           4.4885306955,
           4.68427121625,
           null,
           3.67245489375,
           2.92263948925,
           5.25812911975,
           null,
           3.66399663725,
           5.124402999999999,
           null,
           2.3659526705,
           4.3772073985,
           3.51215380425,
           null,
           3.76005345575,
           null,
           3.69268512725,
           4.08039987125,
           3.4795261025,
           2.790258944,
           null,
           3.34541547275,
           null,
           3.83100247375,
           5.77895951275,
           null,
           5.5188162325,
           3.03231650575,
           null,
           3.16824227575,
           null,
           null,
           5.386394262250001,
           3.7034083605,
           3.66025239225,
           null,
           3.680060029,
           null,
           2.7540509105,
           3.27700579175,
           4.3122189045,
           4.217128813,
           4.821053028250001,
           null,
           5.650964141,
           3.7737690805,
           4.3563212755,
           4.394029140500001,
           null,
           null,
           null,
           4.336327791,
           4.09712105975,
           3.99615168575,
           3.995258987,
           2.91684859975,
           6.1019439695,
           null,
           3.798733771,
           4.796257138250001,
           null,
           null,
           3.4022233485,
           null,
           4.5152790545,
           4.124032378,
           null,
           null,
           null,
           null,
           null,
           null,
           5.199332714000001,
           6.1326652765,
           null,
           4.13513046525,
           3.15139406925,
           4.05051058525,
           null,
           null,
           null,
           4.468680382000001,
           3.79927766325,
           3.551756382,
           null,
           null,
           null,
           3.343117058,
           4.374483644750001,
           5.4820508955,
           5.2462177275,
           5.697491168999999,
           3.90237712875,
           null,
           null,
           3.68711513275,
           null,
           2.2447446585,
           3.6091204285,
           3.793227315,
           null
          ],
          "coloraxis": "coloraxis",
          "symbol": "circle"
         },
         "mode": "markers",
         "name": "",
         "orientation": "v",
         "showlegend": false,
         "type": "scatter",
         "x": [
          null,
          4.485545992750001,
          3.416745662749999,
          null,
          null,
          null,
          null,
          3.75650507225,
          4.123025775249999,
          null,
          5.32498466975,
          4.710301160749999,
          4.406499505,
          null,
          4.816789984750001,
          3.38388782725,
          null,
          null,
          5.36690354325,
          null,
          3.302977741,
          null,
          4.3412513735,
          null,
          3.23686605675,
          3.6361775995,
          3.182566643,
          null,
          4.584998965500001,
          3.773089886,
          null,
          3.3095909355,
          null,
          3.3678638935,
          3.99517446775,
          5.579452038,
          null,
          null,
          2.61314469575,
          null,
          4.121846437249999,
          4.513828873750001,
          3.800363958,
          null,
          4.787541389499999,
          null,
          3.622494161,
          null,
          null,
          4.1842525005,
          4.48947828975,
          5.44074654575,
          null,
          null,
          3.09706348175,
          3.7505168915,
          2.9052241445,
          2.927667737,
          null,
          null,
          5.2810070515,
          3.09669226425,
          3.548745334249999,
          null,
          null,
          5.877574682,
          4.96322739125,
          null,
          null,
          4.03637063525,
          3.5151272415,
          5.28436040875,
          4.018807113,
          null,
          3.778220594,
          null,
          null,
          null,
          3.289593935,
          2.7947496775,
          null,
          null,
          2.7684766055,
          3.36910063025,
          5.37197506425,
          3.66430544875,
          5.4105769395,
          4.605217695249999,
          4.6026746035,
          3.83756726975,
          null,
          5.26850879225,
          null,
          5.07211995125,
          4.437981963,
          4.37463819975,
          4.76136147975,
          4.31229245675,
          4.113367319,
          4.36485934275,
          null,
          4.5241591335,
          null,
          3.48593091975,
          3.1524888275,
          3.8370832205,
          4.36378258475,
          5.118548751000001,
          3.5835725665,
          2.89157027,
          null,
          null,
          4.4885306955,
          4.68427121625,
          null,
          3.67245489375,
          2.92263948925,
          5.25812911975,
          null,
          3.66399663725,
          5.124402999999999,
          null,
          2.3659526705,
          4.3772073985,
          3.51215380425,
          null,
          3.76005345575,
          null,
          3.69268512725,
          4.08039987125,
          3.4795261025,
          2.790258944,
          null,
          3.34541547275,
          null,
          3.83100247375,
          5.77895951275,
          null,
          5.5188162325,
          3.03231650575,
          null,
          3.16824227575,
          null,
          null,
          5.386394262250001,
          3.7034083605,
          3.66025239225,
          null,
          3.680060029,
          null,
          2.7540509105,
          3.27700579175,
          4.3122189045,
          4.217128813,
          4.821053028250001,
          null,
          5.650964141,
          3.7737690805,
          4.3563212755,
          4.394029140500001,
          null,
          null,
          null,
          4.336327791,
          4.09712105975,
          3.99615168575,
          3.995258987,
          2.91684859975,
          6.1019439695,
          null,
          3.798733771,
          4.796257138250001,
          null,
          null,
          3.4022233485,
          null,
          4.5152790545,
          4.124032378,
          null,
          null,
          null,
          null,
          null,
          null,
          5.199332714000001,
          6.1326652765,
          null,
          4.13513046525,
          3.15139406925,
          4.05051058525,
          null,
          null,
          null,
          4.468680382000001,
          3.79927766325,
          3.551756382,
          null,
          null,
          null,
          3.343117058,
          4.374483644750001,
          5.4820508955,
          5.2462177275,
          5.697491168999999,
          3.90237712875,
          null,
          null,
          3.68711513275,
          null,
          2.2447446585,
          3.6091204285,
          3.793227315,
          null
         ],
         "xaxis": "x",
         "y": [
          485.6684187298079,
          5287.663694469134,
          4142.018558429166,
          11521.6097798453,
          41791.96983724111,
          3289.643994766784,
          16679.5916624545,
          11795.15938662869,
          4220.540320791452,
          30253.27935801951,
          57180.77940016135,
          51461.43321500823,
          4739.841710283928,
          33290.02813541302,
          24085.95598809604,
          1698.132080787118,
          17745.2553725928,
          6360.062473012837,
          47519.55309689431,
          5001.422156634331,
          1241.825298009576,
          113023.1855942678,
          3243.477437487184,
          3548.590780213766,
          6070.349081292916,
          7503.878588364595,
          9151.381731615356,
          null,
          31628.47625660086,
          9446.700771855185,
          804.5005378215156,
          238.7834670201728,
          3616.464537497126,
          1512.126988893842,
          1585.24053445546,
          46548.52036008093,
          86059.73921684535,
          475.9538138648127,
          726.1510070885486,
          null,
          15888.14435539699,
          9905.342003892534,
          6729.583331981685,
          1428.290463243223,
          12485.42389616804,
          2314.05095836881,
          15227.56009680961,
          8824.194008438417,
          19630.89348730191,
          29334.1109348657,
          23419.73561365016,
          61591.92886989581,
          3141.861710590019,
          7687.462963480052,
          8050.644076234162,
          6295.934661639924,
          2537.125185047117,
          4052.624775337422,
          10005.61679172682,
          null,
          23052.30125595861,
          4105.893682789394,
          771.5248663494308,
          62918.14619361205,
          6317.413720151232,
          49964.49990984263,
          41572.48500996291,
          null,
          7959.007267363763,
          732.720727318856,
          4722.787783217665,
          47950.1808142041,
          2260.860567293368,
          null,
          19747.34258379349,
          54270.82230552382,
          10466.88221119575,
          36556.67491102129,
          4478.424645509439,
          955.1112811367115,
          802.7673851161555,
          6145.819276643771,
          1479.345826888498,
          2492.868967691357,
          48542.68186991609,
          16427.37276114784,
          74469.80405915591,
          1996.915087397891,
          3893.85957814877,
          3598.483453961293,
          5915.850853696438,
          79068.97461167873,
          89112.66771585705,
          42063.45312748114,
          34605.26272520575,
          5359.993789396384,
          39808.16856087928,
          4308.151073899704,
          9812.626370773956,
          1794.0911754468,
          1727.845001316435,
          33422.9442100836,
          4384.048891731897,
          33399.06043658418,
          1308.14016549619,
          2569.093892172514,
          17856.30711719765,
          8058.44433692324,
          1192.484319518101,
          710.2659984195813,
          7877.124609545421,
          180366.7151975748,
          19176.81215050502,
          117197.4816936302,
          87526.07999126345,
          523.9459714196604,
          544.5934353933727,
          11380.08209004754,
          10279.07997516187,
          894.8047765103656,
          30672.29224390378,
          3793.550982674793,
          1670.204164528804,
          11208.34381844736,
          9686.984926555855,
          3568.291015625,
          4230.3630367862,
          185978.6092513555,
          4156.846969780199,
          8845.914218872962,
          3226.98279356862,
          503.3179251711392,
          1250.17369130663,
          5588.392864119423,
          11614.66507683195,
          1178.525932452371,
          53018.62935626958,
          36382.48765568099,
          43306.07000323725,
          2014.575188790467,
          570.7239219535921,
          2027.77854863842,
          6108.740108316977,
          22886.67404946475,
          82267.809316159,
          18947.36649597734,
          1482.21306651797,
          15895.2598961532,
          15544.99907884487,
          2801.371393029155,
          5782.784549812856,
          6957.793411493588,
          3252.110274100243,
          15468.48221941048,
          23551.04829056138,
          31604.70151445784,
          65907.94843504085,
          12398.98197876661,
          11287.3552780815,
          783.6371628148081,
          4187.504729236637,
          48996.59224882401,
          1953.513257367598,
          23337.01754943471,
          1458.069092581452,
          7252.401857739923,
          15994.81986155335,
          533.9915332659843,
          66679.04648997521,
          29160.10381106891,
          19380.51350705477,
          26104.10278899495,
          2411.862926352774,
          389.8313954980403,
          7005.095412660223,
          null,
          30349.75209843605,
          4059.208229849466,
          20567.49911359164,
          11353.7152084186,
          null,
          7361.400961800199,
          740.746767001408,
          6938.08698147294,
          54589.06038606061,
          86388.40495271837,
          1268.23584864054,
          853.218873401321,
          1042.8387560513,
          7296.879607723391,
          1249.138350519529,
          901.5230168989367,
          4740.700272244761,
          17037.86235618971,
          3680.89259713943,
          9454.34844272271,
          6967.375042588062,
          29553.13669790533,
          3701.709254506929,
          770.6007843432924,
          3096.56169661923,
          43839.32448669031,
          43646.95197114935,
          63064.4184096731,
          18703.86029244782,
          1597.068336610896,
          3125.404999189522,
          2566.447487006298,
          3562.330942702557,
          758.1452415694234,
          1516.36837125728,
          1254.642264944341,
          null
         ],
         "yaxis": "y"
        },
        {
         "hovertemplate": "<b>OLS trendline</b><br>gdppc = 19693 * edu_quality_index + -63107.6<br>R<sup>2</sup>=0.559721<br><br>edu_quality_index=%{x}<br>gdppc=%{y} <b>(trend)</b><extra></extra>",
         "legendgroup": "",
         "line": {
          "color": "Purple"
         },
         "marker": {
          "symbol": "circle"
         },
         "mode": "lines",
         "name": "",
         "showlegend": false,
         "type": "scatter",
         "x": [
          2.2447446585,
          2.3659526705,
          2.61314469575,
          2.7540509105,
          2.7684766055,
          2.790258944,
          2.7947496775,
          2.89157027,
          2.9052241445,
          2.91684859975,
          2.92263948925,
          2.927667737,
          3.03231650575,
          3.09669226425,
          3.09706348175,
          3.15139406925,
          3.1524888275,
          3.16824227575,
          3.182566643,
          3.23686605675,
          3.27700579175,
          3.289593935,
          3.302977741,
          3.3095909355,
          3.343117058,
          3.34541547275,
          3.3678638935,
          3.36910063025,
          3.38388782725,
          3.4022233485,
          3.416745662749999,
          3.4795261025,
          3.48593091975,
          3.51215380425,
          3.5151272415,
          3.548745334249999,
          3.551756382,
          3.5835725665,
          3.6091204285,
          3.622494161,
          3.6361775995,
          3.66025239225,
          3.66399663725,
          3.66430544875,
          3.67245489375,
          3.680060029,
          3.68711513275,
          3.69268512725,
          3.7034083605,
          3.7505168915,
          3.75650507225,
          3.76005345575,
          3.773089886,
          3.7737690805,
          3.778220594,
          3.793227315,
          3.798733771,
          3.79927766325,
          3.800363958,
          3.83100247375,
          3.8370832205,
          3.83756726975,
          3.90237712875,
          3.99517446775,
          3.995258987,
          3.99615168575,
          4.018807113,
          4.03637063525,
          4.05051058525,
          4.08039987125,
          4.09712105975,
          4.113367319,
          4.121846437249999,
          4.123025775249999,
          4.124032378,
          4.13513046525,
          4.1842525005,
          4.217128813,
          4.3122189045,
          4.31229245675,
          4.336327791,
          4.3412513735,
          4.3563212755,
          4.36378258475,
          4.36485934275,
          4.374483644750001,
          4.37463819975,
          4.3772073985,
          4.394029140500001,
          4.406499505,
          4.437981963,
          4.468680382000001,
          4.485545992750001,
          4.4885306955,
          4.48947828975,
          4.513828873750001,
          4.5152790545,
          4.5241591335,
          4.584998965500001,
          4.6026746035,
          4.605217695249999,
          4.68427121625,
          4.710301160749999,
          4.76136147975,
          4.787541389499999,
          4.796257138250001,
          4.816789984750001,
          4.821053028250001,
          4.96322739125,
          5.07211995125,
          5.118548751000001,
          5.124402999999999,
          5.199332714000001,
          5.2462177275,
          5.25812911975,
          5.26850879225,
          5.2810070515,
          5.28436040875,
          5.32498466975,
          5.36690354325,
          5.37197506425,
          5.386394262250001,
          5.4105769395,
          5.44074654575,
          5.4820508955,
          5.5188162325,
          5.579452038,
          5.650964141,
          5.697491168999999,
          5.77895951275,
          5.877574682,
          6.1019439695,
          6.1326652765
         ],
         "xaxis": "x",
         "y": [
          -18901.778510640666,
          -16514.82597688169,
          -11646.86699249128,
          -8871.99723949261,
          -8587.911652547384,
          -8158.951493760433,
          -8070.515362110478,
          -6163.824915047291,
          -5894.93880928885,
          -5666.018109619625,
          -5551.977972035796,
          -5452.956558276191,
          -3392.105632657765,
          -2124.352145666892,
          -2117.0417497815115,
          -1047.1080766367043,
          -1025.548973937366,
          -715.3159076960169,
          -433.22577076776207,
          636.0939969072444,
          1426.5668425691697,
          1674.465475094454,
          1938.0331148560738,
          2068.26692619865,
          2728.497728833116,
          2773.760470302237,
          3215.837804167758,
          3240.1928931614266,
          3531.3975483977747,
          3892.479445405368,
          4178.467757754545,
          5414.804591096616,
          5540.934823833628,
          6057.342770527319,
          6115.898747650854,
          6777.940722811327,
          6837.237364489886,
          7463.794313603264,
          7966.909024642533,
          8230.278286706582,
          8499.746597086176,
          8973.852117060671,
          9047.587631258895,
          9053.66906416268,
          9214.156296570049,
          9363.924422909478,
          9502.860764609357,
          9612.550811211215,
          9823.723722587541,
          10751.433249183132,
          10869.358648486106,
          10939.237057069144,
          11195.963817148418,
          11209.339212107378,
          11297.00298327695,
          11592.530730356611,
          11700.969511624902,
          11711.680395854473,
          11733.07282662813,
          12336.4379144086,
          12456.186218357838,
          12465.718612831499,
          13742.020852262765,
          15569.48126347833,
          15571.1457032675,
          15588.725642976404,
          16034.879561232072,
          16380.758461847725,
          16659.21686507378,
          17247.82735189496,
          17577.118152057057,
          17897.056158142765,
          18064.035654439413,
          18087.260388355982,
          18107.083442500327,
          18325.638363451137,
          19292.99988162691,
          19940.433959025417,
          21813.04560487352,
          21814.49407124636,
          22287.822533953786,
          22384.782772222065,
          22681.554744378496,
          22828.490501558037,
          22849.69512486582,
          23039.22675454524,
          23042.27041018125,
          23092.865708007306,
          23424.136710860985,
          23669.715923398286,
          24289.70078786468,
          24894.245551905915,
          25226.380463194662,
          25285.15829210275,
          25303.819290321368,
          25783.35597455734,
          25811.9144217961,
          25986.790048574232,
          27184.91044300718,
          27532.997242004443,
          27583.078414000247,
          29139.88145977186,
          29652.48983402586,
          30658.022024518283,
          31173.583668342155,
          31345.223135231718,
          31749.57701555489,
          31833.52924211108,
          34633.37267159013,
          36777.79668870463,
          37692.12025010957,
          37807.40812797527,
          39283.000935207696,
          40206.30872586056,
          40440.880083335964,
          40645.28724392417,
          40891.41578849896,
          40957.453540066796,
          41757.46816885253,
          42582.97763528242,
          42682.851230280095,
          42966.808871635316,
          43443.0389638751,
          44037.16980467254,
          44850.57743890574,
          45574.598176962674,
          46768.70067222299,
          48176.990377117116,
          49093.24835000485,
          50697.60656301813,
          52639.63765670818,
          57058.14787281355,
          57663.14337083424
         ],
         "yaxis": "y"
        }
       ],
       "layout": {
        "coloraxis": {
         "colorbar": {
          "title": {
           "text": "edu_quality_index"
          }
         },
         "colorscale": [
          [
           0,
           "rgb(209, 238, 234)"
          ],
          [
           0.16666666666666666,
           "rgb(168, 219, 217)"
          ],
          [
           0.3333333333333333,
           "rgb(133, 196, 201)"
          ],
          [
           0.5,
           "rgb(104, 171, 184)"
          ],
          [
           0.6666666666666666,
           "rgb(79, 144, 166)"
          ],
          [
           0.8333333333333334,
           "rgb(59, 115, 143)"
          ],
          [
           1,
           "rgb(42, 86, 116)"
          ]
         ]
        },
        "legend": {
         "title": {
          "text": "Quality of Education Index"
         },
         "tracegroupgap": 0
        },
        "margin": {
         "t": 60
        },
        "template": {
         "data": {
          "bar": [
           {
            "error_x": {
             "color": "#2a3f5f"
            },
            "error_y": {
             "color": "#2a3f5f"
            },
            "marker": {
             "line": {
              "color": "#E5ECF6",
              "width": 0.5
             },
             "pattern": {
              "fillmode": "overlay",
              "size": 10,
              "solidity": 0.2
             }
            },
            "type": "bar"
           }
          ],
          "barpolar": [
           {
            "marker": {
             "line": {
              "color": "#E5ECF6",
              "width": 0.5
             },
             "pattern": {
              "fillmode": "overlay",
              "size": 10,
              "solidity": 0.2
             }
            },
            "type": "barpolar"
           }
          ],
          "carpet": [
           {
            "aaxis": {
             "endlinecolor": "#2a3f5f",
             "gridcolor": "white",
             "linecolor": "white",
             "minorgridcolor": "white",
             "startlinecolor": "#2a3f5f"
            },
            "baxis": {
             "endlinecolor": "#2a3f5f",
             "gridcolor": "white",
             "linecolor": "white",
             "minorgridcolor": "white",
             "startlinecolor": "#2a3f5f"
            },
            "type": "carpet"
           }
          ],
          "choropleth": [
           {
            "colorbar": {
             "outlinewidth": 0,
             "ticks": ""
            },
            "type": "choropleth"
           }
          ],
          "contour": [
           {
            "colorbar": {
             "outlinewidth": 0,
             "ticks": ""
            },
            "colorscale": [
             [
              0,
              "#0d0887"
             ],
             [
              0.1111111111111111,
              "#46039f"
             ],
             [
              0.2222222222222222,
              "#7201a8"
             ],
             [
              0.3333333333333333,
              "#9c179e"
             ],
             [
              0.4444444444444444,
              "#bd3786"
             ],
             [
              0.5555555555555556,
              "#d8576b"
             ],
             [
              0.6666666666666666,
              "#ed7953"
             ],
             [
              0.7777777777777778,
              "#fb9f3a"
             ],
             [
              0.8888888888888888,
              "#fdca26"
             ],
             [
              1,
              "#f0f921"
             ]
            ],
            "type": "contour"
           }
          ],
          "contourcarpet": [
           {
            "colorbar": {
             "outlinewidth": 0,
             "ticks": ""
            },
            "type": "contourcarpet"
           }
          ],
          "heatmap": [
           {
            "colorbar": {
             "outlinewidth": 0,
             "ticks": ""
            },
            "colorscale": [
             [
              0,
              "#0d0887"
             ],
             [
              0.1111111111111111,
              "#46039f"
             ],
             [
              0.2222222222222222,
              "#7201a8"
             ],
             [
              0.3333333333333333,
              "#9c179e"
             ],
             [
              0.4444444444444444,
              "#bd3786"
             ],
             [
              0.5555555555555556,
              "#d8576b"
             ],
             [
              0.6666666666666666,
              "#ed7953"
             ],
             [
              0.7777777777777778,
              "#fb9f3a"
             ],
             [
              0.8888888888888888,
              "#fdca26"
             ],
             [
              1,
              "#f0f921"
             ]
            ],
            "type": "heatmap"
           }
          ],
          "heatmapgl": [
           {
            "colorbar": {
             "outlinewidth": 0,
             "ticks": ""
            },
            "colorscale": [
             [
              0,
              "#0d0887"
             ],
             [
              0.1111111111111111,
              "#46039f"
             ],
             [
              0.2222222222222222,
              "#7201a8"
             ],
             [
              0.3333333333333333,
              "#9c179e"
             ],
             [
              0.4444444444444444,
              "#bd3786"
             ],
             [
              0.5555555555555556,
              "#d8576b"
             ],
             [
              0.6666666666666666,
              "#ed7953"
             ],
             [
              0.7777777777777778,
              "#fb9f3a"
             ],
             [
              0.8888888888888888,
              "#fdca26"
             ],
             [
              1,
              "#f0f921"
             ]
            ],
            "type": "heatmapgl"
           }
          ],
          "histogram": [
           {
            "marker": {
             "pattern": {
              "fillmode": "overlay",
              "size": 10,
              "solidity": 0.2
             }
            },
            "type": "histogram"
           }
          ],
          "histogram2d": [
           {
            "colorbar": {
             "outlinewidth": 0,
             "ticks": ""
            },
            "colorscale": [
             [
              0,
              "#0d0887"
             ],
             [
              0.1111111111111111,
              "#46039f"
             ],
             [
              0.2222222222222222,
              "#7201a8"
             ],
             [
              0.3333333333333333,
              "#9c179e"
             ],
             [
              0.4444444444444444,
              "#bd3786"
             ],
             [
              0.5555555555555556,
              "#d8576b"
             ],
             [
              0.6666666666666666,
              "#ed7953"
             ],
             [
              0.7777777777777778,
              "#fb9f3a"
             ],
             [
              0.8888888888888888,
              "#fdca26"
             ],
             [
              1,
              "#f0f921"
             ]
            ],
            "type": "histogram2d"
           }
          ],
          "histogram2dcontour": [
           {
            "colorbar": {
             "outlinewidth": 0,
             "ticks": ""
            },
            "colorscale": [
             [
              0,
              "#0d0887"
             ],
             [
              0.1111111111111111,
              "#46039f"
             ],
             [
              0.2222222222222222,
              "#7201a8"
             ],
             [
              0.3333333333333333,
              "#9c179e"
             ],
             [
              0.4444444444444444,
              "#bd3786"
             ],
             [
              0.5555555555555556,
              "#d8576b"
             ],
             [
              0.6666666666666666,
              "#ed7953"
             ],
             [
              0.7777777777777778,
              "#fb9f3a"
             ],
             [
              0.8888888888888888,
              "#fdca26"
             ],
             [
              1,
              "#f0f921"
             ]
            ],
            "type": "histogram2dcontour"
           }
          ],
          "mesh3d": [
           {
            "colorbar": {
             "outlinewidth": 0,
             "ticks": ""
            },
            "type": "mesh3d"
           }
          ],
          "parcoords": [
           {
            "line": {
             "colorbar": {
              "outlinewidth": 0,
              "ticks": ""
             }
            },
            "type": "parcoords"
           }
          ],
          "pie": [
           {
            "automargin": true,
            "type": "pie"
           }
          ],
          "scatter": [
           {
            "marker": {
             "colorbar": {
              "outlinewidth": 0,
              "ticks": ""
             }
            },
            "type": "scatter"
           }
          ],
          "scatter3d": [
           {
            "line": {
             "colorbar": {
              "outlinewidth": 0,
              "ticks": ""
             }
            },
            "marker": {
             "colorbar": {
              "outlinewidth": 0,
              "ticks": ""
             }
            },
            "type": "scatter3d"
           }
          ],
          "scattercarpet": [
           {
            "marker": {
             "colorbar": {
              "outlinewidth": 0,
              "ticks": ""
             }
            },
            "type": "scattercarpet"
           }
          ],
          "scattergeo": [
           {
            "marker": {
             "colorbar": {
              "outlinewidth": 0,
              "ticks": ""
             }
            },
            "type": "scattergeo"
           }
          ],
          "scattergl": [
           {
            "marker": {
             "colorbar": {
              "outlinewidth": 0,
              "ticks": ""
             }
            },
            "type": "scattergl"
           }
          ],
          "scattermapbox": [
           {
            "marker": {
             "colorbar": {
              "outlinewidth": 0,
              "ticks": ""
             }
            },
            "type": "scattermapbox"
           }
          ],
          "scatterpolar": [
           {
            "marker": {
             "colorbar": {
              "outlinewidth": 0,
              "ticks": ""
             }
            },
            "type": "scatterpolar"
           }
          ],
          "scatterpolargl": [
           {
            "marker": {
             "colorbar": {
              "outlinewidth": 0,
              "ticks": ""
             }
            },
            "type": "scatterpolargl"
           }
          ],
          "scatterternary": [
           {
            "marker": {
             "colorbar": {
              "outlinewidth": 0,
              "ticks": ""
             }
            },
            "type": "scatterternary"
           }
          ],
          "surface": [
           {
            "colorbar": {
             "outlinewidth": 0,
             "ticks": ""
            },
            "colorscale": [
             [
              0,
              "#0d0887"
             ],
             [
              0.1111111111111111,
              "#46039f"
             ],
             [
              0.2222222222222222,
              "#7201a8"
             ],
             [
              0.3333333333333333,
              "#9c179e"
             ],
             [
              0.4444444444444444,
              "#bd3786"
             ],
             [
              0.5555555555555556,
              "#d8576b"
             ],
             [
              0.6666666666666666,
              "#ed7953"
             ],
             [
              0.7777777777777778,
              "#fb9f3a"
             ],
             [
              0.8888888888888888,
              "#fdca26"
             ],
             [
              1,
              "#f0f921"
             ]
            ],
            "type": "surface"
           }
          ],
          "table": [
           {
            "cells": {
             "fill": {
              "color": "#EBF0F8"
             },
             "line": {
              "color": "white"
             }
            },
            "header": {
             "fill": {
              "color": "#C8D4E3"
             },
             "line": {
              "color": "white"
             }
            },
            "type": "table"
           }
          ]
         },
         "layout": {
          "annotationdefaults": {
           "arrowcolor": "#2a3f5f",
           "arrowhead": 0,
           "arrowwidth": 1
          },
          "autotypenumbers": "strict",
          "coloraxis": {
           "colorbar": {
            "outlinewidth": 0,
            "ticks": ""
           }
          },
          "colorscale": {
           "diverging": [
            [
             0,
             "#8e0152"
            ],
            [
             0.1,
             "#c51b7d"
            ],
            [
             0.2,
             "#de77ae"
            ],
            [
             0.3,
             "#f1b6da"
            ],
            [
             0.4,
             "#fde0ef"
            ],
            [
             0.5,
             "#f7f7f7"
            ],
            [
             0.6,
             "#e6f5d0"
            ],
            [
             0.7,
             "#b8e186"
            ],
            [
             0.8,
             "#7fbc41"
            ],
            [
             0.9,
             "#4d9221"
            ],
            [
             1,
             "#276419"
            ]
           ],
           "sequential": [
            [
             0,
             "#0d0887"
            ],
            [
             0.1111111111111111,
             "#46039f"
            ],
            [
             0.2222222222222222,
             "#7201a8"
            ],
            [
             0.3333333333333333,
             "#9c179e"
            ],
            [
             0.4444444444444444,
             "#bd3786"
            ],
            [
             0.5555555555555556,
             "#d8576b"
            ],
            [
             0.6666666666666666,
             "#ed7953"
            ],
            [
             0.7777777777777778,
             "#fb9f3a"
            ],
            [
             0.8888888888888888,
             "#fdca26"
            ],
            [
             1,
             "#f0f921"
            ]
           ],
           "sequentialminus": [
            [
             0,
             "#0d0887"
            ],
            [
             0.1111111111111111,
             "#46039f"
            ],
            [
             0.2222222222222222,
             "#7201a8"
            ],
            [
             0.3333333333333333,
             "#9c179e"
            ],
            [
             0.4444444444444444,
             "#bd3786"
            ],
            [
             0.5555555555555556,
             "#d8576b"
            ],
            [
             0.6666666666666666,
             "#ed7953"
            ],
            [
             0.7777777777777778,
             "#fb9f3a"
            ],
            [
             0.8888888888888888,
             "#fdca26"
            ],
            [
             1,
             "#f0f921"
            ]
           ]
          },
          "colorway": [
           "#636efa",
           "#EF553B",
           "#00cc96",
           "#ab63fa",
           "#FFA15A",
           "#19d3f3",
           "#FF6692",
           "#B6E880",
           "#FF97FF",
           "#FECB52"
          ],
          "font": {
           "color": "#2a3f5f"
          },
          "geo": {
           "bgcolor": "white",
           "lakecolor": "white",
           "landcolor": "#E5ECF6",
           "showlakes": true,
           "showland": true,
           "subunitcolor": "white"
          },
          "hoverlabel": {
           "align": "left"
          },
          "hovermode": "closest",
          "mapbox": {
           "style": "light"
          },
          "paper_bgcolor": "white",
          "plot_bgcolor": "#E5ECF6",
          "polar": {
           "angularaxis": {
            "gridcolor": "white",
            "linecolor": "white",
            "ticks": ""
           },
           "bgcolor": "#E5ECF6",
           "radialaxis": {
            "gridcolor": "white",
            "linecolor": "white",
            "ticks": ""
           }
          },
          "scene": {
           "xaxis": {
            "backgroundcolor": "#E5ECF6",
            "gridcolor": "white",
            "gridwidth": 2,
            "linecolor": "white",
            "showbackground": true,
            "ticks": "",
            "zerolinecolor": "white"
           },
           "yaxis": {
            "backgroundcolor": "#E5ECF6",
            "gridcolor": "white",
            "gridwidth": 2,
            "linecolor": "white",
            "showbackground": true,
            "ticks": "",
            "zerolinecolor": "white"
           },
           "zaxis": {
            "backgroundcolor": "#E5ECF6",
            "gridcolor": "white",
            "gridwidth": 2,
            "linecolor": "white",
            "showbackground": true,
            "ticks": "",
            "zerolinecolor": "white"
           }
          },
          "shapedefaults": {
           "line": {
            "color": "#2a3f5f"
           }
          },
          "ternary": {
           "aaxis": {
            "gridcolor": "white",
            "linecolor": "white",
            "ticks": ""
           },
           "baxis": {
            "gridcolor": "white",
            "linecolor": "white",
            "ticks": ""
           },
           "bgcolor": "#E5ECF6",
           "caxis": {
            "gridcolor": "white",
            "linecolor": "white",
            "ticks": ""
           }
          },
          "title": {
           "x": 0.05
          },
          "xaxis": {
           "automargin": true,
           "gridcolor": "white",
           "linecolor": "white",
           "ticks": "",
           "title": {
            "standoff": 15
           },
           "zerolinecolor": "white",
           "zerolinewidth": 2
          },
          "yaxis": {
           "automargin": true,
           "gridcolor": "white",
           "linecolor": "white",
           "ticks": "",
           "title": {
            "standoff": 15
           },
           "zerolinecolor": "white",
           "zerolinewidth": 2
          }
         }
        },
        "title": {
         "text": "Relationship between GDP per Capita vs. Quality of Education Index in 2018",
         "x": 0.5,
         "xanchor": "center"
        },
        "xaxis": {
         "anchor": "y",
         "domain": [
          0,
          1
         ],
         "title": {
          "text": "Quality of Education Index"
         }
        },
        "yaxis": {
         "anchor": "x",
         "domain": [
          0,
          1
         ],
         "title": {
          "text": "GDP per Capita"
         }
        }
       }
      }
     },
     "metadata": {},
     "output_type": "display_data"
    }
   ],
   "source": [
    "fig = px.scatter(data_frame=df_indicators_2018,x='edu_quality_index',y='gdppc',hover_name='country',color='edu_quality_index', trendline='ols',\n",
    "                log_y=False, labels={'val_qual_ed':'Education Quality Index'}, color_continuous_scale=px.colors.sequential.Teal,  \n",
    "                trendline_color_override='Purple')\n",
    "\n",
    "#Setting the labels of the plot\n",
    "fig.update_layout(\n",
    "    title={\n",
    "        'text': 'Relationship between GDP per Capita vs. Quality of Education Index in 2018',\n",
    "        'x':0.5,\n",
    "        'xanchor': 'center'},\n",
    "    xaxis_title='Quality of Education Index',\n",
    "    yaxis_title='GDP per Capita',\n",
    "    legend={'title':'Quality of Education Index'}\n",
    ")\n",
    "\n",
    "fig.show()"
   ]
  },
  {
   "cell_type": "markdown",
   "metadata": {},
   "source": [
    "#### 2.4.2 GDP per Capita effect on Quality of Education"
   ]
  },
  {
   "cell_type": "markdown",
   "metadata": {},
   "source": [
    "Things become really interesting when we look at this the other way around.\n",
    "\n",
    "There's very weak association between the GDP per capita (GDPPC) and the quality of education among very low income groups. However, once the GDPPC exceeds a certain threshold (USD 10K), the education quality increases dramatically and the association become a lot stronger\n"
   ]
  },
  {
   "cell_type": "code",
   "execution_count": 30,
   "metadata": {},
   "outputs": [
    {
     "data": {
      "application/vnd.plotly.v1+json": {
       "config": {
        "plotlyServerURL": "https://plot.ly"
       },
       "data": [
        {
         "hovertemplate": "<b>%{hovertext}</b><br><br>income_group=Low income<br>gdppc=%{x}<br>Education Quality Index=%{y}<extra></extra>",
         "hovertext": [
          "Afghanistan",
          "Burkina Faso",
          "Burundi",
          "Central African Republic",
          "Chad",
          "Eritrea",
          "Ethiopia",
          "Gambia",
          "Guinea",
          "Guinea-Bissau",
          "Liberia",
          "Madagascar",
          "Malawi",
          "Mali",
          "Mozambique",
          "Niger",
          "Rwanda",
          "Sierra Leone",
          "Somalia",
          "South Sudan",
          "Sudan",
          "Syria",
          "Togo",
          "Uganda",
          "Yemen"
         ],
         "legendgroup": "Low income",
         "marker": {
          "color": "#636efa",
          "symbol": "circle"
         },
         "mode": "markers",
         "name": "Low income",
         "orientation": "v",
         "showlegend": true,
         "type": "scatter",
         "x": [
          485.6684187298079,
          804.5005378215156,
          238.7834670201728,
          475.9538138648127,
          726.1510070885486,
          null,
          771.5248663494308,
          732.720727318856,
          955.1112811367115,
          802.7673851161555,
          710.2659984195813,
          523.9459714196604,
          544.5934353933727,
          894.8047765103656,
          503.3179251711392,
          570.7239219535921,
          783.6371628148081,
          533.9915332659843,
          389.8313954980403,
          null,
          740.746767001408,
          1268.23584864054,
          901.5230168989367,
          770.6007843432924,
          758.1452415694234
         ],
         "xaxis": "x",
         "y": [
          null,
          null,
          3.3095909355,
          null,
          2.61314469575,
          null,
          3.548745334249999,
          4.03637063525,
          2.7947496775,
          null,
          2.89157027,
          3.67245489375,
          2.92263948925,
          3.66399663725,
          2.790258944,
          null,
          4.394029140500001,
          2.91684859975,
          null,
          null,
          null,
          null,
          null,
          3.343117058,
          2.2447446585
         ],
         "yaxis": "y"
        },
        {
         "hovertemplate": "<b>OLS trendline</b><br>edu_quality_index = 0.000268125 * gdppc + 3.04351<br>R<sup>2</sup>=0.007119<br><br>income_group=Low income<br>gdppc=%{x}<br>Education Quality Index=%{y} <b>(trend)</b><extra></extra>",
         "legendgroup": "Low income",
         "line": {
          "color": "Purple"
         },
         "marker": {
          "color": "#636efa",
          "symbol": "circle"
         },
         "mode": "lines",
         "name": "Low income",
         "showlegend": false,
         "type": "scatter",
         "x": [
          238.7834670201728,
          503.3179251711392,
          523.9459714196604,
          533.9915332659843,
          544.5934353933727,
          710.2659984195813,
          726.1510070885486,
          732.720727318856,
          758.1452415694234,
          770.6007843432924,
          771.5248663494308,
          783.6371628148081,
          894.8047765103656,
          955.1112811367115
         ],
         "xaxis": "x",
         "y": [
          3.1075328111633476,
          3.1784610635006234,
          3.1839919545602116,
          3.1866854189598444,
          3.189528051993751,
          3.233948977108089,
          3.2382081420997793,
          3.239969647113295,
          3.2467865902628628,
          3.250126230349972,
          3.2503739996658103,
          3.2536216069003654,
          3.2834284026238603,
          3.2995980729481533
         ],
         "yaxis": "y"
        },
        {
         "hovertemplate": "<b>%{hovertext}</b><br><br>income_group=Upper middle income<br>gdppc=%{x}<br>Education Quality Index=%{y}<extra></extra>",
         "hovertext": [
          "Albania",
          "American Samoa",
          "Argentina",
          "Armenia",
          "Azerbaijan",
          "Belarus",
          "Bosnia and Herzegovina",
          "Botswana",
          "Brazil",
          "Bulgaria",
          "China",
          "Colombia",
          "Costa Rica",
          "Cuba",
          "Dominica",
          "Dominican Republic",
          "Ecuador",
          "Equatorial Guinea",
          "Fiji",
          "Gabon",
          "Georgia",
          "Grenada",
          "Guatemala",
          "Guyana",
          "Iraq",
          "Jamaica",
          "Jordan",
          "Kazakhstan",
          "Kosovo",
          "Lebanon",
          "Libya",
          "Malaysia",
          "Maldives",
          "Marshall Islands",
          "Mauritius",
          "Mexico",
          "Moldova",
          "Montenegro",
          "Namibia",
          "North Macedonia",
          "Panama",
          "Paraguay",
          "Peru",
          "Romania",
          "Russia",
          "Serbia",
          "South Africa",
          "St. Lucia",
          "St. Vincent and the Grenadines",
          "Suriname",
          "Thailand",
          "Tonga",
          "Turkey",
          "Turkmenistan",
          "Tuvalu"
         ],
         "legendgroup": "Upper middle income",
         "marker": {
          "color": "#EF553B",
          "symbol": "circle"
         },
         "mode": "markers",
         "name": "Upper middle income",
         "orientation": "v",
         "showlegend": true,
         "type": "scatter",
         "x": [
          5287.663694469134,
          11521.6097798453,
          11795.15938662869,
          4220.540320791452,
          4739.841710283928,
          6360.062473012837,
          6070.349081292916,
          7503.878588364595,
          9151.381731615356,
          9446.700771855185,
          9905.342003892534,
          6729.583331981685,
          12485.42389616804,
          8824.194008438417,
          7687.462963480052,
          8050.644076234162,
          6295.934661639924,
          10005.61679172682,
          6317.413720151232,
          7959.007267363763,
          4722.787783217665,
          10466.88221119575,
          4478.424645509439,
          6145.819276643771,
          5915.850853696438,
          5359.993789396384,
          4308.151073899704,
          9812.626370773956,
          4384.048891731897,
          8058.44433692324,
          7877.124609545421,
          11380.08209004754,
          10279.07997516187,
          3793.550982674793,
          11208.34381844736,
          9686.984926555855,
          4230.3630367862,
          8845.914218872962,
          5588.392864119423,
          6108.740108316977,
          15544.99907884487,
          5782.784549812856,
          6957.793411493588,
          12398.98197876661,
          11287.3552780815,
          7252.401857739923,
          7005.095412660223,
          11353.7152084186,
          7361.400961800199,
          6938.08698147294,
          7296.879607723391,
          4740.700272244761,
          9454.34844272271,
          6967.375042588062,
          3701.709254506929
         ],
         "xaxis": "x",
         "y": [
          4.485545992750001,
          null,
          3.75650507225,
          4.123025775249999,
          4.406499505,
          null,
          3.23686605675,
          3.6361775995,
          3.182566643,
          3.773089886,
          4.513828873750001,
          3.800363958,
          4.787541389499999,
          null,
          null,
          3.09706348175,
          3.7505168915,
          null,
          null,
          null,
          3.5151272415,
          null,
          3.289593935,
          null,
          null,
          4.37463819975,
          4.31229245675,
          4.113367319,
          null,
          5.118548751000001,
          null,
          5.25812911975,
          null,
          null,
          4.3772073985,
          3.51215380425,
          3.76005345575,
          4.08039987125,
          3.34541547275,
          null,
          3.680060029,
          2.7540509105,
          3.27700579175,
          3.7737690805,
          4.3563212755,
          3.99615168575,
          3.4022233485,
          null,
          null,
          null,
          4.05051058525,
          null,
          3.551756382,
          null,
          null
         ],
         "yaxis": "y"
        },
        {
         "hovertemplate": "<b>OLS trendline</b><br>edu_quality_index = 4.46171e-05 * gdppc + 3.53815<br>R<sup>2</sup>=0.049413<br><br>income_group=Upper middle income<br>gdppc=%{x}<br>Education Quality Index=%{y} <b>(trend)</b><extra></extra>",
         "legendgroup": "Upper middle income",
         "line": {
          "color": "Purple"
         },
         "marker": {
          "color": "#EF553B",
          "symbol": "circle"
         },
         "mode": "lines",
         "name": "Upper middle income",
         "showlegend": false,
         "type": "scatter",
         "x": [
          4220.540320791452,
          4230.3630367862,
          4308.151073899704,
          4478.424645509439,
          4722.787783217665,
          4739.841710283928,
          5287.663694469134,
          5359.993789396384,
          5588.392864119423,
          5782.784549812856,
          6070.349081292916,
          6295.934661639924,
          6729.583331981685,
          6957.793411493588,
          7005.095412660223,
          7252.401857739923,
          7296.879607723391,
          7503.878588364595,
          8050.644076234162,
          8058.44433692324,
          8845.914218872962,
          9151.381731615356,
          9446.700771855185,
          9454.34844272271,
          9686.984926555855,
          9812.626370773956,
          9905.342003892534,
          11208.34381844736,
          11287.3552780815,
          11380.08209004754,
          11795.15938662869,
          12398.98197876661,
          12485.42389616804,
          15544.99907884487
         ],
         "xaxis": "x",
         "y": [
          3.726460692323159,
          3.7268989536989374,
          3.7303696324992504,
          3.7379667502202847,
          3.7488695315873524,
          3.7496304288323183,
          3.774072672362421,
          3.777299833458186,
          3.787490344185378,
          3.7961635428869833,
          3.808993846365055,
          3.8190588270538495,
          3.8384069852384166,
          3.848589063542102,
          3.8506995429776723,
          3.8617336462661567,
          3.86371811572549,
          3.872953815718145,
          3.897348921417016,
          3.897696946645767,
          3.9328315910793306,
          3.946460674162021,
          3.9596369615491622,
          3.95997817865833,
          3.970357750409715,
          3.9759635107948523,
          3.9801002160552343,
          4.038236414657932,
          4.041761679057314,
          4.045898883085763,
          4.064418439912134,
          4.091359269729258,
          4.095216059813135,
          4.231725517031931
         ],
         "yaxis": "y"
        },
        {
         "hovertemplate": "<b>%{hovertext}</b><br><br>income_group=Lower middle income<br>gdppc=%{x}<br>Education Quality Index=%{y}<extra></extra>",
         "hovertext": [
          "Algeria",
          "Angola",
          "Bangladesh",
          "Belize",
          "Benin",
          "Bhutan",
          "Bolivia",
          "Cabo Verde",
          "Cambodia",
          "Cameroon",
          "Comoros",
          "Cote d'Ivoire",
          "Djibouti",
          "Egypt",
          "El Salvador",
          "Eswatini",
          "Ghana",
          "Haiti",
          "Honduras",
          "India",
          "Indonesia",
          "Iran",
          "Kenya",
          "Kiribati",
          "Kyrgyzstan",
          "Lao PDR",
          "Lesotho",
          "Mauritania",
          "Micronesia",
          "Mongolia",
          "Morocco",
          "Myanmar",
          "Nepal",
          "Nicaragua",
          "Nigeria",
          "Pakistan",
          "Papua New Guinea",
          "Philippines",
          "Samoa",
          "Sao Tome and Principe",
          "Senegal",
          "Solomon Islands",
          "Sri Lanka",
          "Tajikistan",
          "Tanzania",
          "Timor-Leste",
          "Tunisia",
          "Ukraine",
          "Uzbekistan",
          "Vanuatu",
          "Vietnam",
          "West Bank and Gaza",
          "Zambia",
          "Zimbabwe",
          "Congo"
         ],
         "legendgroup": "Lower middle income",
         "marker": {
          "color": "#00cc96",
          "symbol": "circle"
         },
         "mode": "markers",
         "name": "Lower middle income",
         "orientation": "v",
         "showlegend": true,
         "type": "scatter",
         "x": [
          4142.018558429166,
          3289.643994766784,
          1698.132080787118,
          5001.422156634331,
          1241.825298009576,
          3243.477437487184,
          3548.590780213766,
          3616.464537497126,
          1512.126988893842,
          1585.24053445546,
          1428.290463243223,
          2314.05095836881,
          3141.861710590019,
          2537.125185047117,
          4052.624775337422,
          4105.893682789394,
          2260.860567293368,
          1479.345826888498,
          2492.868967691357,
          1996.915087397891,
          3893.85957814877,
          3598.483453961293,
          1794.0911754468,
          1727.845001316435,
          1308.14016549619,
          2569.093892172514,
          1192.484319518101,
          1670.204164528804,
          3568.291015625,
          4156.846969780199,
          3226.98279356862,
          1250.17369130663,
          1178.525932452371,
          2014.575188790467,
          2027.77854863842,
          1482.21306651797,
          2801.371393029155,
          3252.110274100243,
          4187.504729236637,
          1953.513257367598,
          1458.069092581452,
          2411.862926352774,
          4059.208229849466,
          853.218873401321,
          1042.8387560513,
          1249.138350519529,
          3680.89259713943,
          3096.56169661923,
          1597.068336610896,
          3125.404999189522,
          2566.447487006298,
          3562.330942702557,
          1516.36837125728,
          1254.642264944341,
          null
         ],
         "xaxis": "x",
         "y": [
          3.416745662749999,
          null,
          3.38388782725,
          null,
          3.302977741,
          4.3412513735,
          null,
          null,
          3.3678638935,
          3.99517446775,
          null,
          null,
          null,
          2.9052241445,
          2.927667737,
          3.09669226425,
          4.018807113,
          2.7684766055,
          3.36910063025,
          4.605217695249999,
          4.6026746035,
          3.83756726975,
          4.36485934275,
          null,
          3.1524888275,
          3.8370832205,
          3.5835725665,
          2.3659526705,
          null,
          3.69268512725,
          3.4795261025,
          null,
          3.83100247375,
          3.03231650575,
          3.16824227575,
          3.66025239225,
          null,
          4.3122189045,
          null,
          null,
          4.09712105975,
          null,
          4.124032378,
          4.13513046525,
          3.15139406925,
          null,
          3.79927766325,
          4.374483644750001,
          null,
          null,
          3.68711513275,
          null,
          3.6091204285,
          3.793227315,
          null
         ],
         "yaxis": "y"
        },
        {
         "hovertemplate": "<b>OLS trendline</b><br>edu_quality_index = 7.95265e-05 * gdppc + 3.45587<br>R<sup>2</sup>=0.024930<br><br>income_group=Lower middle income<br>gdppc=%{x}<br>Education Quality Index=%{y} <b>(trend)</b><extra></extra>",
         "legendgroup": "Lower middle income",
         "line": {
          "color": "Purple"
         },
         "marker": {
          "color": "#00cc96",
          "symbol": "circle"
         },
         "mode": "lines",
         "name": "Lower middle income",
         "showlegend": false,
         "type": "scatter",
         "x": [
          853.218873401321,
          1042.8387560513,
          1178.525932452371,
          1192.484319518101,
          1241.825298009576,
          1254.642264944341,
          1308.14016549619,
          1458.069092581452,
          1479.345826888498,
          1482.21306651797,
          1512.126988893842,
          1516.36837125728,
          1585.24053445546,
          1670.204164528804,
          1698.132080787118,
          1794.0911754468,
          1996.915087397891,
          2014.575188790467,
          2027.77854863842,
          2260.860567293368,
          2492.868967691357,
          2537.125185047117,
          2566.447487006298,
          2569.093892172514,
          3096.56169661923,
          3226.98279356862,
          3243.477437487184,
          3252.110274100243,
          3598.483453961293,
          3680.89259713943,
          3893.85957814877,
          4052.624775337422,
          4059.208229849466,
          4105.893682789394,
          4142.018558429166,
          4156.846969780199
         ],
         "xaxis": "x",
         "y": [
          3.5237265292109923,
          3.5388063268432797,
          3.5495970473775897,
          3.5507071084602293,
          3.5546310217135875,
          3.5556503096961283,
          3.559904808237103,
          3.571828124758953,
          3.5735201880760603,
          3.5737482094880106,
          3.5761271577792546,
          3.576464459895615,
          3.5819416190891133,
          3.5886984756471128,
          3.590919483906274,
          3.5985507708168174,
          3.6146806381306638,
          3.6160850834422207,
          3.6171350998845413,
          3.6356712872501338,
          3.6541220935585135,
          3.657641633769005,
          3.6599735325840337,
          3.660183991813318,
          3.70213163800655,
          3.712503565894556,
          3.713815326501263,
          3.7145018654195354,
          3.7420476975578145,
          3.748601404821047,
          3.7655379144902796,
          3.7781639482753255,
          3.7786875070940296,
          3.782400235806162,
          3.785273119211247,
          3.7864523702436648
         ],
         "yaxis": "y"
        },
        {
         "hovertemplate": "<b>%{hovertext}</b><br><br>income_group=High income<br>gdppc=%{x}<br>Education Quality Index=%{y}<extra></extra>",
         "hovertext": [
          "Andorra",
          "Antigua and Barbuda",
          "Aruba",
          "Australia",
          "Austria",
          "Bahamas",
          "Bahrain",
          "Barbados",
          "Belgium",
          "Bermuda",
          "British Virgin Islands",
          "Brunei",
          "Canada",
          "Cayman Islands",
          "Channel Islands",
          "Chile",
          "Croatia",
          "Curacao",
          "Cyprus",
          "Czech",
          "Denmark",
          "Estonia",
          "Faroe Islands",
          "Finland",
          "France",
          "French Polynesia",
          "Germany",
          "Gibraltar",
          "Greece",
          "Greenland",
          "Guam",
          "Hong Kong",
          "Hungary",
          "Iceland",
          "Ireland",
          "Isle of Man",
          "Israel",
          "Italy",
          "Japan",
          "Korea, Rep.",
          "Kuwait",
          "Latvia",
          "Liechtenstein",
          "Lithuania",
          "Luxembourg",
          "Macao SAR, China",
          "Malta",
          "Monaco",
          "Nauru",
          "Netherlands",
          "New Caledonia",
          "New Zealand",
          "Northern Mariana Islands",
          "Norway",
          "Oman",
          "Palau",
          "Poland",
          "Portugal",
          "Puerto Rico",
          "Qatar",
          "San Marino",
          "Saudi Arabia",
          "Seychelles",
          "Singapore",
          "Sint Maarten (Dutch part)",
          "Slovakia",
          "Slovenia",
          "Spain",
          "St. Kitts and Nevis",
          "St. Martin (French part)",
          "Sweden",
          "Switzerland",
          "Trinidad and Tobago",
          "Turks and Caicos Islands",
          "United Arab Emirates",
          "United Kingdom",
          "United States",
          "Uruguay"
         ],
         "legendgroup": "High income",
         "marker": {
          "color": "#ab63fa",
          "symbol": "circle"
         },
         "mode": "markers",
         "name": "High income",
         "orientation": "v",
         "showlegend": true,
         "type": "scatter",
         "x": [
          41791.96983724111,
          16679.5916624545,
          30253.27935801951,
          57180.77940016135,
          51461.43321500823,
          33290.02813541302,
          24085.95598809604,
          17745.2553725928,
          47519.55309689431,
          113023.1855942678,
          null,
          31628.47625660086,
          46548.52036008093,
          86059.73921684535,
          null,
          15888.14435539699,
          15227.56009680961,
          19630.89348730191,
          29334.1109348657,
          23419.73561365016,
          61591.92886989581,
          23052.30125595861,
          62918.14619361205,
          49964.49990984263,
          41572.48500996291,
          null,
          47950.1808142041,
          null,
          19747.34258379349,
          54270.82230552382,
          36556.67491102129,
          48542.68186991609,
          16427.37276114784,
          74469.80405915591,
          79068.97461167873,
          89112.66771585705,
          42063.45312748114,
          34605.26272520575,
          39808.16856087928,
          33422.9442100836,
          33399.06043658418,
          17856.30711719765,
          180366.7151975748,
          19176.81215050502,
          117197.4816936302,
          87526.07999126345,
          30672.29224390378,
          185978.6092513555,
          11614.66507683195,
          53018.62935626958,
          36382.48765568099,
          43306.07000323725,
          22886.67404946475,
          82267.809316159,
          18947.36649597734,
          15895.2598961532,
          15468.48221941048,
          23551.04829056138,
          31604.70151445784,
          65907.94843504085,
          48996.59224882401,
          23337.01754943471,
          15994.81986155335,
          66679.04648997521,
          29160.10381106891,
          19380.51350705477,
          26104.10278899495,
          30349.75209843605,
          20567.49911359164,
          null,
          54589.06038606061,
          86388.40495271837,
          17037.86235618971,
          29553.13669790533,
          43839.32448669031,
          43646.95197114935,
          63064.4184096731,
          18703.86029244782
         ],
         "xaxis": "x",
         "y": [
          null,
          null,
          null,
          5.32498466975,
          4.710301160749999,
          null,
          4.816789984750001,
          null,
          5.36690354325,
          null,
          null,
          4.584998965500001,
          5.579452038,
          null,
          null,
          4.121846437249999,
          3.622494161,
          null,
          4.1842525005,
          4.48947828975,
          5.44074654575,
          5.2810070515,
          null,
          5.877574682,
          4.96322739125,
          null,
          5.28436040875,
          null,
          3.778220594,
          null,
          null,
          5.37197506425,
          3.66430544875,
          5.4105769395,
          5.26850879225,
          null,
          5.07211995125,
          4.437981963,
          4.76136147975,
          4.5241591335,
          3.48593091975,
          4.36378258475,
          null,
          4.4885306955,
          4.68427121625,
          null,
          5.124402999999999,
          null,
          null,
          5.77895951275,
          null,
          5.5188162325,
          null,
          5.386394262250001,
          3.7034083605,
          null,
          4.217128813,
          4.821053028250001,
          null,
          5.650964141,
          null,
          4.336327791,
          3.995258987,
          6.1019439695,
          null,
          3.798733771,
          4.796257138250001,
          4.5152790545,
          null,
          null,
          5.199332714000001,
          6.1326652765,
          4.468680382000001,
          null,
          5.4820508955,
          5.2462177275,
          5.697491168999999,
          3.90237712875
         ],
         "yaxis": "y"
        },
        {
         "hovertemplate": "<b>OLS trendline</b><br>edu_quality_index = 2.08996e-05 * gdppc + 3.98692<br>R<sup>2</sup>=0.455763<br><br>income_group=High income<br>gdppc=%{x}<br>Education Quality Index=%{y} <b>(trend)</b><extra></extra>",
         "legendgroup": "High income",
         "line": {
          "color": "Purple"
         },
         "marker": {
          "color": "#ab63fa",
          "symbol": "circle"
         },
         "mode": "lines",
         "name": "High income",
         "showlegend": false,
         "type": "scatter",
         "x": [
          15227.56009680961,
          15468.48221941048,
          15888.14435539699,
          15994.81986155335,
          16427.37276114784,
          17037.86235618971,
          17856.30711719765,
          18703.86029244782,
          18947.36649597734,
          19176.81215050502,
          19380.51350705477,
          19747.34258379349,
          23052.30125595861,
          23337.01754943471,
          23419.73561365016,
          23551.04829056138,
          24085.95598809604,
          26104.10278899495,
          29334.1109348657,
          30349.75209843605,
          30672.29224390378,
          31628.47625660086,
          33399.06043658418,
          33422.9442100836,
          34605.26272520575,
          39808.16856087928,
          41572.48500996291,
          42063.45312748114,
          43306.07000323725,
          43646.95197114935,
          43839.32448669031,
          46548.52036008093,
          47519.55309689431,
          47950.1808142041,
          48542.68186991609,
          49964.49990984263,
          51461.43321500823,
          53018.62935626958,
          54589.06038606061,
          57180.77940016135,
          61591.92886989581,
          63064.4184096731,
          65907.94843504085,
          66679.04648997521,
          74469.80405915591,
          79068.97461167873,
          82267.809316159,
          86388.40495271837,
          117197.4816936302
         ],
         "xaxis": "x",
         "y": [
          4.305174638884496,
          4.310209820039549,
          4.318980599807704,
          4.321210077501598,
          4.330250269349027,
          4.343009270768766,
          4.360114456430384,
          4.377827996929922,
          4.382917184398114,
          4.387712511715151,
          4.39196979295062,
          4.399636381781818,
          4.4687087668524255,
          4.474659229599354,
          4.476388005826393,
          4.479132391062024,
          4.490311759437345,
          4.532490263554428,
          4.599996210999945,
          4.6212227268213155,
          4.627963693755671,
          4.647947577632834,
          4.684952116694018,
          4.685451278518335,
          4.7101612878871135,
          4.8189000501580255,
          4.855773596016218,
          4.866034643803661,
          4.892004866082184,
          4.899129170161855,
          4.903149682909066,
          4.959770851026714,
          4.980065067616539,
          4.989065023883045,
          5.001448071640816,
          5.031163530409263,
          5.062448869784377,
          5.094993679619837,
          5.127815093615157,
          5.181981039847551,
          5.274172393810201,
          5.304946867742521,
          5.36437556878082,
          5.380491226209822,
          5.543315110012781,
          5.63943603342546,
          5.706290467747428,
          5.792409356593392,
          6.436307396905052
         ],
         "yaxis": "y"
        }
       ],
       "layout": {
        "legend": {
         "title": {
          "text": "Quality of Education Index"
         },
         "tracegroupgap": 0
        },
        "margin": {
         "t": 60
        },
        "template": {
         "data": {
          "bar": [
           {
            "error_x": {
             "color": "#2a3f5f"
            },
            "error_y": {
             "color": "#2a3f5f"
            },
            "marker": {
             "line": {
              "color": "#E5ECF6",
              "width": 0.5
             },
             "pattern": {
              "fillmode": "overlay",
              "size": 10,
              "solidity": 0.2
             }
            },
            "type": "bar"
           }
          ],
          "barpolar": [
           {
            "marker": {
             "line": {
              "color": "#E5ECF6",
              "width": 0.5
             },
             "pattern": {
              "fillmode": "overlay",
              "size": 10,
              "solidity": 0.2
             }
            },
            "type": "barpolar"
           }
          ],
          "carpet": [
           {
            "aaxis": {
             "endlinecolor": "#2a3f5f",
             "gridcolor": "white",
             "linecolor": "white",
             "minorgridcolor": "white",
             "startlinecolor": "#2a3f5f"
            },
            "baxis": {
             "endlinecolor": "#2a3f5f",
             "gridcolor": "white",
             "linecolor": "white",
             "minorgridcolor": "white",
             "startlinecolor": "#2a3f5f"
            },
            "type": "carpet"
           }
          ],
          "choropleth": [
           {
            "colorbar": {
             "outlinewidth": 0,
             "ticks": ""
            },
            "type": "choropleth"
           }
          ],
          "contour": [
           {
            "colorbar": {
             "outlinewidth": 0,
             "ticks": ""
            },
            "colorscale": [
             [
              0,
              "#0d0887"
             ],
             [
              0.1111111111111111,
              "#46039f"
             ],
             [
              0.2222222222222222,
              "#7201a8"
             ],
             [
              0.3333333333333333,
              "#9c179e"
             ],
             [
              0.4444444444444444,
              "#bd3786"
             ],
             [
              0.5555555555555556,
              "#d8576b"
             ],
             [
              0.6666666666666666,
              "#ed7953"
             ],
             [
              0.7777777777777778,
              "#fb9f3a"
             ],
             [
              0.8888888888888888,
              "#fdca26"
             ],
             [
              1,
              "#f0f921"
             ]
            ],
            "type": "contour"
           }
          ],
          "contourcarpet": [
           {
            "colorbar": {
             "outlinewidth": 0,
             "ticks": ""
            },
            "type": "contourcarpet"
           }
          ],
          "heatmap": [
           {
            "colorbar": {
             "outlinewidth": 0,
             "ticks": ""
            },
            "colorscale": [
             [
              0,
              "#0d0887"
             ],
             [
              0.1111111111111111,
              "#46039f"
             ],
             [
              0.2222222222222222,
              "#7201a8"
             ],
             [
              0.3333333333333333,
              "#9c179e"
             ],
             [
              0.4444444444444444,
              "#bd3786"
             ],
             [
              0.5555555555555556,
              "#d8576b"
             ],
             [
              0.6666666666666666,
              "#ed7953"
             ],
             [
              0.7777777777777778,
              "#fb9f3a"
             ],
             [
              0.8888888888888888,
              "#fdca26"
             ],
             [
              1,
              "#f0f921"
             ]
            ],
            "type": "heatmap"
           }
          ],
          "heatmapgl": [
           {
            "colorbar": {
             "outlinewidth": 0,
             "ticks": ""
            },
            "colorscale": [
             [
              0,
              "#0d0887"
             ],
             [
              0.1111111111111111,
              "#46039f"
             ],
             [
              0.2222222222222222,
              "#7201a8"
             ],
             [
              0.3333333333333333,
              "#9c179e"
             ],
             [
              0.4444444444444444,
              "#bd3786"
             ],
             [
              0.5555555555555556,
              "#d8576b"
             ],
             [
              0.6666666666666666,
              "#ed7953"
             ],
             [
              0.7777777777777778,
              "#fb9f3a"
             ],
             [
              0.8888888888888888,
              "#fdca26"
             ],
             [
              1,
              "#f0f921"
             ]
            ],
            "type": "heatmapgl"
           }
          ],
          "histogram": [
           {
            "marker": {
             "pattern": {
              "fillmode": "overlay",
              "size": 10,
              "solidity": 0.2
             }
            },
            "type": "histogram"
           }
          ],
          "histogram2d": [
           {
            "colorbar": {
             "outlinewidth": 0,
             "ticks": ""
            },
            "colorscale": [
             [
              0,
              "#0d0887"
             ],
             [
              0.1111111111111111,
              "#46039f"
             ],
             [
              0.2222222222222222,
              "#7201a8"
             ],
             [
              0.3333333333333333,
              "#9c179e"
             ],
             [
              0.4444444444444444,
              "#bd3786"
             ],
             [
              0.5555555555555556,
              "#d8576b"
             ],
             [
              0.6666666666666666,
              "#ed7953"
             ],
             [
              0.7777777777777778,
              "#fb9f3a"
             ],
             [
              0.8888888888888888,
              "#fdca26"
             ],
             [
              1,
              "#f0f921"
             ]
            ],
            "type": "histogram2d"
           }
          ],
          "histogram2dcontour": [
           {
            "colorbar": {
             "outlinewidth": 0,
             "ticks": ""
            },
            "colorscale": [
             [
              0,
              "#0d0887"
             ],
             [
              0.1111111111111111,
              "#46039f"
             ],
             [
              0.2222222222222222,
              "#7201a8"
             ],
             [
              0.3333333333333333,
              "#9c179e"
             ],
             [
              0.4444444444444444,
              "#bd3786"
             ],
             [
              0.5555555555555556,
              "#d8576b"
             ],
             [
              0.6666666666666666,
              "#ed7953"
             ],
             [
              0.7777777777777778,
              "#fb9f3a"
             ],
             [
              0.8888888888888888,
              "#fdca26"
             ],
             [
              1,
              "#f0f921"
             ]
            ],
            "type": "histogram2dcontour"
           }
          ],
          "mesh3d": [
           {
            "colorbar": {
             "outlinewidth": 0,
             "ticks": ""
            },
            "type": "mesh3d"
           }
          ],
          "parcoords": [
           {
            "line": {
             "colorbar": {
              "outlinewidth": 0,
              "ticks": ""
             }
            },
            "type": "parcoords"
           }
          ],
          "pie": [
           {
            "automargin": true,
            "type": "pie"
           }
          ],
          "scatter": [
           {
            "marker": {
             "colorbar": {
              "outlinewidth": 0,
              "ticks": ""
             }
            },
            "type": "scatter"
           }
          ],
          "scatter3d": [
           {
            "line": {
             "colorbar": {
              "outlinewidth": 0,
              "ticks": ""
             }
            },
            "marker": {
             "colorbar": {
              "outlinewidth": 0,
              "ticks": ""
             }
            },
            "type": "scatter3d"
           }
          ],
          "scattercarpet": [
           {
            "marker": {
             "colorbar": {
              "outlinewidth": 0,
              "ticks": ""
             }
            },
            "type": "scattercarpet"
           }
          ],
          "scattergeo": [
           {
            "marker": {
             "colorbar": {
              "outlinewidth": 0,
              "ticks": ""
             }
            },
            "type": "scattergeo"
           }
          ],
          "scattergl": [
           {
            "marker": {
             "colorbar": {
              "outlinewidth": 0,
              "ticks": ""
             }
            },
            "type": "scattergl"
           }
          ],
          "scattermapbox": [
           {
            "marker": {
             "colorbar": {
              "outlinewidth": 0,
              "ticks": ""
             }
            },
            "type": "scattermapbox"
           }
          ],
          "scatterpolar": [
           {
            "marker": {
             "colorbar": {
              "outlinewidth": 0,
              "ticks": ""
             }
            },
            "type": "scatterpolar"
           }
          ],
          "scatterpolargl": [
           {
            "marker": {
             "colorbar": {
              "outlinewidth": 0,
              "ticks": ""
             }
            },
            "type": "scatterpolargl"
           }
          ],
          "scatterternary": [
           {
            "marker": {
             "colorbar": {
              "outlinewidth": 0,
              "ticks": ""
             }
            },
            "type": "scatterternary"
           }
          ],
          "surface": [
           {
            "colorbar": {
             "outlinewidth": 0,
             "ticks": ""
            },
            "colorscale": [
             [
              0,
              "#0d0887"
             ],
             [
              0.1111111111111111,
              "#46039f"
             ],
             [
              0.2222222222222222,
              "#7201a8"
             ],
             [
              0.3333333333333333,
              "#9c179e"
             ],
             [
              0.4444444444444444,
              "#bd3786"
             ],
             [
              0.5555555555555556,
              "#d8576b"
             ],
             [
              0.6666666666666666,
              "#ed7953"
             ],
             [
              0.7777777777777778,
              "#fb9f3a"
             ],
             [
              0.8888888888888888,
              "#fdca26"
             ],
             [
              1,
              "#f0f921"
             ]
            ],
            "type": "surface"
           }
          ],
          "table": [
           {
            "cells": {
             "fill": {
              "color": "#EBF0F8"
             },
             "line": {
              "color": "white"
             }
            },
            "header": {
             "fill": {
              "color": "#C8D4E3"
             },
             "line": {
              "color": "white"
             }
            },
            "type": "table"
           }
          ]
         },
         "layout": {
          "annotationdefaults": {
           "arrowcolor": "#2a3f5f",
           "arrowhead": 0,
           "arrowwidth": 1
          },
          "autotypenumbers": "strict",
          "coloraxis": {
           "colorbar": {
            "outlinewidth": 0,
            "ticks": ""
           }
          },
          "colorscale": {
           "diverging": [
            [
             0,
             "#8e0152"
            ],
            [
             0.1,
             "#c51b7d"
            ],
            [
             0.2,
             "#de77ae"
            ],
            [
             0.3,
             "#f1b6da"
            ],
            [
             0.4,
             "#fde0ef"
            ],
            [
             0.5,
             "#f7f7f7"
            ],
            [
             0.6,
             "#e6f5d0"
            ],
            [
             0.7,
             "#b8e186"
            ],
            [
             0.8,
             "#7fbc41"
            ],
            [
             0.9,
             "#4d9221"
            ],
            [
             1,
             "#276419"
            ]
           ],
           "sequential": [
            [
             0,
             "#0d0887"
            ],
            [
             0.1111111111111111,
             "#46039f"
            ],
            [
             0.2222222222222222,
             "#7201a8"
            ],
            [
             0.3333333333333333,
             "#9c179e"
            ],
            [
             0.4444444444444444,
             "#bd3786"
            ],
            [
             0.5555555555555556,
             "#d8576b"
            ],
            [
             0.6666666666666666,
             "#ed7953"
            ],
            [
             0.7777777777777778,
             "#fb9f3a"
            ],
            [
             0.8888888888888888,
             "#fdca26"
            ],
            [
             1,
             "#f0f921"
            ]
           ],
           "sequentialminus": [
            [
             0,
             "#0d0887"
            ],
            [
             0.1111111111111111,
             "#46039f"
            ],
            [
             0.2222222222222222,
             "#7201a8"
            ],
            [
             0.3333333333333333,
             "#9c179e"
            ],
            [
             0.4444444444444444,
             "#bd3786"
            ],
            [
             0.5555555555555556,
             "#d8576b"
            ],
            [
             0.6666666666666666,
             "#ed7953"
            ],
            [
             0.7777777777777778,
             "#fb9f3a"
            ],
            [
             0.8888888888888888,
             "#fdca26"
            ],
            [
             1,
             "#f0f921"
            ]
           ]
          },
          "colorway": [
           "#636efa",
           "#EF553B",
           "#00cc96",
           "#ab63fa",
           "#FFA15A",
           "#19d3f3",
           "#FF6692",
           "#B6E880",
           "#FF97FF",
           "#FECB52"
          ],
          "font": {
           "color": "#2a3f5f"
          },
          "geo": {
           "bgcolor": "white",
           "lakecolor": "white",
           "landcolor": "#E5ECF6",
           "showlakes": true,
           "showland": true,
           "subunitcolor": "white"
          },
          "hoverlabel": {
           "align": "left"
          },
          "hovermode": "closest",
          "mapbox": {
           "style": "light"
          },
          "paper_bgcolor": "white",
          "plot_bgcolor": "#E5ECF6",
          "polar": {
           "angularaxis": {
            "gridcolor": "white",
            "linecolor": "white",
            "ticks": ""
           },
           "bgcolor": "#E5ECF6",
           "radialaxis": {
            "gridcolor": "white",
            "linecolor": "white",
            "ticks": ""
           }
          },
          "scene": {
           "xaxis": {
            "backgroundcolor": "#E5ECF6",
            "gridcolor": "white",
            "gridwidth": 2,
            "linecolor": "white",
            "showbackground": true,
            "ticks": "",
            "zerolinecolor": "white"
           },
           "yaxis": {
            "backgroundcolor": "#E5ECF6",
            "gridcolor": "white",
            "gridwidth": 2,
            "linecolor": "white",
            "showbackground": true,
            "ticks": "",
            "zerolinecolor": "white"
           },
           "zaxis": {
            "backgroundcolor": "#E5ECF6",
            "gridcolor": "white",
            "gridwidth": 2,
            "linecolor": "white",
            "showbackground": true,
            "ticks": "",
            "zerolinecolor": "white"
           }
          },
          "shapedefaults": {
           "line": {
            "color": "#2a3f5f"
           }
          },
          "ternary": {
           "aaxis": {
            "gridcolor": "white",
            "linecolor": "white",
            "ticks": ""
           },
           "baxis": {
            "gridcolor": "white",
            "linecolor": "white",
            "ticks": ""
           },
           "bgcolor": "#E5ECF6",
           "caxis": {
            "gridcolor": "white",
            "linecolor": "white",
            "ticks": ""
           }
          },
          "title": {
           "x": 0.05
          },
          "xaxis": {
           "automargin": true,
           "gridcolor": "white",
           "linecolor": "white",
           "ticks": "",
           "title": {
            "standoff": 15
           },
           "zerolinecolor": "white",
           "zerolinewidth": 2
          },
          "yaxis": {
           "automargin": true,
           "gridcolor": "white",
           "linecolor": "white",
           "ticks": "",
           "title": {
            "standoff": 15
           },
           "zerolinecolor": "white",
           "zerolinewidth": 2
          }
         }
        },
        "title": {
         "text": "Relationship between GDP per Capita vs. Quality of Education Index in 2018",
         "x": 0.5,
         "xanchor": "center"
        },
        "xaxis": {
         "anchor": "y",
         "domain": [
          0,
          1
         ],
         "title": {
          "text": "GDP per Capita"
         },
         "type": "log"
        },
        "yaxis": {
         "anchor": "x",
         "domain": [
          0,
          1
         ],
         "title": {
          "text": "Quality of Education Index"
         }
        }
       }
      }
     },
     "metadata": {},
     "output_type": "display_data"
    }
   ],
   "source": [
    "fig = px.scatter(data_frame=df_indicators_2018,x='gdppc',y='edu_quality_index',hover_name='country',color='income_group',trendline='ols',\n",
    "                        log_x=True, labels={'edu_quality_index':'Education Quality Index'}, #color_continuous_scale=px.colors.sequential.Teal, \n",
    "                        trendline_color_override='Purple')\n",
    "\n",
    "#Setting the labels of the plot\n",
    "fig.update_layout(\n",
    "    title={\n",
    "        'text': 'Relationship between GDP per Capita vs. Quality of Education Index in 2018',\n",
    "        'x':0.5,\n",
    "        'xanchor': 'center'},\n",
    "    xaxis_title='GDP per Capita',\n",
    "    yaxis_title='Quality of Education Index',\n",
    "    legend={'title':'Quality of Education Index'}\n",
    ")\n",
    "\n",
    "fig.show()"
   ]
  },
  {
   "cell_type": "markdown",
   "metadata": {},
   "source": [
    "### Let's check after imputation"
   ]
  },
  {
   "cell_type": "markdown",
   "metadata": {},
   "source": [
    "Now, we will look at the full data of 2018 including the imputed information and see if some of the relations will change"
   ]
  },
  {
   "cell_type": "code",
   "execution_count": 15,
   "metadata": {},
   "outputs": [],
   "source": [
    "df_indicators_2018_imputed = pd.read_excel('data/country_indicators.xlsx', sheet_name='data_2018_imputed',index_col=0)"
   ]
  },
  {
   "cell_type": "code",
   "execution_count": 16,
   "metadata": {},
   "outputs": [
    {
     "data": {
      "application/vnd.plotly.v1+json": {
       "config": {
        "plotlyServerURL": "https://plot.ly"
       },
       "data": [
        {
         "hovertemplate": "<b>%{hovertext}</b><br><br>edu_exp_pct_gdp=%{x}<br>Quality of Education Index=%{marker.color}<extra></extra>",
         "hovertext": [
          "Afghanistan",
          "Albania",
          "Algeria",
          "American Samoa",
          "Andorra",
          "Angola",
          "Antigua and Barbuda",
          "Argentina",
          "Armenia",
          "Aruba",
          "Australia",
          "Austria",
          "Azerbaijan",
          "Bahamas",
          "Bahrain",
          "Bangladesh",
          "Barbados",
          "Belarus",
          "Belgium",
          "Belize",
          "Benin",
          "Bermuda",
          "Bhutan",
          "Bolivia",
          "Bosnia and Herzegovina",
          "Botswana",
          "Brazil",
          "British Virgin Islands",
          "Brunei",
          "Bulgaria",
          "Burkina Faso",
          "Burundi",
          "Cabo Verde",
          "Cambodia",
          "Cameroon",
          "Canada",
          "Cayman Islands",
          "Central African Republic",
          "Chad",
          "Channel Islands",
          "Chile",
          "China",
          "Colombia",
          "Comoros",
          "Costa Rica",
          "Cote d'Ivoire",
          "Croatia",
          "Cuba",
          "Curacao",
          "Cyprus",
          "Czech",
          "Denmark",
          "Djibouti",
          "Dominica",
          "Dominican Republic",
          "Ecuador",
          "Egypt",
          "El Salvador",
          "Equatorial Guinea",
          "Eritrea",
          "Estonia",
          "Eswatini",
          "Ethiopia",
          "Faroe Islands",
          "Fiji",
          "Finland",
          "France",
          "French Polynesia",
          "Gabon",
          "Gambia",
          "Georgia",
          "Germany",
          "Ghana",
          "Gibraltar",
          "Greece",
          "Greenland",
          "Grenada",
          "Guam",
          "Guatemala",
          "Guinea",
          "Guinea-Bissau",
          "Guyana",
          "Haiti",
          "Honduras",
          "Hong Kong",
          "Hungary",
          "Iceland",
          "India",
          "Indonesia",
          "Iran",
          "Iraq",
          "Ireland",
          "Isle of Man",
          "Israel",
          "Italy",
          "Jamaica",
          "Japan",
          "Jordan",
          "Kazakhstan",
          "Kenya",
          "Kiribati",
          "Korea, Rep.",
          "Kosovo",
          "Kuwait",
          "Kyrgyzstan",
          "Lao PDR",
          "Latvia",
          "Lebanon",
          "Lesotho",
          "Liberia",
          "Libya",
          "Liechtenstein",
          "Lithuania",
          "Luxembourg",
          "Macao SAR, China",
          "Madagascar",
          "Malawi",
          "Malaysia",
          "Maldives",
          "Mali",
          "Malta",
          "Marshall Islands",
          "Mauritania",
          "Mauritius",
          "Mexico",
          "Micronesia",
          "Moldova",
          "Monaco",
          "Mongolia",
          "Montenegro",
          "Morocco",
          "Mozambique",
          "Myanmar",
          "Namibia",
          "Nauru",
          "Nepal",
          "Netherlands",
          "New Caledonia",
          "New Zealand",
          "Nicaragua",
          "Niger",
          "Nigeria",
          "North Macedonia",
          "Northern Mariana Islands",
          "Norway",
          "Oman",
          "Pakistan",
          "Palau",
          "Panama",
          "Papua New Guinea",
          "Paraguay",
          "Peru",
          "Philippines",
          "Poland",
          "Portugal",
          "Puerto Rico",
          "Qatar",
          "Romania",
          "Russia",
          "Rwanda",
          "Samoa",
          "San Marino",
          "Sao Tome and Principe",
          "Saudi Arabia",
          "Senegal",
          "Serbia",
          "Seychelles",
          "Sierra Leone",
          "Singapore",
          "Sint Maarten (Dutch part)",
          "Slovakia",
          "Slovenia",
          "Solomon Islands",
          "Somalia",
          "South Africa",
          "South Sudan",
          "Spain",
          "Sri Lanka",
          "St. Kitts and Nevis",
          "St. Lucia",
          "St. Martin (French part)",
          "St. Vincent and the Grenadines",
          "Sudan",
          "Suriname",
          "Sweden",
          "Switzerland",
          "Syria",
          "Tajikistan",
          "Tanzania",
          "Thailand",
          "Timor-Leste",
          "Togo",
          "Tonga",
          "Trinidad and Tobago",
          "Tunisia",
          "Turkey",
          "Turkmenistan",
          "Turks and Caicos Islands",
          "Tuvalu",
          "Uganda",
          "Ukraine",
          "United Arab Emirates",
          "United Kingdom",
          "United States",
          "Uruguay",
          "Uzbekistan",
          "Vanuatu",
          "Vietnam",
          "West Bank and Gaza",
          "Yemen",
          "Zambia",
          "Zimbabwe",
          "Congo"
         ],
         "legendgroup": "",
         "marker": {
          "color": [
           3.125883053926702,
           4.485545992750001,
           3.416745662749999,
           4.331240600000001,
           4.883352185267469,
           2.61314469575,
           4.097679931132076,
           3.75650507225,
           4.123025775249999,
           4.705032212564636,
           5.32498466975,
           4.710301160749999,
           4.406499505,
           4.64217950460251,
           4.816789984750001,
           3.38388782725,
           4.660130098970925,
           3.852644652250146,
           5.36690354325,
           4.011239882718121,
           3.302977741,
           4.919909089655173,
           4.3412513735,
           2.943328495,
           3.23686605675,
           3.6361775995,
           3.182566643,
           5.08472697269727,
           4.584998965500001,
           3.773089886,
           3.194289923529412,
           3.3095909355,
           3.922236279598894,
           3.3678638935,
           3.99517446775,
           5.579452038,
           5.017800137112445,
           3.41452525,
           2.61314469575,
           5.216284706919643,
           4.121846437249999,
           4.513828873750001,
           3.800363958,
           3.99615168575,
           4.787541389499999,
           3.937275875307793,
           3.622494161,
           4.03495825,
           4.429337616914498,
           4.1842525005,
           4.48947828975,
           5.44074654575,
           3.551013130916131,
           3.82317068387604,
           3.09706348175,
           3.7505168915,
           2.9052241445,
           2.927667737,
           3.635349051379515,
           4.157164111887255,
           5.2810070515,
           3.09669226425,
           3.548745334249999,
           5.37197506425,
           3.639046438676888,
           5.877574682,
           4.96322739125,
           4.83188291518919,
           3.23953305385006,
           4.03637063525,
           3.5151272415,
           5.28436040875,
           4.018807113,
           4.903761910426541,
           3.778220594,
           5.443477162147888,
           4.333431695512821,
           4.660130098970925,
           3.289593935,
           2.7947496775,
           4.008975845,
           3.853571719433403,
           2.7684766055,
           3.36910063025,
           5.37197506425,
           3.66430544875,
           5.4105769395,
           4.605217695249999,
           4.6026746035,
           3.83756726975,
           3.365787613711912,
           5.26850879225,
           4.914795399006621,
           5.07211995125,
           4.437981963,
           4.37463819975,
           4.76136147975,
           4.31229245675,
           4.113367319,
           4.36485934275,
           3.382990938505747,
           4.5241591335,
           3.937275875307793,
           3.48593091975,
           3.1524888275,
           3.8370832205,
           4.36378258475,
           5.118548751000001,
           3.5835725665,
           2.89157027,
           3.595409990976331,
           5.154452212500001,
           4.4885306955,
           4.68427121625,
           5.131259234978235,
           3.67245489375,
           2.92263948925,
           5.25812911975,
           3.891372191274403,
           3.66399663725,
           5.124402999999999,
           3.66025239225,
           2.3659526705,
           4.3772073985,
           3.51215380425,
           4.05051058525,
           3.76005345575,
           5.052881708839779,
           3.69268512725,
           4.08039987125,
           3.4795261025,
           2.790258944,
           2.557547,
           3.34541547275,
           4.382509232812501,
           3.83100247375,
           5.77895951275,
           4.816789984750001,
           5.5188162325,
           3.03231650575,
           2.6414312625,
           3.16824227575,
           4.05051058525,
           5.001788609523809,
           5.386394262250001,
           3.7034083605,
           3.66025239225,
           4.596497320731707,
           3.680060029,
           3.042499860040984,
           2.7540509105,
           3.27700579175,
           4.3122189045,
           4.217128813,
           4.821053028250001,
           4.333431695512821,
           5.650964141,
           3.7737690805,
           4.3563212755,
           4.394029140500001,
           3.430077232999553,
           5.090531294221309,
           3.382604328111613,
           4.336327791,
           4.09712105975,
           3.99615168575,
           3.995258987,
           2.91684859975,
           6.1019439695,
           4.474316602430556,
           3.798733771,
           4.796257138250001,
           3.037661686079989,
           3.41452525,
           3.4022233485,
           3.43541885,
           4.5152790545,
           4.124032378,
           4.055421307373272,
           3.871580136259542,
           4.553095665481171,
           3.430077232999553,
           3.333133403550296,
           3.464315527678572,
           5.199332714000001,
           6.1326652765,
           3.891372191274403,
           4.13513046525,
           3.15139406925,
           4.05051058525,
           2.573858593814433,
           3.835960849080883,
           3.263894317052602,
           4.468680382000001,
           3.79927766325,
           3.551756382,
           3.786770106599438,
           4.348512731924883,
           3.609029785521235,
           3.343117058,
           4.374483644750001,
           5.4820508955,
           5.2462177275,
           5.697491168999999,
           3.90237712875,
           4.006601396194692,
           2.961133327987024,
           3.68711513275,
           3.723914141025641,
           2.2447446585,
           3.6091204285,
           3.793227315,
           2.527424595346956
          ],
          "coloraxis": "coloraxis",
          "symbol": "circle"
         },
         "mode": "markers",
         "name": "",
         "orientation": "v",
         "showlegend": false,
         "type": "scatter",
         "x": [
          3.19979000091553,
          5.44849014282227,
          5.8663501739502,
          5.23887014389038,
          3.2467200756073,
          2.04469990730286,
          2.64407992362976,
          4.94551992416382,
          2.25587010383606,
          4.7449197769165,
          5.10789012908936,
          5.22535991668701,
          2.45543003082275,
          2.30952000617981,
          2.69412994384766,
          1.61330997943878,
          5.42886018753052,
          5.38111019134521,
          6.37663984298706,
          7.47227001190186,
          2.93396997451782,
          1.87920999526978,
          6.85084009170532,
          5.56678009033203,
          4.46576023101807,
          6.72133016586304,
          6.08851003646851,
          2.69412994384766,
          3.81316995620728,
          3.79242992401123,
          5.43056011199951,
          5.07864999771118,
          5.36885023117065,
          2.16285991668701,
          3.13120007514954,
          5.84018993377686,
          2.46592998504639,
          1.56587994098663,
          2.25947999954224,
          6.43199014663696,
          5.43316984176636,
          3.54249000549316,
          4.44910001754761,
          2.89951992034912,
          6.7790699005127,
          3.23993992805481,
          4.25357007980347,
          4.88274002075195,
          4.35526990890503,
          5.23510980606079,
          4.26692008972168,
          8.12518978118896,
          3.62773990631104,
          5.57154989242554,
          3.92848992347717,
          4.6214599609375,
          3.63752007484436,
          3.60575008392334,
          4.08114004135132,
          3.66676998138428,
          5.23887014389038,
          5.67916011810303,
          5.06867980957031,
          7.00420999526978,
          4.83571004867554,
          6.26929998397827,
          5.41316986083984,
          5.85128021240234,
          2.93345999717712,
          2.36543989181519,
          3.5210599899292,
          4.99274015426636,
          4.0041298866272,
          3.67997002601624,
          3.59395003318787,
          10.5601902008057,
          3.55255007743835,
          3.59024000167847,
          3.13704991340637,
          2.38432002067566,
          2.13787007331848,
          4.45058012008667,
          1.68210005760193,
          6.05646991729736,
          3.32651996612549,
          4.62730979919434,
          7.57405996322632,
          3.60575008392334,
          3,
          3.9553599357605,
          5.02904987335205,
          3.38309001922607,
          4.36638021469116,
          6.1648998260498,
          4.2557201385498,
          5.41380977630615,
          4.48398017883301,
          2.98481011390686,
          2.61595010757446,
          5.30625009536743,
          11.9682903289795,
          4.45807981491089,
          5.54711008071899,
          6.38917016983032,
          5.55267000198364,
          3.67008996009827,
          4.24517011642456,
          2.52447009086609,
          7.28535985946655,
          2.58412003517151,
          2.64530992507935,
          1.75364995002747,
          3.89495992660522,
          3.66626000404358,
          2.72788000106812,
          2.87452006340027,
          3.38193988800049,
          4.47959995269775,
          3.91248989105225,
          3.88252997398376,
          5.6184401512146,
          9.65147018432617,
          2.1964099407196,
          4.83458995819092,
          4.25442981719971,
          9.69705009460449,
          5.43973016738892,
          1.56587994098663,
          6.17301988601685,
          4.03133010864258,
          4.48657989501953,
          5.45218992233276,
          1.92288994789124,
          8.98805046081543,
          8.67057037353516,
          4.43445014953613,
          5.35764980316162,
          4.238609790802,
          6.04850006103516,
          3.56255006790161,
          3.44697999954224,
          2,
          5.48908996582031,
          5.6184401512146,
          7.64411020278931,
          5.20723009109497,
          2.9243700504303,
          9.63292026519775,
          2.8829300403595,
          1.8748300075531,
          3.28320002555847,
          3.71429991722107,
          3.1331000328064,
          4.61579990386963,
          4.67515993118286,
          5.77611017227173,
          3.55516004562378,
          3.34474992752075,
          4.67819976806641,
          3.07375001907349,
          4.53214979171753,
          3.55516004562378,
          5.23510980606079,
          5.56728982925415,
          4.85822010040283,
          3.58231997489929,
          4.49883985519409,
          6.98963022232056,
          2.64509010314941,
          3.97232007980347,
          3.975830078125,
          4.93603992462158,
          9.5097599029541,
          5.08445978164673,
          6.15898990631104,
          2.50669002532959,
          4.17816019058228,
          2.13539004325867,
          2.83628988265991,
          3.33179998397827,
          6.08851003646851,
          5.69377994537354,
          2.82512998580933,
          5.68860006332397,
          7.64084005355835,
          4.86093997955322,
          5.42886018753052,
          5.55836009979248,
          3.69643998146057,
          3.05677008628845,
          6.83091020584106,
          4.04394006729126,
          6.3729100227356,
          3.2862401008606,
          5.81278991699219,
          4.29460000991821,
          5.76293992996216,
          2.7437698841095,
          9.5097599029541,
          2.13052010536194,
          5.31947994232178,
          4.94551992416382,
          5.23890018463135,
          5.07645988464355,
          4.66279983520508,
          5.90000009536743,
          5.01113986968994,
          4.16744995117188,
          5.31887006759644,
          3.69521999359131,
          4.73973989486694,
          3.58728003501892,
          4.33309984207153
         ],
         "xaxis": "x",
         "y": [
          3.125883053926702,
          4.485545992750001,
          3.416745662749999,
          4.331240600000001,
          4.883352185267469,
          2.61314469575,
          4.097679931132076,
          3.75650507225,
          4.123025775249999,
          4.705032212564636,
          5.32498466975,
          4.710301160749999,
          4.406499505,
          4.64217950460251,
          4.816789984750001,
          3.38388782725,
          4.660130098970925,
          3.852644652250146,
          5.36690354325,
          4.011239882718121,
          3.302977741,
          4.919909089655173,
          4.3412513735,
          2.943328495,
          3.23686605675,
          3.6361775995,
          3.182566643,
          5.08472697269727,
          4.584998965500001,
          3.773089886,
          3.194289923529412,
          3.3095909355,
          3.922236279598894,
          3.3678638935,
          3.99517446775,
          5.579452038,
          5.017800137112445,
          3.41452525,
          2.61314469575,
          5.216284706919643,
          4.121846437249999,
          4.513828873750001,
          3.800363958,
          3.99615168575,
          4.787541389499999,
          3.937275875307793,
          3.622494161,
          4.03495825,
          4.429337616914498,
          4.1842525005,
          4.48947828975,
          5.44074654575,
          3.551013130916131,
          3.82317068387604,
          3.09706348175,
          3.7505168915,
          2.9052241445,
          2.927667737,
          3.635349051379515,
          4.157164111887255,
          5.2810070515,
          3.09669226425,
          3.548745334249999,
          5.37197506425,
          3.639046438676888,
          5.877574682,
          4.96322739125,
          4.83188291518919,
          3.23953305385006,
          4.03637063525,
          3.5151272415,
          5.28436040875,
          4.018807113,
          4.903761910426541,
          3.778220594,
          5.443477162147888,
          4.333431695512821,
          4.660130098970925,
          3.289593935,
          2.7947496775,
          4.008975845,
          3.853571719433403,
          2.7684766055,
          3.36910063025,
          5.37197506425,
          3.66430544875,
          5.4105769395,
          4.605217695249999,
          4.6026746035,
          3.83756726975,
          3.365787613711912,
          5.26850879225,
          4.914795399006621,
          5.07211995125,
          4.437981963,
          4.37463819975,
          4.76136147975,
          4.31229245675,
          4.113367319,
          4.36485934275,
          3.382990938505747,
          4.5241591335,
          3.937275875307793,
          3.48593091975,
          3.1524888275,
          3.8370832205,
          4.36378258475,
          5.118548751000001,
          3.5835725665,
          2.89157027,
          3.595409990976331,
          5.154452212500001,
          4.4885306955,
          4.68427121625,
          5.131259234978235,
          3.67245489375,
          2.92263948925,
          5.25812911975,
          3.891372191274403,
          3.66399663725,
          5.124402999999999,
          3.66025239225,
          2.3659526705,
          4.3772073985,
          3.51215380425,
          4.05051058525,
          3.76005345575,
          5.052881708839779,
          3.69268512725,
          4.08039987125,
          3.4795261025,
          2.790258944,
          2.557547,
          3.34541547275,
          4.382509232812501,
          3.83100247375,
          5.77895951275,
          4.816789984750001,
          5.5188162325,
          3.03231650575,
          2.6414312625,
          3.16824227575,
          4.05051058525,
          5.001788609523809,
          5.386394262250001,
          3.7034083605,
          3.66025239225,
          4.596497320731707,
          3.680060029,
          3.042499860040984,
          2.7540509105,
          3.27700579175,
          4.3122189045,
          4.217128813,
          4.821053028250001,
          4.333431695512821,
          5.650964141,
          3.7737690805,
          4.3563212755,
          4.394029140500001,
          3.430077232999553,
          5.090531294221309,
          3.382604328111613,
          4.336327791,
          4.09712105975,
          3.99615168575,
          3.995258987,
          2.91684859975,
          6.1019439695,
          4.474316602430556,
          3.798733771,
          4.796257138250001,
          3.037661686079989,
          3.41452525,
          3.4022233485,
          3.43541885,
          4.5152790545,
          4.124032378,
          4.055421307373272,
          3.871580136259542,
          4.553095665481171,
          3.430077232999553,
          3.333133403550296,
          3.464315527678572,
          5.199332714000001,
          6.1326652765,
          3.891372191274403,
          4.13513046525,
          3.15139406925,
          4.05051058525,
          2.573858593814433,
          3.835960849080883,
          3.263894317052602,
          4.468680382000001,
          3.79927766325,
          3.551756382,
          3.786770106599438,
          4.348512731924883,
          3.609029785521235,
          3.343117058,
          4.374483644750001,
          5.4820508955,
          5.2462177275,
          5.697491168999999,
          3.90237712875,
          4.006601396194692,
          2.961133327987024,
          3.68711513275,
          3.723914141025641,
          2.2447446585,
          3.6091204285,
          3.793227315,
          2.527424595346956
         ],
         "yaxis": "y"
        },
        {
         "hovertemplate": "<b>OLS trendline</b><br>edu_quality_index = 0.060924 * edu_exp_pct_gdp + 3.78418<br>R<sup>2</sup>=0.018146<br><br>edu_exp_pct_gdp=%{x}<br>Quality of Education Index=%{y} <b>(trend)</b><extra></extra>",
         "legendgroup": "",
         "line": {
          "color": "Purple"
         },
         "marker": {
          "symbol": "circle"
         },
         "mode": "lines",
         "name": "",
         "showlegend": false,
         "type": "scatter",
         "x": [
          1.56587994098663,
          1.56587994098663,
          1.61330997943878,
          1.68210005760193,
          1.75364995002747,
          1.8748300075531,
          1.87920999526978,
          1.92288994789124,
          2,
          2.04469990730286,
          2.13052010536194,
          2.13539004325867,
          2.13787007331848,
          2.16285991668701,
          2.1964099407196,
          2.25587010383606,
          2.25947999954224,
          2.30952000617981,
          2.36543989181519,
          2.38432002067566,
          2.45543003082275,
          2.46592998504639,
          2.50669002532959,
          2.52447009086609,
          2.58412003517151,
          2.61595010757446,
          2.64407992362976,
          2.64509010314941,
          2.64530992507935,
          2.69412994384766,
          2.69412994384766,
          2.72788000106812,
          2.7437698841095,
          2.82512998580933,
          2.83628988265991,
          2.87452006340027,
          2.8829300403595,
          2.89951992034912,
          2.9243700504303,
          2.93345999717712,
          2.93396997451782,
          2.98481011390686,
          3,
          3.05677008628845,
          3.07375001907349,
          3.13120007514954,
          3.1331000328064,
          3.13704991340637,
          3.19979000091553,
          3.23993992805481,
          3.2467200756073,
          3.28320002555847,
          3.2862401008606,
          3.32651996612549,
          3.33179998397827,
          3.34474992752075,
          3.38193988800049,
          3.38309001922607,
          3.44697999954224,
          3.5210599899292,
          3.54249000549316,
          3.55255007743835,
          3.55516004562378,
          3.55516004562378,
          3.56255006790161,
          3.58231997489929,
          3.58728003501892,
          3.59024000167847,
          3.59395003318787,
          3.60575008392334,
          3.60575008392334,
          3.62773990631104,
          3.63752007484436,
          3.66626000404358,
          3.66676998138428,
          3.67008996009827,
          3.67997002601624,
          3.69521999359131,
          3.69643998146057,
          3.71429991722107,
          3.79242992401123,
          3.81316995620728,
          3.88252997398376,
          3.89495992660522,
          3.91248989105225,
          3.92848992347717,
          3.9553599357605,
          3.97232007980347,
          3.975830078125,
          4.0041298866272,
          4.03133010864258,
          4.04394006729126,
          4.08114004135132,
          4.16744995117188,
          4.17816019058228,
          4.238609790802,
          4.24517011642456,
          4.25357007980347,
          4.25442981719971,
          4.2557201385498,
          4.26692008972168,
          4.29460000991821,
          4.33309984207153,
          4.35526990890503,
          4.36638021469116,
          4.43445014953613,
          4.44910001754761,
          4.45058012008667,
          4.45807981491089,
          4.46576023101807,
          4.47959995269775,
          4.48398017883301,
          4.48657989501953,
          4.49883985519409,
          4.53214979171753,
          4.61579990386963,
          4.6214599609375,
          4.62730979919434,
          4.66279983520508,
          4.67515993118286,
          4.67819976806641,
          4.73973989486694,
          4.7449197769165,
          4.83458995819092,
          4.83571004867554,
          4.85822010040283,
          4.86093997955322,
          4.88274002075195,
          4.93603992462158,
          4.94551992416382,
          4.94551992416382,
          4.99274015426636,
          5.01113986968994,
          5.02904987335205,
          5.06867980957031,
          5.07645988464355,
          5.07864999771118,
          5.08445978164673,
          5.10789012908936,
          5.20723009109497,
          5.22535991668701,
          5.23510980606079,
          5.23510980606079,
          5.23887014389038,
          5.23887014389038,
          5.23890018463135,
          5.30625009536743,
          5.31887006759644,
          5.31947994232178,
          5.35764980316162,
          5.36885023117065,
          5.38111019134521,
          5.41316986083984,
          5.41380977630615,
          5.42886018753052,
          5.42886018753052,
          5.43056011199951,
          5.43316984176636,
          5.43973016738892,
          5.44849014282227,
          5.45218992233276,
          5.48908996582031,
          5.54711008071899,
          5.55267000198364,
          5.55836009979248,
          5.56678009033203,
          5.56728982925415,
          5.57154989242554,
          5.6184401512146,
          5.6184401512146,
          5.67916011810303,
          5.68860006332397,
          5.69377994537354,
          5.76293992996216,
          5.77611017227173,
          5.81278991699219,
          5.84018993377686,
          5.85128021240234,
          5.8663501739502,
          5.90000009536743,
          6.04850006103516,
          6.05646991729736,
          6.08851003646851,
          6.08851003646851,
          6.15898990631104,
          6.1648998260498,
          6.17301988601685,
          6.26929998397827,
          6.3729100227356,
          6.37663984298706,
          6.38917016983032,
          6.43199014663696,
          6.72133016586304,
          6.7790699005127,
          6.83091020584106,
          6.85084009170532,
          6.98963022232056,
          7.00420999526978,
          7.28535985946655,
          7.47227001190186,
          7.57405996322632,
          7.64084005355835,
          7.64411020278931,
          8.12518978118896,
          8.67057037353516,
          8.98805046081543,
          9.5097599029541,
          9.5097599029541,
          9.63292026519775,
          9.65147018432617,
          9.69705009460449,
          10.5601902008057,
          11.9682903289795
         ],
         "xaxis": "x",
         "y": [
          3.8795771324113555,
          3.8795771324113555,
          3.882466758066697,
          3.8866577218773988,
          3.8910168244954226,
          3.8983995931915736,
          3.8986664393778563,
          3.9013275949627584,
          3.9060254445140075,
          3.9087487397747527,
          3.913977245889251,
          3.9142739417795682,
          3.914425035025973,
          3.9159475151857457,
          3.917991515430015,
          3.9216140638912695,
          3.921833993024496,
          3.9248826282711073,
          3.9282894890169353,
          3.929439741188592,
          3.9337720444373003,
          3.934411743204046,
          3.9368950061732275,
          3.9379782381334913,
          3.9416123488158705,
          3.9435515627998465,
          3.945265342522699,
          3.945326886657002,
          3.9453402790789585,
          3.948314587836255,
          3.948314587836255,
          3.950370774893996,
          3.951338849455923,
          3.9562956288485895,
          3.9569755339320087,
          3.95930466784547,
          3.95981703692581,
          3.9608277580721865,
          3.962341726345554,
          3.9628955218764554,
          3.962926591714377,
          3.966023974214876,
          3.9669494021923537,
          3.970408060526787,
          3.971442545233164,
          3.97494263001816,
          3.975058382958037,
          3.975299025316544,
          3.979121399752688,
          3.98156749221451,
          3.981980565637051,
          3.984203068563984,
          3.9843882819830303,
          3.986842290789718,
          3.9871639703739215,
          3.9879529321862406,
          3.9902186917645674,
          3.9902887623106795,
          3.994181192767532,
          3.9986944389666794,
          4.0000000403279445,
          4.000612939725374,
          4.000771949316645,
          4.000771949316645,
          4.001222178721142,
          4.002426639698373,
          4.002728826191184,
          4.0029091590746795,
          4.003135188877343,
          4.003854094668954,
          4.003854094668954,
          4.005193801677456,
          4.005789648251268,
          4.007540598481479,
          4.007571668319401,
          4.007773934562065,
          4.008375867279911,
          4.009304955659051,
          4.009379282148365,
          4.010467380118776,
          4.015227369345869,
          4.016490934189629,
          4.020716620977212,
          4.021473902884666,
          4.0225418976967395,
          4.023516682995048,
          4.025153710486213,
          4.026186989584106,
          4.026400832573298,
          4.0281249689087915,
          4.029782114083698,
          4.030550362670736,
          4.0328167323160065,
          4.038075073609137,
          4.038727583781701,
          4.042410412667159,
          4.042810093667745,
          4.043321852681141,
          4.043374231285884,
          4.0434528427692085,
          4.0441351881204035,
          4.045821558406997,
          4.04816712055173,
          4.04951780876522,
          4.050194692564728,
          4.05434178239439,
          4.055234310333115,
          4.055324484037564,
          4.055781395127635,
          4.056249316473501,
          4.057092487091395,
          4.0573593478030805,
          4.057517732802004,
          4.0582646580968165,
          4.060294031259839,
          4.065390327152382,
          4.065735160229643,
          4.066091555528027,
          4.068253748979949,
          4.069006774944199,
          4.0691919738378415,
          4.072941241918557,
          4.073256820833324,
          4.078719883162296,
          4.078788123507577,
          4.080159524946348,
          4.080325230748596,
          4.081653375535974,
          4.084900616623587,
          4.085478175714489,
          4.085478175714489,
          4.088355019014818,
          4.089476002498578,
          4.090567150803707,
          4.092981563360664,
          4.093455556325161,
          4.093588986681004,
          4.093942941711614,
          4.095370411207598,
          4.101422594848596,
          4.102527135575681,
          4.1031211374232575,
          4.1031211374232575,
          4.1033502320860435,
          4.1033502320860435,
          4.103352062286875,
          4.107455285398201,
          4.1082241440521825,
          4.108261300034139,
          4.110586759020533,
          4.111269133422534,
          4.112016058717348,
          4.11396926066482,
          4.114008246847607,
          4.114925177464083,
          4.114925177464083,
          4.115028743590488,
          4.115187738656355,
          4.115587419656941,
          4.116121112029505,
          4.116346517239822,
          4.118594613927586,
          4.122129428952166,
          4.122468161359989,
          4.1228148246380805,
          4.123327803785363,
          4.123358859097882,
          4.123618399006243,
          4.126475139148234,
          4.126475139148234,
          4.130174439841175,
          4.130749558664302,
          4.131065137579069,
          4.1352786375531805,
          4.136081020838263,
          4.138315696053264,
          4.13998501351624,
          4.1406606771818595,
          4.141578798881416,
          4.1436288852697185,
          4.152676090893295,
          4.1531616460789165,
          4.155113656943309,
          4.155113656943309,
          4.15940756955077,
          4.159767625250817,
          4.160262331440595,
          4.166128096054064,
          4.172440429670367,
          4.172667665081515,
          4.173431062183809,
          4.176039824638565,
          4.193667563724547,
          4.197185296874701,
          4.200343613442559,
          4.201557820965487,
          4.210013465009262,
          4.21090172247938,
          4.228030484906977,
          4.239417791123599,
          4.245619237810171,
          4.249687745207316,
          4.249886975640665,
          4.279196247515002,
          4.312422991641693,
          4.3317651350428745,
          4.363549739016124,
          4.363549739016124,
          4.371053155713106,
          4.372183290201023,
          4.374960198725802,
          4.427546110026487,
          4.513333142642222
         ],
         "yaxis": "y"
        }
       ],
       "layout": {
        "coloraxis": {
         "colorbar": {
          "title": {
           "text": "Quality of Education Index"
          }
         },
         "colorscale": [
          [
           0,
           "rgb(209, 238, 234)"
          ],
          [
           0.16666666666666666,
           "rgb(168, 219, 217)"
          ],
          [
           0.3333333333333333,
           "rgb(133, 196, 201)"
          ],
          [
           0.5,
           "rgb(104, 171, 184)"
          ],
          [
           0.6666666666666666,
           "rgb(79, 144, 166)"
          ],
          [
           0.8333333333333334,
           "rgb(59, 115, 143)"
          ],
          [
           1,
           "rgb(42, 86, 116)"
          ]
         ]
        },
        "legend": {
         "tracegroupgap": 0
        },
        "margin": {
         "t": 60
        },
        "template": {
         "data": {
          "bar": [
           {
            "error_x": {
             "color": "#2a3f5f"
            },
            "error_y": {
             "color": "#2a3f5f"
            },
            "marker": {
             "line": {
              "color": "#E5ECF6",
              "width": 0.5
             },
             "pattern": {
              "fillmode": "overlay",
              "size": 10,
              "solidity": 0.2
             }
            },
            "type": "bar"
           }
          ],
          "barpolar": [
           {
            "marker": {
             "line": {
              "color": "#E5ECF6",
              "width": 0.5
             },
             "pattern": {
              "fillmode": "overlay",
              "size": 10,
              "solidity": 0.2
             }
            },
            "type": "barpolar"
           }
          ],
          "carpet": [
           {
            "aaxis": {
             "endlinecolor": "#2a3f5f",
             "gridcolor": "white",
             "linecolor": "white",
             "minorgridcolor": "white",
             "startlinecolor": "#2a3f5f"
            },
            "baxis": {
             "endlinecolor": "#2a3f5f",
             "gridcolor": "white",
             "linecolor": "white",
             "minorgridcolor": "white",
             "startlinecolor": "#2a3f5f"
            },
            "type": "carpet"
           }
          ],
          "choropleth": [
           {
            "colorbar": {
             "outlinewidth": 0,
             "ticks": ""
            },
            "type": "choropleth"
           }
          ],
          "contour": [
           {
            "colorbar": {
             "outlinewidth": 0,
             "ticks": ""
            },
            "colorscale": [
             [
              0,
              "#0d0887"
             ],
             [
              0.1111111111111111,
              "#46039f"
             ],
             [
              0.2222222222222222,
              "#7201a8"
             ],
             [
              0.3333333333333333,
              "#9c179e"
             ],
             [
              0.4444444444444444,
              "#bd3786"
             ],
             [
              0.5555555555555556,
              "#d8576b"
             ],
             [
              0.6666666666666666,
              "#ed7953"
             ],
             [
              0.7777777777777778,
              "#fb9f3a"
             ],
             [
              0.8888888888888888,
              "#fdca26"
             ],
             [
              1,
              "#f0f921"
             ]
            ],
            "type": "contour"
           }
          ],
          "contourcarpet": [
           {
            "colorbar": {
             "outlinewidth": 0,
             "ticks": ""
            },
            "type": "contourcarpet"
           }
          ],
          "heatmap": [
           {
            "colorbar": {
             "outlinewidth": 0,
             "ticks": ""
            },
            "colorscale": [
             [
              0,
              "#0d0887"
             ],
             [
              0.1111111111111111,
              "#46039f"
             ],
             [
              0.2222222222222222,
              "#7201a8"
             ],
             [
              0.3333333333333333,
              "#9c179e"
             ],
             [
              0.4444444444444444,
              "#bd3786"
             ],
             [
              0.5555555555555556,
              "#d8576b"
             ],
             [
              0.6666666666666666,
              "#ed7953"
             ],
             [
              0.7777777777777778,
              "#fb9f3a"
             ],
             [
              0.8888888888888888,
              "#fdca26"
             ],
             [
              1,
              "#f0f921"
             ]
            ],
            "type": "heatmap"
           }
          ],
          "heatmapgl": [
           {
            "colorbar": {
             "outlinewidth": 0,
             "ticks": ""
            },
            "colorscale": [
             [
              0,
              "#0d0887"
             ],
             [
              0.1111111111111111,
              "#46039f"
             ],
             [
              0.2222222222222222,
              "#7201a8"
             ],
             [
              0.3333333333333333,
              "#9c179e"
             ],
             [
              0.4444444444444444,
              "#bd3786"
             ],
             [
              0.5555555555555556,
              "#d8576b"
             ],
             [
              0.6666666666666666,
              "#ed7953"
             ],
             [
              0.7777777777777778,
              "#fb9f3a"
             ],
             [
              0.8888888888888888,
              "#fdca26"
             ],
             [
              1,
              "#f0f921"
             ]
            ],
            "type": "heatmapgl"
           }
          ],
          "histogram": [
           {
            "marker": {
             "pattern": {
              "fillmode": "overlay",
              "size": 10,
              "solidity": 0.2
             }
            },
            "type": "histogram"
           }
          ],
          "histogram2d": [
           {
            "colorbar": {
             "outlinewidth": 0,
             "ticks": ""
            },
            "colorscale": [
             [
              0,
              "#0d0887"
             ],
             [
              0.1111111111111111,
              "#46039f"
             ],
             [
              0.2222222222222222,
              "#7201a8"
             ],
             [
              0.3333333333333333,
              "#9c179e"
             ],
             [
              0.4444444444444444,
              "#bd3786"
             ],
             [
              0.5555555555555556,
              "#d8576b"
             ],
             [
              0.6666666666666666,
              "#ed7953"
             ],
             [
              0.7777777777777778,
              "#fb9f3a"
             ],
             [
              0.8888888888888888,
              "#fdca26"
             ],
             [
              1,
              "#f0f921"
             ]
            ],
            "type": "histogram2d"
           }
          ],
          "histogram2dcontour": [
           {
            "colorbar": {
             "outlinewidth": 0,
             "ticks": ""
            },
            "colorscale": [
             [
              0,
              "#0d0887"
             ],
             [
              0.1111111111111111,
              "#46039f"
             ],
             [
              0.2222222222222222,
              "#7201a8"
             ],
             [
              0.3333333333333333,
              "#9c179e"
             ],
             [
              0.4444444444444444,
              "#bd3786"
             ],
             [
              0.5555555555555556,
              "#d8576b"
             ],
             [
              0.6666666666666666,
              "#ed7953"
             ],
             [
              0.7777777777777778,
              "#fb9f3a"
             ],
             [
              0.8888888888888888,
              "#fdca26"
             ],
             [
              1,
              "#f0f921"
             ]
            ],
            "type": "histogram2dcontour"
           }
          ],
          "mesh3d": [
           {
            "colorbar": {
             "outlinewidth": 0,
             "ticks": ""
            },
            "type": "mesh3d"
           }
          ],
          "parcoords": [
           {
            "line": {
             "colorbar": {
              "outlinewidth": 0,
              "ticks": ""
             }
            },
            "type": "parcoords"
           }
          ],
          "pie": [
           {
            "automargin": true,
            "type": "pie"
           }
          ],
          "scatter": [
           {
            "marker": {
             "colorbar": {
              "outlinewidth": 0,
              "ticks": ""
             }
            },
            "type": "scatter"
           }
          ],
          "scatter3d": [
           {
            "line": {
             "colorbar": {
              "outlinewidth": 0,
              "ticks": ""
             }
            },
            "marker": {
             "colorbar": {
              "outlinewidth": 0,
              "ticks": ""
             }
            },
            "type": "scatter3d"
           }
          ],
          "scattercarpet": [
           {
            "marker": {
             "colorbar": {
              "outlinewidth": 0,
              "ticks": ""
             }
            },
            "type": "scattercarpet"
           }
          ],
          "scattergeo": [
           {
            "marker": {
             "colorbar": {
              "outlinewidth": 0,
              "ticks": ""
             }
            },
            "type": "scattergeo"
           }
          ],
          "scattergl": [
           {
            "marker": {
             "colorbar": {
              "outlinewidth": 0,
              "ticks": ""
             }
            },
            "type": "scattergl"
           }
          ],
          "scattermapbox": [
           {
            "marker": {
             "colorbar": {
              "outlinewidth": 0,
              "ticks": ""
             }
            },
            "type": "scattermapbox"
           }
          ],
          "scatterpolar": [
           {
            "marker": {
             "colorbar": {
              "outlinewidth": 0,
              "ticks": ""
             }
            },
            "type": "scatterpolar"
           }
          ],
          "scatterpolargl": [
           {
            "marker": {
             "colorbar": {
              "outlinewidth": 0,
              "ticks": ""
             }
            },
            "type": "scatterpolargl"
           }
          ],
          "scatterternary": [
           {
            "marker": {
             "colorbar": {
              "outlinewidth": 0,
              "ticks": ""
             }
            },
            "type": "scatterternary"
           }
          ],
          "surface": [
           {
            "colorbar": {
             "outlinewidth": 0,
             "ticks": ""
            },
            "colorscale": [
             [
              0,
              "#0d0887"
             ],
             [
              0.1111111111111111,
              "#46039f"
             ],
             [
              0.2222222222222222,
              "#7201a8"
             ],
             [
              0.3333333333333333,
              "#9c179e"
             ],
             [
              0.4444444444444444,
              "#bd3786"
             ],
             [
              0.5555555555555556,
              "#d8576b"
             ],
             [
              0.6666666666666666,
              "#ed7953"
             ],
             [
              0.7777777777777778,
              "#fb9f3a"
             ],
             [
              0.8888888888888888,
              "#fdca26"
             ],
             [
              1,
              "#f0f921"
             ]
            ],
            "type": "surface"
           }
          ],
          "table": [
           {
            "cells": {
             "fill": {
              "color": "#EBF0F8"
             },
             "line": {
              "color": "white"
             }
            },
            "header": {
             "fill": {
              "color": "#C8D4E3"
             },
             "line": {
              "color": "white"
             }
            },
            "type": "table"
           }
          ]
         },
         "layout": {
          "annotationdefaults": {
           "arrowcolor": "#2a3f5f",
           "arrowhead": 0,
           "arrowwidth": 1
          },
          "autotypenumbers": "strict",
          "coloraxis": {
           "colorbar": {
            "outlinewidth": 0,
            "ticks": ""
           }
          },
          "colorscale": {
           "diverging": [
            [
             0,
             "#8e0152"
            ],
            [
             0.1,
             "#c51b7d"
            ],
            [
             0.2,
             "#de77ae"
            ],
            [
             0.3,
             "#f1b6da"
            ],
            [
             0.4,
             "#fde0ef"
            ],
            [
             0.5,
             "#f7f7f7"
            ],
            [
             0.6,
             "#e6f5d0"
            ],
            [
             0.7,
             "#b8e186"
            ],
            [
             0.8,
             "#7fbc41"
            ],
            [
             0.9,
             "#4d9221"
            ],
            [
             1,
             "#276419"
            ]
           ],
           "sequential": [
            [
             0,
             "#0d0887"
            ],
            [
             0.1111111111111111,
             "#46039f"
            ],
            [
             0.2222222222222222,
             "#7201a8"
            ],
            [
             0.3333333333333333,
             "#9c179e"
            ],
            [
             0.4444444444444444,
             "#bd3786"
            ],
            [
             0.5555555555555556,
             "#d8576b"
            ],
            [
             0.6666666666666666,
             "#ed7953"
            ],
            [
             0.7777777777777778,
             "#fb9f3a"
            ],
            [
             0.8888888888888888,
             "#fdca26"
            ],
            [
             1,
             "#f0f921"
            ]
           ],
           "sequentialminus": [
            [
             0,
             "#0d0887"
            ],
            [
             0.1111111111111111,
             "#46039f"
            ],
            [
             0.2222222222222222,
             "#7201a8"
            ],
            [
             0.3333333333333333,
             "#9c179e"
            ],
            [
             0.4444444444444444,
             "#bd3786"
            ],
            [
             0.5555555555555556,
             "#d8576b"
            ],
            [
             0.6666666666666666,
             "#ed7953"
            ],
            [
             0.7777777777777778,
             "#fb9f3a"
            ],
            [
             0.8888888888888888,
             "#fdca26"
            ],
            [
             1,
             "#f0f921"
            ]
           ]
          },
          "colorway": [
           "#636efa",
           "#EF553B",
           "#00cc96",
           "#ab63fa",
           "#FFA15A",
           "#19d3f3",
           "#FF6692",
           "#B6E880",
           "#FF97FF",
           "#FECB52"
          ],
          "font": {
           "color": "#2a3f5f"
          },
          "geo": {
           "bgcolor": "white",
           "lakecolor": "white",
           "landcolor": "#E5ECF6",
           "showlakes": true,
           "showland": true,
           "subunitcolor": "white"
          },
          "hoverlabel": {
           "align": "left"
          },
          "hovermode": "closest",
          "mapbox": {
           "style": "light"
          },
          "paper_bgcolor": "white",
          "plot_bgcolor": "#E5ECF6",
          "polar": {
           "angularaxis": {
            "gridcolor": "white",
            "linecolor": "white",
            "ticks": ""
           },
           "bgcolor": "#E5ECF6",
           "radialaxis": {
            "gridcolor": "white",
            "linecolor": "white",
            "ticks": ""
           }
          },
          "scene": {
           "xaxis": {
            "backgroundcolor": "#E5ECF6",
            "gridcolor": "white",
            "gridwidth": 2,
            "linecolor": "white",
            "showbackground": true,
            "ticks": "",
            "zerolinecolor": "white"
           },
           "yaxis": {
            "backgroundcolor": "#E5ECF6",
            "gridcolor": "white",
            "gridwidth": 2,
            "linecolor": "white",
            "showbackground": true,
            "ticks": "",
            "zerolinecolor": "white"
           },
           "zaxis": {
            "backgroundcolor": "#E5ECF6",
            "gridcolor": "white",
            "gridwidth": 2,
            "linecolor": "white",
            "showbackground": true,
            "ticks": "",
            "zerolinecolor": "white"
           }
          },
          "shapedefaults": {
           "line": {
            "color": "#2a3f5f"
           }
          },
          "ternary": {
           "aaxis": {
            "gridcolor": "white",
            "linecolor": "white",
            "ticks": ""
           },
           "baxis": {
            "gridcolor": "white",
            "linecolor": "white",
            "ticks": ""
           },
           "bgcolor": "#E5ECF6",
           "caxis": {
            "gridcolor": "white",
            "linecolor": "white",
            "ticks": ""
           }
          },
          "title": {
           "x": 0.05
          },
          "xaxis": {
           "automargin": true,
           "gridcolor": "white",
           "linecolor": "white",
           "ticks": "",
           "title": {
            "standoff": 15
           },
           "zerolinecolor": "white",
           "zerolinewidth": 2
          },
          "yaxis": {
           "automargin": true,
           "gridcolor": "white",
           "linecolor": "white",
           "ticks": "",
           "title": {
            "standoff": 15
           },
           "zerolinecolor": "white",
           "zerolinewidth": 2
          }
         }
        },
        "title": {
         "text": "Education Exp. (%GDP) and Education Quality in 2018",
         "x": 0.5,
         "xanchor": "center"
        },
        "xaxis": {
         "anchor": "y",
         "domain": [
          0,
          1
         ],
         "title": {
          "text": "Percentage of the GDP"
         }
        },
        "yaxis": {
         "anchor": "x",
         "domain": [
          0,
          1
         ],
         "title": {
          "text": "Education Quality Index"
         }
        }
       }
      }
     },
     "metadata": {},
     "output_type": "display_data"
    }
   ],
   "source": [
    "fig = px.scatter(data_frame=df_indicators_2018_imputed,x='edu_exp_pct_gdp',y='edu_quality_index',hover_name='country',color='edu_quality_index', trendline='ols', labels={'edu_quality_index':'Quality of Education Index'},\n",
    "                 color_continuous_scale=px.colors.sequential.Teal, trendline_color_override='Purple')\n",
    "\n",
    "#Setting the labels of the plot\n",
    "fig.update_layout(\n",
    "    title={\n",
    "        'text': \"Education Exp. (%GDP) and Education Quality in 2018\",\n",
    "        'x':0.5,\n",
    "        'xanchor': 'center'},\n",
    "    xaxis_title=\"Percentage of the GDP\",\n",
    "    yaxis_title=\"Education Quality Index\"\n",
    ")\n",
    "\n",
    "fig.show()\n"
   ]
  },
  {
   "cell_type": "markdown",
   "metadata": {},
   "source": [
    "While the magnitude of the relation changes slightly to make the R^2 even lower, it doesn't really matter since there was almost no association to begin with."
   ]
  },
  {
   "cell_type": "code",
   "execution_count": 17,
   "metadata": {},
   "outputs": [
    {
     "data": {
      "application/vnd.plotly.v1+json": {
       "config": {
        "plotlyServerURL": "https://plot.ly"
       },
       "data": [
        {
         "hovertemplate": "<b>%{hovertext}</b><br><br>income_group=Low income<br>edu_exp_pct_gdp=%{x}<br>Quality of Education Index=%{marker.color}<extra></extra>",
         "hovertext": [
          "Afghanistan",
          "Burkina Faso",
          "Burundi",
          "Central African Republic",
          "Chad",
          "Eritrea",
          "Ethiopia",
          "Gambia",
          "Guinea",
          "Guinea-Bissau",
          "Liberia",
          "Madagascar",
          "Malawi",
          "Mali",
          "Mozambique",
          "Niger",
          "Rwanda",
          "Sierra Leone",
          "Somalia",
          "South Sudan",
          "Sudan",
          "Syria",
          "Togo",
          "Uganda",
          "Yemen"
         ],
         "legendgroup": "",
         "marker": {
          "color": [
           3.125883053926702,
           3.194289923529412,
           3.3095909355,
           3.41452525,
           2.61314469575,
           4.157164111887255,
           3.548745334249999,
           4.03637063525,
           2.7947496775,
           4.008975845,
           2.89157027,
           3.67245489375,
           2.92263948925,
           3.66399663725,
           2.790258944,
           2.6414312625,
           4.394029140500001,
           2.91684859975,
           3.41452525,
           3.43541885,
           3.333133403550296,
           3.891372191274403,
           3.835960849080883,
           3.343117058,
           2.2447446585
          ],
          "coloraxis": "coloraxis",
          "symbol": "circle"
         },
         "mode": "markers",
         "name": "",
         "orientation": "v",
         "showlegend": false,
         "type": "scatter",
         "x": [
          3.19979000091553,
          5.43056011199951,
          5.07864999771118,
          1.56587994098663,
          2.25947999954224,
          3.66676998138428,
          5.06867980957031,
          2.36543989181519,
          2.38432002067566,
          2.13787007331848,
          2.58412003517151,
          2.87452006340027,
          3.38193988800049,
          3.88252997398376,
          5.45218992233276,
          3.44697999954224,
          3.07375001907349,
          6.98963022232056,
          5.08445978164673,
          2.50669002532959,
          2.82512998580933,
          5.42886018753052,
          4.04394006729126,
          2.13052010536194,
          3.69521999359131
         ],
         "xaxis": "x",
         "y": [
          3.125883053926702,
          3.194289923529412,
          3.3095909355,
          3.41452525,
          2.61314469575,
          4.157164111887255,
          3.548745334249999,
          4.03637063525,
          2.7947496775,
          4.008975845,
          2.89157027,
          3.67245489375,
          2.92263948925,
          3.66399663725,
          2.790258944,
          2.6414312625,
          4.394029140500001,
          2.91684859975,
          3.41452525,
          3.43541885,
          3.333133403550296,
          3.891372191274403,
          3.835960849080883,
          3.343117058,
          2.2447446585
         ],
         "yaxis": "y"
        },
        {
         "hovertemplate": "<b>OLS trendline</b><br>edu_quality_index = -0.0349456 * edu_exp_pct_gdp + 3.47038<br>R<sup>2</sup>=0.007969<br><br>income_group=Low income<br>edu_exp_pct_gdp=%{x}<br>Quality of Education Index=%{y} <b>(trend)</b><extra></extra>",
         "legendgroup": "",
         "line": {
          "color": "Purple"
         },
         "marker": {
          "symbol": "circle"
         },
         "mode": "lines",
         "name": "",
         "showlegend": false,
         "type": "scatter",
         "x": [
          1.56587994098663,
          2.13052010536194,
          2.13787007331848,
          2.25947999954224,
          2.36543989181519,
          2.38432002067566,
          2.50669002532959,
          2.58412003517151,
          2.82512998580933,
          2.87452006340027,
          3.07375001907349,
          3.19979000091553,
          3.38193988800049,
          3.44697999954224,
          3.66676998138428,
          3.69521999359131,
          3.88252997398376,
          4.04394006729126,
          5.06867980957031,
          5.07864999771118,
          5.08445978164673,
          5.42886018753052,
          5.43056011199951,
          5.45218992233276,
          6.98963022232056
         ],
         "xaxis": "x",
         "y": [
          3.415660993946659,
          3.395929322325907,
          3.3956724735161843,
          3.391422745492097,
          3.3877199168036465,
          3.387060139964632,
          3.3827838505675913,
          3.3800780148439094,
          3.3716557850711117,
          3.369929820724551,
          3.3629676166335436,
          3.358563077796771,
          3.3521977464149804,
          3.3499248827327825,
          3.342244196836064,
          3.3412499949816907,
          3.3347043412050374,
          3.329063773710265,
          3.293253660708908,
          3.2929052468148834,
          3.2927022206115835,
          3.2806669525883265,
          3.2806075477611136,
          3.2798516817394554,
          3.226124956207217
         ],
         "yaxis": "y"
        },
        {
         "hovertemplate": "<b>%{hovertext}</b><br><br>income_group=Upper middle income<br>edu_exp_pct_gdp=%{x}<br>Quality of Education Index=%{marker.color}<extra></extra>",
         "hovertext": [
          "Albania",
          "American Samoa",
          "Argentina",
          "Armenia",
          "Azerbaijan",
          "Belarus",
          "Bosnia and Herzegovina",
          "Botswana",
          "Brazil",
          "Bulgaria",
          "China",
          "Colombia",
          "Costa Rica",
          "Cuba",
          "Dominica",
          "Dominican Republic",
          "Ecuador",
          "Equatorial Guinea",
          "Fiji",
          "Gabon",
          "Georgia",
          "Grenada",
          "Guatemala",
          "Guyana",
          "Iraq",
          "Jamaica",
          "Jordan",
          "Kazakhstan",
          "Kosovo",
          "Lebanon",
          "Libya",
          "Malaysia",
          "Maldives",
          "Marshall Islands",
          "Mauritius",
          "Mexico",
          "Moldova",
          "Montenegro",
          "Namibia",
          "North Macedonia",
          "Panama",
          "Paraguay",
          "Peru",
          "Romania",
          "Russia",
          "Serbia",
          "South Africa",
          "St. Lucia",
          "St. Vincent and the Grenadines",
          "Suriname",
          "Thailand",
          "Tonga",
          "Turkey",
          "Turkmenistan",
          "Tuvalu"
         ],
         "legendgroup": "",
         "marker": {
          "color": [
           4.485545992750001,
           4.331240600000001,
           3.75650507225,
           4.123025775249999,
           4.406499505,
           3.852644652250146,
           3.23686605675,
           3.6361775995,
           3.182566643,
           3.773089886,
           4.513828873750001,
           3.800363958,
           4.787541389499999,
           4.03495825,
           3.82317068387604,
           3.09706348175,
           3.7505168915,
           3.635349051379515,
           3.639046438676888,
           3.23953305385006,
           3.5151272415,
           4.333431695512821,
           3.289593935,
           3.853571719433403,
           3.365787613711912,
           4.37463819975,
           4.31229245675,
           4.113367319,
           3.937275875307793,
           5.118548751000001,
           3.595409990976331,
           5.25812911975,
           3.891372191274403,
           3.66025239225,
           4.3772073985,
           3.51215380425,
           3.76005345575,
           4.08039987125,
           3.34541547275,
           4.05051058525,
           3.680060029,
           2.7540509105,
           3.27700579175,
           3.7737690805,
           4.3563212755,
           3.99615168575,
           3.4022233485,
           3.871580136259542,
           3.430077232999553,
           3.464315527678572,
           4.05051058525,
           3.263894317052602,
           3.551756382,
           3.786770106599438,
           3.609029785521235
          ],
          "coloraxis": "coloraxis",
          "symbol": "circle"
         },
         "mode": "markers",
         "name": "",
         "orientation": "v",
         "showlegend": false,
         "type": "scatter",
         "x": [
          5.44849014282227,
          5.23887014389038,
          4.94551992416382,
          2.25587010383606,
          2.45543003082275,
          5.38111019134521,
          4.46576023101807,
          6.72133016586304,
          6.08851003646851,
          3.79242992401123,
          3.54249000549316,
          4.44910001754761,
          6.7790699005127,
          4.88274002075195,
          5.57154989242554,
          3.92848992347717,
          4.6214599609375,
          4.08114004135132,
          4.83571004867554,
          2.93345999717712,
          3.5210599899292,
          3.55255007743835,
          3.13704991340637,
          4.45058012008667,
          5.02904987335205,
          5.41380977630615,
          2.98481011390686,
          2.61595010757446,
          5.54711008071899,
          2.52447009086609,
          2.64530992507935,
          4.47959995269775,
          3.91248989105225,
          9.65147018432617,
          4.83458995819092,
          4.25442981719971,
          5.43973016738892,
          4.03133010864258,
          8.98805046081543,
          5.48908996582031,
          2.8829300403595,
          3.28320002555847,
          3.71429991722107,
          3.34474992752075,
          4.67819976806641,
          3.58231997489929,
          6.15898990631104,
          3.33179998397827,
          5.69377994537354,
          5.68860006332397,
          3.05677008628845,
          6.3729100227356,
          4.29460000991821,
          5.76293992996216,
          9.5097599029541
         ],
         "xaxis": "x2",
         "y": [
          4.485545992750001,
          4.331240600000001,
          3.75650507225,
          4.123025775249999,
          4.406499505,
          3.852644652250146,
          3.23686605675,
          3.6361775995,
          3.182566643,
          3.773089886,
          4.513828873750001,
          3.800363958,
          4.787541389499999,
          4.03495825,
          3.82317068387604,
          3.09706348175,
          3.7505168915,
          3.635349051379515,
          3.639046438676888,
          3.23953305385006,
          3.5151272415,
          4.333431695512821,
          3.289593935,
          3.853571719433403,
          3.365787613711912,
          4.37463819975,
          4.31229245675,
          4.113367319,
          3.937275875307793,
          5.118548751000001,
          3.595409990976331,
          5.25812911975,
          3.891372191274403,
          3.66025239225,
          4.3772073985,
          3.51215380425,
          3.76005345575,
          4.08039987125,
          3.34541547275,
          4.05051058525,
          3.680060029,
          2.7540509105,
          3.27700579175,
          3.7737690805,
          4.3563212755,
          3.99615168575,
          3.4022233485,
          3.871580136259542,
          3.430077232999553,
          3.464315527678572,
          4.05051058525,
          3.263894317052602,
          3.551756382,
          3.786770106599438,
          3.609029785521235
         ],
         "yaxis": "y2"
        },
        {
         "hovertemplate": "<b>OLS trendline</b><br>edu_quality_index = -0.0474678 * edu_exp_pct_gdp + 4.05968<br>R<sup>2</sup>=0.024650<br><br>income_group=Upper middle income<br>edu_exp_pct_gdp=%{x}<br>Quality of Education Index=%{y} <b>(trend)</b><extra></extra>",
         "legendgroup": "",
         "line": {
          "color": "Purple"
         },
         "marker": {
          "symbol": "circle"
         },
         "mode": "lines",
         "name": "",
         "showlegend": false,
         "type": "scatter",
         "x": [
          2.25587010383606,
          2.45543003082275,
          2.52447009086609,
          2.61595010757446,
          2.64530992507935,
          2.8829300403595,
          2.93345999717712,
          2.98481011390686,
          3.05677008628845,
          3.13704991340637,
          3.28320002555847,
          3.33179998397827,
          3.34474992752075,
          3.5210599899292,
          3.54249000549316,
          3.55255007743835,
          3.58231997489929,
          3.71429991722107,
          3.79242992401123,
          3.91248989105225,
          3.92848992347717,
          4.03133010864258,
          4.08114004135132,
          4.25442981719971,
          4.29460000991821,
          4.44910001754761,
          4.45058012008667,
          4.46576023101807,
          4.47959995269775,
          4.6214599609375,
          4.67819976806641,
          4.83458995819092,
          4.83571004867554,
          4.88274002075195,
          4.94551992416382,
          5.02904987335205,
          5.23887014389038,
          5.38111019134521,
          5.41380977630615,
          5.43973016738892,
          5.44849014282227,
          5.48908996582031,
          5.54711008071899,
          5.57154989242554,
          5.68860006332397,
          5.69377994537354,
          5.76293992996216,
          6.08851003646851,
          6.15898990631104,
          6.3729100227356,
          6.72133016586304,
          6.7790699005127,
          8.98805046081543,
          9.5097599029541,
          9.65147018432617
         ],
         "xaxis": "x2",
         "y": [
          3.9526004635858065,
          3.943127791807226,
          3.939850611672721,
          3.935508256042198,
          3.934114609938482,
          3.922835304548741,
          3.9204367583919715,
          3.9179992810441013,
          3.914583499078958,
          3.9107727918682866,
          3.9038353667863865,
          3.9015284334179747,
          3.9009137280180415,
          3.89254467628669,
          3.8915274404783164,
          3.891049910940976,
          3.8896367992417105,
          3.8833720010237114,
          3.8796633410659895,
          3.8739643579149154,
          3.873204871489477,
          3.8683232735933952,
          3.865958905400905,
          3.85773322004422,
          3.8558264291536313,
          3.8484926528581576,
          3.848422395638871,
          3.847701829087325,
          3.847044887871931,
          3.8403111046076615,
          3.8376177904847917,
          3.830194291374481,
          3.830141123137334,
          3.827908713575141,
          3.8249286893373524,
          3.820963705964742,
          3.81100399819518,
          3.804252175303407,
          3.802699997768027,
          3.8014696136883823,
          3.8010537968792586,
          3.7991266123821696,
          3.7963725248592404,
          3.795212420633296,
          3.789656305899793,
          3.7894104282667014,
          3.7861275555772194,
          3.7706734571195777,
          3.7673279323737208,
          3.757173613917487,
          3.740634874368277,
          3.7378940958804443,
          3.6330386365255807,
          3.608274234254099,
          3.6015475581956466
         ],
         "yaxis": "y2"
        },
        {
         "hovertemplate": "<b>%{hovertext}</b><br><br>income_group=Lower middle income<br>edu_exp_pct_gdp=%{x}<br>Quality of Education Index=%{marker.color}<extra></extra>",
         "hovertext": [
          "Algeria",
          "Angola",
          "Bangladesh",
          "Belize",
          "Benin",
          "Bhutan",
          "Bolivia",
          "Cabo Verde",
          "Cambodia",
          "Cameroon",
          "Comoros",
          "Cote d'Ivoire",
          "Djibouti",
          "Egypt",
          "El Salvador",
          "Eswatini",
          "Ghana",
          "Haiti",
          "Honduras",
          "India",
          "Indonesia",
          "Iran",
          "Kenya",
          "Kiribati",
          "Kyrgyzstan",
          "Lao PDR",
          "Lesotho",
          "Mauritania",
          "Micronesia",
          "Mongolia",
          "Morocco",
          "Myanmar",
          "Nepal",
          "Nicaragua",
          "Nigeria",
          "Pakistan",
          "Papua New Guinea",
          "Philippines",
          "Samoa",
          "Sao Tome and Principe",
          "Senegal",
          "Solomon Islands",
          "Sri Lanka",
          "Tajikistan",
          "Tanzania",
          "Timor-Leste",
          "Tunisia",
          "Ukraine",
          "Uzbekistan",
          "Vanuatu",
          "Vietnam",
          "West Bank and Gaza",
          "Zambia",
          "Zimbabwe",
          "Congo"
         ],
         "legendgroup": "",
         "marker": {
          "color": [
           3.416745662749999,
           2.61314469575,
           3.38388782725,
           4.011239882718121,
           3.302977741,
           4.3412513735,
           2.943328495,
           3.922236279598894,
           3.3678638935,
           3.99517446775,
           3.99615168575,
           3.937275875307793,
           3.551013130916131,
           2.9052241445,
           2.927667737,
           3.09669226425,
           4.018807113,
           2.7684766055,
           3.36910063025,
           4.605217695249999,
           4.6026746035,
           3.83756726975,
           4.36485934275,
           3.382990938505747,
           3.1524888275,
           3.8370832205,
           3.5835725665,
           2.3659526705,
           4.05051058525,
           3.69268512725,
           3.4795261025,
           2.557547,
           3.83100247375,
           3.03231650575,
           3.16824227575,
           3.66025239225,
           3.042499860040984,
           4.3122189045,
           3.430077232999553,
           3.382604328111613,
           4.09712105975,
           3.037661686079989,
           4.124032378,
           4.13513046525,
           3.15139406925,
           2.573858593814433,
           3.79927766325,
           4.374483644750001,
           4.006601396194692,
           2.961133327987024,
           3.68711513275,
           3.723914141025641,
           3.6091204285,
           3.793227315,
           2.527424595346956
          ],
          "coloraxis": "coloraxis",
          "symbol": "circle"
         },
         "mode": "markers",
         "name": "",
         "orientation": "v",
         "showlegend": false,
         "type": "scatter",
         "x": [
          5.8663501739502,
          2.04469990730286,
          1.61330997943878,
          7.47227001190186,
          2.93396997451782,
          6.85084009170532,
          5.56678009033203,
          5.36885023117065,
          2.16285991668701,
          3.13120007514954,
          2.89951992034912,
          3.23993992805481,
          3.62773990631104,
          3.63752007484436,
          3.60575008392334,
          5.67916011810303,
          4.0041298866272,
          1.68210005760193,
          6.05646991729736,
          3.60575008392334,
          3,
          3.9553599357605,
          5.30625009536743,
          11.9682903289795,
          5.55267000198364,
          3.67008996009827,
          7.28535985946655,
          2.1964099407196,
          9.69705009460449,
          6.17301988601685,
          4.48657989501953,
          1.92288994789124,
          4.43445014953613,
          3.56255006790161,
          2,
          2.9243700504303,
          1.8748300075531,
          3.1331000328064,
          4.53214979171753,
          5.23510980606079,
          4.85822010040283,
          9.5097599029541,
          2.13539004325867,
          5.55836009979248,
          3.69643998146057,
          6.83091020584106,
          5.81278991699219,
          5.31947994232178,
          5.90000009536743,
          5.01113986968994,
          4.16744995117188,
          5.31887006759644,
          4.73973989486694,
          3.58728003501892,
          4.33309984207153
         ],
         "xaxis": "x3",
         "y": [
          3.416745662749999,
          2.61314469575,
          3.38388782725,
          4.011239882718121,
          3.302977741,
          4.3412513735,
          2.943328495,
          3.922236279598894,
          3.3678638935,
          3.99517446775,
          3.99615168575,
          3.937275875307793,
          3.551013130916131,
          2.9052241445,
          2.927667737,
          3.09669226425,
          4.018807113,
          2.7684766055,
          3.36910063025,
          4.605217695249999,
          4.6026746035,
          3.83756726975,
          4.36485934275,
          3.382990938505747,
          3.1524888275,
          3.8370832205,
          3.5835725665,
          2.3659526705,
          4.05051058525,
          3.69268512725,
          3.4795261025,
          2.557547,
          3.83100247375,
          3.03231650575,
          3.16824227575,
          3.66025239225,
          3.042499860040984,
          4.3122189045,
          3.430077232999553,
          3.382604328111613,
          4.09712105975,
          3.037661686079989,
          4.124032378,
          4.13513046525,
          3.15139406925,
          2.573858593814433,
          3.79927766325,
          4.374483644750001,
          4.006601396194692,
          2.961133327987024,
          3.68711513275,
          3.723914141025641,
          3.6091204285,
          3.793227315,
          2.527424595346956
         ],
         "yaxis": "y3"
        },
        {
         "hovertemplate": "<b>OLS trendline</b><br>edu_quality_index = 0.0376257 * edu_exp_pct_gdp + 3.37104<br>R<sup>2</sup>=0.019715<br><br>income_group=Lower middle income<br>edu_exp_pct_gdp=%{x}<br>Quality of Education Index=%{y} <b>(trend)</b><extra></extra>",
         "legendgroup": "",
         "line": {
          "color": "Purple"
         },
         "marker": {
          "symbol": "circle"
         },
         "mode": "lines",
         "name": "",
         "showlegend": false,
         "type": "scatter",
         "x": [
          1.61330997943878,
          1.68210005760193,
          1.8748300075531,
          1.92288994789124,
          2,
          2.04469990730286,
          2.13539004325867,
          2.16285991668701,
          2.1964099407196,
          2.89951992034912,
          2.9243700504303,
          2.93396997451782,
          3,
          3.13120007514954,
          3.1331000328064,
          3.23993992805481,
          3.56255006790161,
          3.58728003501892,
          3.60575008392334,
          3.60575008392334,
          3.62773990631104,
          3.63752007484436,
          3.67008996009827,
          3.69643998146057,
          3.9553599357605,
          4.0041298866272,
          4.16744995117188,
          4.33309984207153,
          4.43445014953613,
          4.48657989501953,
          4.53214979171753,
          4.73973989486694,
          4.85822010040283,
          5.01113986968994,
          5.23510980606079,
          5.30625009536743,
          5.31887006759644,
          5.31947994232178,
          5.36885023117065,
          5.55267000198364,
          5.55836009979248,
          5.56678009033203,
          5.67916011810303,
          5.81278991699219,
          5.8663501739502,
          5.90000009536743,
          6.05646991729736,
          6.17301988601685,
          6.83091020584106,
          6.85084009170532,
          7.28535985946655,
          7.47227001190186,
          9.5097599029541,
          9.69705009460449,
          11.9682903289795
         ],
         "xaxis": "x3",
         "y": [
          3.4317461411155628,
          3.434334413849375,
          3.4415860072152737,
          3.4433942946382188,
          3.4462956119605015,
          3.4479774758915402,
          3.4513897529580584,
          3.4524233253320746,
          3.4536856674421728,
          3.480140651034866,
          3.481075653811985,
          3.4814368573812478,
          3.483921281285566,
          3.4888577719285663,
          3.4889292591070946,
          3.492949181676436,
          3.5050876041192245,
          3.5060180856844,
          3.5067130336368955,
          3.5067130336368955,
          3.507540415422572,
          3.5079084008097503,
          3.509133864542269,
          3.510125301732755,
          3.5198673383149055,
          3.5217023403592154,
          3.5278473671019217,
          3.534080055120645,
          3.5378934282753014,
          3.5398548448408595,
          3.541569442705196,
          3.549380159281452,
          3.553838056316511,
          3.559591764988973,
          3.568018783753618,
          3.570695484754759,
          3.5711703196567393,
          3.5711932666014845,
          3.573050856764195,
          3.5799671986762136,
          3.5801812924147964,
          3.580498100194558,
          3.584726473958211,
          3.5897543845831894,
          3.591769625100457,
          3.593035725916516,
          3.598923007695803,
          3.6033082782786896,
          3.628061841904556,
          3.628811717199771,
          3.6451608142967586,
          3.652193433885787,
          3.72885535477968,
          3.7359022735985454,
          3.8213592076149214
         ],
         "yaxis": "y3"
        },
        {
         "hovertemplate": "<b>%{hovertext}</b><br><br>income_group=High income<br>edu_exp_pct_gdp=%{x}<br>Quality of Education Index=%{marker.color}<extra></extra>",
         "hovertext": [
          "Andorra",
          "Antigua and Barbuda",
          "Aruba",
          "Australia",
          "Austria",
          "Bahamas",
          "Bahrain",
          "Barbados",
          "Belgium",
          "Bermuda",
          "British Virgin Islands",
          "Brunei",
          "Canada",
          "Cayman Islands",
          "Channel Islands",
          "Chile",
          "Croatia",
          "Curacao",
          "Cyprus",
          "Czech",
          "Denmark",
          "Estonia",
          "Faroe Islands",
          "Finland",
          "France",
          "French Polynesia",
          "Germany",
          "Gibraltar",
          "Greece",
          "Greenland",
          "Guam",
          "Hong Kong",
          "Hungary",
          "Iceland",
          "Ireland",
          "Isle of Man",
          "Israel",
          "Italy",
          "Japan",
          "Korea, Rep.",
          "Kuwait",
          "Latvia",
          "Liechtenstein",
          "Lithuania",
          "Luxembourg",
          "Macao SAR, China",
          "Malta",
          "Monaco",
          "Nauru",
          "Netherlands",
          "New Caledonia",
          "New Zealand",
          "Northern Mariana Islands",
          "Norway",
          "Oman",
          "Palau",
          "Poland",
          "Portugal",
          "Puerto Rico",
          "Qatar",
          "San Marino",
          "Saudi Arabia",
          "Seychelles",
          "Singapore",
          "Sint Maarten (Dutch part)",
          "Slovakia",
          "Slovenia",
          "Spain",
          "St. Kitts and Nevis",
          "St. Martin (French part)",
          "Sweden",
          "Switzerland",
          "Trinidad and Tobago",
          "Turks and Caicos Islands",
          "United Arab Emirates",
          "United Kingdom",
          "United States",
          "Uruguay"
         ],
         "legendgroup": "",
         "marker": {
          "color": [
           4.883352185267469,
           4.097679931132076,
           4.705032212564636,
           5.32498466975,
           4.710301160749999,
           4.64217950460251,
           4.816789984750001,
           4.660130098970925,
           5.36690354325,
           4.919909089655173,
           5.08472697269727,
           4.584998965500001,
           5.579452038,
           5.017800137112445,
           5.216284706919643,
           4.121846437249999,
           3.622494161,
           4.429337616914498,
           4.1842525005,
           4.48947828975,
           5.44074654575,
           5.2810070515,
           5.37197506425,
           5.877574682,
           4.96322739125,
           4.83188291518919,
           5.28436040875,
           4.903761910426541,
           3.778220594,
           5.443477162147888,
           4.660130098970925,
           5.37197506425,
           3.66430544875,
           5.4105769395,
           5.26850879225,
           4.914795399006621,
           5.07211995125,
           4.437981963,
           4.76136147975,
           4.5241591335,
           3.48593091975,
           4.36378258475,
           5.154452212500001,
           4.4885306955,
           4.68427121625,
           5.131259234978235,
           5.124402999999999,
           5.052881708839779,
           4.382509232812501,
           5.77895951275,
           4.816789984750001,
           5.5188162325,
           5.001788609523809,
           5.386394262250001,
           3.7034083605,
           4.596497320731707,
           4.217128813,
           4.821053028250001,
           4.333431695512821,
           5.650964141,
           5.090531294221309,
           4.336327791,
           3.995258987,
           6.1019439695,
           4.474316602430556,
           3.798733771,
           4.796257138250001,
           4.5152790545,
           4.055421307373272,
           4.553095665481171,
           5.199332714000001,
           6.1326652765,
           4.468680382000001,
           4.348512731924883,
           5.4820508955,
           5.2462177275,
           5.697491168999999,
           3.90237712875
          ],
          "coloraxis": "coloraxis",
          "symbol": "circle"
         },
         "mode": "markers",
         "name": "",
         "orientation": "v",
         "showlegend": false,
         "type": "scatter",
         "x": [
          3.2467200756073,
          2.64407992362976,
          4.7449197769165,
          5.10789012908936,
          5.22535991668701,
          2.30952000617981,
          2.69412994384766,
          5.42886018753052,
          6.37663984298706,
          1.87920999526978,
          2.69412994384766,
          3.81316995620728,
          5.84018993377686,
          2.46592998504639,
          6.43199014663696,
          5.43316984176636,
          4.25357007980347,
          4.35526990890503,
          5.23510980606079,
          4.26692008972168,
          8.12518978118896,
          5.23887014389038,
          7.00420999526978,
          6.26929998397827,
          5.41316986083984,
          5.85128021240234,
          4.99274015426636,
          3.67997002601624,
          3.59395003318787,
          10.5601902008057,
          3.59024000167847,
          3.32651996612549,
          4.62730979919434,
          7.57405996322632,
          3.38309001922607,
          4.36638021469116,
          6.1648998260498,
          4.2557201385498,
          4.48398017883301,
          4.45807981491089,
          6.38917016983032,
          4.24517011642456,
          1.75364995002747,
          3.89495992660522,
          3.66626000404358,
          2.72788000106812,
          5.6184401512146,
          1.56587994098663,
          8.67057037353516,
          5.35764980316162,
          4.238609790802,
          6.04850006103516,
          5.6184401512146,
          7.64411020278931,
          5.20723009109497,
          9.63292026519775,
          4.61579990386963,
          4.67515993118286,
          5.77611017227173,
          3.55516004562378,
          3.55516004562378,
          5.56728982925415,
          4.49883985519409,
          2.64509010314941,
          3.97232007980347,
          3.975830078125,
          4.93603992462158,
          4.17816019058228,
          2.83628988265991,
          6.08851003646851,
          7.64084005355835,
          4.86093997955322,
          3.2862401008606,
          2.7437698841095,
          4.94551992416382,
          5.23890018463135,
          5.07645988464355,
          4.66279983520508
         ],
         "xaxis": "x4",
         "y": [
          4.883352185267469,
          4.097679931132076,
          4.705032212564636,
          5.32498466975,
          4.710301160749999,
          4.64217950460251,
          4.816789984750001,
          4.660130098970925,
          5.36690354325,
          4.919909089655173,
          5.08472697269727,
          4.584998965500001,
          5.579452038,
          5.017800137112445,
          5.216284706919643,
          4.121846437249999,
          3.622494161,
          4.429337616914498,
          4.1842525005,
          4.48947828975,
          5.44074654575,
          5.2810070515,
          5.37197506425,
          5.877574682,
          4.96322739125,
          4.83188291518919,
          5.28436040875,
          4.903761910426541,
          3.778220594,
          5.443477162147888,
          4.660130098970925,
          5.37197506425,
          3.66430544875,
          5.4105769395,
          5.26850879225,
          4.914795399006621,
          5.07211995125,
          4.437981963,
          4.76136147975,
          4.5241591335,
          3.48593091975,
          4.36378258475,
          5.154452212500001,
          4.4885306955,
          4.68427121625,
          5.131259234978235,
          5.124402999999999,
          5.052881708839779,
          4.382509232812501,
          5.77895951275,
          4.816789984750001,
          5.5188162325,
          5.001788609523809,
          5.386394262250001,
          3.7034083605,
          4.596497320731707,
          4.217128813,
          4.821053028250001,
          4.333431695512821,
          5.650964141,
          5.090531294221309,
          4.336327791,
          3.995258987,
          6.1019439695,
          4.474316602430556,
          3.798733771,
          4.796257138250001,
          4.5152790545,
          4.055421307373272,
          4.553095665481171,
          5.199332714000001,
          6.1326652765,
          4.468680382000001,
          4.348512731924883,
          5.4820508955,
          5.2462177275,
          5.697491168999999,
          3.90237712875
         ],
         "yaxis": "y4"
        },
        {
         "hovertemplate": "<b>OLS trendline</b><br>edu_quality_index = 0.0533189 * edu_exp_pct_gdp + 4.5605<br>R<sup>2</sup>=0.024041<br><br>income_group=High income<br>edu_exp_pct_gdp=%{x}<br>Quality of Education Index=%{y} <b>(trend)</b><extra></extra>",
         "legendgroup": "",
         "line": {
          "color": "Purple"
         },
         "marker": {
          "symbol": "circle"
         },
         "mode": "lines",
         "name": "",
         "showlegend": false,
         "type": "scatter",
         "x": [
          1.56587994098663,
          1.75364995002747,
          1.87920999526978,
          2.30952000617981,
          2.46592998504639,
          2.64407992362976,
          2.64509010314941,
          2.69412994384766,
          2.69412994384766,
          2.72788000106812,
          2.7437698841095,
          2.83628988265991,
          3.2467200756073,
          3.2862401008606,
          3.32651996612549,
          3.38309001922607,
          3.55516004562378,
          3.55516004562378,
          3.59024000167847,
          3.59395003318787,
          3.66626000404358,
          3.67997002601624,
          3.81316995620728,
          3.89495992660522,
          3.97232007980347,
          3.975830078125,
          4.17816019058228,
          4.238609790802,
          4.24517011642456,
          4.25357007980347,
          4.2557201385498,
          4.26692008972168,
          4.35526990890503,
          4.36638021469116,
          4.45807981491089,
          4.48398017883301,
          4.49883985519409,
          4.61579990386963,
          4.62730979919434,
          4.66279983520508,
          4.67515993118286,
          4.7449197769165,
          4.86093997955322,
          4.93603992462158,
          4.94551992416382,
          4.99274015426636,
          5.07645988464355,
          5.10789012908936,
          5.20723009109497,
          5.22535991668701,
          5.23510980606079,
          5.23887014389038,
          5.23890018463135,
          5.35764980316162,
          5.41316986083984,
          5.42886018753052,
          5.43316984176636,
          5.56728982925415,
          5.6184401512146,
          5.6184401512146,
          5.77611017227173,
          5.84018993377686,
          5.85128021240234,
          6.04850006103516,
          6.08851003646851,
          6.1648998260498,
          6.26929998397827,
          6.37663984298706,
          6.38917016983032,
          6.43199014663696,
          7.00420999526978,
          7.57405996322632,
          7.64084005355835,
          7.64411020278931,
          8.12518978118896,
          8.67057037353516,
          9.63292026519775,
          10.5601902008057
         ],
         "xaxis": "x4",
         "y": [
          4.643991072676476,
          4.654002753850065,
          4.660697471220154,
          4.683641106665674,
          4.691980707056488,
          4.7014794571247345,
          4.701533318736237,
          4.704148066705748,
          4.704148066705748,
          4.705947580984986,
          4.7067948112946,
          4.71172787133118,
          4.7336115377206855,
          4.735718700066948,
          4.737866376209731,
          4.740882626453895,
          4.750057202588949,
          4.750057202588949,
          4.751927625546252,
          4.752125440164283,
          4.755980924741277,
          4.756711927362912,
          4.763813994621837,
          4.768174941883886,
          4.77229969638178,
          4.772486845460031,
          4.783274854621271,
          4.786497957861039,
          4.786847746886791,
          4.787295623284354,
          4.78741026194674,
          4.788007430476823,
          4.792718141340217,
          4.793310530081315,
          4.79819984742137,
          4.799580825071596,
          4.800373125944509,
          4.806609301377255,
          4.807222995773506,
          4.80911528372297,
          4.80977430984134,
          4.813493824676385,
          4.819679888598028,
          4.823684131394943,
          4.824189594079999,
          4.826707322502898,
          4.83117116235015,
          4.8328469868772235,
          4.838143679530523,
          4.839110341003713,
          4.839630193904539,
          4.839830690797771,
          4.8398322925355695,
          4.846163885777128,
          4.849124151471597,
          4.84996074166584,
          4.850190527478803,
          4.8573416511358385,
          4.8600689275417475,
          4.8600689275417475,
          4.868475711934637,
          4.871892371203846,
          4.872483692119746,
          4.882999227884492,
          4.885132513811504,
          4.889205529636087,
          4.894772026122887,
          4.900495264094188,
          4.901163366726745,
          4.9034464786988785,
          4.9339565836670545,
          4.964340329320069,
          4.967900967020216,
          4.968075327620493,
          4.993725938080946,
          5.022805004736611,
          5.074116395421312,
          5.123557363148712
         ],
         "yaxis": "y4"
        }
       ],
       "layout": {
        "annotations": [
         {
          "font": {},
          "showarrow": false,
          "text": "income_group=Low income",
          "x": 0.1175,
          "xanchor": "center",
          "xref": "paper",
          "y": 1,
          "yanchor": "bottom",
          "yref": "paper"
         },
         {
          "font": {},
          "showarrow": false,
          "text": "income_group=Upper middle income",
          "x": 0.3725,
          "xanchor": "center",
          "xref": "paper",
          "y": 1,
          "yanchor": "bottom",
          "yref": "paper"
         },
         {
          "font": {},
          "showarrow": false,
          "text": "income_group=Lower middle income",
          "x": 0.6275,
          "xanchor": "center",
          "xref": "paper",
          "y": 1,
          "yanchor": "bottom",
          "yref": "paper"
         },
         {
          "font": {},
          "showarrow": false,
          "text": "income_group=High income",
          "x": 0.8824999999999998,
          "xanchor": "center",
          "xref": "paper",
          "y": 1,
          "yanchor": "bottom",
          "yref": "paper"
         }
        ],
        "coloraxis": {
         "colorbar": {
          "title": {
           "text": "Quality of Education Index"
          }
         },
         "colorscale": [
          [
           0,
           "rgb(209, 238, 234)"
          ],
          [
           0.16666666666666666,
           "rgb(168, 219, 217)"
          ],
          [
           0.3333333333333333,
           "rgb(133, 196, 201)"
          ],
          [
           0.5,
           "rgb(104, 171, 184)"
          ],
          [
           0.6666666666666666,
           "rgb(79, 144, 166)"
          ],
          [
           0.8333333333333334,
           "rgb(59, 115, 143)"
          ],
          [
           1,
           "rgb(42, 86, 116)"
          ]
         ]
        },
        "legend": {
         "title": {
          "text": "Quality of Education Index"
         },
         "tracegroupgap": 0
        },
        "margin": {
         "t": 60
        },
        "template": {
         "data": {
          "bar": [
           {
            "error_x": {
             "color": "#2a3f5f"
            },
            "error_y": {
             "color": "#2a3f5f"
            },
            "marker": {
             "line": {
              "color": "#E5ECF6",
              "width": 0.5
             },
             "pattern": {
              "fillmode": "overlay",
              "size": 10,
              "solidity": 0.2
             }
            },
            "type": "bar"
           }
          ],
          "barpolar": [
           {
            "marker": {
             "line": {
              "color": "#E5ECF6",
              "width": 0.5
             },
             "pattern": {
              "fillmode": "overlay",
              "size": 10,
              "solidity": 0.2
             }
            },
            "type": "barpolar"
           }
          ],
          "carpet": [
           {
            "aaxis": {
             "endlinecolor": "#2a3f5f",
             "gridcolor": "white",
             "linecolor": "white",
             "minorgridcolor": "white",
             "startlinecolor": "#2a3f5f"
            },
            "baxis": {
             "endlinecolor": "#2a3f5f",
             "gridcolor": "white",
             "linecolor": "white",
             "minorgridcolor": "white",
             "startlinecolor": "#2a3f5f"
            },
            "type": "carpet"
           }
          ],
          "choropleth": [
           {
            "colorbar": {
             "outlinewidth": 0,
             "ticks": ""
            },
            "type": "choropleth"
           }
          ],
          "contour": [
           {
            "colorbar": {
             "outlinewidth": 0,
             "ticks": ""
            },
            "colorscale": [
             [
              0,
              "#0d0887"
             ],
             [
              0.1111111111111111,
              "#46039f"
             ],
             [
              0.2222222222222222,
              "#7201a8"
             ],
             [
              0.3333333333333333,
              "#9c179e"
             ],
             [
              0.4444444444444444,
              "#bd3786"
             ],
             [
              0.5555555555555556,
              "#d8576b"
             ],
             [
              0.6666666666666666,
              "#ed7953"
             ],
             [
              0.7777777777777778,
              "#fb9f3a"
             ],
             [
              0.8888888888888888,
              "#fdca26"
             ],
             [
              1,
              "#f0f921"
             ]
            ],
            "type": "contour"
           }
          ],
          "contourcarpet": [
           {
            "colorbar": {
             "outlinewidth": 0,
             "ticks": ""
            },
            "type": "contourcarpet"
           }
          ],
          "heatmap": [
           {
            "colorbar": {
             "outlinewidth": 0,
             "ticks": ""
            },
            "colorscale": [
             [
              0,
              "#0d0887"
             ],
             [
              0.1111111111111111,
              "#46039f"
             ],
             [
              0.2222222222222222,
              "#7201a8"
             ],
             [
              0.3333333333333333,
              "#9c179e"
             ],
             [
              0.4444444444444444,
              "#bd3786"
             ],
             [
              0.5555555555555556,
              "#d8576b"
             ],
             [
              0.6666666666666666,
              "#ed7953"
             ],
             [
              0.7777777777777778,
              "#fb9f3a"
             ],
             [
              0.8888888888888888,
              "#fdca26"
             ],
             [
              1,
              "#f0f921"
             ]
            ],
            "type": "heatmap"
           }
          ],
          "heatmapgl": [
           {
            "colorbar": {
             "outlinewidth": 0,
             "ticks": ""
            },
            "colorscale": [
             [
              0,
              "#0d0887"
             ],
             [
              0.1111111111111111,
              "#46039f"
             ],
             [
              0.2222222222222222,
              "#7201a8"
             ],
             [
              0.3333333333333333,
              "#9c179e"
             ],
             [
              0.4444444444444444,
              "#bd3786"
             ],
             [
              0.5555555555555556,
              "#d8576b"
             ],
             [
              0.6666666666666666,
              "#ed7953"
             ],
             [
              0.7777777777777778,
              "#fb9f3a"
             ],
             [
              0.8888888888888888,
              "#fdca26"
             ],
             [
              1,
              "#f0f921"
             ]
            ],
            "type": "heatmapgl"
           }
          ],
          "histogram": [
           {
            "marker": {
             "pattern": {
              "fillmode": "overlay",
              "size": 10,
              "solidity": 0.2
             }
            },
            "type": "histogram"
           }
          ],
          "histogram2d": [
           {
            "colorbar": {
             "outlinewidth": 0,
             "ticks": ""
            },
            "colorscale": [
             [
              0,
              "#0d0887"
             ],
             [
              0.1111111111111111,
              "#46039f"
             ],
             [
              0.2222222222222222,
              "#7201a8"
             ],
             [
              0.3333333333333333,
              "#9c179e"
             ],
             [
              0.4444444444444444,
              "#bd3786"
             ],
             [
              0.5555555555555556,
              "#d8576b"
             ],
             [
              0.6666666666666666,
              "#ed7953"
             ],
             [
              0.7777777777777778,
              "#fb9f3a"
             ],
             [
              0.8888888888888888,
              "#fdca26"
             ],
             [
              1,
              "#f0f921"
             ]
            ],
            "type": "histogram2d"
           }
          ],
          "histogram2dcontour": [
           {
            "colorbar": {
             "outlinewidth": 0,
             "ticks": ""
            },
            "colorscale": [
             [
              0,
              "#0d0887"
             ],
             [
              0.1111111111111111,
              "#46039f"
             ],
             [
              0.2222222222222222,
              "#7201a8"
             ],
             [
              0.3333333333333333,
              "#9c179e"
             ],
             [
              0.4444444444444444,
              "#bd3786"
             ],
             [
              0.5555555555555556,
              "#d8576b"
             ],
             [
              0.6666666666666666,
              "#ed7953"
             ],
             [
              0.7777777777777778,
              "#fb9f3a"
             ],
             [
              0.8888888888888888,
              "#fdca26"
             ],
             [
              1,
              "#f0f921"
             ]
            ],
            "type": "histogram2dcontour"
           }
          ],
          "mesh3d": [
           {
            "colorbar": {
             "outlinewidth": 0,
             "ticks": ""
            },
            "type": "mesh3d"
           }
          ],
          "parcoords": [
           {
            "line": {
             "colorbar": {
              "outlinewidth": 0,
              "ticks": ""
             }
            },
            "type": "parcoords"
           }
          ],
          "pie": [
           {
            "automargin": true,
            "type": "pie"
           }
          ],
          "scatter": [
           {
            "marker": {
             "colorbar": {
              "outlinewidth": 0,
              "ticks": ""
             }
            },
            "type": "scatter"
           }
          ],
          "scatter3d": [
           {
            "line": {
             "colorbar": {
              "outlinewidth": 0,
              "ticks": ""
             }
            },
            "marker": {
             "colorbar": {
              "outlinewidth": 0,
              "ticks": ""
             }
            },
            "type": "scatter3d"
           }
          ],
          "scattercarpet": [
           {
            "marker": {
             "colorbar": {
              "outlinewidth": 0,
              "ticks": ""
             }
            },
            "type": "scattercarpet"
           }
          ],
          "scattergeo": [
           {
            "marker": {
             "colorbar": {
              "outlinewidth": 0,
              "ticks": ""
             }
            },
            "type": "scattergeo"
           }
          ],
          "scattergl": [
           {
            "marker": {
             "colorbar": {
              "outlinewidth": 0,
              "ticks": ""
             }
            },
            "type": "scattergl"
           }
          ],
          "scattermapbox": [
           {
            "marker": {
             "colorbar": {
              "outlinewidth": 0,
              "ticks": ""
             }
            },
            "type": "scattermapbox"
           }
          ],
          "scatterpolar": [
           {
            "marker": {
             "colorbar": {
              "outlinewidth": 0,
              "ticks": ""
             }
            },
            "type": "scatterpolar"
           }
          ],
          "scatterpolargl": [
           {
            "marker": {
             "colorbar": {
              "outlinewidth": 0,
              "ticks": ""
             }
            },
            "type": "scatterpolargl"
           }
          ],
          "scatterternary": [
           {
            "marker": {
             "colorbar": {
              "outlinewidth": 0,
              "ticks": ""
             }
            },
            "type": "scatterternary"
           }
          ],
          "surface": [
           {
            "colorbar": {
             "outlinewidth": 0,
             "ticks": ""
            },
            "colorscale": [
             [
              0,
              "#0d0887"
             ],
             [
              0.1111111111111111,
              "#46039f"
             ],
             [
              0.2222222222222222,
              "#7201a8"
             ],
             [
              0.3333333333333333,
              "#9c179e"
             ],
             [
              0.4444444444444444,
              "#bd3786"
             ],
             [
              0.5555555555555556,
              "#d8576b"
             ],
             [
              0.6666666666666666,
              "#ed7953"
             ],
             [
              0.7777777777777778,
              "#fb9f3a"
             ],
             [
              0.8888888888888888,
              "#fdca26"
             ],
             [
              1,
              "#f0f921"
             ]
            ],
            "type": "surface"
           }
          ],
          "table": [
           {
            "cells": {
             "fill": {
              "color": "#EBF0F8"
             },
             "line": {
              "color": "white"
             }
            },
            "header": {
             "fill": {
              "color": "#C8D4E3"
             },
             "line": {
              "color": "white"
             }
            },
            "type": "table"
           }
          ]
         },
         "layout": {
          "annotationdefaults": {
           "arrowcolor": "#2a3f5f",
           "arrowhead": 0,
           "arrowwidth": 1
          },
          "autotypenumbers": "strict",
          "coloraxis": {
           "colorbar": {
            "outlinewidth": 0,
            "ticks": ""
           }
          },
          "colorscale": {
           "diverging": [
            [
             0,
             "#8e0152"
            ],
            [
             0.1,
             "#c51b7d"
            ],
            [
             0.2,
             "#de77ae"
            ],
            [
             0.3,
             "#f1b6da"
            ],
            [
             0.4,
             "#fde0ef"
            ],
            [
             0.5,
             "#f7f7f7"
            ],
            [
             0.6,
             "#e6f5d0"
            ],
            [
             0.7,
             "#b8e186"
            ],
            [
             0.8,
             "#7fbc41"
            ],
            [
             0.9,
             "#4d9221"
            ],
            [
             1,
             "#276419"
            ]
           ],
           "sequential": [
            [
             0,
             "#0d0887"
            ],
            [
             0.1111111111111111,
             "#46039f"
            ],
            [
             0.2222222222222222,
             "#7201a8"
            ],
            [
             0.3333333333333333,
             "#9c179e"
            ],
            [
             0.4444444444444444,
             "#bd3786"
            ],
            [
             0.5555555555555556,
             "#d8576b"
            ],
            [
             0.6666666666666666,
             "#ed7953"
            ],
            [
             0.7777777777777778,
             "#fb9f3a"
            ],
            [
             0.8888888888888888,
             "#fdca26"
            ],
            [
             1,
             "#f0f921"
            ]
           ],
           "sequentialminus": [
            [
             0,
             "#0d0887"
            ],
            [
             0.1111111111111111,
             "#46039f"
            ],
            [
             0.2222222222222222,
             "#7201a8"
            ],
            [
             0.3333333333333333,
             "#9c179e"
            ],
            [
             0.4444444444444444,
             "#bd3786"
            ],
            [
             0.5555555555555556,
             "#d8576b"
            ],
            [
             0.6666666666666666,
             "#ed7953"
            ],
            [
             0.7777777777777778,
             "#fb9f3a"
            ],
            [
             0.8888888888888888,
             "#fdca26"
            ],
            [
             1,
             "#f0f921"
            ]
           ]
          },
          "colorway": [
           "#636efa",
           "#EF553B",
           "#00cc96",
           "#ab63fa",
           "#FFA15A",
           "#19d3f3",
           "#FF6692",
           "#B6E880",
           "#FF97FF",
           "#FECB52"
          ],
          "font": {
           "color": "#2a3f5f"
          },
          "geo": {
           "bgcolor": "white",
           "lakecolor": "white",
           "landcolor": "#E5ECF6",
           "showlakes": true,
           "showland": true,
           "subunitcolor": "white"
          },
          "hoverlabel": {
           "align": "left"
          },
          "hovermode": "closest",
          "mapbox": {
           "style": "light"
          },
          "paper_bgcolor": "white",
          "plot_bgcolor": "#E5ECF6",
          "polar": {
           "angularaxis": {
            "gridcolor": "white",
            "linecolor": "white",
            "ticks": ""
           },
           "bgcolor": "#E5ECF6",
           "radialaxis": {
            "gridcolor": "white",
            "linecolor": "white",
            "ticks": ""
           }
          },
          "scene": {
           "xaxis": {
            "backgroundcolor": "#E5ECF6",
            "gridcolor": "white",
            "gridwidth": 2,
            "linecolor": "white",
            "showbackground": true,
            "ticks": "",
            "zerolinecolor": "white"
           },
           "yaxis": {
            "backgroundcolor": "#E5ECF6",
            "gridcolor": "white",
            "gridwidth": 2,
            "linecolor": "white",
            "showbackground": true,
            "ticks": "",
            "zerolinecolor": "white"
           },
           "zaxis": {
            "backgroundcolor": "#E5ECF6",
            "gridcolor": "white",
            "gridwidth": 2,
            "linecolor": "white",
            "showbackground": true,
            "ticks": "",
            "zerolinecolor": "white"
           }
          },
          "shapedefaults": {
           "line": {
            "color": "#2a3f5f"
           }
          },
          "ternary": {
           "aaxis": {
            "gridcolor": "white",
            "linecolor": "white",
            "ticks": ""
           },
           "baxis": {
            "gridcolor": "white",
            "linecolor": "white",
            "ticks": ""
           },
           "bgcolor": "#E5ECF6",
           "caxis": {
            "gridcolor": "white",
            "linecolor": "white",
            "ticks": ""
           }
          },
          "title": {
           "x": 0.05
          },
          "xaxis": {
           "automargin": true,
           "gridcolor": "white",
           "linecolor": "white",
           "ticks": "",
           "title": {
            "standoff": 15
           },
           "zerolinecolor": "white",
           "zerolinewidth": 2
          },
          "yaxis": {
           "automargin": true,
           "gridcolor": "white",
           "linecolor": "white",
           "ticks": "",
           "title": {
            "standoff": 15
           },
           "zerolinecolor": "white",
           "zerolinewidth": 2
          }
         }
        },
        "title": {
         "text": "Education Exp. (% GDP) vs. Quality of Education By Income group in 2018",
         "x": 0.5,
         "xanchor": "center"
        },
        "xaxis": {
         "anchor": "y",
         "domain": [
          0,
          0.235
         ],
         "title": {
          "text": "Percentage of the GDP"
         }
        },
        "xaxis2": {
         "anchor": "y2",
         "domain": [
          0.255,
          0.49
         ],
         "matches": "x",
         "title": {
          "text": "Percentage of the GDP"
         }
        },
        "xaxis3": {
         "anchor": "y3",
         "domain": [
          0.51,
          0.745
         ],
         "matches": "x",
         "title": {
          "text": "Percentage of the GDP"
         }
        },
        "xaxis4": {
         "anchor": "y4",
         "domain": [
          0.7649999999999999,
          0.9999999999999999
         ],
         "matches": "x",
         "title": {
          "text": "Percentage of the GDP"
         }
        },
        "yaxis": {
         "anchor": "x",
         "domain": [
          0,
          1
         ],
         "title": {
          "text": "Quality of Education Index"
         }
        },
        "yaxis2": {
         "anchor": "x2",
         "domain": [
          0,
          1
         ],
         "matches": "y",
         "showticklabels": false
        },
        "yaxis3": {
         "anchor": "x3",
         "domain": [
          0,
          1
         ],
         "matches": "y",
         "showticklabels": false
        },
        "yaxis4": {
         "anchor": "x4",
         "domain": [
          0,
          1
         ],
         "matches": "y",
         "showticklabels": false
        }
       }
      }
     },
     "metadata": {},
     "output_type": "display_data"
    }
   ],
   "source": [
    "\n",
    "fig = px.scatter(data_frame=df_indicators_2018_imputed,x='edu_exp_pct_gdp',y='edu_quality_index', facet_col = 'income_group', hover_name='country',\n",
    "                color='edu_quality_index', trendline='ols', labels={'edu_quality_index':'Quality of Education Index'}, \n",
    "                color_continuous_scale=px.colors.sequential.Teal, trendline_color_override='Purple', facet_col_wrap=4)\n",
    " \n",
    "#Setting the labels of the plot\n",
    "fig.update_layout(\n",
    "    title={\n",
    "        'text': 'Education Exp. (% GDP) vs. Quality of Education By Income group in 2018',\n",
    "        'x':0.5,\n",
    "        'xanchor': 'center'},\n",
    "    xaxis_title='Percentage of the GDP',\n",
    "    yaxis_title='Quality of Education Index',\n",
    "    legend={'title':'Quality of Education Index'}\n",
    ")\n",
    "\n",
    "#Ensuring that all x-axis show the correct label\n",
    "fig.for_each_xaxis(lambda x: x.update(title = 'Percentage of the GDP'))\n",
    "\n",
    "fig.show()"
   ]
  },
  {
   "cell_type": "markdown",
   "metadata": {},
   "source": [
    "Again almost negligible changes."
   ]
  },
  {
   "cell_type": "code",
   "execution_count": 18,
   "metadata": {},
   "outputs": [
    {
     "data": {
      "application/vnd.plotly.v1+json": {
       "config": {
        "plotlyServerURL": "https://plot.ly"
       },
       "data": [
        {
         "hovertemplate": "<b>%{hovertext}</b><br><br>region=South Asia<br>edu_exp_pct_gdp=%{x}<br>Quality of Education Index=%{marker.color}<extra></extra>",
         "hovertext": [
          "Afghanistan",
          "Bangladesh",
          "Bhutan",
          "India",
          "Maldives",
          "Nepal",
          "Pakistan",
          "Sri Lanka"
         ],
         "legendgroup": "",
         "marker": {
          "color": [
           3.125883053926702,
           3.38388782725,
           4.3412513735,
           4.605217695249999,
           3.891372191274403,
           3.83100247375,
           3.66025239225,
           4.124032378
          ],
          "coloraxis": "coloraxis",
          "symbol": "circle"
         },
         "mode": "markers",
         "name": "",
         "orientation": "v",
         "showlegend": false,
         "type": "scatter",
         "x": [
          3.19979000091553,
          1.61330997943878,
          6.85084009170532,
          3.60575008392334,
          3.91248989105225,
          4.43445014953613,
          2.9243700504303,
          2.13539004325867
         ],
         "xaxis": "x5",
         "y": [
          3.125883053926702,
          3.38388782725,
          4.3412513735,
          4.605217695249999,
          3.891372191274403,
          3.83100247375,
          3.66025239225,
          4.124032378
         ],
         "yaxis": "y5"
        },
        {
         "hovertemplate": "<b>OLS trendline</b><br>edu_quality_index = 0.140773 * edu_exp_pct_gdp + 3.36576<br>R<sup>2</sup>=0.215296<br><br>region=South Asia<br>edu_exp_pct_gdp=%{x}<br>Quality of Education Index=%{y} <b>(trend)</b><extra></extra>",
         "legendgroup": "",
         "line": {
          "color": "Purple"
         },
         "marker": {
          "symbol": "circle"
         },
         "mode": "lines",
         "name": "",
         "showlegend": false,
         "type": "scatter",
         "x": [
          1.61330997943878,
          2.13539004325867,
          2.9243700504303,
          3.19979000091553,
          3.60575008392334,
          3.91248989105225,
          4.43445014953613,
          6.85084009170532
         ],
         "xaxis": "x5",
         "y": [
          3.5928655288081397,
          3.6663602245319207,
          3.7774271845207044,
          3.8161988344264053,
          3.8733469901294986,
          3.9165276253492487,
          3.990005455735074,
          4.330167541700103
         ],
         "yaxis": "y5"
        },
        {
         "hovertemplate": "<b>%{hovertext}</b><br><br>region=Europe & Central Asia<br>edu_exp_pct_gdp=%{x}<br>Quality of Education Index=%{marker.color}<extra></extra>",
         "hovertext": [
          "Albania",
          "Andorra",
          "Armenia",
          "Austria",
          "Azerbaijan",
          "Belarus",
          "Belgium",
          "Bosnia and Herzegovina",
          "Bulgaria",
          "Channel Islands",
          "Croatia",
          "Cyprus",
          "Czech",
          "Denmark",
          "Estonia",
          "Faroe Islands",
          "Finland",
          "France",
          "Georgia",
          "Germany",
          "Gibraltar",
          "Greece",
          "Greenland",
          "Hungary",
          "Iceland",
          "Ireland",
          "Isle of Man",
          "Italy",
          "Kazakhstan",
          "Kosovo",
          "Kyrgyzstan",
          "Latvia",
          "Liechtenstein",
          "Lithuania",
          "Luxembourg",
          "Moldova",
          "Monaco",
          "Montenegro",
          "Netherlands",
          "North Macedonia",
          "Norway",
          "Poland",
          "Portugal",
          "Romania",
          "Russia",
          "San Marino",
          "Serbia",
          "Slovakia",
          "Slovenia",
          "Spain",
          "Sweden",
          "Switzerland",
          "Tajikistan",
          "Turkey",
          "Turkmenistan",
          "Ukraine",
          "United Kingdom",
          "Uzbekistan"
         ],
         "legendgroup": "",
         "marker": {
          "color": [
           4.485545992750001,
           4.883352185267469,
           4.123025775249999,
           4.710301160749999,
           4.406499505,
           3.852644652250146,
           5.36690354325,
           3.23686605675,
           3.773089886,
           5.216284706919643,
           3.622494161,
           4.1842525005,
           4.48947828975,
           5.44074654575,
           5.2810070515,
           5.37197506425,
           5.877574682,
           4.96322739125,
           3.5151272415,
           5.28436040875,
           4.903761910426541,
           3.778220594,
           5.443477162147888,
           3.66430544875,
           5.4105769395,
           5.26850879225,
           4.914795399006621,
           4.437981963,
           4.113367319,
           3.937275875307793,
           3.1524888275,
           4.36378258475,
           5.154452212500001,
           4.4885306955,
           4.68427121625,
           3.76005345575,
           5.052881708839779,
           4.08039987125,
           5.77895951275,
           4.05051058525,
           5.386394262250001,
           4.217128813,
           4.821053028250001,
           3.7737690805,
           4.3563212755,
           5.090531294221309,
           3.99615168575,
           3.798733771,
           4.796257138250001,
           4.5152790545,
           5.199332714000001,
           6.1326652765,
           4.13513046525,
           3.551756382,
           3.786770106599438,
           4.374483644750001,
           5.2462177275,
           4.006601396194692
          ],
          "coloraxis": "coloraxis",
          "symbol": "circle"
         },
         "mode": "markers",
         "name": "",
         "orientation": "v",
         "showlegend": false,
         "type": "scatter",
         "x": [
          5.44849014282227,
          3.2467200756073,
          2.25587010383606,
          5.22535991668701,
          2.45543003082275,
          5.38111019134521,
          6.37663984298706,
          4.46576023101807,
          3.79242992401123,
          6.43199014663696,
          4.25357007980347,
          5.23510980606079,
          4.26692008972168,
          8.12518978118896,
          5.23887014389038,
          7.00420999526978,
          6.26929998397827,
          5.41316986083984,
          3.5210599899292,
          4.99274015426636,
          3.67997002601624,
          3.59395003318787,
          10.5601902008057,
          4.62730979919434,
          7.57405996322632,
          3.38309001922607,
          4.36638021469116,
          4.2557201385498,
          2.61595010757446,
          5.54711008071899,
          5.55267000198364,
          4.24517011642456,
          1.75364995002747,
          3.89495992660522,
          3.66626000404358,
          5.43973016738892,
          1.56587994098663,
          4.03133010864258,
          5.35764980316162,
          5.48908996582031,
          7.64411020278931,
          4.61579990386963,
          4.67515993118286,
          3.34474992752075,
          4.67819976806641,
          3.55516004562378,
          3.58231997489929,
          3.975830078125,
          4.93603992462158,
          4.17816019058228,
          7.64084005355835,
          4.86093997955322,
          5.55836009979248,
          4.29460000991821,
          5.76293992996216,
          5.31947994232178,
          5.23890018463135,
          5.90000009536743
         ],
         "xaxis": "x6",
         "y": [
          4.485545992750001,
          4.883352185267469,
          4.123025775249999,
          4.710301160749999,
          4.406499505,
          3.852644652250146,
          5.36690354325,
          3.23686605675,
          3.773089886,
          5.216284706919643,
          3.622494161,
          4.1842525005,
          4.48947828975,
          5.44074654575,
          5.2810070515,
          5.37197506425,
          5.877574682,
          4.96322739125,
          3.5151272415,
          5.28436040875,
          4.903761910426541,
          3.778220594,
          5.443477162147888,
          3.66430544875,
          5.4105769395,
          5.26850879225,
          4.914795399006621,
          4.437981963,
          4.113367319,
          3.937275875307793,
          3.1524888275,
          4.36378258475,
          5.154452212500001,
          4.4885306955,
          4.68427121625,
          3.76005345575,
          5.052881708839779,
          4.08039987125,
          5.77895951275,
          4.05051058525,
          5.386394262250001,
          4.217128813,
          4.821053028250001,
          3.7737690805,
          4.3563212755,
          5.090531294221309,
          3.99615168575,
          3.798733771,
          4.796257138250001,
          4.5152790545,
          5.199332714000001,
          6.1326652765,
          4.13513046525,
          3.551756382,
          3.786770106599438,
          4.374483644750001,
          5.2462177275,
          4.006601396194692
         ],
         "yaxis": "y6"
        },
        {
         "hovertemplate": "<b>OLS trendline</b><br>edu_quality_index = 0.150966 * edu_exp_pct_gdp + 3.81695<br>R<sup>2</sup>=0.115290<br><br>region=Europe & Central Asia<br>edu_exp_pct_gdp=%{x}<br>Quality of Education Index=%{y} <b>(trend)</b><extra></extra>",
         "legendgroup": "",
         "line": {
          "color": "Purple"
         },
         "marker": {
          "symbol": "circle"
         },
         "mode": "lines",
         "name": "",
         "showlegend": false,
         "type": "scatter",
         "x": [
          1.56587994098663,
          1.75364995002747,
          2.25587010383606,
          2.45543003082275,
          2.61595010757446,
          3.2467200756073,
          3.34474992752075,
          3.38309001922607,
          3.5210599899292,
          3.55516004562378,
          3.58231997489929,
          3.59395003318787,
          3.66626000404358,
          3.67997002601624,
          3.79242992401123,
          3.89495992660522,
          3.975830078125,
          4.03133010864258,
          4.17816019058228,
          4.24517011642456,
          4.25357007980347,
          4.2557201385498,
          4.26692008972168,
          4.29460000991821,
          4.36638021469116,
          4.46576023101807,
          4.61579990386963,
          4.62730979919434,
          4.67515993118286,
          4.67819976806641,
          4.86093997955322,
          4.93603992462158,
          4.99274015426636,
          5.22535991668701,
          5.23510980606079,
          5.23887014389038,
          5.23890018463135,
          5.31947994232178,
          5.35764980316162,
          5.38111019134521,
          5.41316986083984,
          5.43973016738892,
          5.44849014282227,
          5.48908996582031,
          5.54711008071899,
          5.55267000198364,
          5.55836009979248,
          5.76293992996216,
          5.90000009536743,
          6.26929998397827,
          6.37663984298706,
          6.43199014663696,
          7.00420999526978,
          7.57405996322632,
          7.64084005355835,
          7.64411020278931,
          8.12518978118896,
          10.5601902008057
         ],
         "xaxis": "x6",
         "y": [
          4.05334199323792,
          4.081688793185332,
          4.157506727595052,
          4.187633398817513,
          4.211866398147212,
          4.307090924087207,
          4.321890053166765,
          4.327678085638445,
          4.348506796135133,
          4.353654729300326,
          4.357754942564902,
          4.359510680541201,
          4.370426994006384,
          4.372496734813869,
          4.389474303526011,
          4.404952800262449,
          4.417161405984727,
          4.425539997806677,
          4.44770627973992,
          4.457822469071993,
          4.459090574040853,
          4.459415158810639,
          4.461105965435785,
          4.465284679408158,
          4.4761210164530185,
          4.491123973826136,
          4.513774793369811,
          4.515512390879935,
          4.52273611167467,
          4.523195022277331,
          4.550782496144033,
          4.562119999559989,
          4.570679780085767,
          4.605797347064839,
          4.607269244334269,
          4.607836925748008,
          4.607841460864552,
          4.620006227126905,
          4.625768560604836,
          4.629310270667726,
          4.634150175837815,
          4.638159866736456,
          4.639482321117866,
          4.645611495134018,
          4.654370532843821,
          4.655209889334335,
          4.656068897996541,
          4.686953401590691,
          4.707644762843475,
          4.763396318251753,
          4.779600937537061,
          4.787956925762268,
          4.874342401579151,
          4.960370107090898,
          4.970451599182111,
          4.97094527901161,
          5.0435717151359984,
          5.411172857189141
         ],
         "yaxis": "y6"
        },
        {
         "hovertemplate": "<b>%{hovertext}</b><br><br>region=Middle East & North Africa<br>edu_exp_pct_gdp=%{x}<br>Quality of Education Index=%{marker.color}<extra></extra>",
         "hovertext": [
          "Algeria",
          "Bahrain",
          "Djibouti",
          "Egypt",
          "Iran",
          "Iraq",
          "Israel",
          "Jordan",
          "Kuwait",
          "Lebanon",
          "Libya",
          "Malta",
          "Morocco",
          "Oman",
          "Qatar",
          "Saudi Arabia",
          "Syria",
          "Tunisia",
          "United Arab Emirates",
          "West Bank and Gaza",
          "Yemen"
         ],
         "legendgroup": "",
         "marker": {
          "color": [
           3.416745662749999,
           4.816789984750001,
           3.551013130916131,
           2.9052241445,
           3.83756726975,
           3.365787613711912,
           5.07211995125,
           4.31229245675,
           3.48593091975,
           5.118548751000001,
           3.595409990976331,
           5.124402999999999,
           3.4795261025,
           3.7034083605,
           5.650964141,
           4.336327791,
           3.891372191274403,
           3.79927766325,
           5.4820508955,
           3.723914141025641,
           2.2447446585
          ],
          "coloraxis": "coloraxis",
          "symbol": "circle"
         },
         "mode": "markers",
         "name": "",
         "orientation": "v",
         "showlegend": false,
         "type": "scatter",
         "x": [
          5.8663501739502,
          2.69412994384766,
          3.62773990631104,
          3.63752007484436,
          3.9553599357605,
          5.02904987335205,
          6.1648998260498,
          2.98481011390686,
          6.38917016983032,
          2.52447009086609,
          2.64530992507935,
          5.6184401512146,
          4.48657989501953,
          5.20723009109497,
          3.55516004562378,
          5.56728982925415,
          5.42886018753052,
          5.81278991699219,
          4.94551992416382,
          5.31887006759644,
          3.69521999359131
         ],
         "xaxis": "x7",
         "y": [
          3.416745662749999,
          4.816789984750001,
          3.551013130916131,
          2.9052241445,
          3.83756726975,
          3.365787613711912,
          5.07211995125,
          4.31229245675,
          3.48593091975,
          5.118548751000001,
          3.595409990976331,
          5.124402999999999,
          3.4795261025,
          3.7034083605,
          5.650964141,
          4.336327791,
          3.891372191274403,
          3.79927766325,
          5.4820508955,
          3.723914141025641,
          2.2447446585
         ],
         "yaxis": "y7"
        },
        {
         "hovertemplate": "<b>OLS trendline</b><br>edu_quality_index = -0.0320114 * edu_exp_pct_gdp + 4.18855<br>R<sup>2</sup>=0.002041<br><br>region=Middle East & North Africa<br>edu_exp_pct_gdp=%{x}<br>Quality of Education Index=%{y} <b>(trend)</b><extra></extra>",
         "legendgroup": "",
         "line": {
          "color": "Purple"
         },
         "marker": {
          "symbol": "circle"
         },
         "mode": "lines",
         "name": "",
         "showlegend": false,
         "type": "scatter",
         "x": [
          2.52447009086609,
          2.64530992507935,
          2.69412994384766,
          2.98481011390686,
          3.55516004562378,
          3.62773990631104,
          3.63752007484436,
          3.69521999359131,
          3.9553599357605,
          4.48657989501953,
          4.94551992416382,
          5.02904987335205,
          5.20723009109497,
          5.31887006759644,
          5.42886018753052,
          5.56728982925415,
          5.6184401512146,
          5.81278991699219,
          5.8663501739502,
          6.1648998260498,
          6.38917016983032
         ],
         "xaxis": "x7",
         "y": [
          4.107733651938685,
          4.1038654033386495,
          4.102302607672107,
          4.092997537301809,
          4.074739854814421,
          4.072416474065663,
          4.072103397475617,
          4.070256344048508,
          4.061928908202035,
          4.044923829726935,
          4.03023253081217,
          4.027558622732834,
          4.021854829920428,
          4.018281081366224,
          4.01476014698045,
          4.010328824550333,
          4.008691432686938,
          4.002470030495507,
          4.0007554933121,
          3.991198510043345,
          3.984019309169671
         ],
         "yaxis": "y7"
        },
        {
         "hovertemplate": "<b>%{hovertext}</b><br><br>region=East Asia & Pacific<br>edu_exp_pct_gdp=%{x}<br>Quality of Education Index=%{marker.color}<extra></extra>",
         "hovertext": [
          "American Samoa",
          "Australia",
          "Brunei",
          "Cambodia",
          "China",
          "Fiji",
          "French Polynesia",
          "Guam",
          "Hong Kong",
          "Indonesia",
          "Japan",
          "Kiribati",
          "Korea, Rep.",
          "Lao PDR",
          "Macao SAR, China",
          "Malaysia",
          "Marshall Islands",
          "Micronesia",
          "Mongolia",
          "Myanmar",
          "Nauru",
          "New Caledonia",
          "New Zealand",
          "Northern Mariana Islands",
          "Palau",
          "Papua New Guinea",
          "Philippines",
          "Samoa",
          "Singapore",
          "Solomon Islands",
          "Thailand",
          "Timor-Leste",
          "Tonga",
          "Tuvalu",
          "Vanuatu",
          "Vietnam"
         ],
         "legendgroup": "",
         "marker": {
          "color": [
           4.331240600000001,
           5.32498466975,
           4.584998965500001,
           3.3678638935,
           4.513828873750001,
           3.639046438676888,
           4.83188291518919,
           4.660130098970925,
           5.37197506425,
           4.6026746035,
           4.76136147975,
           3.382990938505747,
           4.5241591335,
           3.8370832205,
           5.131259234978235,
           5.25812911975,
           3.66025239225,
           4.05051058525,
           3.69268512725,
           2.557547,
           4.382509232812501,
           4.816789984750001,
           5.5188162325,
           5.001788609523809,
           4.596497320731707,
           3.042499860040984,
           4.3122189045,
           3.430077232999553,
           6.1019439695,
           3.037661686079989,
           4.05051058525,
           2.573858593814433,
           3.263894317052602,
           3.609029785521235,
           2.961133327987024,
           3.68711513275
          ],
          "coloraxis": "coloraxis",
          "symbol": "circle"
         },
         "mode": "markers",
         "name": "",
         "orientation": "v",
         "showlegend": false,
         "type": "scatter",
         "x": [
          5.23887014389038,
          5.10789012908936,
          3.81316995620728,
          2.16285991668701,
          3.54249000549316,
          4.83571004867554,
          5.85128021240234,
          3.59024000167847,
          3.32651996612549,
          3,
          4.48398017883301,
          11.9682903289795,
          4.45807981491089,
          3.67008996009827,
          2.72788000106812,
          4.47959995269775,
          9.65147018432617,
          9.69705009460449,
          6.17301988601685,
          1.92288994789124,
          8.67057037353516,
          4.238609790802,
          6.04850006103516,
          5.6184401512146,
          9.63292026519775,
          1.8748300075531,
          3.1331000328064,
          4.53214979171753,
          2.64509010314941,
          9.5097599029541,
          3.05677008628845,
          6.83091020584106,
          6.3729100227356,
          9.5097599029541,
          5.01113986968994,
          4.16744995117188
         ],
         "xaxis": "x8",
         "y": [
          4.331240600000001,
          5.32498466975,
          4.584998965500001,
          3.3678638935,
          4.513828873750001,
          3.639046438676888,
          4.83188291518919,
          4.660130098970925,
          5.37197506425,
          4.6026746035,
          4.76136147975,
          3.382990938505747,
          4.5241591335,
          3.8370832205,
          5.131259234978235,
          5.25812911975,
          3.66025239225,
          4.05051058525,
          3.69268512725,
          2.557547,
          4.382509232812501,
          4.816789984750001,
          5.5188162325,
          5.001788609523809,
          4.596497320731707,
          3.042499860040984,
          4.3122189045,
          3.430077232999553,
          6.1019439695,
          3.037661686079989,
          4.05051058525,
          2.573858593814433,
          3.263894317052602,
          3.609029785521235,
          2.961133327987024,
          3.68711513275
         ],
         "yaxis": "y8"
        },
        {
         "hovertemplate": "<b>OLS trendline</b><br>edu_quality_index = -0.0693812 * edu_exp_pct_gdp + 4.547<br>R<sup>2</sup>=0.042432<br><br>region=East Asia & Pacific<br>edu_exp_pct_gdp=%{x}<br>Quality of Education Index=%{y} <b>(trend)</b><extra></extra>",
         "legendgroup": "",
         "line": {
          "color": "Purple"
         },
         "marker": {
          "symbol": "circle"
         },
         "mode": "lines",
         "name": "",
         "showlegend": false,
         "type": "scatter",
         "x": [
          1.8748300075531,
          1.92288994789124,
          2.16285991668701,
          2.64509010314941,
          2.72788000106812,
          3,
          3.05677008628845,
          3.1331000328064,
          3.32651996612549,
          3.54249000549316,
          3.59024000167847,
          3.67008996009827,
          3.81316995620728,
          4.16744995117188,
          4.238609790802,
          4.45807981491089,
          4.47959995269775,
          4.48398017883301,
          4.53214979171753,
          4.83571004867554,
          5.01113986968994,
          5.10789012908936,
          5.23887014389038,
          5.6184401512146,
          5.85128021240234,
          6.04850006103516,
          6.17301988601685,
          6.3729100227356,
          6.83091020584106,
          8.67057037353516,
          9.5097599029541,
          9.5097599029541,
          9.63292026519775,
          9.65147018432617,
          9.69705009460449,
          11.9682903289795
         ],
         "xaxis": "x8",
         "y": [
          4.4169174217775815,
          4.4135829658092405,
          4.396933563228966,
          4.363475857870818,
          4.357731796032807,
          4.3388517860253195,
          4.334913009744786,
          4.329617147037942,
          4.3161974414262785,
          4.3012131825677455,
          4.297900230894312,
          4.2923601455643805,
          4.28243308482275,
          4.25785271632121,
          4.252915561795187,
          4.237688469821853,
          4.236195377001137,
          4.2358914716888,
          4.232549406508415,
          4.211488033909052,
          4.199316503740875,
          4.192603855376705,
          4.183516305766494,
          4.157181286051102,
          4.141026564962525,
          4.127343216695296,
          4.118703882758016,
          4.104835266719278,
          4.073058667886398,
          3.9454208518024174,
          3.8871968815841376,
          3.8871968815841376,
          3.8786518687926743,
          3.8773648532842317,
          3.8742024647586812,
          3.7166211090232566
         ],
         "yaxis": "y8"
        },
        {
         "hovertemplate": "<b>%{hovertext}</b><br><br>region=Sub-Saharan Africa<br>edu_exp_pct_gdp=%{x}<br>Quality of Education Index=%{marker.color}<extra></extra>",
         "hovertext": [
          "Angola",
          "Benin",
          "Botswana",
          "Burkina Faso",
          "Burundi",
          "Cabo Verde",
          "Cameroon",
          "Central African Republic",
          "Chad",
          "Comoros",
          "Cote d'Ivoire",
          "Equatorial Guinea",
          "Eritrea",
          "Eswatini",
          "Ethiopia",
          "Gabon",
          "Gambia",
          "Ghana",
          "Guinea",
          "Guinea-Bissau",
          "Kenya",
          "Lesotho",
          "Liberia",
          "Madagascar",
          "Malawi",
          "Mali",
          "Mauritania",
          "Mauritius",
          "Mozambique",
          "Namibia",
          "Niger",
          "Nigeria",
          "Rwanda",
          "Sao Tome and Principe",
          "Senegal",
          "Seychelles",
          "Sierra Leone",
          "Somalia",
          "South Africa",
          "South Sudan",
          "Sudan",
          "Tanzania",
          "Togo",
          "Uganda",
          "Zambia",
          "Zimbabwe",
          "Congo"
         ],
         "legendgroup": "",
         "marker": {
          "color": [
           2.61314469575,
           3.302977741,
           3.6361775995,
           3.194289923529412,
           3.3095909355,
           3.922236279598894,
           3.99517446775,
           3.41452525,
           2.61314469575,
           3.99615168575,
           3.937275875307793,
           3.635349051379515,
           4.157164111887255,
           3.09669226425,
           3.548745334249999,
           3.23953305385006,
           4.03637063525,
           4.018807113,
           2.7947496775,
           4.008975845,
           4.36485934275,
           3.5835725665,
           2.89157027,
           3.67245489375,
           2.92263948925,
           3.66399663725,
           2.3659526705,
           4.3772073985,
           2.790258944,
           3.34541547275,
           2.6414312625,
           3.16824227575,
           4.394029140500001,
           3.382604328111613,
           4.09712105975,
           3.995258987,
           2.91684859975,
           3.41452525,
           3.4022233485,
           3.43541885,
           3.333133403550296,
           3.15139406925,
           3.835960849080883,
           3.343117058,
           3.6091204285,
           3.793227315,
           2.527424595346956
          ],
          "coloraxis": "coloraxis",
          "symbol": "circle"
         },
         "mode": "markers",
         "name": "",
         "orientation": "v",
         "showlegend": false,
         "type": "scatter",
         "x": [
          2.04469990730286,
          2.93396997451782,
          6.72133016586304,
          5.43056011199951,
          5.07864999771118,
          5.36885023117065,
          3.13120007514954,
          1.56587994098663,
          2.25947999954224,
          2.89951992034912,
          3.23993992805481,
          4.08114004135132,
          3.66676998138428,
          5.67916011810303,
          5.06867980957031,
          2.93345999717712,
          2.36543989181519,
          4.0041298866272,
          2.38432002067566,
          2.13787007331848,
          5.30625009536743,
          7.28535985946655,
          2.58412003517151,
          2.87452006340027,
          3.38193988800049,
          3.88252997398376,
          2.1964099407196,
          4.83458995819092,
          5.45218992233276,
          8.98805046081543,
          3.44697999954224,
          2,
          3.07375001907349,
          5.23510980606079,
          4.85822010040283,
          4.49883985519409,
          6.98963022232056,
          5.08445978164673,
          6.15898990631104,
          2.50669002532959,
          2.82512998580933,
          3.69643998146057,
          4.04394006729126,
          2.13052010536194,
          4.73973989486694,
          3.58728003501892,
          4.33309984207153
         ],
         "xaxis": "x",
         "y": [
          2.61314469575,
          3.302977741,
          3.6361775995,
          3.194289923529412,
          3.3095909355,
          3.922236279598894,
          3.99517446775,
          3.41452525,
          2.61314469575,
          3.99615168575,
          3.937275875307793,
          3.635349051379515,
          4.157164111887255,
          3.09669226425,
          3.548745334249999,
          3.23953305385006,
          4.03637063525,
          4.018807113,
          2.7947496775,
          4.008975845,
          4.36485934275,
          3.5835725665,
          2.89157027,
          3.67245489375,
          2.92263948925,
          3.66399663725,
          2.3659526705,
          4.3772073985,
          2.790258944,
          3.34541547275,
          2.6414312625,
          3.16824227575,
          4.394029140500001,
          3.382604328111613,
          4.09712105975,
          3.995258987,
          2.91684859975,
          3.41452525,
          3.4022233485,
          3.43541885,
          3.333133403550296,
          3.15139406925,
          3.835960849080883,
          3.343117058,
          3.6091204285,
          3.793227315,
          2.527424595346956
         ],
         "yaxis": "y"
        },
        {
         "hovertemplate": "<b>OLS trendline</b><br>edu_quality_index = 0.0339757 * edu_exp_pct_gdp + 3.32913<br>R<sup>2</sup>=0.011019<br><br>region=Sub-Saharan Africa<br>edu_exp_pct_gdp=%{x}<br>Quality of Education Index=%{y} <b>(trend)</b><extra></extra>",
         "legendgroup": "",
         "line": {
          "color": "Purple"
         },
         "marker": {
          "symbol": "circle"
         },
         "mode": "lines",
         "name": "",
         "showlegend": false,
         "type": "scatter",
         "x": [
          1.56587994098663,
          2,
          2.04469990730286,
          2.13052010536194,
          2.13787007331848,
          2.1964099407196,
          2.25947999954224,
          2.36543989181519,
          2.38432002067566,
          2.50669002532959,
          2.58412003517151,
          2.82512998580933,
          2.87452006340027,
          2.89951992034912,
          2.93345999717712,
          2.93396997451782,
          3.07375001907349,
          3.13120007514954,
          3.23993992805481,
          3.38193988800049,
          3.44697999954224,
          3.58728003501892,
          3.66676998138428,
          3.69643998146057,
          3.88252997398376,
          4.0041298866272,
          4.04394006729126,
          4.08114004135132,
          4.33309984207153,
          4.49883985519409,
          4.73973989486694,
          4.83458995819092,
          4.85822010040283,
          5.06867980957031,
          5.07864999771118,
          5.08445978164673,
          5.23510980606079,
          5.30625009536743,
          5.36885023117065,
          5.43056011199951,
          5.45218992233276,
          5.67916011810303,
          6.15898990631104,
          6.72133016586304,
          6.98963022232056,
          7.28535985946655,
          8.98805046081543
         ],
         "xaxis": "x",
         "y": [
          3.3823299112501317,
          3.3970794625863143,
          3.3985981751263075,
          3.4015139800762806,
          3.4017637006949055,
          3.4037526361553136,
          3.4058954882329044,
          3.40949555424738,
          3.4101370206437824,
          3.4142946324107992,
          3.4169253744864365,
          3.4251138665076124,
          3.4267919310655626,
          3.4276413197676243,
          3.4287944590781327,
          3.428811785936938,
          3.433560916736453,
          3.435512825047914,
          3.439207342288975,
          3.444031896362138,
          3.4462416824436115,
          3.4510084803207577,
          3.4537092102692677,
          3.4547172705516336,
          3.461039816218168,
          3.4651712635373406,
          3.4665238439841914,
          3.467787740723611,
          3.4763482620315256,
          3.4819794020382018,
          3.4901641597527346,
          3.4933867610796963,
          3.4941896127065664,
          3.5013401375904403,
          3.5016788821353235,
          3.501876273858259,
          3.5069947202943497,
          3.509411764444726,
          3.511538650538817,
          3.513635289559146,
          3.5143701784252057,
          3.522081659350334,
          3.5383842326750687,
          3.5574901605271823,
          3.5666058541563013,
          3.5766534881555887,
          3.634503665572656
         ],
         "yaxis": "y"
        },
        {
         "hovertemplate": "<b>%{hovertext}</b><br><br>region=Latin America & Caribbean<br>edu_exp_pct_gdp=%{x}<br>Quality of Education Index=%{marker.color}<extra></extra>",
         "hovertext": [
          "Antigua and Barbuda",
          "Argentina",
          "Aruba",
          "Bahamas",
          "Barbados",
          "Belize",
          "Bolivia",
          "Brazil",
          "British Virgin Islands",
          "Cayman Islands",
          "Chile",
          "Colombia",
          "Costa Rica",
          "Cuba",
          "Curacao",
          "Dominica",
          "Dominican Republic",
          "Ecuador",
          "El Salvador",
          "Grenada",
          "Guatemala",
          "Guyana",
          "Haiti",
          "Honduras",
          "Jamaica",
          "Mexico",
          "Nicaragua",
          "Panama",
          "Paraguay",
          "Peru",
          "Puerto Rico",
          "Sint Maarten (Dutch part)",
          "St. Kitts and Nevis",
          "St. Lucia",
          "St. Martin (French part)",
          "St. Vincent and the Grenadines",
          "Suriname",
          "Trinidad and Tobago",
          "Turks and Caicos Islands",
          "Uruguay"
         ],
         "legendgroup": "",
         "marker": {
          "color": [
           4.097679931132076,
           3.75650507225,
           4.705032212564636,
           4.64217950460251,
           4.660130098970925,
           4.011239882718121,
           2.943328495,
           3.182566643,
           5.08472697269727,
           5.017800137112445,
           4.121846437249999,
           3.800363958,
           4.787541389499999,
           4.03495825,
           4.429337616914498,
           3.82317068387604,
           3.09706348175,
           3.7505168915,
           2.927667737,
           4.333431695512821,
           3.289593935,
           3.853571719433403,
           2.7684766055,
           3.36910063025,
           4.37463819975,
           3.51215380425,
           3.03231650575,
           3.680060029,
           2.7540509105,
           3.27700579175,
           4.333431695512821,
           4.474316602430556,
           4.055421307373272,
           3.871580136259542,
           4.553095665481171,
           3.430077232999553,
           3.464315527678572,
           4.468680382000001,
           4.348512731924883,
           3.90237712875
          ],
          "coloraxis": "coloraxis",
          "symbol": "circle"
         },
         "mode": "markers",
         "name": "",
         "orientation": "v",
         "showlegend": false,
         "type": "scatter",
         "x": [
          2.64407992362976,
          4.94551992416382,
          4.7449197769165,
          2.30952000617981,
          5.42886018753052,
          7.47227001190186,
          5.56678009033203,
          6.08851003646851,
          2.69412994384766,
          2.46592998504639,
          5.43316984176636,
          4.44910001754761,
          6.7790699005127,
          4.88274002075195,
          4.35526990890503,
          5.57154989242554,
          3.92848992347717,
          4.6214599609375,
          3.60575008392334,
          3.55255007743835,
          3.13704991340637,
          4.45058012008667,
          1.68210005760193,
          6.05646991729736,
          5.41380977630615,
          4.25442981719971,
          3.56255006790161,
          2.8829300403595,
          3.28320002555847,
          3.71429991722107,
          5.77611017227173,
          3.97232007980347,
          2.83628988265991,
          3.33179998397827,
          6.08851003646851,
          5.69377994537354,
          5.68860006332397,
          3.2862401008606,
          2.7437698841095,
          4.66279983520508
         ],
         "xaxis": "x2",
         "y": [
          4.097679931132076,
          3.75650507225,
          4.705032212564636,
          4.64217950460251,
          4.660130098970925,
          4.011239882718121,
          2.943328495,
          3.182566643,
          5.08472697269727,
          5.017800137112445,
          4.121846437249999,
          3.800363958,
          4.787541389499999,
          4.03495825,
          4.429337616914498,
          3.82317068387604,
          3.09706348175,
          3.7505168915,
          2.927667737,
          4.333431695512821,
          3.289593935,
          3.853571719433403,
          2.7684766055,
          3.36910063025,
          4.37463819975,
          3.51215380425,
          3.03231650575,
          3.680060029,
          2.7540509105,
          3.27700579175,
          4.333431695512821,
          4.474316602430556,
          4.055421307373272,
          3.871580136259542,
          4.553095665481171,
          3.430077232999553,
          3.464315527678572,
          4.468680382000001,
          4.348512731924883,
          3.90237712875
         ],
         "yaxis": "y2"
        },
        {
         "hovertemplate": "<b>OLS trendline</b><br>edu_quality_index = 0.0126658 * edu_exp_pct_gdp + 3.84538<br>R<sup>2</sup>=0.000745<br><br>region=Latin America & Caribbean<br>edu_exp_pct_gdp=%{x}<br>Quality of Education Index=%{y} <b>(trend)</b><extra></extra>",
         "legendgroup": "",
         "line": {
          "color": "Purple"
         },
         "marker": {
          "symbol": "circle"
         },
         "mode": "lines",
         "name": "",
         "showlegend": false,
         "type": "scatter",
         "x": [
          1.68210005760193,
          2.30952000617981,
          2.46592998504639,
          2.64407992362976,
          2.69412994384766,
          2.7437698841095,
          2.83628988265991,
          2.8829300403595,
          3.13704991340637,
          3.28320002555847,
          3.2862401008606,
          3.33179998397827,
          3.55255007743835,
          3.56255006790161,
          3.60575008392334,
          3.71429991722107,
          3.92848992347717,
          3.97232007980347,
          4.25442981719971,
          4.35526990890503,
          4.44910001754761,
          4.45058012008667,
          4.6214599609375,
          4.66279983520508,
          4.7449197769165,
          4.88274002075195,
          4.94551992416382,
          5.41380977630615,
          5.42886018753052,
          5.43316984176636,
          5.56678009033203,
          5.57154989242554,
          5.68860006332397,
          5.69377994537354,
          5.77611017227173,
          6.05646991729736,
          6.08851003646851,
          6.08851003646851,
          6.7790699005127,
          7.47227001190186
         ],
         "xaxis": "x2",
         "y": [
          3.8666874046269344,
          3.8746341690351818,
          3.8766152237593245,
          3.878871632077987,
          3.8795055547325044,
          3.880134283403619,
          3.881306121553168,
          3.8818968556317417,
          3.885115482593053,
          3.886966588080126,
          3.887005093011734,
          3.8875821445677516,
          3.8903781171692,
          3.890504774870276,
          3.891051936863667,
          3.8924268054086135,
          3.895139689374411,
          3.8956948325876466,
          3.899267973074241,
          3.900545191711462,
          3.901733623430079,
          3.9017523700864527,
          3.9039166969307586,
          3.9044402987738556,
          3.9054804120687527,
          3.9072260132580836,
          3.9080211698403975,
          3.9139524271078514,
          3.914143052338239,
          3.9141976374800898,
          3.9158899157863267,
          3.9159503290607165,
          3.9174328610302265,
          3.9174984682880187,
          3.9185412450092887,
          3.9220922204736883,
          3.9224980336443447,
          3.9224980336443447,
          3.9312445144691717,
          3.940024436091789
         ],
         "yaxis": "y2"
        },
        {
         "hovertemplate": "<b>%{hovertext}</b><br><br>region=North America<br>edu_exp_pct_gdp=%{x}<br>Quality of Education Index=%{marker.color}<extra></extra>",
         "hovertext": [
          "Bermuda",
          "Canada",
          "United States"
         ],
         "legendgroup": "",
         "marker": {
          "color": [
           4.919909089655173,
           5.579452038,
           5.697491168999999
          ],
          "coloraxis": "coloraxis",
          "symbol": "circle"
         },
         "mode": "markers",
         "name": "",
         "orientation": "v",
         "showlegend": false,
         "type": "scatter",
         "x": [
          1.87920999526978,
          5.84018993377686,
          5.07645988464355
         ],
         "xaxis": "x3",
         "y": [
          4.919909089655173,
          5.579452038,
          5.697491168999999
         ],
         "yaxis": "y3"
        },
        {
         "hovertemplate": "<b>OLS trendline</b><br>edu_quality_index = 0.189032 * edu_exp_pct_gdp + 4.59268<br>R<sup>2</sup>=0.898616<br><br>region=North America<br>edu_exp_pct_gdp=%{x}<br>Quality of Education Index=%{y} <b>(trend)</b><extra></extra>",
         "legendgroup": "",
         "line": {
          "color": "Purple"
         },
         "marker": {
          "symbol": "circle"
         },
         "mode": "lines",
         "name": "",
         "showlegend": false,
         "type": "scatter",
         "x": [
          1.87920999526978,
          5.07645988464355,
          5.84018993377686
         ],
         "xaxis": "x3",
         "y": [
          4.947906129569254,
          5.552288405846842,
          5.696657761239077
         ],
         "yaxis": "y3"
        }
       ],
       "layout": {
        "annotations": [
         {
          "font": {},
          "showarrow": false,
          "text": "region=Sub-Saharan Africa",
          "x": 0.1175,
          "xanchor": "center",
          "xref": "paper",
          "y": 0.46499999999999997,
          "yanchor": "bottom",
          "yref": "paper"
         },
         {
          "font": {},
          "showarrow": false,
          "text": "region=Latin America & Caribbean",
          "x": 0.3725,
          "xanchor": "center",
          "xref": "paper",
          "y": 0.46499999999999997,
          "yanchor": "bottom",
          "yref": "paper"
         },
         {
          "font": {},
          "showarrow": false,
          "text": "region=North America",
          "x": 0.6275,
          "xanchor": "center",
          "xref": "paper",
          "y": 0.46499999999999997,
          "yanchor": "bottom",
          "yref": "paper"
         },
         {
          "font": {},
          "showarrow": false,
          "text": "region=South Asia",
          "x": 0.1175,
          "xanchor": "center",
          "xref": "paper",
          "y": 0.9999999999999999,
          "yanchor": "bottom",
          "yref": "paper"
         },
         {
          "font": {},
          "showarrow": false,
          "text": "region=Europe & Central Asia",
          "x": 0.3725,
          "xanchor": "center",
          "xref": "paper",
          "y": 0.9999999999999999,
          "yanchor": "bottom",
          "yref": "paper"
         },
         {
          "font": {},
          "showarrow": false,
          "text": "region=Middle East & North Africa",
          "x": 0.6275,
          "xanchor": "center",
          "xref": "paper",
          "y": 0.9999999999999999,
          "yanchor": "bottom",
          "yref": "paper"
         },
         {
          "font": {},
          "showarrow": false,
          "text": "region=East Asia & Pacific",
          "x": 0.8824999999999998,
          "xanchor": "center",
          "xref": "paper",
          "y": 0.9999999999999999,
          "yanchor": "bottom",
          "yref": "paper"
         }
        ],
        "coloraxis": {
         "colorbar": {
          "title": {
           "text": "Quality of Education Index"
          }
         },
         "colorscale": [
          [
           0,
           "rgb(209, 238, 234)"
          ],
          [
           0.16666666666666666,
           "rgb(168, 219, 217)"
          ],
          [
           0.3333333333333333,
           "rgb(133, 196, 201)"
          ],
          [
           0.5,
           "rgb(104, 171, 184)"
          ],
          [
           0.6666666666666666,
           "rgb(79, 144, 166)"
          ],
          [
           0.8333333333333334,
           "rgb(59, 115, 143)"
          ],
          [
           1,
           "rgb(42, 86, 116)"
          ]
         ]
        },
        "legend": {
         "title": {
          "text": "Quality of Education Index"
         },
         "tracegroupgap": 0
        },
        "margin": {
         "t": 60
        },
        "template": {
         "data": {
          "bar": [
           {
            "error_x": {
             "color": "#2a3f5f"
            },
            "error_y": {
             "color": "#2a3f5f"
            },
            "marker": {
             "line": {
              "color": "#E5ECF6",
              "width": 0.5
             },
             "pattern": {
              "fillmode": "overlay",
              "size": 10,
              "solidity": 0.2
             }
            },
            "type": "bar"
           }
          ],
          "barpolar": [
           {
            "marker": {
             "line": {
              "color": "#E5ECF6",
              "width": 0.5
             },
             "pattern": {
              "fillmode": "overlay",
              "size": 10,
              "solidity": 0.2
             }
            },
            "type": "barpolar"
           }
          ],
          "carpet": [
           {
            "aaxis": {
             "endlinecolor": "#2a3f5f",
             "gridcolor": "white",
             "linecolor": "white",
             "minorgridcolor": "white",
             "startlinecolor": "#2a3f5f"
            },
            "baxis": {
             "endlinecolor": "#2a3f5f",
             "gridcolor": "white",
             "linecolor": "white",
             "minorgridcolor": "white",
             "startlinecolor": "#2a3f5f"
            },
            "type": "carpet"
           }
          ],
          "choropleth": [
           {
            "colorbar": {
             "outlinewidth": 0,
             "ticks": ""
            },
            "type": "choropleth"
           }
          ],
          "contour": [
           {
            "colorbar": {
             "outlinewidth": 0,
             "ticks": ""
            },
            "colorscale": [
             [
              0,
              "#0d0887"
             ],
             [
              0.1111111111111111,
              "#46039f"
             ],
             [
              0.2222222222222222,
              "#7201a8"
             ],
             [
              0.3333333333333333,
              "#9c179e"
             ],
             [
              0.4444444444444444,
              "#bd3786"
             ],
             [
              0.5555555555555556,
              "#d8576b"
             ],
             [
              0.6666666666666666,
              "#ed7953"
             ],
             [
              0.7777777777777778,
              "#fb9f3a"
             ],
             [
              0.8888888888888888,
              "#fdca26"
             ],
             [
              1,
              "#f0f921"
             ]
            ],
            "type": "contour"
           }
          ],
          "contourcarpet": [
           {
            "colorbar": {
             "outlinewidth": 0,
             "ticks": ""
            },
            "type": "contourcarpet"
           }
          ],
          "heatmap": [
           {
            "colorbar": {
             "outlinewidth": 0,
             "ticks": ""
            },
            "colorscale": [
             [
              0,
              "#0d0887"
             ],
             [
              0.1111111111111111,
              "#46039f"
             ],
             [
              0.2222222222222222,
              "#7201a8"
             ],
             [
              0.3333333333333333,
              "#9c179e"
             ],
             [
              0.4444444444444444,
              "#bd3786"
             ],
             [
              0.5555555555555556,
              "#d8576b"
             ],
             [
              0.6666666666666666,
              "#ed7953"
             ],
             [
              0.7777777777777778,
              "#fb9f3a"
             ],
             [
              0.8888888888888888,
              "#fdca26"
             ],
             [
              1,
              "#f0f921"
             ]
            ],
            "type": "heatmap"
           }
          ],
          "heatmapgl": [
           {
            "colorbar": {
             "outlinewidth": 0,
             "ticks": ""
            },
            "colorscale": [
             [
              0,
              "#0d0887"
             ],
             [
              0.1111111111111111,
              "#46039f"
             ],
             [
              0.2222222222222222,
              "#7201a8"
             ],
             [
              0.3333333333333333,
              "#9c179e"
             ],
             [
              0.4444444444444444,
              "#bd3786"
             ],
             [
              0.5555555555555556,
              "#d8576b"
             ],
             [
              0.6666666666666666,
              "#ed7953"
             ],
             [
              0.7777777777777778,
              "#fb9f3a"
             ],
             [
              0.8888888888888888,
              "#fdca26"
             ],
             [
              1,
              "#f0f921"
             ]
            ],
            "type": "heatmapgl"
           }
          ],
          "histogram": [
           {
            "marker": {
             "pattern": {
              "fillmode": "overlay",
              "size": 10,
              "solidity": 0.2
             }
            },
            "type": "histogram"
           }
          ],
          "histogram2d": [
           {
            "colorbar": {
             "outlinewidth": 0,
             "ticks": ""
            },
            "colorscale": [
             [
              0,
              "#0d0887"
             ],
             [
              0.1111111111111111,
              "#46039f"
             ],
             [
              0.2222222222222222,
              "#7201a8"
             ],
             [
              0.3333333333333333,
              "#9c179e"
             ],
             [
              0.4444444444444444,
              "#bd3786"
             ],
             [
              0.5555555555555556,
              "#d8576b"
             ],
             [
              0.6666666666666666,
              "#ed7953"
             ],
             [
              0.7777777777777778,
              "#fb9f3a"
             ],
             [
              0.8888888888888888,
              "#fdca26"
             ],
             [
              1,
              "#f0f921"
             ]
            ],
            "type": "histogram2d"
           }
          ],
          "histogram2dcontour": [
           {
            "colorbar": {
             "outlinewidth": 0,
             "ticks": ""
            },
            "colorscale": [
             [
              0,
              "#0d0887"
             ],
             [
              0.1111111111111111,
              "#46039f"
             ],
             [
              0.2222222222222222,
              "#7201a8"
             ],
             [
              0.3333333333333333,
              "#9c179e"
             ],
             [
              0.4444444444444444,
              "#bd3786"
             ],
             [
              0.5555555555555556,
              "#d8576b"
             ],
             [
              0.6666666666666666,
              "#ed7953"
             ],
             [
              0.7777777777777778,
              "#fb9f3a"
             ],
             [
              0.8888888888888888,
              "#fdca26"
             ],
             [
              1,
              "#f0f921"
             ]
            ],
            "type": "histogram2dcontour"
           }
          ],
          "mesh3d": [
           {
            "colorbar": {
             "outlinewidth": 0,
             "ticks": ""
            },
            "type": "mesh3d"
           }
          ],
          "parcoords": [
           {
            "line": {
             "colorbar": {
              "outlinewidth": 0,
              "ticks": ""
             }
            },
            "type": "parcoords"
           }
          ],
          "pie": [
           {
            "automargin": true,
            "type": "pie"
           }
          ],
          "scatter": [
           {
            "marker": {
             "colorbar": {
              "outlinewidth": 0,
              "ticks": ""
             }
            },
            "type": "scatter"
           }
          ],
          "scatter3d": [
           {
            "line": {
             "colorbar": {
              "outlinewidth": 0,
              "ticks": ""
             }
            },
            "marker": {
             "colorbar": {
              "outlinewidth": 0,
              "ticks": ""
             }
            },
            "type": "scatter3d"
           }
          ],
          "scattercarpet": [
           {
            "marker": {
             "colorbar": {
              "outlinewidth": 0,
              "ticks": ""
             }
            },
            "type": "scattercarpet"
           }
          ],
          "scattergeo": [
           {
            "marker": {
             "colorbar": {
              "outlinewidth": 0,
              "ticks": ""
             }
            },
            "type": "scattergeo"
           }
          ],
          "scattergl": [
           {
            "marker": {
             "colorbar": {
              "outlinewidth": 0,
              "ticks": ""
             }
            },
            "type": "scattergl"
           }
          ],
          "scattermapbox": [
           {
            "marker": {
             "colorbar": {
              "outlinewidth": 0,
              "ticks": ""
             }
            },
            "type": "scattermapbox"
           }
          ],
          "scatterpolar": [
           {
            "marker": {
             "colorbar": {
              "outlinewidth": 0,
              "ticks": ""
             }
            },
            "type": "scatterpolar"
           }
          ],
          "scatterpolargl": [
           {
            "marker": {
             "colorbar": {
              "outlinewidth": 0,
              "ticks": ""
             }
            },
            "type": "scatterpolargl"
           }
          ],
          "scatterternary": [
           {
            "marker": {
             "colorbar": {
              "outlinewidth": 0,
              "ticks": ""
             }
            },
            "type": "scatterternary"
           }
          ],
          "surface": [
           {
            "colorbar": {
             "outlinewidth": 0,
             "ticks": ""
            },
            "colorscale": [
             [
              0,
              "#0d0887"
             ],
             [
              0.1111111111111111,
              "#46039f"
             ],
             [
              0.2222222222222222,
              "#7201a8"
             ],
             [
              0.3333333333333333,
              "#9c179e"
             ],
             [
              0.4444444444444444,
              "#bd3786"
             ],
             [
              0.5555555555555556,
              "#d8576b"
             ],
             [
              0.6666666666666666,
              "#ed7953"
             ],
             [
              0.7777777777777778,
              "#fb9f3a"
             ],
             [
              0.8888888888888888,
              "#fdca26"
             ],
             [
              1,
              "#f0f921"
             ]
            ],
            "type": "surface"
           }
          ],
          "table": [
           {
            "cells": {
             "fill": {
              "color": "#EBF0F8"
             },
             "line": {
              "color": "white"
             }
            },
            "header": {
             "fill": {
              "color": "#C8D4E3"
             },
             "line": {
              "color": "white"
             }
            },
            "type": "table"
           }
          ]
         },
         "layout": {
          "annotationdefaults": {
           "arrowcolor": "#2a3f5f",
           "arrowhead": 0,
           "arrowwidth": 1
          },
          "autotypenumbers": "strict",
          "coloraxis": {
           "colorbar": {
            "outlinewidth": 0,
            "ticks": ""
           }
          },
          "colorscale": {
           "diverging": [
            [
             0,
             "#8e0152"
            ],
            [
             0.1,
             "#c51b7d"
            ],
            [
             0.2,
             "#de77ae"
            ],
            [
             0.3,
             "#f1b6da"
            ],
            [
             0.4,
             "#fde0ef"
            ],
            [
             0.5,
             "#f7f7f7"
            ],
            [
             0.6,
             "#e6f5d0"
            ],
            [
             0.7,
             "#b8e186"
            ],
            [
             0.8,
             "#7fbc41"
            ],
            [
             0.9,
             "#4d9221"
            ],
            [
             1,
             "#276419"
            ]
           ],
           "sequential": [
            [
             0,
             "#0d0887"
            ],
            [
             0.1111111111111111,
             "#46039f"
            ],
            [
             0.2222222222222222,
             "#7201a8"
            ],
            [
             0.3333333333333333,
             "#9c179e"
            ],
            [
             0.4444444444444444,
             "#bd3786"
            ],
            [
             0.5555555555555556,
             "#d8576b"
            ],
            [
             0.6666666666666666,
             "#ed7953"
            ],
            [
             0.7777777777777778,
             "#fb9f3a"
            ],
            [
             0.8888888888888888,
             "#fdca26"
            ],
            [
             1,
             "#f0f921"
            ]
           ],
           "sequentialminus": [
            [
             0,
             "#0d0887"
            ],
            [
             0.1111111111111111,
             "#46039f"
            ],
            [
             0.2222222222222222,
             "#7201a8"
            ],
            [
             0.3333333333333333,
             "#9c179e"
            ],
            [
             0.4444444444444444,
             "#bd3786"
            ],
            [
             0.5555555555555556,
             "#d8576b"
            ],
            [
             0.6666666666666666,
             "#ed7953"
            ],
            [
             0.7777777777777778,
             "#fb9f3a"
            ],
            [
             0.8888888888888888,
             "#fdca26"
            ],
            [
             1,
             "#f0f921"
            ]
           ]
          },
          "colorway": [
           "#636efa",
           "#EF553B",
           "#00cc96",
           "#ab63fa",
           "#FFA15A",
           "#19d3f3",
           "#FF6692",
           "#B6E880",
           "#FF97FF",
           "#FECB52"
          ],
          "font": {
           "color": "#2a3f5f"
          },
          "geo": {
           "bgcolor": "white",
           "lakecolor": "white",
           "landcolor": "#E5ECF6",
           "showlakes": true,
           "showland": true,
           "subunitcolor": "white"
          },
          "hoverlabel": {
           "align": "left"
          },
          "hovermode": "closest",
          "mapbox": {
           "style": "light"
          },
          "paper_bgcolor": "white",
          "plot_bgcolor": "#E5ECF6",
          "polar": {
           "angularaxis": {
            "gridcolor": "white",
            "linecolor": "white",
            "ticks": ""
           },
           "bgcolor": "#E5ECF6",
           "radialaxis": {
            "gridcolor": "white",
            "linecolor": "white",
            "ticks": ""
           }
          },
          "scene": {
           "xaxis": {
            "backgroundcolor": "#E5ECF6",
            "gridcolor": "white",
            "gridwidth": 2,
            "linecolor": "white",
            "showbackground": true,
            "ticks": "",
            "zerolinecolor": "white"
           },
           "yaxis": {
            "backgroundcolor": "#E5ECF6",
            "gridcolor": "white",
            "gridwidth": 2,
            "linecolor": "white",
            "showbackground": true,
            "ticks": "",
            "zerolinecolor": "white"
           },
           "zaxis": {
            "backgroundcolor": "#E5ECF6",
            "gridcolor": "white",
            "gridwidth": 2,
            "linecolor": "white",
            "showbackground": true,
            "ticks": "",
            "zerolinecolor": "white"
           }
          },
          "shapedefaults": {
           "line": {
            "color": "#2a3f5f"
           }
          },
          "ternary": {
           "aaxis": {
            "gridcolor": "white",
            "linecolor": "white",
            "ticks": ""
           },
           "baxis": {
            "gridcolor": "white",
            "linecolor": "white",
            "ticks": ""
           },
           "bgcolor": "#E5ECF6",
           "caxis": {
            "gridcolor": "white",
            "linecolor": "white",
            "ticks": ""
           }
          },
          "title": {
           "x": 0.05
          },
          "xaxis": {
           "automargin": true,
           "gridcolor": "white",
           "linecolor": "white",
           "ticks": "",
           "title": {
            "standoff": 15
           },
           "zerolinecolor": "white",
           "zerolinewidth": 2
          },
          "yaxis": {
           "automargin": true,
           "gridcolor": "white",
           "linecolor": "white",
           "ticks": "",
           "title": {
            "standoff": 15
           },
           "zerolinecolor": "white",
           "zerolinewidth": 2
          }
         }
        },
        "title": {
         "text": "Education Exp. (% GDP) vs. Quality of Education By Income group in 2018",
         "x": 0.5,
         "xanchor": "center"
        },
        "xaxis": {
         "anchor": "y",
         "domain": [
          0,
          0.235
         ],
         "title": {
          "text": "Percentage of the GDP"
         }
        },
        "xaxis2": {
         "anchor": "y2",
         "domain": [
          0.255,
          0.49
         ],
         "matches": "x",
         "title": {
          "text": "Percentage of the GDP"
         }
        },
        "xaxis3": {
         "anchor": "y3",
         "domain": [
          0.51,
          0.745
         ],
         "matches": "x",
         "title": {
          "text": "Percentage of the GDP"
         }
        },
        "xaxis4": {
         "anchor": "y4",
         "domain": [
          0.7649999999999999,
          0.9999999999999999
         ],
         "matches": "x",
         "title": {
          "text": "Percentage of the GDP"
         }
        },
        "xaxis5": {
         "anchor": "y5",
         "domain": [
          0,
          0.235
         ],
         "matches": "x",
         "showticklabels": false,
         "title": {
          "text": "Percentage of the GDP"
         }
        },
        "xaxis6": {
         "anchor": "y6",
         "domain": [
          0.255,
          0.49
         ],
         "matches": "x",
         "showticklabels": false,
         "title": {
          "text": "Percentage of the GDP"
         }
        },
        "xaxis7": {
         "anchor": "y7",
         "domain": [
          0.51,
          0.745
         ],
         "matches": "x",
         "showticklabels": false,
         "title": {
          "text": "Percentage of the GDP"
         }
        },
        "xaxis8": {
         "anchor": "y8",
         "domain": [
          0.7649999999999999,
          0.9999999999999999
         ],
         "matches": "x",
         "showticklabels": false,
         "title": {
          "text": "Percentage of the GDP"
         }
        },
        "yaxis": {
         "anchor": "x",
         "domain": [
          0,
          0.46499999999999997
         ],
         "title": {
          "text": "Quality of Education Index"
         }
        },
        "yaxis2": {
         "anchor": "x2",
         "domain": [
          0,
          0.46499999999999997
         ],
         "matches": "y",
         "showticklabels": false
        },
        "yaxis3": {
         "anchor": "x3",
         "domain": [
          0,
          0.46499999999999997
         ],
         "matches": "y",
         "showticklabels": false
        },
        "yaxis4": {
         "anchor": "x4",
         "domain": [
          0,
          0.46499999999999997
         ],
         "matches": "y",
         "showticklabels": false
        },
        "yaxis5": {
         "anchor": "x5",
         "domain": [
          0.5349999999999999,
          0.9999999999999999
         ],
         "matches": "y",
         "title": {
          "text": "Quality of Education Index"
         }
        },
        "yaxis6": {
         "anchor": "x6",
         "domain": [
          0.5349999999999999,
          0.9999999999999999
         ],
         "matches": "y",
         "showticklabels": false
        },
        "yaxis7": {
         "anchor": "x7",
         "domain": [
          0.5349999999999999,
          0.9999999999999999
         ],
         "matches": "y",
         "showticklabels": false
        },
        "yaxis8": {
         "anchor": "x8",
         "domain": [
          0.5349999999999999,
          0.9999999999999999
         ],
         "matches": "y",
         "showticklabels": false
        }
       }
      }
     },
     "metadata": {},
     "output_type": "display_data"
    }
   ],
   "source": [
    "\n",
    "fig = px.scatter(data_frame=df_indicators_2018_imputed,x='edu_exp_pct_gdp',y='edu_quality_index', facet_col = 'region', hover_name='country',\n",
    "                color='edu_quality_index', trendline='ols', labels={'edu_quality_index':'Quality of Education Index'}, \n",
    "                color_continuous_scale=px.colors.sequential.Teal, trendline_color_override='Purple', facet_col_wrap=4)\n",
    " \n",
    "#Setting the labels of the plot\n",
    "fig.update_layout(\n",
    "    title={\n",
    "        'text': 'Education Exp. (% GDP) vs. Quality of Education By Income group in 2018',\n",
    "        'x':0.5,\n",
    "        'xanchor': 'center'},\n",
    "    xaxis_title='Percentage of the GDP',\n",
    "    yaxis_title='Quality of Education Index',\n",
    "    legend={'title':'Quality of Education Index'}\n",
    ")\n",
    "\n",
    "#Ensuring that all x-axis show the correct label\n",
    "fig.for_each_xaxis(lambda x: x.update(title = 'Percentage of the GDP'))\n",
    "\n",
    "fig.show()"
   ]
  },
  {
   "cell_type": "code",
   "execution_count": 19,
   "metadata": {},
   "outputs": [
    {
     "data": {
      "application/vnd.plotly.v1+json": {
       "config": {
        "plotlyServerURL": "https://plot.ly"
       },
       "data": [
        {
         "hovertemplate": "<b>%{hovertext}</b><br><br>edu_quality_index=%{x}<br>hdi_index=%{marker.color}<extra></extra>",
         "hovertext": [
          "Afghanistan",
          "Albania",
          "Algeria",
          "American Samoa",
          "Andorra",
          "Angola",
          "Antigua and Barbuda",
          "Argentina",
          "Armenia",
          "Aruba",
          "Australia",
          "Austria",
          "Azerbaijan",
          "Bahamas",
          "Bahrain",
          "Bangladesh",
          "Barbados",
          "Belarus",
          "Belgium",
          "Belize",
          "Benin",
          "Bermuda",
          "Bhutan",
          "Bolivia",
          "Bosnia and Herzegovina",
          "Botswana",
          "Brazil",
          "British Virgin Islands",
          "Brunei",
          "Bulgaria",
          "Burkina Faso",
          "Burundi",
          "Cabo Verde",
          "Cambodia",
          "Cameroon",
          "Canada",
          "Cayman Islands",
          "Central African Republic",
          "Chad",
          "Channel Islands",
          "Chile",
          "China",
          "Colombia",
          "Comoros",
          "Costa Rica",
          "Cote d'Ivoire",
          "Croatia",
          "Cuba",
          "Curacao",
          "Cyprus",
          "Czech",
          "Denmark",
          "Djibouti",
          "Dominica",
          "Dominican Republic",
          "Ecuador",
          "Egypt",
          "El Salvador",
          "Equatorial Guinea",
          "Eritrea",
          "Estonia",
          "Eswatini",
          "Ethiopia",
          "Faroe Islands",
          "Fiji",
          "Finland",
          "France",
          "French Polynesia",
          "Gabon",
          "Gambia",
          "Georgia",
          "Germany",
          "Ghana",
          "Gibraltar",
          "Greece",
          "Greenland",
          "Grenada",
          "Guam",
          "Guatemala",
          "Guinea",
          "Guinea-Bissau",
          "Guyana",
          "Haiti",
          "Honduras",
          "Hong Kong",
          "Hungary",
          "Iceland",
          "India",
          "Indonesia",
          "Iran",
          "Iraq",
          "Ireland",
          "Isle of Man",
          "Israel",
          "Italy",
          "Jamaica",
          "Japan",
          "Jordan",
          "Kazakhstan",
          "Kenya",
          "Kiribati",
          "Korea, Rep.",
          "Kosovo",
          "Kuwait",
          "Kyrgyzstan",
          "Lao PDR",
          "Latvia",
          "Lebanon",
          "Lesotho",
          "Liberia",
          "Libya",
          "Liechtenstein",
          "Lithuania",
          "Luxembourg",
          "Macao SAR, China",
          "Madagascar",
          "Malawi",
          "Malaysia",
          "Maldives",
          "Mali",
          "Malta",
          "Marshall Islands",
          "Mauritania",
          "Mauritius",
          "Mexico",
          "Micronesia",
          "Moldova",
          "Monaco",
          "Mongolia",
          "Montenegro",
          "Morocco",
          "Mozambique",
          "Myanmar",
          "Namibia",
          "Nauru",
          "Nepal",
          "Netherlands",
          "New Caledonia",
          "New Zealand",
          "Nicaragua",
          "Niger",
          "Nigeria",
          "North Macedonia",
          "Northern Mariana Islands",
          "Norway",
          "Oman",
          "Pakistan",
          "Palau",
          "Panama",
          "Papua New Guinea",
          "Paraguay",
          "Peru",
          "Philippines",
          "Poland",
          "Portugal",
          "Puerto Rico",
          "Qatar",
          "Romania",
          "Russia",
          "Rwanda",
          "Samoa",
          "San Marino",
          "Sao Tome and Principe",
          "Saudi Arabia",
          "Senegal",
          "Serbia",
          "Seychelles",
          "Sierra Leone",
          "Singapore",
          "Sint Maarten (Dutch part)",
          "Slovakia",
          "Slovenia",
          "Solomon Islands",
          "Somalia",
          "South Africa",
          "South Sudan",
          "Spain",
          "Sri Lanka",
          "St. Kitts and Nevis",
          "St. Lucia",
          "St. Martin (French part)",
          "St. Vincent and the Grenadines",
          "Sudan",
          "Suriname",
          "Sweden",
          "Switzerland",
          "Syria",
          "Tajikistan",
          "Tanzania",
          "Thailand",
          "Timor-Leste",
          "Togo",
          "Tonga",
          "Trinidad and Tobago",
          "Tunisia",
          "Turkey",
          "Turkmenistan",
          "Turks and Caicos Islands",
          "Tuvalu",
          "Uganda",
          "Ukraine",
          "United Arab Emirates",
          "United Kingdom",
          "United States",
          "Uruguay",
          "Uzbekistan",
          "Vanuatu",
          "Vietnam",
          "West Bank and Gaza",
          "Yemen",
          "Zambia",
          "Zimbabwe",
          "Congo"
         ],
         "legendgroup": "",
         "marker": {
          "color": [
           0.509,
           0.792,
           0.746,
           0.779,
           0.867,
           0.582,
           0.772,
           0.842,
           0.771,
           0.815,
           0.943,
           0.921,
           0.754,
           0.812,
           0.852,
           0.625,
           0.81,
           0.823,
           0.93,
           0.714,
           0.541,
           0.854,
           0.649,
           0.714,
           0.777,
           0.73,
           0.762,
           0.846,
           0.836,
           0.813,
           0.443,
           0.431,
           0.663,
           0.585,
           0.56,
           0.928,
           0.88,
           0.395,
           0.397,
           0.848,
           0.849,
           0.755,
           0.764,
           0.552,
           0.808,
           0.534,
           0.848,
           0.781,
           0.796,
           0.885,
           0.898,
           0.939,
           0.518,
           0.738,
           0.751,
           0.762,
           0.701,
           0.67,
           0.582,
           0.456,
           0.889,
           0.605,
           0.478,
           0.9,
           0.742,
           0.937,
           0.898,
           0.84,
           0.697,
           0.487,
           0.805,
           0.946,
           0.606,
           0.882,
           0.881,
           0.895,
           0.773,
           0.84,
           0.657,
           0.473,
           0.472,
           0.68,
           0.508,
           0.633,
           0.946,
           0.85,
           0.946,
           0.642,
           0.712,
           0.785,
           0.671,
           0.951,
           0.858,
           0.916,
           0.89,
           0.734,
           0.917,
           0.728,
           0.819,
           0.599,
           0.628,
           0.914,
           0.735,
           0.807,
           0.696,
           0.609,
           0.863,
           0.747,
           0.522,
           0.48,
           0.721,
           0.919,
           0.876,
           0.913,
           0.884,
           0.527,
           0.478,
           0.805,
           0.734,
           0.431,
           0.894,
           0.702,
           0.542,
           0.801,
           0.776,
           0.618,
           0.746,
           0.899,
           0.735,
           0.826,
           0.68,
           0.452,
           0.579,
           0.645,
           0.815,
           0.596,
           0.942,
           0.881,
           0.928,
           0.659,
           0.391,
           0.534,
           0.77,
           0.86,
           0.956,
           0.813,
           0.552,
           0.822,
           0.812,
           0.549,
           0.727,
           0.771,
           0.711,
           0.877,
           0.86,
           0.823,
           0.845,
           0.823,
           0.823,
           0.54,
           0.709,
           0.847,
           0.624,
           0.854,
           0.516,
           0.803,
           0.79,
           0.447,
           0.936,
           0.819,
           0.858,
           0.912,
           0.564,
           0.456,
           0.707,
           0.429,
           0.905,
           0.779,
           0.773,
           0.758,
           0.814,
           0.742,
           0.506,
           0.734,
           0.943,
           0.955,
           0.563,
           0.661,
           0.524,
           0.772,
           0.599,
           0.51,
           0.723,
           0.795,
           0.738,
           0.817,
           0.71,
           0.814,
           0.702,
           0.538,
           0.774,
           0.889,
           0.928,
           0.925,
           0.816,
           0.717,
           0.603,
           0.7,
           0.726,
           0.468,
           0.582,
           0.569,
           0.573
          ],
          "coloraxis": "coloraxis",
          "symbol": "circle"
         },
         "mode": "markers",
         "name": "",
         "orientation": "v",
         "showlegend": false,
         "type": "scatter",
         "x": [
          3.125883053926702,
          4.485545992750001,
          3.416745662749999,
          4.331240600000001,
          4.883352185267469,
          2.61314469575,
          4.097679931132076,
          3.75650507225,
          4.123025775249999,
          4.705032212564636,
          5.32498466975,
          4.710301160749999,
          4.406499505,
          4.64217950460251,
          4.816789984750001,
          3.38388782725,
          4.660130098970925,
          3.852644652250146,
          5.36690354325,
          4.011239882718121,
          3.302977741,
          4.919909089655173,
          4.3412513735,
          2.943328495,
          3.23686605675,
          3.6361775995,
          3.182566643,
          5.08472697269727,
          4.584998965500001,
          3.773089886,
          3.194289923529412,
          3.3095909355,
          3.922236279598894,
          3.3678638935,
          3.99517446775,
          5.579452038,
          5.017800137112445,
          3.41452525,
          2.61314469575,
          5.216284706919643,
          4.121846437249999,
          4.513828873750001,
          3.800363958,
          3.99615168575,
          4.787541389499999,
          3.937275875307793,
          3.622494161,
          4.03495825,
          4.429337616914498,
          4.1842525005,
          4.48947828975,
          5.44074654575,
          3.551013130916131,
          3.82317068387604,
          3.09706348175,
          3.7505168915,
          2.9052241445,
          2.927667737,
          3.635349051379515,
          4.157164111887255,
          5.2810070515,
          3.09669226425,
          3.548745334249999,
          5.37197506425,
          3.639046438676888,
          5.877574682,
          4.96322739125,
          4.83188291518919,
          3.23953305385006,
          4.03637063525,
          3.5151272415,
          5.28436040875,
          4.018807113,
          4.903761910426541,
          3.778220594,
          5.443477162147888,
          4.333431695512821,
          4.660130098970925,
          3.289593935,
          2.7947496775,
          4.008975845,
          3.853571719433403,
          2.7684766055,
          3.36910063025,
          5.37197506425,
          3.66430544875,
          5.4105769395,
          4.605217695249999,
          4.6026746035,
          3.83756726975,
          3.365787613711912,
          5.26850879225,
          4.914795399006621,
          5.07211995125,
          4.437981963,
          4.37463819975,
          4.76136147975,
          4.31229245675,
          4.113367319,
          4.36485934275,
          3.382990938505747,
          4.5241591335,
          3.937275875307793,
          3.48593091975,
          3.1524888275,
          3.8370832205,
          4.36378258475,
          5.118548751000001,
          3.5835725665,
          2.89157027,
          3.595409990976331,
          5.154452212500001,
          4.4885306955,
          4.68427121625,
          5.131259234978235,
          3.67245489375,
          2.92263948925,
          5.25812911975,
          3.891372191274403,
          3.66399663725,
          5.124402999999999,
          3.66025239225,
          2.3659526705,
          4.3772073985,
          3.51215380425,
          4.05051058525,
          3.76005345575,
          5.052881708839779,
          3.69268512725,
          4.08039987125,
          3.4795261025,
          2.790258944,
          2.557547,
          3.34541547275,
          4.382509232812501,
          3.83100247375,
          5.77895951275,
          4.816789984750001,
          5.5188162325,
          3.03231650575,
          2.6414312625,
          3.16824227575,
          4.05051058525,
          5.001788609523809,
          5.386394262250001,
          3.7034083605,
          3.66025239225,
          4.596497320731707,
          3.680060029,
          3.042499860040984,
          2.7540509105,
          3.27700579175,
          4.3122189045,
          4.217128813,
          4.821053028250001,
          4.333431695512821,
          5.650964141,
          3.7737690805,
          4.3563212755,
          4.394029140500001,
          3.430077232999553,
          5.090531294221309,
          3.382604328111613,
          4.336327791,
          4.09712105975,
          3.99615168575,
          3.995258987,
          2.91684859975,
          6.1019439695,
          4.474316602430556,
          3.798733771,
          4.796257138250001,
          3.037661686079989,
          3.41452525,
          3.4022233485,
          3.43541885,
          4.5152790545,
          4.124032378,
          4.055421307373272,
          3.871580136259542,
          4.553095665481171,
          3.430077232999553,
          3.333133403550296,
          3.464315527678572,
          5.199332714000001,
          6.1326652765,
          3.891372191274403,
          4.13513046525,
          3.15139406925,
          4.05051058525,
          2.573858593814433,
          3.835960849080883,
          3.263894317052602,
          4.468680382000001,
          3.79927766325,
          3.551756382,
          3.786770106599438,
          4.348512731924883,
          3.609029785521235,
          3.343117058,
          4.374483644750001,
          5.4820508955,
          5.2462177275,
          5.697491168999999,
          3.90237712875,
          4.006601396194692,
          2.961133327987024,
          3.68711513275,
          3.723914141025641,
          2.2447446585,
          3.6091204285,
          3.793227315,
          2.527424595346956
         ],
         "xaxis": "x",
         "y": [
          0.509,
          0.792,
          0.746,
          0.779,
          0.867,
          0.582,
          0.772,
          0.842,
          0.771,
          0.815,
          0.943,
          0.921,
          0.754,
          0.812,
          0.852,
          0.625,
          0.81,
          0.823,
          0.93,
          0.714,
          0.541,
          0.854,
          0.649,
          0.714,
          0.777,
          0.73,
          0.762,
          0.846,
          0.836,
          0.813,
          0.443,
          0.431,
          0.663,
          0.585,
          0.56,
          0.928,
          0.88,
          0.395,
          0.397,
          0.848,
          0.849,
          0.755,
          0.764,
          0.552,
          0.808,
          0.534,
          0.848,
          0.781,
          0.796,
          0.885,
          0.898,
          0.939,
          0.518,
          0.738,
          0.751,
          0.762,
          0.701,
          0.67,
          0.582,
          0.456,
          0.889,
          0.605,
          0.478,
          0.9,
          0.742,
          0.937,
          0.898,
          0.84,
          0.697,
          0.487,
          0.805,
          0.946,
          0.606,
          0.882,
          0.881,
          0.895,
          0.773,
          0.84,
          0.657,
          0.473,
          0.472,
          0.68,
          0.508,
          0.633,
          0.946,
          0.85,
          0.946,
          0.642,
          0.712,
          0.785,
          0.671,
          0.951,
          0.858,
          0.916,
          0.89,
          0.734,
          0.917,
          0.728,
          0.819,
          0.599,
          0.628,
          0.914,
          0.735,
          0.807,
          0.696,
          0.609,
          0.863,
          0.747,
          0.522,
          0.48,
          0.721,
          0.919,
          0.876,
          0.913,
          0.884,
          0.527,
          0.478,
          0.805,
          0.734,
          0.431,
          0.894,
          0.702,
          0.542,
          0.801,
          0.776,
          0.618,
          0.746,
          0.899,
          0.735,
          0.826,
          0.68,
          0.452,
          0.579,
          0.645,
          0.815,
          0.596,
          0.942,
          0.881,
          0.928,
          0.659,
          0.391,
          0.534,
          0.77,
          0.86,
          0.956,
          0.813,
          0.552,
          0.822,
          0.812,
          0.549,
          0.727,
          0.771,
          0.711,
          0.877,
          0.86,
          0.823,
          0.845,
          0.823,
          0.823,
          0.54,
          0.709,
          0.847,
          0.624,
          0.854,
          0.516,
          0.803,
          0.79,
          0.447,
          0.936,
          0.819,
          0.858,
          0.912,
          0.564,
          0.456,
          0.707,
          0.429,
          0.905,
          0.779,
          0.773,
          0.758,
          0.814,
          0.742,
          0.506,
          0.734,
          0.943,
          0.955,
          0.563,
          0.661,
          0.524,
          0.772,
          0.599,
          0.51,
          0.723,
          0.795,
          0.738,
          0.817,
          0.71,
          0.814,
          0.702,
          0.538,
          0.774,
          0.889,
          0.928,
          0.925,
          0.816,
          0.717,
          0.603,
          0.7,
          0.726,
          0.468,
          0.582,
          0.569,
          0.573
         ],
         "yaxis": "y"
        },
        {
         "hovertemplate": "<b>OLS trendline</b><br>hdi_index = 0.135708 * edu_quality_index + 0.181954<br>R<sup>2</sup>=0.552001<br><br>edu_quality_index=%{x}<br>hdi_index=%{y} <b>(trend)</b><extra></extra>",
         "legendgroup": "",
         "line": {
          "color": "Purple"
         },
         "marker": {
          "symbol": "circle"
         },
         "mode": "lines",
         "name": "",
         "showlegend": false,
         "type": "scatter",
         "x": [
          2.2447446585,
          2.3659526705,
          2.527424595346956,
          2.557547,
          2.573858593814433,
          2.61314469575,
          2.61314469575,
          2.6414312625,
          2.7540509105,
          2.7684766055,
          2.790258944,
          2.7947496775,
          2.89157027,
          2.9052241445,
          2.91684859975,
          2.92263948925,
          2.927667737,
          2.943328495,
          2.961133327987024,
          3.03231650575,
          3.037661686079989,
          3.042499860040984,
          3.09669226425,
          3.09706348175,
          3.125883053926702,
          3.15139406925,
          3.1524888275,
          3.16824227575,
          3.182566643,
          3.194289923529412,
          3.23686605675,
          3.23953305385006,
          3.263894317052602,
          3.27700579175,
          3.289593935,
          3.302977741,
          3.3095909355,
          3.333133403550296,
          3.343117058,
          3.34541547275,
          3.365787613711912,
          3.3678638935,
          3.36910063025,
          3.382604328111613,
          3.382990938505747,
          3.38388782725,
          3.4022233485,
          3.41452525,
          3.41452525,
          3.416745662749999,
          3.430077232999553,
          3.430077232999553,
          3.43541885,
          3.464315527678572,
          3.4795261025,
          3.48593091975,
          3.51215380425,
          3.5151272415,
          3.548745334249999,
          3.551013130916131,
          3.551756382,
          3.5835725665,
          3.595409990976331,
          3.609029785521235,
          3.6091204285,
          3.622494161,
          3.635349051379515,
          3.6361775995,
          3.639046438676888,
          3.66025239225,
          3.66025239225,
          3.66399663725,
          3.66430544875,
          3.67245489375,
          3.680060029,
          3.68711513275,
          3.69268512725,
          3.7034083605,
          3.723914141025641,
          3.7505168915,
          3.75650507225,
          3.76005345575,
          3.773089886,
          3.7737690805,
          3.778220594,
          3.786770106599438,
          3.793227315,
          3.798733771,
          3.79927766325,
          3.800363958,
          3.82317068387604,
          3.83100247375,
          3.835960849080883,
          3.8370832205,
          3.83756726975,
          3.852644652250146,
          3.853571719433403,
          3.871580136259542,
          3.891372191274403,
          3.891372191274403,
          3.90237712875,
          3.922236279598894,
          3.937275875307793,
          3.937275875307793,
          3.99517446775,
          3.995258987,
          3.99615168575,
          3.99615168575,
          4.006601396194692,
          4.008975845,
          4.011239882718121,
          4.018807113,
          4.03495825,
          4.03637063525,
          4.05051058525,
          4.05051058525,
          4.05051058525,
          4.055421307373272,
          4.08039987125,
          4.09712105975,
          4.097679931132076,
          4.113367319,
          4.121846437249999,
          4.123025775249999,
          4.124032378,
          4.13513046525,
          4.157164111887255,
          4.1842525005,
          4.217128813,
          4.3122189045,
          4.31229245675,
          4.331240600000001,
          4.333431695512821,
          4.333431695512821,
          4.336327791,
          4.3412513735,
          4.348512731924883,
          4.3563212755,
          4.36378258475,
          4.36485934275,
          4.374483644750001,
          4.37463819975,
          4.3772073985,
          4.382509232812501,
          4.394029140500001,
          4.406499505,
          4.429337616914498,
          4.437981963,
          4.468680382000001,
          4.474316602430556,
          4.485545992750001,
          4.4885306955,
          4.48947828975,
          4.513828873750001,
          4.5152790545,
          4.5241591335,
          4.553095665481171,
          4.584998965500001,
          4.596497320731707,
          4.6026746035,
          4.605217695249999,
          4.64217950460251,
          4.660130098970925,
          4.660130098970925,
          4.68427121625,
          4.705032212564636,
          4.710301160749999,
          4.76136147975,
          4.787541389499999,
          4.796257138250001,
          4.816789984750001,
          4.816789984750001,
          4.821053028250001,
          4.83188291518919,
          4.883352185267469,
          4.903761910426541,
          4.914795399006621,
          4.919909089655173,
          4.96322739125,
          5.001788609523809,
          5.017800137112445,
          5.052881708839779,
          5.07211995125,
          5.08472697269727,
          5.090531294221309,
          5.118548751000001,
          5.124402999999999,
          5.131259234978235,
          5.154452212500001,
          5.199332714000001,
          5.216284706919643,
          5.2462177275,
          5.25812911975,
          5.26850879225,
          5.2810070515,
          5.28436040875,
          5.32498466975,
          5.36690354325,
          5.37197506425,
          5.37197506425,
          5.386394262250001,
          5.4105769395,
          5.44074654575,
          5.443477162147888,
          5.4820508955,
          5.5188162325,
          5.579452038,
          5.650964141,
          5.697491168999999,
          5.77895951275,
          5.877574682,
          6.1019439695,
          6.1326652765
         ],
         "xaxis": "x",
         "y": [
          0.48658498029765684,
          0.5030339220011283,
          0.5249470136749272,
          0.5290348761019283,
          0.5312484959057439,
          0.5365799487514088,
          0.5365799487514088,
          0.5404186726095486,
          0.5557021014361635,
          0.5576597889864474,
          0.5606158346326031,
          0.5612252647546591,
          0.5743646295165205,
          0.576217574565046,
          0.57779511043571,
          0.5785809826088856,
          0.5792633579135013,
          0.5813886538499957,
          0.5838049187075004,
          0.5934650717119985,
          0.5941904574203504,
          0.5948470381209369,
          0.6022014009464328,
          0.602251778268163,
          0.6061628354238036,
          0.6096248937227987,
          0.6097734615801251,
          0.6119113363593345,
          0.6138552728858603,
          0.6154462201740786,
          0.6212241578017058,
          0.6215860916301579,
          0.6248921189432824,
          0.6266714557988695,
          0.6283797721969159,
          0.6301960666895982,
          0.6310935325337226,
          0.6342884424916151,
          0.6356433079606634,
          0.6359552220792875,
          0.6387198921165899,
          0.6390016606616787,
          0.6391694961897731,
          0.6410020610115357,
          0.6410545272778337,
          0.6411762425871215,
          0.6436645262836151,
          0.6453339972804281,
          0.6453339972804281,
          0.6456353258747983,
          0.6474445315389473,
          0.6474445315389473,
          0.6481694336736563,
          0.6520909546912508,
          0.6541551570025135,
          0.6550243443097571,
          0.6585830092141643,
          0.6589865295357763,
          0.6635487860954056,
          0.6638565450837844,
          0.6639574104766564,
          0.6682751330053238,
          0.66988157058249,
          0.67172989069587,
          0.6717421917067431,
          0.6735571191411632,
          0.675301635357279,
          0.6754140762719306,
          0.6758034017595664,
          0.6786812271469727,
          0.6786812271469727,
          0.6791893525316915,
          0.6792312608369021,
          0.680337208731837,
          0.681369289237986,
          0.6823267258659845,
          0.6830826207388347,
          0.6845378532411381,
          0.687320659285762,
          0.6909308751822552,
          0.691743521429325,
          0.6922250667691914,
          0.6939942194651668,
          0.6940863918434731,
          0.6946904994832693,
          0.695850739899895,
          0.6967270371247684,
          0.6974743092913701,
          0.6975481200219117,
          0.6976955393114512,
          0.7007906028983537,
          0.7018534423340059,
          0.7025263353665361,
          0.7026786505620257,
          0.7027443400965993,
          0.7047904670950839,
          0.7049162778711289,
          0.7073601707595377,
          0.7100461182786783,
          0.7100461182786783,
          0.7115395804021758,
          0.7142346333875668,
          0.7162756324022149,
          0.7162756324022149,
          0.72413295599065,
          0.7241444259602761,
          0.7242655726522745,
          0.7242655726522745,
          0.725683685820593,
          0.7260059183969048,
          0.7263131672645772,
          0.7273401037492988,
          0.7295319482204199,
          0.72972362072009,
          0.7316425302822731,
          0.7316425302822731,
          0.7316425302822731,
          0.7323089563756872,
          0.7356987565569223,
          0.7379679617877553,
          0.7380438053118904,
          0.7401727151443463,
          0.7413234024585734,
          0.7414834484958821,
          0.7416200529140234,
          0.7431261562415434,
          0.7461163065052991,
          0.7497924275618184,
          0.7542540183330424,
          0.7671585396254241,
          0.7671685212813597,
          0.7697399429107178,
          0.7700372929106263,
          0.7700372929106263,
          0.7704303173076958,
          0.7710984886618694,
          0.77208391577554,
          0.7731436004938746,
          0.7741561626080427,
          0.7743022876807875,
          0.7756083860147376,
          0.775629360421817,
          0.7759780221956227,
          0.776697525486608,
          0.7782608733780086,
          0.7799532062139067,
          0.7830525291489197,
          0.7842256392633324,
          0.7883916716582847,
          0.7891565539442025,
          0.790680476197214,
          0.7910855253414646,
          0.7912141218122721,
          0.7945186998682302,
          0.7947155015335873,
          0.795920602577512,
          0.7998475321575378,
          0.8041770769912415,
          0.8057375000340031,
          0.8065758090076831,
          0.8069209278430808,
          0.8119369547315861,
          0.8143730006285251,
          0.8143730006285251,
          0.8176491522972793,
          0.8204665932605503,
          0.8211816336288359,
          0.8281109462768452,
          0.8316637791479915,
          0.8328465792015959,
          0.8356330583254744,
          0.8356330583254744,
          0.8362115890088327,
          0.8376812953094189,
          0.8446661060415497,
          0.8474358765689752,
          0.8489332133163155,
          0.8496271839373963,
          0.8555058400251367,
          0.86073892009084,
          0.8629118183963498,
          0.867672681302088,
          0.8702834718155318,
          0.8719943501429526,
          0.8727820451542123,
          0.8765842485368752,
          0.8773787191245008,
          0.8783091675956984,
          0.8814566487637375,
          0.8875473084537593,
          0.8898478357761019,
          0.8939099971993512,
          0.8955264728224925,
          0.8969350812555194,
          0.8986311996424633,
          0.8990862782878928,
          0.9045993305185953,
          0.91028807250107,
          0.910976320347895,
          0.910976320347895,
          0.9129331262009011,
          0.9162149179055542,
          0.9203091859843255,
          0.9206797534839675,
          0.9259145319505439,
          0.9309038958963983,
          0.9391326822064365,
          0.9488374731186053,
          0.9551515802356147,
          0.9662075163483377,
          0.9795904201952486,
          1.0100392104133156,
          1.0142083489014333
         ],
         "yaxis": "y"
        }
       ],
       "layout": {
        "coloraxis": {
         "colorbar": {
          "title": {
           "text": "hdi_index"
          }
         },
         "colorscale": [
          [
           0,
           "rgb(209, 238, 234)"
          ],
          [
           0.16666666666666666,
           "rgb(168, 219, 217)"
          ],
          [
           0.3333333333333333,
           "rgb(133, 196, 201)"
          ],
          [
           0.5,
           "rgb(104, 171, 184)"
          ],
          [
           0.6666666666666666,
           "rgb(79, 144, 166)"
          ],
          [
           0.8333333333333334,
           "rgb(59, 115, 143)"
          ],
          [
           1,
           "rgb(42, 86, 116)"
          ]
         ]
        },
        "legend": {
         "tracegroupgap": 0
        },
        "margin": {
         "t": 60
        },
        "template": {
         "data": {
          "bar": [
           {
            "error_x": {
             "color": "#2a3f5f"
            },
            "error_y": {
             "color": "#2a3f5f"
            },
            "marker": {
             "line": {
              "color": "#E5ECF6",
              "width": 0.5
             },
             "pattern": {
              "fillmode": "overlay",
              "size": 10,
              "solidity": 0.2
             }
            },
            "type": "bar"
           }
          ],
          "barpolar": [
           {
            "marker": {
             "line": {
              "color": "#E5ECF6",
              "width": 0.5
             },
             "pattern": {
              "fillmode": "overlay",
              "size": 10,
              "solidity": 0.2
             }
            },
            "type": "barpolar"
           }
          ],
          "carpet": [
           {
            "aaxis": {
             "endlinecolor": "#2a3f5f",
             "gridcolor": "white",
             "linecolor": "white",
             "minorgridcolor": "white",
             "startlinecolor": "#2a3f5f"
            },
            "baxis": {
             "endlinecolor": "#2a3f5f",
             "gridcolor": "white",
             "linecolor": "white",
             "minorgridcolor": "white",
             "startlinecolor": "#2a3f5f"
            },
            "type": "carpet"
           }
          ],
          "choropleth": [
           {
            "colorbar": {
             "outlinewidth": 0,
             "ticks": ""
            },
            "type": "choropleth"
           }
          ],
          "contour": [
           {
            "colorbar": {
             "outlinewidth": 0,
             "ticks": ""
            },
            "colorscale": [
             [
              0,
              "#0d0887"
             ],
             [
              0.1111111111111111,
              "#46039f"
             ],
             [
              0.2222222222222222,
              "#7201a8"
             ],
             [
              0.3333333333333333,
              "#9c179e"
             ],
             [
              0.4444444444444444,
              "#bd3786"
             ],
             [
              0.5555555555555556,
              "#d8576b"
             ],
             [
              0.6666666666666666,
              "#ed7953"
             ],
             [
              0.7777777777777778,
              "#fb9f3a"
             ],
             [
              0.8888888888888888,
              "#fdca26"
             ],
             [
              1,
              "#f0f921"
             ]
            ],
            "type": "contour"
           }
          ],
          "contourcarpet": [
           {
            "colorbar": {
             "outlinewidth": 0,
             "ticks": ""
            },
            "type": "contourcarpet"
           }
          ],
          "heatmap": [
           {
            "colorbar": {
             "outlinewidth": 0,
             "ticks": ""
            },
            "colorscale": [
             [
              0,
              "#0d0887"
             ],
             [
              0.1111111111111111,
              "#46039f"
             ],
             [
              0.2222222222222222,
              "#7201a8"
             ],
             [
              0.3333333333333333,
              "#9c179e"
             ],
             [
              0.4444444444444444,
              "#bd3786"
             ],
             [
              0.5555555555555556,
              "#d8576b"
             ],
             [
              0.6666666666666666,
              "#ed7953"
             ],
             [
              0.7777777777777778,
              "#fb9f3a"
             ],
             [
              0.8888888888888888,
              "#fdca26"
             ],
             [
              1,
              "#f0f921"
             ]
            ],
            "type": "heatmap"
           }
          ],
          "heatmapgl": [
           {
            "colorbar": {
             "outlinewidth": 0,
             "ticks": ""
            },
            "colorscale": [
             [
              0,
              "#0d0887"
             ],
             [
              0.1111111111111111,
              "#46039f"
             ],
             [
              0.2222222222222222,
              "#7201a8"
             ],
             [
              0.3333333333333333,
              "#9c179e"
             ],
             [
              0.4444444444444444,
              "#bd3786"
             ],
             [
              0.5555555555555556,
              "#d8576b"
             ],
             [
              0.6666666666666666,
              "#ed7953"
             ],
             [
              0.7777777777777778,
              "#fb9f3a"
             ],
             [
              0.8888888888888888,
              "#fdca26"
             ],
             [
              1,
              "#f0f921"
             ]
            ],
            "type": "heatmapgl"
           }
          ],
          "histogram": [
           {
            "marker": {
             "pattern": {
              "fillmode": "overlay",
              "size": 10,
              "solidity": 0.2
             }
            },
            "type": "histogram"
           }
          ],
          "histogram2d": [
           {
            "colorbar": {
             "outlinewidth": 0,
             "ticks": ""
            },
            "colorscale": [
             [
              0,
              "#0d0887"
             ],
             [
              0.1111111111111111,
              "#46039f"
             ],
             [
              0.2222222222222222,
              "#7201a8"
             ],
             [
              0.3333333333333333,
              "#9c179e"
             ],
             [
              0.4444444444444444,
              "#bd3786"
             ],
             [
              0.5555555555555556,
              "#d8576b"
             ],
             [
              0.6666666666666666,
              "#ed7953"
             ],
             [
              0.7777777777777778,
              "#fb9f3a"
             ],
             [
              0.8888888888888888,
              "#fdca26"
             ],
             [
              1,
              "#f0f921"
             ]
            ],
            "type": "histogram2d"
           }
          ],
          "histogram2dcontour": [
           {
            "colorbar": {
             "outlinewidth": 0,
             "ticks": ""
            },
            "colorscale": [
             [
              0,
              "#0d0887"
             ],
             [
              0.1111111111111111,
              "#46039f"
             ],
             [
              0.2222222222222222,
              "#7201a8"
             ],
             [
              0.3333333333333333,
              "#9c179e"
             ],
             [
              0.4444444444444444,
              "#bd3786"
             ],
             [
              0.5555555555555556,
              "#d8576b"
             ],
             [
              0.6666666666666666,
              "#ed7953"
             ],
             [
              0.7777777777777778,
              "#fb9f3a"
             ],
             [
              0.8888888888888888,
              "#fdca26"
             ],
             [
              1,
              "#f0f921"
             ]
            ],
            "type": "histogram2dcontour"
           }
          ],
          "mesh3d": [
           {
            "colorbar": {
             "outlinewidth": 0,
             "ticks": ""
            },
            "type": "mesh3d"
           }
          ],
          "parcoords": [
           {
            "line": {
             "colorbar": {
              "outlinewidth": 0,
              "ticks": ""
             }
            },
            "type": "parcoords"
           }
          ],
          "pie": [
           {
            "automargin": true,
            "type": "pie"
           }
          ],
          "scatter": [
           {
            "marker": {
             "colorbar": {
              "outlinewidth": 0,
              "ticks": ""
             }
            },
            "type": "scatter"
           }
          ],
          "scatter3d": [
           {
            "line": {
             "colorbar": {
              "outlinewidth": 0,
              "ticks": ""
             }
            },
            "marker": {
             "colorbar": {
              "outlinewidth": 0,
              "ticks": ""
             }
            },
            "type": "scatter3d"
           }
          ],
          "scattercarpet": [
           {
            "marker": {
             "colorbar": {
              "outlinewidth": 0,
              "ticks": ""
             }
            },
            "type": "scattercarpet"
           }
          ],
          "scattergeo": [
           {
            "marker": {
             "colorbar": {
              "outlinewidth": 0,
              "ticks": ""
             }
            },
            "type": "scattergeo"
           }
          ],
          "scattergl": [
           {
            "marker": {
             "colorbar": {
              "outlinewidth": 0,
              "ticks": ""
             }
            },
            "type": "scattergl"
           }
          ],
          "scattermapbox": [
           {
            "marker": {
             "colorbar": {
              "outlinewidth": 0,
              "ticks": ""
             }
            },
            "type": "scattermapbox"
           }
          ],
          "scatterpolar": [
           {
            "marker": {
             "colorbar": {
              "outlinewidth": 0,
              "ticks": ""
             }
            },
            "type": "scatterpolar"
           }
          ],
          "scatterpolargl": [
           {
            "marker": {
             "colorbar": {
              "outlinewidth": 0,
              "ticks": ""
             }
            },
            "type": "scatterpolargl"
           }
          ],
          "scatterternary": [
           {
            "marker": {
             "colorbar": {
              "outlinewidth": 0,
              "ticks": ""
             }
            },
            "type": "scatterternary"
           }
          ],
          "surface": [
           {
            "colorbar": {
             "outlinewidth": 0,
             "ticks": ""
            },
            "colorscale": [
             [
              0,
              "#0d0887"
             ],
             [
              0.1111111111111111,
              "#46039f"
             ],
             [
              0.2222222222222222,
              "#7201a8"
             ],
             [
              0.3333333333333333,
              "#9c179e"
             ],
             [
              0.4444444444444444,
              "#bd3786"
             ],
             [
              0.5555555555555556,
              "#d8576b"
             ],
             [
              0.6666666666666666,
              "#ed7953"
             ],
             [
              0.7777777777777778,
              "#fb9f3a"
             ],
             [
              0.8888888888888888,
              "#fdca26"
             ],
             [
              1,
              "#f0f921"
             ]
            ],
            "type": "surface"
           }
          ],
          "table": [
           {
            "cells": {
             "fill": {
              "color": "#EBF0F8"
             },
             "line": {
              "color": "white"
             }
            },
            "header": {
             "fill": {
              "color": "#C8D4E3"
             },
             "line": {
              "color": "white"
             }
            },
            "type": "table"
           }
          ]
         },
         "layout": {
          "annotationdefaults": {
           "arrowcolor": "#2a3f5f",
           "arrowhead": 0,
           "arrowwidth": 1
          },
          "autotypenumbers": "strict",
          "coloraxis": {
           "colorbar": {
            "outlinewidth": 0,
            "ticks": ""
           }
          },
          "colorscale": {
           "diverging": [
            [
             0,
             "#8e0152"
            ],
            [
             0.1,
             "#c51b7d"
            ],
            [
             0.2,
             "#de77ae"
            ],
            [
             0.3,
             "#f1b6da"
            ],
            [
             0.4,
             "#fde0ef"
            ],
            [
             0.5,
             "#f7f7f7"
            ],
            [
             0.6,
             "#e6f5d0"
            ],
            [
             0.7,
             "#b8e186"
            ],
            [
             0.8,
             "#7fbc41"
            ],
            [
             0.9,
             "#4d9221"
            ],
            [
             1,
             "#276419"
            ]
           ],
           "sequential": [
            [
             0,
             "#0d0887"
            ],
            [
             0.1111111111111111,
             "#46039f"
            ],
            [
             0.2222222222222222,
             "#7201a8"
            ],
            [
             0.3333333333333333,
             "#9c179e"
            ],
            [
             0.4444444444444444,
             "#bd3786"
            ],
            [
             0.5555555555555556,
             "#d8576b"
            ],
            [
             0.6666666666666666,
             "#ed7953"
            ],
            [
             0.7777777777777778,
             "#fb9f3a"
            ],
            [
             0.8888888888888888,
             "#fdca26"
            ],
            [
             1,
             "#f0f921"
            ]
           ],
           "sequentialminus": [
            [
             0,
             "#0d0887"
            ],
            [
             0.1111111111111111,
             "#46039f"
            ],
            [
             0.2222222222222222,
             "#7201a8"
            ],
            [
             0.3333333333333333,
             "#9c179e"
            ],
            [
             0.4444444444444444,
             "#bd3786"
            ],
            [
             0.5555555555555556,
             "#d8576b"
            ],
            [
             0.6666666666666666,
             "#ed7953"
            ],
            [
             0.7777777777777778,
             "#fb9f3a"
            ],
            [
             0.8888888888888888,
             "#fdca26"
            ],
            [
             1,
             "#f0f921"
            ]
           ]
          },
          "colorway": [
           "#636efa",
           "#EF553B",
           "#00cc96",
           "#ab63fa",
           "#FFA15A",
           "#19d3f3",
           "#FF6692",
           "#B6E880",
           "#FF97FF",
           "#FECB52"
          ],
          "font": {
           "color": "#2a3f5f"
          },
          "geo": {
           "bgcolor": "white",
           "lakecolor": "white",
           "landcolor": "#E5ECF6",
           "showlakes": true,
           "showland": true,
           "subunitcolor": "white"
          },
          "hoverlabel": {
           "align": "left"
          },
          "hovermode": "closest",
          "mapbox": {
           "style": "light"
          },
          "paper_bgcolor": "white",
          "plot_bgcolor": "#E5ECF6",
          "polar": {
           "angularaxis": {
            "gridcolor": "white",
            "linecolor": "white",
            "ticks": ""
           },
           "bgcolor": "#E5ECF6",
           "radialaxis": {
            "gridcolor": "white",
            "linecolor": "white",
            "ticks": ""
           }
          },
          "scene": {
           "xaxis": {
            "backgroundcolor": "#E5ECF6",
            "gridcolor": "white",
            "gridwidth": 2,
            "linecolor": "white",
            "showbackground": true,
            "ticks": "",
            "zerolinecolor": "white"
           },
           "yaxis": {
            "backgroundcolor": "#E5ECF6",
            "gridcolor": "white",
            "gridwidth": 2,
            "linecolor": "white",
            "showbackground": true,
            "ticks": "",
            "zerolinecolor": "white"
           },
           "zaxis": {
            "backgroundcolor": "#E5ECF6",
            "gridcolor": "white",
            "gridwidth": 2,
            "linecolor": "white",
            "showbackground": true,
            "ticks": "",
            "zerolinecolor": "white"
           }
          },
          "shapedefaults": {
           "line": {
            "color": "#2a3f5f"
           }
          },
          "ternary": {
           "aaxis": {
            "gridcolor": "white",
            "linecolor": "white",
            "ticks": ""
           },
           "baxis": {
            "gridcolor": "white",
            "linecolor": "white",
            "ticks": ""
           },
           "bgcolor": "#E5ECF6",
           "caxis": {
            "gridcolor": "white",
            "linecolor": "white",
            "ticks": ""
           }
          },
          "title": {
           "x": 0.05
          },
          "xaxis": {
           "automargin": true,
           "gridcolor": "white",
           "linecolor": "white",
           "ticks": "",
           "title": {
            "standoff": 15
           },
           "zerolinecolor": "white",
           "zerolinewidth": 2
          },
          "yaxis": {
           "automargin": true,
           "gridcolor": "white",
           "linecolor": "white",
           "ticks": "",
           "title": {
            "standoff": 15
           },
           "zerolinecolor": "white",
           "zerolinewidth": 2
          }
         }
        },
        "title": {
         "text": "Relationship between Quality of Education and Human Development Index by Country in 2018",
         "x": 0.5,
         "xanchor": "center"
        },
        "xaxis": {
         "anchor": "y",
         "domain": [
          0,
          1
         ],
         "title": {
          "text": "Quality of Education Index"
         }
        },
        "yaxis": {
         "anchor": "x",
         "domain": [
          0,
          1
         ],
         "title": {
          "text": "Human Development Index (HDI)"
         }
        }
       }
      }
     },
     "metadata": {},
     "output_type": "display_data"
    }
   ],
   "source": [
    "fig = px.scatter(data_frame=df_indicators_2018_imputed,x='edu_quality_index',y='hdi_index',hover_name='country',color='hdi_index', trendline='ols', labels={'hdi':'HDI Index'},\n",
    "                 color_continuous_scale=px.colors.sequential.Teal, trendline_color_override='Purple')\n",
    "#Setting the labels of the plot\n",
    "fig.update_layout(\n",
    "    title={\n",
    "        'text': \"Relationship between Quality of Education and Human Development Index by Country in 2018\",\n",
    "        'x':0.5,\n",
    "        'xanchor': 'center'},\n",
    "    xaxis_title=\"Quality of Education Index\",\n",
    "    yaxis_title=\"Human Development Index (HDI)\"\n",
    ")\n",
    "\n",
    "fig.show()"
   ]
  },
  {
   "cell_type": "code",
   "execution_count": 33,
   "metadata": {},
   "outputs": [
    {
     "data": {
      "application/vnd.plotly.v1+json": {
       "config": {
        "plotlyServerURL": "https://plot.ly"
       },
       "data": [
        {
         "hovertemplate": "<b>%{hovertext}</b><br><br>edu_exp_per_capita=%{x}<br>Quality of Education Index=%{marker.color}<extra></extra>",
         "hovertext": [
          "Afghanistan",
          "Albania",
          "Algeria",
          "American Samoa",
          "Andorra",
          "Angola",
          "Antigua and Barbuda",
          "Argentina",
          "Armenia",
          "Aruba",
          "Australia",
          "Austria",
          "Azerbaijan",
          "Bahamas",
          "Bahrain",
          "Bangladesh",
          "Barbados",
          "Belarus",
          "Belgium",
          "Belize",
          "Benin",
          "Bermuda",
          "Bhutan",
          "Bolivia",
          "Bosnia and Herzegovina",
          "Botswana",
          "Brazil",
          "British Virgin Islands",
          "Brunei",
          "Bulgaria",
          "Burkina Faso",
          "Burundi",
          "Cabo Verde",
          "Cambodia",
          "Cameroon",
          "Canada",
          "Cayman Islands",
          "Central African Republic",
          "Chad",
          "Channel Islands",
          "Chile",
          "China",
          "Colombia",
          "Comoros",
          "Costa Rica",
          "Cote d'Ivoire",
          "Croatia",
          "Cuba",
          "Curacao",
          "Cyprus",
          "Czech",
          "Denmark",
          "Djibouti",
          "Dominica",
          "Dominican Republic",
          "Ecuador",
          "Egypt",
          "El Salvador",
          "Equatorial Guinea",
          "Eritrea",
          "Estonia",
          "Eswatini",
          "Ethiopia",
          "Faroe Islands",
          "Fiji",
          "Finland",
          "France",
          "French Polynesia",
          "Gabon",
          "Gambia",
          "Georgia",
          "Germany",
          "Ghana",
          "Gibraltar",
          "Greece",
          "Greenland",
          "Grenada",
          "Guam",
          "Guatemala",
          "Guinea",
          "Guinea-Bissau",
          "Guyana",
          "Haiti",
          "Honduras",
          "Hong Kong",
          "Hungary",
          "Iceland",
          "India",
          "Indonesia",
          "Iran",
          "Iraq",
          "Ireland",
          "Isle of Man",
          "Israel",
          "Italy",
          "Jamaica",
          "Japan",
          "Jordan",
          "Kazakhstan",
          "Kenya",
          "Kiribati",
          "Korea, Rep.",
          "Kosovo",
          "Kuwait",
          "Kyrgyzstan",
          "Lao PDR",
          "Latvia",
          "Lebanon",
          "Lesotho",
          "Liberia",
          "Libya",
          "Liechtenstein",
          "Lithuania",
          "Luxembourg",
          "Macao SAR, China",
          "Madagascar",
          "Malawi",
          "Malaysia",
          "Maldives",
          "Mali",
          "Malta",
          "Marshall Islands",
          "Mauritania",
          "Mauritius",
          "Mexico",
          "Micronesia",
          "Moldova",
          "Monaco",
          "Mongolia",
          "Montenegro",
          "Morocco",
          "Mozambique",
          "Myanmar",
          "Namibia",
          "Nauru",
          "Nepal",
          "Netherlands",
          "New Caledonia",
          "New Zealand",
          "Nicaragua",
          "Niger",
          "Nigeria",
          "North Macedonia",
          "Northern Mariana Islands",
          "Norway",
          "Oman",
          "Pakistan",
          "Palau",
          "Panama",
          "Papua New Guinea",
          "Paraguay",
          "Peru",
          "Philippines",
          "Poland",
          "Portugal",
          "Puerto Rico",
          "Qatar",
          "Romania",
          "Russia",
          "Rwanda",
          "Samoa",
          "San Marino",
          "Sao Tome and Principe",
          "Saudi Arabia",
          "Senegal",
          "Serbia",
          "Seychelles",
          "Sierra Leone",
          "Singapore",
          "Sint Maarten (Dutch part)",
          "Slovakia",
          "Slovenia",
          "Solomon Islands",
          "Somalia",
          "South Africa",
          "South Sudan",
          "Spain",
          "Sri Lanka",
          "St. Kitts and Nevis",
          "St. Lucia",
          "St. Martin (French part)",
          "St. Vincent and the Grenadines",
          "Sudan",
          "Suriname",
          "Sweden",
          "Switzerland",
          "Syria",
          "Tajikistan",
          "Tanzania",
          "Thailand",
          "Timor-Leste",
          "Togo",
          "Tonga",
          "Trinidad and Tobago",
          "Tunisia",
          "Turkey",
          "Turkmenistan",
          "Turks and Caicos Islands",
          "Tuvalu",
          "Uganda",
          "Ukraine",
          "United Arab Emirates",
          "United Kingdom",
          "United States",
          "Uruguay",
          "Uzbekistan",
          "Vanuatu",
          "Vietnam",
          "West Bank and Gaza",
          "Yemen",
          "Zambia",
          "Zimbabwe",
          "Congo"
         ],
         "legendgroup": "",
         "marker": {
          "color": [
           3.125883053926702,
           4.485545992750001,
           3.416745662749999,
           4.331240600000001,
           4.883352185267469,
           2.61314469575,
           4.097679931132076,
           3.75650507225,
           4.123025775249999,
           4.705032212564636,
           5.32498466975,
           4.710301160749999,
           4.406499505,
           4.64217950460251,
           4.816789984750001,
           3.38388782725,
           4.660130098970925,
           3.852644652250146,
           5.36690354325,
           4.011239882718121,
           3.302977741,
           4.919909089655173,
           4.3412513735,
           2.943328495,
           3.23686605675,
           3.6361775995,
           3.182566643,
           5.08472697269727,
           4.584998965500001,
           3.773089886,
           3.194289923529412,
           3.3095909355,
           3.922236279598894,
           3.3678638935,
           3.99517446775,
           5.579452038,
           5.017800137112445,
           3.41452525,
           2.61314469575,
           5.216284706919643,
           4.121846437249999,
           4.513828873750001,
           3.800363958,
           3.99615168575,
           4.787541389499999,
           3.937275875307793,
           3.622494161,
           4.03495825,
           4.429337616914498,
           4.1842525005,
           4.48947828975,
           5.44074654575,
           3.551013130916131,
           3.82317068387604,
           3.09706348175,
           3.7505168915,
           2.9052241445,
           2.927667737,
           3.635349051379515,
           4.157164111887255,
           5.2810070515,
           3.09669226425,
           3.548745334249999,
           5.37197506425,
           3.639046438676888,
           5.877574682,
           4.96322739125,
           4.83188291518919,
           3.23953305385006,
           4.03637063525,
           3.5151272415,
           5.28436040875,
           4.018807113,
           4.903761910426541,
           3.778220594,
           5.443477162147888,
           4.333431695512821,
           4.660130098970925,
           3.289593935,
           2.7947496775,
           4.008975845,
           3.853571719433403,
           2.7684766055,
           3.36910063025,
           5.37197506425,
           3.66430544875,
           5.4105769395,
           4.605217695249999,
           4.6026746035,
           3.83756726975,
           3.365787613711912,
           5.26850879225,
           4.914795399006621,
           5.07211995125,
           4.437981963,
           4.37463819975,
           4.76136147975,
           4.31229245675,
           4.113367319,
           4.36485934275,
           3.382990938505747,
           4.5241591335,
           3.937275875307793,
           3.48593091975,
           3.1524888275,
           3.8370832205,
           4.36378258475,
           5.118548751000001,
           3.5835725665,
           2.89157027,
           3.595409990976331,
           5.154452212500001,
           4.4885306955,
           4.68427121625,
           5.131259234978235,
           3.67245489375,
           2.92263948925,
           5.25812911975,
           3.891372191274403,
           3.66399663725,
           5.124402999999999,
           3.66025239225,
           2.3659526705,
           4.3772073985,
           3.51215380425,
           4.05051058525,
           3.76005345575,
           5.052881708839779,
           3.69268512725,
           4.08039987125,
           3.4795261025,
           2.790258944,
           2.557547,
           3.34541547275,
           4.382509232812501,
           3.83100247375,
           5.77895951275,
           4.816789984750001,
           5.5188162325,
           3.03231650575,
           2.6414312625,
           3.16824227575,
           4.05051058525,
           5.001788609523809,
           5.386394262250001,
           3.7034083605,
           3.66025239225,
           4.596497320731707,
           3.680060029,
           3.042499860040984,
           2.7540509105,
           3.27700579175,
           4.3122189045,
           4.217128813,
           4.821053028250001,
           4.333431695512821,
           5.650964141,
           3.7737690805,
           4.3563212755,
           4.394029140500001,
           3.430077232999553,
           5.090531294221309,
           3.382604328111613,
           4.336327791,
           4.09712105975,
           3.99615168575,
           3.995258987,
           2.91684859975,
           6.1019439695,
           4.474316602430556,
           3.798733771,
           4.796257138250001,
           3.037661686079989,
           3.41452525,
           3.4022233485,
           3.43541885,
           4.5152790545,
           4.124032378,
           4.055421307373272,
           3.871580136259542,
           4.553095665481171,
           3.430077232999553,
           3.333133403550296,
           3.464315527678572,
           5.199332714000001,
           6.1326652765,
           3.891372191274403,
           4.13513046525,
           3.15139406925,
           4.05051058525,
           2.573858593814433,
           3.835960849080883,
           3.263894317052602,
           4.468680382000001,
           3.79927766325,
           3.551756382,
           3.786770106599438,
           4.348512731924883,
           3.609029785521235,
           3.343117058,
           4.374483644750001,
           5.4820508955,
           5.2462177275,
           5.697491168999999,
           3.90237712875,
           4.006601396194692,
           2.961133327987024,
           3.68711513275,
           3.723914141025641,
           2.2447446585,
           3.6091204285,
           3.793227315,
           2.527424595346956
          ],
          "coloraxis": "coloraxis",
          "symbol": "circle"
         },
         "mode": "markers",
         "name": "",
         "orientation": "v",
         "showlegend": false,
         "type": "scatter",
         "x": [
          12.93875497497009,
          174.3624355271726,
          180.8800796481706,
          477.6768549135278,
          1847.291650107308,
          108.3405737274328,
          356.9360308001495,
          560.0333544251534,
          98.37191014045034,
          1219.235952755457,
          2794.209327484769,
          2574.313905281408,
          114.8199543176508,
          1227.344974401183,
          659.6456650442196,
          18.02310693151353,
          740.0999649450147,
          288.47854294707,
          2896.361124227531,
          281.8418517716037,
          36.02493668985658,
          1885.37686222103,
          207.8284638569372,
          210.529348287716,
          279.1069298224712,
          719.1800421194224,
          549.5929370302869,
          1864.483293202843,
          1269.820930254735,
          365.9815690694042,
          33.55353336543222,
          14.09284243246113,
          183.8028448747105,
          28.26255785349846,
          40.38663781279865,
          2253.317736663776,
          1901.128507228465,
          5.881989867295277,
          12.63366022998965,
          1880.673993552315,
          805.6092774084815,
          176.349632153754,
          261.8990445329052,
          36.09997983807565,
          823.869759362601,
          71.28904382283682,
          563.4786707675881,
          468.5449206659459,
          1018.133869984454,
          1126.636378157462,
          823.3315497631743,
          4586.499788538234,
          253.3678105903175,
          385.4820978415659,
          193.7002054046905,
          240.9225245149672,
          109.101223320886,
          136.34232664991,
          76.60229240484475,
          80.17465895541348,
          1052.976861517379,
          269.4753441544425,
          23.61398042943789,
          2818.24455331168,
          233.7507541753161,
          2909.82140157325,
          2091.076630270128,
          1168.119212523277,
          227.4844717987047,
          19.13256131770122,
          79.88778929781951,
          2189.605715604408,
          91.63796955105884,
          1940.723779934677,
          605.7847277180538,
          2824.110569179465,
          355.8215590763488,
          1373.759576042225,
          129.7960884232141,
          17.8316117351592,
          9.01616268801646,
          178.4220167469612,
          21.04589907655498,
          146.1063907330496,
          1438.893299198618,
          694.2163415851852,
          5276.752411072292,
          61.02426416607886,
          123.5623249586868,
          208.8174188032245,
          265.7049804644914,
          2582.5422397403,
          2097.329684770525,
          2302.635695036565,
          1379.096379956423,
          284.2490456902557,
          1108.311911034956,
          117.0464351793349,
          245.01651090779,
          82.95852440843298,
          191.4428956164431,
          1556.643895951321,
          259.2398815846097,
          1227.906438815135,
          68.35318613330976,
          63.33905567227081,
          687.0020086938024,
          167.301947043535,
          82.51191773114512,
          21.47099300764312,
          171.2238238304187,
          4423.626551560504,
          694.8796652797726,
          3748.89226536248,
          1940.723779934677,
          10.60735963184964,
          17.19717028484114,
          476.3903031019601,
          412.7267966367723,
          32.97221281739136,
          1356.804834850308,
          314.962542114634,
          46.64983895644915,
          598.6360093391069,
          427.0737330733611,
          864.6788255541549,
          203.3169615038812,
          4021.929462060049,
          160.9056899992543,
          264.3766344889306,
          167.1244032842462,
          26.53944274252154,
          21.93609317536513,
          153.9199832256693,
          549.5929370302869,
          33.94489197510876,
          2454.730260270135,
          1329.892487545512,
          3047.603130228952,
          78.70694162928106,
          14.52268006809275,
          16.44096836709654,
          191.2898879779907,
          1262.550851566636,
          5618.595058673122,
          1002.414327872628,
          29.53029872719616,
          836.6460448429705,
          403.5955652895902,
          188.3464370022555,
          188.5927935373355,
          214.956455076754,
          66.21791366365075,
          659.281514823987,
          1136.818381361084,
          1831.885241952593,
          1479.553645327554,
          341.9940053312191,
          498.2857107794745,
          23.06561496665843,
          171.1103746989721,
          1831.885241952593,
          67.99426038610258,
          1693.483598775347,
          71.22350729670593,
          251.7127195296912,
          708.6267351291034,
          13.47329042381214,
          1651.435336947893,
          1004.947583500554,
          726.1990288092377,
          1165.602694633033,
          239.5750046705552,
          24.94912382478337,
          373.0700456377192,
          103.9525510220477,
          1214.979954652523,
          64.7109335494047,
          608.6060842362409,
          355.1149126994656,
          1671.45939860041,
          377.3695571499065,
          16.91072242655604,
          183.8394479791731,
          3961.486231668641,
          3781.048899997592,
          73.03249149792724,
          36.22049956723336,
          37.23183311729789,
          290.6738025649786,
          55.9584456228861,
          32.68229053941042,
          147.3300708823729,
          477.8095505603878,
          195.9323721027638,
          353.5526296802311,
          154.8180192041501,
          699.0352107620623,
          237.6388075996166,
          12.87812544773116,
          146.9087250419515,
          1972.589123771568,
          2282.764844267613,
          2802.936439030158,
          840.2686754270705,
          147.6348947952431,
          142.8914845475634,
          111.0291120146588,
          145.8179590721662,
          29.65261480735794,
          53.20634607877913,
          30.03688838389197,
          242.066576922375
         ],
         "xaxis": "x",
         "y": [
          3.125883053926702,
          4.485545992750001,
          3.416745662749999,
          4.331240600000001,
          4.883352185267469,
          2.61314469575,
          4.097679931132076,
          3.75650507225,
          4.123025775249999,
          4.705032212564636,
          5.32498466975,
          4.710301160749999,
          4.406499505,
          4.64217950460251,
          4.816789984750001,
          3.38388782725,
          4.660130098970925,
          3.852644652250146,
          5.36690354325,
          4.011239882718121,
          3.302977741,
          4.919909089655173,
          4.3412513735,
          2.943328495,
          3.23686605675,
          3.6361775995,
          3.182566643,
          5.08472697269727,
          4.584998965500001,
          3.773089886,
          3.194289923529412,
          3.3095909355,
          3.922236279598894,
          3.3678638935,
          3.99517446775,
          5.579452038,
          5.017800137112445,
          3.41452525,
          2.61314469575,
          5.216284706919643,
          4.121846437249999,
          4.513828873750001,
          3.800363958,
          3.99615168575,
          4.787541389499999,
          3.937275875307793,
          3.622494161,
          4.03495825,
          4.429337616914498,
          4.1842525005,
          4.48947828975,
          5.44074654575,
          3.551013130916131,
          3.82317068387604,
          3.09706348175,
          3.7505168915,
          2.9052241445,
          2.927667737,
          3.635349051379515,
          4.157164111887255,
          5.2810070515,
          3.09669226425,
          3.548745334249999,
          5.37197506425,
          3.639046438676888,
          5.877574682,
          4.96322739125,
          4.83188291518919,
          3.23953305385006,
          4.03637063525,
          3.5151272415,
          5.28436040875,
          4.018807113,
          4.903761910426541,
          3.778220594,
          5.443477162147888,
          4.333431695512821,
          4.660130098970925,
          3.289593935,
          2.7947496775,
          4.008975845,
          3.853571719433403,
          2.7684766055,
          3.36910063025,
          5.37197506425,
          3.66430544875,
          5.4105769395,
          4.605217695249999,
          4.6026746035,
          3.83756726975,
          3.365787613711912,
          5.26850879225,
          4.914795399006621,
          5.07211995125,
          4.437981963,
          4.37463819975,
          4.76136147975,
          4.31229245675,
          4.113367319,
          4.36485934275,
          3.382990938505747,
          4.5241591335,
          3.937275875307793,
          3.48593091975,
          3.1524888275,
          3.8370832205,
          4.36378258475,
          5.118548751000001,
          3.5835725665,
          2.89157027,
          3.595409990976331,
          5.154452212500001,
          4.4885306955,
          4.68427121625,
          5.131259234978235,
          3.67245489375,
          2.92263948925,
          5.25812911975,
          3.891372191274403,
          3.66399663725,
          5.124402999999999,
          3.66025239225,
          2.3659526705,
          4.3772073985,
          3.51215380425,
          4.05051058525,
          3.76005345575,
          5.052881708839779,
          3.69268512725,
          4.08039987125,
          3.4795261025,
          2.790258944,
          2.557547,
          3.34541547275,
          4.382509232812501,
          3.83100247375,
          5.77895951275,
          4.816789984750001,
          5.5188162325,
          3.03231650575,
          2.6414312625,
          3.16824227575,
          4.05051058525,
          5.001788609523809,
          5.386394262250001,
          3.7034083605,
          3.66025239225,
          4.596497320731707,
          3.680060029,
          3.042499860040984,
          2.7540509105,
          3.27700579175,
          4.3122189045,
          4.217128813,
          4.821053028250001,
          4.333431695512821,
          5.650964141,
          3.7737690805,
          4.3563212755,
          4.394029140500001,
          3.430077232999553,
          5.090531294221309,
          3.382604328111613,
          4.336327791,
          4.09712105975,
          3.99615168575,
          3.995258987,
          2.91684859975,
          6.1019439695,
          4.474316602430556,
          3.798733771,
          4.796257138250001,
          3.037661686079989,
          3.41452525,
          3.4022233485,
          3.43541885,
          4.5152790545,
          4.124032378,
          4.055421307373272,
          3.871580136259542,
          4.553095665481171,
          3.430077232999553,
          3.333133403550296,
          3.464315527678572,
          5.199332714000001,
          6.1326652765,
          3.891372191274403,
          4.13513046525,
          3.15139406925,
          4.05051058525,
          2.573858593814433,
          3.835960849080883,
          3.263894317052602,
          4.468680382000001,
          3.79927766325,
          3.551756382,
          3.786770106599438,
          4.348512731924883,
          3.609029785521235,
          3.343117058,
          4.374483644750001,
          5.4820508955,
          5.2462177275,
          5.697491168999999,
          3.90237712875,
          4.006601396194692,
          2.961133327987024,
          3.68711513275,
          3.723914141025641,
          2.2447446585,
          3.6091204285,
          3.793227315,
          2.527424595346956
         ],
         "yaxis": "y"
        },
        {
         "hovertemplate": "<b>OLS trendline</b><br>edu_quality_index = 0.000564741 * edu_exp_per_capita + 3.62664<br>R<sup>2</sup>=0.540306<br><br>edu_exp_per_capita=%{x}<br>Quality of Education Index=%{y} <b>(trend)</b><extra></extra>",
         "legendgroup": "",
         "line": {
          "color": "Purple"
         },
         "marker": {
          "symbol": "circle"
         },
         "mode": "lines",
         "name": "",
         "showlegend": false,
         "type": "scatter",
         "x": [
          5.881989867295277,
          9.01616268801646,
          10.60735963184964,
          12.63366022998965,
          12.87812544773116,
          12.93875497497009,
          13.47329042381214,
          14.09284243246113,
          14.52268006809275,
          16.44096836709654,
          16.91072242655604,
          17.19717028484114,
          17.8316117351592,
          18.02310693151353,
          19.13256131770122,
          21.04589907655498,
          21.47099300764312,
          21.93609317536513,
          23.06561496665843,
          23.61398042943789,
          24.94912382478337,
          26.53944274252154,
          28.26255785349846,
          29.53029872719616,
          29.65261480735794,
          30.03688838389197,
          32.68229053941042,
          32.97221281739136,
          33.55353336543222,
          33.94489197510876,
          36.02493668985658,
          36.09997983807565,
          36.22049956723336,
          37.23183311729789,
          40.38663781279865,
          46.64983895644915,
          53.20634607877913,
          55.9584456228861,
          61.02426416607886,
          63.33905567227081,
          64.7109335494047,
          66.21791366365075,
          67.99426038610258,
          68.35318613330976,
          71.22350729670593,
          71.28904382283682,
          73.03249149792724,
          76.60229240484475,
          78.70694162928106,
          79.88778929781951,
          80.17465895541348,
          82.51191773114512,
          82.95852440843298,
          91.63796955105884,
          98.37191014045034,
          103.9525510220477,
          108.3405737274328,
          109.101223320886,
          111.0291120146588,
          114.8199543176508,
          117.0464351793349,
          123.5623249586868,
          129.7960884232141,
          136.34232664991,
          142.8914845475634,
          145.8179590721662,
          146.1063907330496,
          146.9087250419515,
          147.3300708823729,
          147.6348947952431,
          153.9199832256693,
          154.8180192041501,
          160.9056899992543,
          167.1244032842462,
          167.301947043535,
          171.1103746989721,
          171.2238238304187,
          174.3624355271726,
          176.349632153754,
          178.4220167469612,
          180.8800796481706,
          183.8028448747105,
          183.8394479791731,
          188.3464370022555,
          188.5927935373355,
          191.2898879779907,
          191.4428956164431,
          193.7002054046905,
          195.9323721027638,
          203.3169615038812,
          207.8284638569372,
          208.8174188032245,
          210.529348287716,
          214.956455076754,
          227.4844717987047,
          233.7507541753161,
          237.6388075996166,
          239.5750046705552,
          240.9225245149672,
          242.066576922375,
          245.01651090779,
          251.7127195296912,
          253.3678105903175,
          259.2398815846097,
          261.8990445329052,
          264.3766344889306,
          265.7049804644914,
          269.4753441544425,
          279.1069298224712,
          281.8418517716037,
          284.2490456902557,
          288.47854294707,
          290.6738025649786,
          314.962542114634,
          341.9940053312191,
          353.5526296802311,
          355.1149126994656,
          355.8215590763488,
          356.9360308001495,
          365.9815690694042,
          373.0700456377192,
          377.3695571499065,
          385.4820978415659,
          403.5955652895902,
          412.7267966367723,
          427.0737330733611,
          468.5449206659459,
          476.3903031019601,
          477.6768549135278,
          477.8095505603878,
          498.2857107794745,
          549.5929370302869,
          549.5929370302869,
          560.0333544251534,
          563.4786707675881,
          598.6360093391069,
          605.7847277180538,
          608.6060842362409,
          659.281514823987,
          659.6456650442196,
          687.0020086938024,
          694.2163415851852,
          694.8796652797726,
          699.0352107620623,
          708.6267351291034,
          719.1800421194224,
          726.1990288092377,
          740.0999649450147,
          805.6092774084815,
          823.3315497631743,
          823.869759362601,
          836.6460448429705,
          840.2686754270705,
          864.6788255541549,
          1002.414327872628,
          1004.947583500554,
          1018.133869984454,
          1052.976861517379,
          1108.311911034956,
          1126.636378157462,
          1136.818381361084,
          1165.602694633033,
          1168.119212523277,
          1214.979954652523,
          1219.235952755457,
          1227.344974401183,
          1227.906438815135,
          1262.550851566636,
          1269.820930254735,
          1329.892487545512,
          1356.804834850308,
          1373.759576042225,
          1379.096379956423,
          1438.893299198618,
          1479.553645327554,
          1556.643895951321,
          1651.435336947893,
          1671.45939860041,
          1693.483598775347,
          1831.885241952593,
          1831.885241952593,
          1847.291650107308,
          1864.483293202843,
          1880.673993552315,
          1885.37686222103,
          1901.128507228465,
          1940.723779934677,
          1940.723779934677,
          1972.589123771568,
          2091.076630270128,
          2097.329684770525,
          2189.605715604408,
          2253.317736663776,
          2282.764844267613,
          2302.635695036565,
          2454.730260270135,
          2574.313905281408,
          2582.5422397403,
          2794.209327484769,
          2802.936439030158,
          2818.24455331168,
          2824.110569179465,
          2896.361124227531,
          2909.82140157325,
          3047.603130228952,
          3748.89226536248,
          3781.048899997592,
          3961.486231668641,
          4021.929462060049,
          4423.626551560504,
          4586.499788538234,
          5276.752411072292,
          5618.595058673122
         ],
         "xaxis": "x",
         "y": [
          3.6299585358506152,
          3.6317285321333945,
          3.632627146484567,
          3.6337714817626954,
          3.6339095413246345,
          3.6339437813120186,
          3.634245655462419,
          3.634595541960396,
          3.634838288950044,
          3.6359216252409112,
          3.636186914676633,
          3.6363486835621974,
          3.636706978740204,
          3.636815123952707,
          3.637441678470213,
          3.638522218987469,
          3.6387622870120793,
          3.6390249482037484,
          3.639662835610177,
          3.639972520138199,
          3.6407265305204963,
          3.641624649014225,
          3.6425977629794364,
          3.6433137083858727,
          3.643382785306513,
          3.643599800398195,
          3.6450937677859434,
          3.6452574988191935,
          3.64558579443912,
          3.645806810740385,
          3.6469814975313555,
          3.6470238774832575,
          3.647091939930612,
          3.6476630815768005,
          3.649444729527741,
          3.6529818167838326,
          3.6566845459881114,
          3.65823876977906,
          3.6610996458390543,
          3.6624069037969695,
          3.663181659651816,
          3.664032713295956,
          3.665035889341284,
          3.6652385894713313,
          3.6668595778724833,
          3.6668965890439384,
          3.6678811856442692,
          3.6698971990222593,
          3.671085780991696,
          3.6717526542317493,
          3.6719146613247298,
          3.673234607473707,
          3.6734868246307943,
          3.678388464239647,
          3.682191397419617,
          3.685343014825859,
          3.687821111702309,
          3.688250681808976,
          3.689339439837579,
          3.6914802843821235,
          3.6927376696873644,
          3.6964174606077007,
          3.699937923195785,
          3.7036348531323973,
          3.707333431927269,
          3.7089861324407667,
          3.709149021661241,
          3.70960213284098,
          3.709840084164653,
          3.7100122307639456,
          3.7135616786709806,
          3.714068836519203,
          3.7175067945688935,
          3.721018757701665,
          3.7211190239639125,
          3.7232697996801694,
          3.7233338690702222,
          3.7251063721688435,
          3.726228623826106,
          3.7273989846314244,
          3.7287871538380535,
          3.7304377595583924,
          3.7304584308367623,
          3.7330037128852323,
          3.733142840551852,
          3.73466600069883,
          3.734752410404609,
          3.736027206072501,
          3.7372878024033773,
          3.7414581837248586,
          3.7440060146363727,
          3.7445645181647014,
          3.7455313151466347,
          3.7480314844124325,
          3.755106570662255,
          3.7586453980173133,
          3.7608411416798075,
          3.7619345917906735,
          3.762695591662733,
          3.7633416851056434,
          3.7650076341414174,
          3.768789258527642,
          3.7697239565141736,
          3.7730401564899374,
          3.7745418951632708,
          3.7759410921007928,
          3.7766912637005983,
          3.7788205431301876,
          3.7842598956499254,
          3.7858044185465736,
          3.7871638599467974,
          3.7895524309831785,
          3.790792184368105,
          3.804509034451183,
          3.81977481338179,
          3.8263024438929527,
          3.827184729361837,
          3.827583801631258,
          3.8282131896456484,
          3.8333215770984617,
          3.8373247313258028,
          3.839752842291486,
          3.844334327643283,
          3.854563747616325,
          3.859720529474319,
          3.867822834488946,
          3.8912433195994116,
          3.895673929697528,
          3.8964004984141676,
          3.8964754371029757,
          3.9080391668481154,
          3.937014467489887,
          3.937014467489887,
          3.9429106005484744,
          3.9448563123735503,
          3.9647111072886854,
          3.9687482825438973,
          3.970341618596259,
          3.998960118244891,
          3.9991657688497093,
          4.014615021121337,
          4.018689251590078,
          4.019063857759188,
          4.021410665187274,
          4.026827393442848,
          4.032787279898502,
          4.036751190333725,
          4.044601620636998,
          4.081597423415064,
          4.091605919431246,
          4.09190986852558,
          4.09912516235318,
          4.101171010822463,
          4.11495642645155,
          4.192741328898113,
          4.194171962529773,
          4.201618800785106,
          4.22129607100022,
          4.252546049082473,
          4.262894629248926,
          4.268644825186594,
          4.284900510628339,
          4.286321691771201,
          4.312785879970615,
          4.315189417124632,
          4.319768915126471,
          4.3200859971709065,
          4.339651121781721,
          4.343756834194378,
          4.37768171300211,
          4.3928802222787615,
          4.4024552618830795,
          4.4054691745261865,
          4.439238953933564,
          4.462201523524154,
          4.505737558340259,
          4.559270183310391,
          4.570578594402715,
          4.583016565973108,
          4.661177665557251,
          4.661177665557251,
          4.669878297821223,
          4.679587125672958,
          4.68873067999284,
          4.691386583332628,
          4.7002821850449825,
          4.722643263873275,
          4.722643263873275,
          4.740638933980518,
          4.807553701625657,
          4.811085058655029,
          4.8631971280616035,
          4.899177926471278,
          4.915807919129247,
          4.92702980573492,
          5.012923861517217,
          5.080457663658502,
          5.085104542512603,
          5.204641651639938,
          5.209570210426683,
          5.218215332098188,
          5.221528112494999,
          5.26233097219002,
          5.269932544352726,
          5.347743552712952,
          5.743790367404679,
          5.761950541404832,
          5.863850922973109,
          5.897985700865593,
          6.124840566850792,
          6.216821781833224,
          6.606635823990278,
          6.799688425157865
         ],
         "yaxis": "y"
        }
       ],
       "layout": {
        "coloraxis": {
         "colorbar": {
          "title": {
           "text": "Quality of Education Index"
          }
         },
         "colorscale": [
          [
           0,
           "rgb(209, 238, 234)"
          ],
          [
           0.16666666666666666,
           "rgb(168, 219, 217)"
          ],
          [
           0.3333333333333333,
           "rgb(133, 196, 201)"
          ],
          [
           0.5,
           "rgb(104, 171, 184)"
          ],
          [
           0.6666666666666666,
           "rgb(79, 144, 166)"
          ],
          [
           0.8333333333333334,
           "rgb(59, 115, 143)"
          ],
          [
           1,
           "rgb(42, 86, 116)"
          ]
         ]
        },
        "legend": {
         "tracegroupgap": 0
        },
        "margin": {
         "t": 60
        },
        "template": {
         "data": {
          "bar": [
           {
            "error_x": {
             "color": "#2a3f5f"
            },
            "error_y": {
             "color": "#2a3f5f"
            },
            "marker": {
             "line": {
              "color": "#E5ECF6",
              "width": 0.5
             },
             "pattern": {
              "fillmode": "overlay",
              "size": 10,
              "solidity": 0.2
             }
            },
            "type": "bar"
           }
          ],
          "barpolar": [
           {
            "marker": {
             "line": {
              "color": "#E5ECF6",
              "width": 0.5
             },
             "pattern": {
              "fillmode": "overlay",
              "size": 10,
              "solidity": 0.2
             }
            },
            "type": "barpolar"
           }
          ],
          "carpet": [
           {
            "aaxis": {
             "endlinecolor": "#2a3f5f",
             "gridcolor": "white",
             "linecolor": "white",
             "minorgridcolor": "white",
             "startlinecolor": "#2a3f5f"
            },
            "baxis": {
             "endlinecolor": "#2a3f5f",
             "gridcolor": "white",
             "linecolor": "white",
             "minorgridcolor": "white",
             "startlinecolor": "#2a3f5f"
            },
            "type": "carpet"
           }
          ],
          "choropleth": [
           {
            "colorbar": {
             "outlinewidth": 0,
             "ticks": ""
            },
            "type": "choropleth"
           }
          ],
          "contour": [
           {
            "colorbar": {
             "outlinewidth": 0,
             "ticks": ""
            },
            "colorscale": [
             [
              0,
              "#0d0887"
             ],
             [
              0.1111111111111111,
              "#46039f"
             ],
             [
              0.2222222222222222,
              "#7201a8"
             ],
             [
              0.3333333333333333,
              "#9c179e"
             ],
             [
              0.4444444444444444,
              "#bd3786"
             ],
             [
              0.5555555555555556,
              "#d8576b"
             ],
             [
              0.6666666666666666,
              "#ed7953"
             ],
             [
              0.7777777777777778,
              "#fb9f3a"
             ],
             [
              0.8888888888888888,
              "#fdca26"
             ],
             [
              1,
              "#f0f921"
             ]
            ],
            "type": "contour"
           }
          ],
          "contourcarpet": [
           {
            "colorbar": {
             "outlinewidth": 0,
             "ticks": ""
            },
            "type": "contourcarpet"
           }
          ],
          "heatmap": [
           {
            "colorbar": {
             "outlinewidth": 0,
             "ticks": ""
            },
            "colorscale": [
             [
              0,
              "#0d0887"
             ],
             [
              0.1111111111111111,
              "#46039f"
             ],
             [
              0.2222222222222222,
              "#7201a8"
             ],
             [
              0.3333333333333333,
              "#9c179e"
             ],
             [
              0.4444444444444444,
              "#bd3786"
             ],
             [
              0.5555555555555556,
              "#d8576b"
             ],
             [
              0.6666666666666666,
              "#ed7953"
             ],
             [
              0.7777777777777778,
              "#fb9f3a"
             ],
             [
              0.8888888888888888,
              "#fdca26"
             ],
             [
              1,
              "#f0f921"
             ]
            ],
            "type": "heatmap"
           }
          ],
          "heatmapgl": [
           {
            "colorbar": {
             "outlinewidth": 0,
             "ticks": ""
            },
            "colorscale": [
             [
              0,
              "#0d0887"
             ],
             [
              0.1111111111111111,
              "#46039f"
             ],
             [
              0.2222222222222222,
              "#7201a8"
             ],
             [
              0.3333333333333333,
              "#9c179e"
             ],
             [
              0.4444444444444444,
              "#bd3786"
             ],
             [
              0.5555555555555556,
              "#d8576b"
             ],
             [
              0.6666666666666666,
              "#ed7953"
             ],
             [
              0.7777777777777778,
              "#fb9f3a"
             ],
             [
              0.8888888888888888,
              "#fdca26"
             ],
             [
              1,
              "#f0f921"
             ]
            ],
            "type": "heatmapgl"
           }
          ],
          "histogram": [
           {
            "marker": {
             "pattern": {
              "fillmode": "overlay",
              "size": 10,
              "solidity": 0.2
             }
            },
            "type": "histogram"
           }
          ],
          "histogram2d": [
           {
            "colorbar": {
             "outlinewidth": 0,
             "ticks": ""
            },
            "colorscale": [
             [
              0,
              "#0d0887"
             ],
             [
              0.1111111111111111,
              "#46039f"
             ],
             [
              0.2222222222222222,
              "#7201a8"
             ],
             [
              0.3333333333333333,
              "#9c179e"
             ],
             [
              0.4444444444444444,
              "#bd3786"
             ],
             [
              0.5555555555555556,
              "#d8576b"
             ],
             [
              0.6666666666666666,
              "#ed7953"
             ],
             [
              0.7777777777777778,
              "#fb9f3a"
             ],
             [
              0.8888888888888888,
              "#fdca26"
             ],
             [
              1,
              "#f0f921"
             ]
            ],
            "type": "histogram2d"
           }
          ],
          "histogram2dcontour": [
           {
            "colorbar": {
             "outlinewidth": 0,
             "ticks": ""
            },
            "colorscale": [
             [
              0,
              "#0d0887"
             ],
             [
              0.1111111111111111,
              "#46039f"
             ],
             [
              0.2222222222222222,
              "#7201a8"
             ],
             [
              0.3333333333333333,
              "#9c179e"
             ],
             [
              0.4444444444444444,
              "#bd3786"
             ],
             [
              0.5555555555555556,
              "#d8576b"
             ],
             [
              0.6666666666666666,
              "#ed7953"
             ],
             [
              0.7777777777777778,
              "#fb9f3a"
             ],
             [
              0.8888888888888888,
              "#fdca26"
             ],
             [
              1,
              "#f0f921"
             ]
            ],
            "type": "histogram2dcontour"
           }
          ],
          "mesh3d": [
           {
            "colorbar": {
             "outlinewidth": 0,
             "ticks": ""
            },
            "type": "mesh3d"
           }
          ],
          "parcoords": [
           {
            "line": {
             "colorbar": {
              "outlinewidth": 0,
              "ticks": ""
             }
            },
            "type": "parcoords"
           }
          ],
          "pie": [
           {
            "automargin": true,
            "type": "pie"
           }
          ],
          "scatter": [
           {
            "marker": {
             "colorbar": {
              "outlinewidth": 0,
              "ticks": ""
             }
            },
            "type": "scatter"
           }
          ],
          "scatter3d": [
           {
            "line": {
             "colorbar": {
              "outlinewidth": 0,
              "ticks": ""
             }
            },
            "marker": {
             "colorbar": {
              "outlinewidth": 0,
              "ticks": ""
             }
            },
            "type": "scatter3d"
           }
          ],
          "scattercarpet": [
           {
            "marker": {
             "colorbar": {
              "outlinewidth": 0,
              "ticks": ""
             }
            },
            "type": "scattercarpet"
           }
          ],
          "scattergeo": [
           {
            "marker": {
             "colorbar": {
              "outlinewidth": 0,
              "ticks": ""
             }
            },
            "type": "scattergeo"
           }
          ],
          "scattergl": [
           {
            "marker": {
             "colorbar": {
              "outlinewidth": 0,
              "ticks": ""
             }
            },
            "type": "scattergl"
           }
          ],
          "scattermapbox": [
           {
            "marker": {
             "colorbar": {
              "outlinewidth": 0,
              "ticks": ""
             }
            },
            "type": "scattermapbox"
           }
          ],
          "scatterpolar": [
           {
            "marker": {
             "colorbar": {
              "outlinewidth": 0,
              "ticks": ""
             }
            },
            "type": "scatterpolar"
           }
          ],
          "scatterpolargl": [
           {
            "marker": {
             "colorbar": {
              "outlinewidth": 0,
              "ticks": ""
             }
            },
            "type": "scatterpolargl"
           }
          ],
          "scatterternary": [
           {
            "marker": {
             "colorbar": {
              "outlinewidth": 0,
              "ticks": ""
             }
            },
            "type": "scatterternary"
           }
          ],
          "surface": [
           {
            "colorbar": {
             "outlinewidth": 0,
             "ticks": ""
            },
            "colorscale": [
             [
              0,
              "#0d0887"
             ],
             [
              0.1111111111111111,
              "#46039f"
             ],
             [
              0.2222222222222222,
              "#7201a8"
             ],
             [
              0.3333333333333333,
              "#9c179e"
             ],
             [
              0.4444444444444444,
              "#bd3786"
             ],
             [
              0.5555555555555556,
              "#d8576b"
             ],
             [
              0.6666666666666666,
              "#ed7953"
             ],
             [
              0.7777777777777778,
              "#fb9f3a"
             ],
             [
              0.8888888888888888,
              "#fdca26"
             ],
             [
              1,
              "#f0f921"
             ]
            ],
            "type": "surface"
           }
          ],
          "table": [
           {
            "cells": {
             "fill": {
              "color": "#EBF0F8"
             },
             "line": {
              "color": "white"
             }
            },
            "header": {
             "fill": {
              "color": "#C8D4E3"
             },
             "line": {
              "color": "white"
             }
            },
            "type": "table"
           }
          ]
         },
         "layout": {
          "annotationdefaults": {
           "arrowcolor": "#2a3f5f",
           "arrowhead": 0,
           "arrowwidth": 1
          },
          "autotypenumbers": "strict",
          "coloraxis": {
           "colorbar": {
            "outlinewidth": 0,
            "ticks": ""
           }
          },
          "colorscale": {
           "diverging": [
            [
             0,
             "#8e0152"
            ],
            [
             0.1,
             "#c51b7d"
            ],
            [
             0.2,
             "#de77ae"
            ],
            [
             0.3,
             "#f1b6da"
            ],
            [
             0.4,
             "#fde0ef"
            ],
            [
             0.5,
             "#f7f7f7"
            ],
            [
             0.6,
             "#e6f5d0"
            ],
            [
             0.7,
             "#b8e186"
            ],
            [
             0.8,
             "#7fbc41"
            ],
            [
             0.9,
             "#4d9221"
            ],
            [
             1,
             "#276419"
            ]
           ],
           "sequential": [
            [
             0,
             "#0d0887"
            ],
            [
             0.1111111111111111,
             "#46039f"
            ],
            [
             0.2222222222222222,
             "#7201a8"
            ],
            [
             0.3333333333333333,
             "#9c179e"
            ],
            [
             0.4444444444444444,
             "#bd3786"
            ],
            [
             0.5555555555555556,
             "#d8576b"
            ],
            [
             0.6666666666666666,
             "#ed7953"
            ],
            [
             0.7777777777777778,
             "#fb9f3a"
            ],
            [
             0.8888888888888888,
             "#fdca26"
            ],
            [
             1,
             "#f0f921"
            ]
           ],
           "sequentialminus": [
            [
             0,
             "#0d0887"
            ],
            [
             0.1111111111111111,
             "#46039f"
            ],
            [
             0.2222222222222222,
             "#7201a8"
            ],
            [
             0.3333333333333333,
             "#9c179e"
            ],
            [
             0.4444444444444444,
             "#bd3786"
            ],
            [
             0.5555555555555556,
             "#d8576b"
            ],
            [
             0.6666666666666666,
             "#ed7953"
            ],
            [
             0.7777777777777778,
             "#fb9f3a"
            ],
            [
             0.8888888888888888,
             "#fdca26"
            ],
            [
             1,
             "#f0f921"
            ]
           ]
          },
          "colorway": [
           "#636efa",
           "#EF553B",
           "#00cc96",
           "#ab63fa",
           "#FFA15A",
           "#19d3f3",
           "#FF6692",
           "#B6E880",
           "#FF97FF",
           "#FECB52"
          ],
          "font": {
           "color": "#2a3f5f"
          },
          "geo": {
           "bgcolor": "white",
           "lakecolor": "white",
           "landcolor": "#E5ECF6",
           "showlakes": true,
           "showland": true,
           "subunitcolor": "white"
          },
          "hoverlabel": {
           "align": "left"
          },
          "hovermode": "closest",
          "mapbox": {
           "style": "light"
          },
          "paper_bgcolor": "white",
          "plot_bgcolor": "#E5ECF6",
          "polar": {
           "angularaxis": {
            "gridcolor": "white",
            "linecolor": "white",
            "ticks": ""
           },
           "bgcolor": "#E5ECF6",
           "radialaxis": {
            "gridcolor": "white",
            "linecolor": "white",
            "ticks": ""
           }
          },
          "scene": {
           "xaxis": {
            "backgroundcolor": "#E5ECF6",
            "gridcolor": "white",
            "gridwidth": 2,
            "linecolor": "white",
            "showbackground": true,
            "ticks": "",
            "zerolinecolor": "white"
           },
           "yaxis": {
            "backgroundcolor": "#E5ECF6",
            "gridcolor": "white",
            "gridwidth": 2,
            "linecolor": "white",
            "showbackground": true,
            "ticks": "",
            "zerolinecolor": "white"
           },
           "zaxis": {
            "backgroundcolor": "#E5ECF6",
            "gridcolor": "white",
            "gridwidth": 2,
            "linecolor": "white",
            "showbackground": true,
            "ticks": "",
            "zerolinecolor": "white"
           }
          },
          "shapedefaults": {
           "line": {
            "color": "#2a3f5f"
           }
          },
          "ternary": {
           "aaxis": {
            "gridcolor": "white",
            "linecolor": "white",
            "ticks": ""
           },
           "baxis": {
            "gridcolor": "white",
            "linecolor": "white",
            "ticks": ""
           },
           "bgcolor": "#E5ECF6",
           "caxis": {
            "gridcolor": "white",
            "linecolor": "white",
            "ticks": ""
           }
          },
          "title": {
           "x": 0.05
          },
          "xaxis": {
           "automargin": true,
           "gridcolor": "white",
           "linecolor": "white",
           "ticks": "",
           "title": {
            "standoff": 15
           },
           "zerolinecolor": "white",
           "zerolinewidth": 2
          },
          "yaxis": {
           "automargin": true,
           "gridcolor": "white",
           "linecolor": "white",
           "ticks": "",
           "title": {
            "standoff": 15
           },
           "zerolinecolor": "white",
           "zerolinewidth": 2
          }
         }
        },
        "title": {
         "text": "Education Exp. ($ per Capita) and Education Quality in 2018",
         "x": 0.5,
         "xanchor": "center"
        },
        "xaxis": {
         "anchor": "y",
         "domain": [
          0,
          1
         ],
         "title": {
          "text": "$ per Capita"
         }
        },
        "yaxis": {
         "anchor": "x",
         "domain": [
          0,
          1
         ],
         "title": {
          "text": "Education Quality Index"
         }
        }
       }
      }
     },
     "metadata": {},
     "output_type": "display_data"
    }
   ],
   "source": [
    "fig = px.scatter(data_frame=df_indicators_2018_imputed,x='edu_exp_per_capita',y='edu_quality_index',hover_name='country',color='edu_quality_index', trendline='ols', labels={'edu_quality_index':'Quality of Education Index'},\n",
    "                 color_continuous_scale=px.colors.sequential.Teal, trendline_color_override='Purple')\n",
    "\n",
    "#Setting the labels of the plot\n",
    "fig.update_layout(\n",
    "    title={\n",
    "        'text': \"Education Exp. ($ per Capita) and Education Quality in 2018\",\n",
    "        'x':0.5,\n",
    "        'xanchor': 'center'},\n",
    "    xaxis_title=\"$ per Capita\",\n",
    "    yaxis_title=\"Education Quality Index\"\n",
    ")\n",
    "\n",
    "fig.show()"
   ]
  },
  {
   "cell_type": "code",
   "execution_count": 20,
   "metadata": {},
   "outputs": [
    {
     "data": {
      "application/vnd.plotly.v1+json": {
       "config": {
        "plotlyServerURL": "https://plot.ly"
       },
       "data": [
        {
         "hovertemplate": "<b>%{hovertext}</b><br><br>gdppc=%{x}<br>edu_quality_index=%{marker.color}<extra></extra>",
         "hovertext": [
          "Afghanistan",
          "Albania",
          "Algeria",
          "American Samoa",
          "Andorra",
          "Angola",
          "Antigua and Barbuda",
          "Argentina",
          "Armenia",
          "Aruba",
          "Australia",
          "Austria",
          "Azerbaijan",
          "Bahamas",
          "Bahrain",
          "Bangladesh",
          "Barbados",
          "Belarus",
          "Belgium",
          "Belize",
          "Benin",
          "Bermuda",
          "Bhutan",
          "Bolivia",
          "Bosnia and Herzegovina",
          "Botswana",
          "Brazil",
          "British Virgin Islands",
          "Brunei",
          "Bulgaria",
          "Burkina Faso",
          "Burundi",
          "Cabo Verde",
          "Cambodia",
          "Cameroon",
          "Canada",
          "Cayman Islands",
          "Central African Republic",
          "Chad",
          "Channel Islands",
          "Chile",
          "China",
          "Colombia",
          "Comoros",
          "Costa Rica",
          "Cote d'Ivoire",
          "Croatia",
          "Cuba",
          "Curacao",
          "Cyprus",
          "Czech",
          "Denmark",
          "Djibouti",
          "Dominica",
          "Dominican Republic",
          "Ecuador",
          "Egypt",
          "El Salvador",
          "Equatorial Guinea",
          "Eritrea",
          "Estonia",
          "Eswatini",
          "Ethiopia",
          "Faroe Islands",
          "Fiji",
          "Finland",
          "France",
          "French Polynesia",
          "Gabon",
          "Gambia",
          "Georgia",
          "Germany",
          "Ghana",
          "Gibraltar",
          "Greece",
          "Greenland",
          "Grenada",
          "Guam",
          "Guatemala",
          "Guinea",
          "Guinea-Bissau",
          "Guyana",
          "Haiti",
          "Honduras",
          "Hong Kong",
          "Hungary",
          "Iceland",
          "India",
          "Indonesia",
          "Iran",
          "Iraq",
          "Ireland",
          "Isle of Man",
          "Israel",
          "Italy",
          "Jamaica",
          "Japan",
          "Jordan",
          "Kazakhstan",
          "Kenya",
          "Kiribati",
          "Korea, Rep.",
          "Kosovo",
          "Kuwait",
          "Kyrgyzstan",
          "Lao PDR",
          "Latvia",
          "Lebanon",
          "Lesotho",
          "Liberia",
          "Libya",
          "Liechtenstein",
          "Lithuania",
          "Luxembourg",
          "Macao SAR, China",
          "Madagascar",
          "Malawi",
          "Malaysia",
          "Maldives",
          "Mali",
          "Malta",
          "Marshall Islands",
          "Mauritania",
          "Mauritius",
          "Mexico",
          "Micronesia",
          "Moldova",
          "Monaco",
          "Mongolia",
          "Montenegro",
          "Morocco",
          "Mozambique",
          "Myanmar",
          "Namibia",
          "Nauru",
          "Nepal",
          "Netherlands",
          "New Caledonia",
          "New Zealand",
          "Nicaragua",
          "Niger",
          "Nigeria",
          "North Macedonia",
          "Northern Mariana Islands",
          "Norway",
          "Oman",
          "Pakistan",
          "Palau",
          "Panama",
          "Papua New Guinea",
          "Paraguay",
          "Peru",
          "Philippines",
          "Poland",
          "Portugal",
          "Puerto Rico",
          "Qatar",
          "Romania",
          "Russia",
          "Rwanda",
          "Samoa",
          "San Marino",
          "Sao Tome and Principe",
          "Saudi Arabia",
          "Senegal",
          "Serbia",
          "Seychelles",
          "Sierra Leone",
          "Singapore",
          "Sint Maarten (Dutch part)",
          "Slovakia",
          "Slovenia",
          "Solomon Islands",
          "Somalia",
          "South Africa",
          "South Sudan",
          "Spain",
          "Sri Lanka",
          "St. Kitts and Nevis",
          "St. Lucia",
          "St. Martin (French part)",
          "St. Vincent and the Grenadines",
          "Sudan",
          "Suriname",
          "Sweden",
          "Switzerland",
          "Syria",
          "Tajikistan",
          "Tanzania",
          "Thailand",
          "Timor-Leste",
          "Togo",
          "Tonga",
          "Trinidad and Tobago",
          "Tunisia",
          "Turkey",
          "Turkmenistan",
          "Turks and Caicos Islands",
          "Tuvalu",
          "Uganda",
          "Ukraine",
          "United Arab Emirates",
          "United Kingdom",
          "United States",
          "Uruguay",
          "Uzbekistan",
          "Vanuatu",
          "Vietnam",
          "West Bank and Gaza",
          "Yemen",
          "Zambia",
          "Zimbabwe",
          "Congo"
         ],
         "legendgroup": "",
         "marker": {
          "color": [
           3.125883053926702,
           4.485545992750001,
           3.416745662749999,
           4.331240600000001,
           4.883352185267469,
           2.61314469575,
           4.097679931132076,
           3.75650507225,
           4.123025775249999,
           4.705032212564636,
           5.32498466975,
           4.710301160749999,
           4.406499505,
           4.64217950460251,
           4.816789984750001,
           3.38388782725,
           4.660130098970925,
           3.852644652250146,
           5.36690354325,
           4.011239882718121,
           3.302977741,
           4.919909089655173,
           4.3412513735,
           2.943328495,
           3.23686605675,
           3.6361775995,
           3.182566643,
           5.08472697269727,
           4.584998965500001,
           3.773089886,
           3.194289923529412,
           3.3095909355,
           3.922236279598894,
           3.3678638935,
           3.99517446775,
           5.579452038,
           5.017800137112445,
           3.41452525,
           2.61314469575,
           5.216284706919643,
           4.121846437249999,
           4.513828873750001,
           3.800363958,
           3.99615168575,
           4.787541389499999,
           3.937275875307793,
           3.622494161,
           4.03495825,
           4.429337616914498,
           4.1842525005,
           4.48947828975,
           5.44074654575,
           3.551013130916131,
           3.82317068387604,
           3.09706348175,
           3.7505168915,
           2.9052241445,
           2.927667737,
           3.635349051379515,
           4.157164111887255,
           5.2810070515,
           3.09669226425,
           3.548745334249999,
           5.37197506425,
           3.639046438676888,
           5.877574682,
           4.96322739125,
           4.83188291518919,
           3.23953305385006,
           4.03637063525,
           3.5151272415,
           5.28436040875,
           4.018807113,
           4.903761910426541,
           3.778220594,
           5.443477162147888,
           4.333431695512821,
           4.660130098970925,
           3.289593935,
           2.7947496775,
           4.008975845,
           3.853571719433403,
           2.7684766055,
           3.36910063025,
           5.37197506425,
           3.66430544875,
           5.4105769395,
           4.605217695249999,
           4.6026746035,
           3.83756726975,
           3.365787613711912,
           5.26850879225,
           4.914795399006621,
           5.07211995125,
           4.437981963,
           4.37463819975,
           4.76136147975,
           4.31229245675,
           4.113367319,
           4.36485934275,
           3.382990938505747,
           4.5241591335,
           3.937275875307793,
           3.48593091975,
           3.1524888275,
           3.8370832205,
           4.36378258475,
           5.118548751000001,
           3.5835725665,
           2.89157027,
           3.595409990976331,
           5.154452212500001,
           4.4885306955,
           4.68427121625,
           5.131259234978235,
           3.67245489375,
           2.92263948925,
           5.25812911975,
           3.891372191274403,
           3.66399663725,
           5.124402999999999,
           3.66025239225,
           2.3659526705,
           4.3772073985,
           3.51215380425,
           4.05051058525,
           3.76005345575,
           5.052881708839779,
           3.69268512725,
           4.08039987125,
           3.4795261025,
           2.790258944,
           2.557547,
           3.34541547275,
           4.382509232812501,
           3.83100247375,
           5.77895951275,
           4.816789984750001,
           5.5188162325,
           3.03231650575,
           2.6414312625,
           3.16824227575,
           4.05051058525,
           5.001788609523809,
           5.386394262250001,
           3.7034083605,
           3.66025239225,
           4.596497320731707,
           3.680060029,
           3.042499860040984,
           2.7540509105,
           3.27700579175,
           4.3122189045,
           4.217128813,
           4.821053028250001,
           4.333431695512821,
           5.650964141,
           3.7737690805,
           4.3563212755,
           4.394029140500001,
           3.430077232999553,
           5.090531294221309,
           3.382604328111613,
           4.336327791,
           4.09712105975,
           3.99615168575,
           3.995258987,
           2.91684859975,
           6.1019439695,
           4.474316602430556,
           3.798733771,
           4.796257138250001,
           3.037661686079989,
           3.41452525,
           3.4022233485,
           3.43541885,
           4.5152790545,
           4.124032378,
           4.055421307373272,
           3.871580136259542,
           4.553095665481171,
           3.430077232999553,
           3.333133403550296,
           3.464315527678572,
           5.199332714000001,
           6.1326652765,
           3.891372191274403,
           4.13513046525,
           3.15139406925,
           4.05051058525,
           2.573858593814433,
           3.835960849080883,
           3.263894317052602,
           4.468680382000001,
           3.79927766325,
           3.551756382,
           3.786770106599438,
           4.348512731924883,
           3.609029785521235,
           3.343117058,
           4.374483644750001,
           5.4820508955,
           5.2462177275,
           5.697491168999999,
           3.90237712875,
           4.006601396194692,
           2.961133327987024,
           3.68711513275,
           3.723914141025641,
           2.2447446585,
           3.6091204285,
           3.793227315,
           2.527424595346956
          ],
          "coloraxis": "coloraxis",
          "symbol": "circle"
         },
         "mode": "markers",
         "name": "",
         "orientation": "v",
         "showlegend": false,
         "type": "scatter",
         "x": [
          485.6684187298079,
          5287.663694469134,
          4142.018558429166,
          11521.6097798453,
          41791.96983724111,
          3289.643994766784,
          16679.5916624545,
          11795.15938662869,
          4220.540320791452,
          30253.27935801951,
          57180.77940016135,
          51461.43321500823,
          4739.841710283928,
          33290.02813541302,
          24085.95598809604,
          1698.132080787118,
          17745.2553725928,
          6360.062473012837,
          47519.55309689431,
          5001.422156634331,
          1241.825298009576,
          113023.1855942678,
          3243.477437487184,
          3548.590780213766,
          6070.349081292916,
          7503.878588364595,
          9151.381731615356,
          46946.96027199543,
          31628.47625660086,
          9446.700771855185,
          804.5005378215156,
          238.7834670201728,
          3616.464537497126,
          1512.126988893842,
          1585.24053445546,
          46548.52036008093,
          86059.73921684535,
          475.9538138648127,
          726.1510070885486,
          42976.64958825841,
          15888.14435539699,
          9905.342003892534,
          6729.583331981685,
          1428.290463243223,
          12485.42389616804,
          2314.05095836881,
          15227.56009680961,
          8824.194008438417,
          19630.89348730191,
          29334.1109348657,
          23419.73561365016,
          61591.92886989581,
          3141.861710590019,
          7687.462963480052,
          8050.644076234162,
          6295.934661639924,
          2537.125185047117,
          4052.624775337422,
          10005.61679172682,
          3171.69919227376,
          23052.30125595861,
          4105.893682789394,
          771.5248663494308,
          62918.14619361205,
          6317.413720151232,
          49964.49990984263,
          41572.48500996291,
          24712.49326289065,
          7959.007267363763,
          732.720727318856,
          4722.787783217665,
          47950.1808142041,
          2260.860567293368,
          61126.94319639789,
          19747.34258379349,
          54270.82230552382,
          10466.88221119575,
          36556.67491102129,
          4478.424645509439,
          955.1112811367115,
          802.7673851161555,
          6145.819276643771,
          1479.345826888498,
          2492.868967691357,
          48542.68186991609,
          16427.37276114784,
          74469.80405915591,
          1996.915087397891,
          3893.85957814877,
          3598.483453961293,
          5915.850853696438,
          79068.97461167873,
          89112.66771585705,
          42063.45312748114,
          34605.26272520575,
          5359.993789396384,
          39808.16856087928,
          4308.151073899704,
          9812.626370773956,
          1794.0911754468,
          1727.845001316435,
          33422.9442100836,
          4384.048891731897,
          33399.06043658418,
          1308.14016549619,
          2569.093892172514,
          17856.30711719765,
          8058.44433692324,
          1192.484319518101,
          710.2659984195813,
          7877.124609545421,
          180366.7151975748,
          19176.81215050502,
          117197.4816936302,
          87526.07999126345,
          523.9459714196604,
          544.5934353933727,
          11380.08209004754,
          10279.07997516187,
          894.8047765103656,
          30672.29224390378,
          3793.550982674793,
          1670.204164528804,
          11208.34381844736,
          9686.984926555855,
          3568.291015625,
          4230.3630367862,
          185978.6092513555,
          4156.846969780199,
          8845.914218872962,
          3226.98279356862,
          503.3179251711392,
          1250.17369130663,
          5588.392864119423,
          11614.66507683195,
          1178.525932452371,
          53018.62935626958,
          36382.48765568099,
          43306.07000323725,
          2014.575188790467,
          570.7239219535921,
          2027.77854863842,
          6108.740108316977,
          22886.67404946475,
          82267.809316159,
          18947.36649597734,
          1482.21306651797,
          15895.2598961532,
          15544.99907884487,
          2801.371393029155,
          5782.784549812856,
          6957.793411493588,
          3252.110274100243,
          15468.48221941048,
          23551.04829056138,
          31604.70151445784,
          65907.94843504085,
          12398.98197876661,
          11287.3552780815,
          783.6371628148081,
          4187.504729236637,
          48996.59224882401,
          1953.513257367598,
          23337.01754943471,
          1458.069092581452,
          7252.401857739923,
          15994.81986155335,
          533.9915332659843,
          66679.04648997521,
          29160.10381106891,
          19380.51350705477,
          26104.10278899495,
          2411.862926352774,
          389.8313954980403,
          7005.095412660223,
          2331.268840110573,
          30349.75209843605,
          4059.208229849466,
          20567.49911359164,
          11353.7152084186,
          36556.67491102129,
          7361.400961800199,
          740.746767001408,
          6938.08698147294,
          54589.06038606061,
          86388.40495271837,
          1268.23584864054,
          853.218873401321,
          1042.8387560513,
          7296.879607723391,
          1249.138350519529,
          901.5230168989367,
          4740.700272244761,
          17037.86235618971,
          3680.89259713943,
          9454.34844272271,
          6967.375042588062,
          29553.13669790533,
          3701.709254506929,
          770.6007843432924,
          3096.56169661923,
          43839.32448669031,
          43646.95197114935,
          63064.4184096731,
          18703.86029244782,
          1597.068336610896,
          3125.404999189522,
          2566.447487006298,
          3562.330942702557,
          758.1452415694234,
          1516.36837125728,
          1254.642264944341,
          4177.889541516905
         ],
         "xaxis": "x",
         "y": [
          3.125883053926702,
          4.485545992750001,
          3.416745662749999,
          4.331240600000001,
          4.883352185267469,
          2.61314469575,
          4.097679931132076,
          3.75650507225,
          4.123025775249999,
          4.705032212564636,
          5.32498466975,
          4.710301160749999,
          4.406499505,
          4.64217950460251,
          4.816789984750001,
          3.38388782725,
          4.660130098970925,
          3.852644652250146,
          5.36690354325,
          4.011239882718121,
          3.302977741,
          4.919909089655173,
          4.3412513735,
          2.943328495,
          3.23686605675,
          3.6361775995,
          3.182566643,
          5.08472697269727,
          4.584998965500001,
          3.773089886,
          3.194289923529412,
          3.3095909355,
          3.922236279598894,
          3.3678638935,
          3.99517446775,
          5.579452038,
          5.017800137112445,
          3.41452525,
          2.61314469575,
          5.216284706919643,
          4.121846437249999,
          4.513828873750001,
          3.800363958,
          3.99615168575,
          4.787541389499999,
          3.937275875307793,
          3.622494161,
          4.03495825,
          4.429337616914498,
          4.1842525005,
          4.48947828975,
          5.44074654575,
          3.551013130916131,
          3.82317068387604,
          3.09706348175,
          3.7505168915,
          2.9052241445,
          2.927667737,
          3.635349051379515,
          4.157164111887255,
          5.2810070515,
          3.09669226425,
          3.548745334249999,
          5.37197506425,
          3.639046438676888,
          5.877574682,
          4.96322739125,
          4.83188291518919,
          3.23953305385006,
          4.03637063525,
          3.5151272415,
          5.28436040875,
          4.018807113,
          4.903761910426541,
          3.778220594,
          5.443477162147888,
          4.333431695512821,
          4.660130098970925,
          3.289593935,
          2.7947496775,
          4.008975845,
          3.853571719433403,
          2.7684766055,
          3.36910063025,
          5.37197506425,
          3.66430544875,
          5.4105769395,
          4.605217695249999,
          4.6026746035,
          3.83756726975,
          3.365787613711912,
          5.26850879225,
          4.914795399006621,
          5.07211995125,
          4.437981963,
          4.37463819975,
          4.76136147975,
          4.31229245675,
          4.113367319,
          4.36485934275,
          3.382990938505747,
          4.5241591335,
          3.937275875307793,
          3.48593091975,
          3.1524888275,
          3.8370832205,
          4.36378258475,
          5.118548751000001,
          3.5835725665,
          2.89157027,
          3.595409990976331,
          5.154452212500001,
          4.4885306955,
          4.68427121625,
          5.131259234978235,
          3.67245489375,
          2.92263948925,
          5.25812911975,
          3.891372191274403,
          3.66399663725,
          5.124402999999999,
          3.66025239225,
          2.3659526705,
          4.3772073985,
          3.51215380425,
          4.05051058525,
          3.76005345575,
          5.052881708839779,
          3.69268512725,
          4.08039987125,
          3.4795261025,
          2.790258944,
          2.557547,
          3.34541547275,
          4.382509232812501,
          3.83100247375,
          5.77895951275,
          4.816789984750001,
          5.5188162325,
          3.03231650575,
          2.6414312625,
          3.16824227575,
          4.05051058525,
          5.001788609523809,
          5.386394262250001,
          3.7034083605,
          3.66025239225,
          4.596497320731707,
          3.680060029,
          3.042499860040984,
          2.7540509105,
          3.27700579175,
          4.3122189045,
          4.217128813,
          4.821053028250001,
          4.333431695512821,
          5.650964141,
          3.7737690805,
          4.3563212755,
          4.394029140500001,
          3.430077232999553,
          5.090531294221309,
          3.382604328111613,
          4.336327791,
          4.09712105975,
          3.99615168575,
          3.995258987,
          2.91684859975,
          6.1019439695,
          4.474316602430556,
          3.798733771,
          4.796257138250001,
          3.037661686079989,
          3.41452525,
          3.4022233485,
          3.43541885,
          4.5152790545,
          4.124032378,
          4.055421307373272,
          3.871580136259542,
          4.553095665481171,
          3.430077232999553,
          3.333133403550296,
          3.464315527678572,
          5.199332714000001,
          6.1326652765,
          3.891372191274403,
          4.13513046525,
          3.15139406925,
          4.05051058525,
          2.573858593814433,
          3.835960849080883,
          3.263894317052602,
          4.468680382000001,
          3.79927766325,
          3.551756382,
          3.786770106599438,
          4.348512731924883,
          3.609029785521235,
          3.343117058,
          4.374483644750001,
          5.4820508955,
          5.2462177275,
          5.697491168999999,
          3.90237712875,
          4.006601396194692,
          2.961133327987024,
          3.68711513275,
          3.723914141025641,
          2.2447446585,
          3.6091204285,
          3.793227315,
          2.527424595346956
         ],
         "yaxis": "y"
        },
        {
         "hovertemplate": "<b>OLS trendline</b><br>edu_quality_index = 1.95912e-05 * gdppc + 3.68595<br>R<sup>2</sup>=0.453662<br><br>gdppc=%{x}<br>edu_quality_index=%{y} <b>(trend)</b><extra></extra>",
         "legendgroup": "",
         "line": {
          "color": "Purple"
         },
         "marker": {
          "symbol": "circle"
         },
         "mode": "lines",
         "name": "",
         "showlegend": false,
         "type": "scatter",
         "x": [
          238.7834670201728,
          389.8313954980403,
          475.9538138648127,
          485.6684187298079,
          503.3179251711392,
          523.9459714196604,
          533.9915332659843,
          544.5934353933727,
          570.7239219535921,
          710.2659984195813,
          726.1510070885486,
          732.720727318856,
          740.746767001408,
          758.1452415694234,
          770.6007843432924,
          771.5248663494308,
          783.6371628148081,
          802.7673851161555,
          804.5005378215156,
          853.218873401321,
          894.8047765103656,
          901.5230168989367,
          955.1112811367115,
          1042.8387560513,
          1178.525932452371,
          1192.484319518101,
          1241.825298009576,
          1249.138350519529,
          1250.17369130663,
          1254.642264944341,
          1268.23584864054,
          1308.14016549619,
          1428.290463243223,
          1458.069092581452,
          1479.345826888498,
          1482.21306651797,
          1512.126988893842,
          1516.36837125728,
          1585.24053445546,
          1597.068336610896,
          1670.204164528804,
          1698.132080787118,
          1727.845001316435,
          1794.0911754468,
          1953.513257367598,
          1996.915087397891,
          2014.575188790467,
          2027.77854863842,
          2260.860567293368,
          2314.05095836881,
          2331.268840110573,
          2411.862926352774,
          2492.868967691357,
          2537.125185047117,
          2566.447487006298,
          2569.093892172514,
          2801.371393029155,
          3096.56169661923,
          3125.404999189522,
          3141.861710590019,
          3171.69919227376,
          3226.98279356862,
          3243.477437487184,
          3252.110274100243,
          3289.643994766784,
          3548.590780213766,
          3562.330942702557,
          3568.291015625,
          3598.483453961293,
          3616.464537497126,
          3680.89259713943,
          3701.709254506929,
          3793.550982674793,
          3893.85957814877,
          4052.624775337422,
          4059.208229849466,
          4105.893682789394,
          4142.018558429166,
          4156.846969780199,
          4177.889541516905,
          4187.504729236637,
          4220.540320791452,
          4230.3630367862,
          4308.151073899704,
          4384.048891731897,
          4478.424645509439,
          4722.787783217665,
          4739.841710283928,
          4740.700272244761,
          5001.422156634331,
          5287.663694469134,
          5359.993789396384,
          5588.392864119423,
          5782.784549812856,
          5915.850853696438,
          6070.349081292916,
          6108.740108316977,
          6145.819276643771,
          6295.934661639924,
          6317.413720151232,
          6360.062473012837,
          6729.583331981685,
          6938.08698147294,
          6957.793411493588,
          6967.375042588062,
          7005.095412660223,
          7252.401857739923,
          7296.879607723391,
          7361.400961800199,
          7503.878588364595,
          7687.462963480052,
          7877.124609545421,
          7959.007267363763,
          8050.644076234162,
          8058.44433692324,
          8824.194008438417,
          8845.914218872962,
          9151.381731615356,
          9446.700771855185,
          9454.34844272271,
          9686.984926555855,
          9812.626370773956,
          9905.342003892534,
          10005.61679172682,
          10279.07997516187,
          10466.88221119575,
          11208.34381844736,
          11287.3552780815,
          11353.7152084186,
          11380.08209004754,
          11521.6097798453,
          11614.66507683195,
          11795.15938662869,
          12398.98197876661,
          12485.42389616804,
          15227.56009680961,
          15468.48221941048,
          15544.99907884487,
          15888.14435539699,
          15895.2598961532,
          15994.81986155335,
          16427.37276114784,
          16679.5916624545,
          17037.86235618971,
          17745.2553725928,
          17856.30711719765,
          18703.86029244782,
          18947.36649597734,
          19176.81215050502,
          19380.51350705477,
          19630.89348730191,
          19747.34258379349,
          20567.49911359164,
          22886.67404946475,
          23052.30125595861,
          23337.01754943471,
          23419.73561365016,
          23551.04829056138,
          24085.95598809604,
          24712.49326289065,
          26104.10278899495,
          29160.10381106891,
          29334.1109348657,
          29553.13669790533,
          30253.27935801951,
          30349.75209843605,
          30672.29224390378,
          31604.70151445784,
          31628.47625660086,
          33290.02813541302,
          33399.06043658418,
          33422.9442100836,
          34605.26272520575,
          36382.48765568099,
          36556.67491102129,
          36556.67491102129,
          39808.16856087928,
          41572.48500996291,
          41791.96983724111,
          42063.45312748114,
          42976.64958825841,
          43306.07000323725,
          43646.95197114935,
          43839.32448669031,
          46548.52036008093,
          46946.96027199543,
          47519.55309689431,
          47950.1808142041,
          48542.68186991609,
          48996.59224882401,
          49964.49990984263,
          51461.43321500823,
          53018.62935626958,
          54270.82230552382,
          54589.06038606061,
          57180.77940016135,
          61126.94319639789,
          61591.92886989581,
          62918.14619361205,
          63064.4184096731,
          65907.94843504085,
          66679.04648997521,
          74469.80405915591,
          79068.97461167873,
          82267.809316159,
          86059.73921684535,
          86388.40495271837,
          87526.07999126345,
          89112.66771585705,
          113023.1855942678,
          117197.4816936302,
          180366.7151975748,
          185978.6092513555
         ],
         "xaxis": "x",
         "y": [
          3.6906249975636443,
          3.6935842077588585,
          3.6952714492922953,
          3.6954617700603367,
          3.695807545073129,
          3.696211673255363,
          3.696408477867858,
          3.696616181854137,
          3.6971281094456914,
          3.6998619061915368,
          3.7001731125753516,
          3.700301821279146,
          3.700459061028775,
          3.7007999180258992,
          3.7010439370570425,
          3.7010620409325563,
          3.7012993353565777,
          3.7016741193701113,
          3.7017080739116084,
          3.702662524573689,
          3.70347724232386,
          3.7036088607157978,
          3.7046587191248093,
          3.706377405642286,
          3.709035680269499,
          3.7093091418239204,
          3.7102757908078896,
          3.7104190622831337,
          3.710439345851691,
          3.710526890572099,
          3.7107932051907015,
          3.7115749786480556,
          3.7139288671762465,
          3.7145122662630476,
          3.7149291030228544,
          3.7149852756882407,
          3.7155713253280176,
          3.715654419098705,
          3.7170037074309334,
          3.7172354282699946,
          3.7186682469110117,
          3.719215388307491,
          3.7197975000798666,
          3.7210953421347432,
          3.7242186120459317,
          3.7250689059838287,
          3.725414888564431,
          3.7256735582295293,
          3.730239914702441,
          3.731281978298705,
          3.7316192972656292,
          3.7331982321380583,
          3.734785237705223,
          3.735652270116197,
          3.736226729201993,
          3.736278575455215,
          3.7408291704589365,
          3.7466123027714073,
          3.747177377684316,
          3.7474997844107554,
          3.7480843364856353,
          3.749167408582211,
          3.7494905584522034,
          3.7496596860819325,
          3.750395016714931,
          3.7554680950102415,
          3.7557372812833036,
          3.7558540462646843,
          3.75644555236638,
          3.7567978233723873,
          3.7580600463824787,
          3.75846786968289,
          3.760267159359215,
          3.7622323251273615,
          3.765342725878304,
          3.765471703653161,
          3.766386327704614,
          3.7670940573727485,
          3.767384563747056,
          3.767796812981086,
          3.7679851860479388,
          3.768632392933323,
          3.768824831728143,
          3.7703487927305326,
          3.7718357220687024,
          3.7736846563478674,
          3.7784720234817812,
          3.7788061303798464,
          3.7788229506390403,
          3.783930805252976,
          3.789538620504667,
          3.790955653869417,
          3.7954302658505865,
          3.7992386322675626,
          3.801845560856785,
          3.8048723665525217,
          3.805624492845938,
          3.8063509182530817,
          3.809291858802321,
          3.8097126593361037,
          3.8105481995884793,
          3.8177875566867474,
          3.8218723934106373,
          3.822258466024913,
          3.8224461816772046,
          3.823185168996062,
          3.8280301990537184,
          3.828901571554736,
          3.830165622314764,
          3.8329569300100634,
          3.8365535682426977,
          3.8402692675067227,
          3.841873447042775,
          3.8436687221041335,
          3.843821538572317,
          3.8588234936323076,
          3.859249018621679,
          3.865233493795375,
          3.8710191482133145,
          3.871168975263767,
          3.8757266031748228,
          3.8781880698524414,
          3.8800044803755456,
          3.8819689838114573,
          3.88732645576484,
          3.8910057269548246,
          3.905531849687189,
          3.907079779005017,
          3.9083798496805047,
          3.9088964085351585,
          3.9116691058291573,
          3.9134921707750756,
          3.9170282709196527,
          3.9288578801619733,
          3.9305513810649377,
          3.9842731201405814,
          3.988993073658895,
          3.9904921307649794,
          3.9972147585497186,
          3.997354160532668,
          3.9993046597392197,
          4.007778890159646,
          4.012720161130348,
          4.019739113990089,
          4.033597792141177,
          4.035773429093915,
          4.052378012966471,
          4.057148591731396,
          4.061643707466964,
          4.065634461508781,
          4.070539705808992,
          4.072821083362686,
          4.0888889340714485,
          4.134324354364065,
          4.137569190112562,
          4.143147123996783,
          4.144767670146747,
          4.147340243079009,
          4.157819726829593,
          4.170094343965608,
          4.197357644686798,
          4.257228372291192,
          4.260637380676599,
          4.264928358232749,
          4.278644993202806,
          4.280535009966874,
          4.286853958504945,
          4.3051209751223904,
          4.3055867508536245,
          4.338138546228817,
          4.3402746198611055,
          4.340742531647463,
          4.3639055702882255,
          4.3987235395675714,
          4.402136076946095,
          4.402136076946095,
          4.4658367397442875,
          4.500401816381385,
          4.504701787556903,
          4.510020471026476,
          4.527911085642629,
          4.534364826917604,
          4.541043113769833,
          4.544811922220266,
          4.597888320752567,
          4.605694236804506,
          4.616912017427003,
          4.625348531216013,
          4.636956337972496,
          4.645848987044308,
          4.6648114597334445,
          4.694138179688103,
          4.724645520924789,
          4.749177483588226,
          4.755412149511287,
          4.806187035383231,
          4.883497120039701,
          4.8926067474242645,
          4.918588936421884,
          4.9214545846794024,
          4.977162750466654,
          4.992269486776553,
          5.144899777436513,
          5.235003048138094,
          5.297672058999042,
          5.371960516541793,
          5.378399472747376,
          5.40068789210426,
          5.431771049731986,
          5.900206790570446,
          5.981986260832338,
          7.219547356124882,
          7.329491095610479
         ],
         "yaxis": "y"
        }
       ],
       "layout": {
        "coloraxis": {
         "colorbar": {
          "title": {
           "text": "edu_quality_index"
          }
         },
         "colorscale": [
          [
           0,
           "rgb(209, 238, 234)"
          ],
          [
           0.16666666666666666,
           "rgb(168, 219, 217)"
          ],
          [
           0.3333333333333333,
           "rgb(133, 196, 201)"
          ],
          [
           0.5,
           "rgb(104, 171, 184)"
          ],
          [
           0.6666666666666666,
           "rgb(79, 144, 166)"
          ],
          [
           0.8333333333333334,
           "rgb(59, 115, 143)"
          ],
          [
           1,
           "rgb(42, 86, 116)"
          ]
         ]
        },
        "legend": {
         "title": {
          "text": "Quality of Education Index"
         },
         "tracegroupgap": 0
        },
        "margin": {
         "t": 60
        },
        "template": {
         "data": {
          "bar": [
           {
            "error_x": {
             "color": "#2a3f5f"
            },
            "error_y": {
             "color": "#2a3f5f"
            },
            "marker": {
             "line": {
              "color": "#E5ECF6",
              "width": 0.5
             },
             "pattern": {
              "fillmode": "overlay",
              "size": 10,
              "solidity": 0.2
             }
            },
            "type": "bar"
           }
          ],
          "barpolar": [
           {
            "marker": {
             "line": {
              "color": "#E5ECF6",
              "width": 0.5
             },
             "pattern": {
              "fillmode": "overlay",
              "size": 10,
              "solidity": 0.2
             }
            },
            "type": "barpolar"
           }
          ],
          "carpet": [
           {
            "aaxis": {
             "endlinecolor": "#2a3f5f",
             "gridcolor": "white",
             "linecolor": "white",
             "minorgridcolor": "white",
             "startlinecolor": "#2a3f5f"
            },
            "baxis": {
             "endlinecolor": "#2a3f5f",
             "gridcolor": "white",
             "linecolor": "white",
             "minorgridcolor": "white",
             "startlinecolor": "#2a3f5f"
            },
            "type": "carpet"
           }
          ],
          "choropleth": [
           {
            "colorbar": {
             "outlinewidth": 0,
             "ticks": ""
            },
            "type": "choropleth"
           }
          ],
          "contour": [
           {
            "colorbar": {
             "outlinewidth": 0,
             "ticks": ""
            },
            "colorscale": [
             [
              0,
              "#0d0887"
             ],
             [
              0.1111111111111111,
              "#46039f"
             ],
             [
              0.2222222222222222,
              "#7201a8"
             ],
             [
              0.3333333333333333,
              "#9c179e"
             ],
             [
              0.4444444444444444,
              "#bd3786"
             ],
             [
              0.5555555555555556,
              "#d8576b"
             ],
             [
              0.6666666666666666,
              "#ed7953"
             ],
             [
              0.7777777777777778,
              "#fb9f3a"
             ],
             [
              0.8888888888888888,
              "#fdca26"
             ],
             [
              1,
              "#f0f921"
             ]
            ],
            "type": "contour"
           }
          ],
          "contourcarpet": [
           {
            "colorbar": {
             "outlinewidth": 0,
             "ticks": ""
            },
            "type": "contourcarpet"
           }
          ],
          "heatmap": [
           {
            "colorbar": {
             "outlinewidth": 0,
             "ticks": ""
            },
            "colorscale": [
             [
              0,
              "#0d0887"
             ],
             [
              0.1111111111111111,
              "#46039f"
             ],
             [
              0.2222222222222222,
              "#7201a8"
             ],
             [
              0.3333333333333333,
              "#9c179e"
             ],
             [
              0.4444444444444444,
              "#bd3786"
             ],
             [
              0.5555555555555556,
              "#d8576b"
             ],
             [
              0.6666666666666666,
              "#ed7953"
             ],
             [
              0.7777777777777778,
              "#fb9f3a"
             ],
             [
              0.8888888888888888,
              "#fdca26"
             ],
             [
              1,
              "#f0f921"
             ]
            ],
            "type": "heatmap"
           }
          ],
          "heatmapgl": [
           {
            "colorbar": {
             "outlinewidth": 0,
             "ticks": ""
            },
            "colorscale": [
             [
              0,
              "#0d0887"
             ],
             [
              0.1111111111111111,
              "#46039f"
             ],
             [
              0.2222222222222222,
              "#7201a8"
             ],
             [
              0.3333333333333333,
              "#9c179e"
             ],
             [
              0.4444444444444444,
              "#bd3786"
             ],
             [
              0.5555555555555556,
              "#d8576b"
             ],
             [
              0.6666666666666666,
              "#ed7953"
             ],
             [
              0.7777777777777778,
              "#fb9f3a"
             ],
             [
              0.8888888888888888,
              "#fdca26"
             ],
             [
              1,
              "#f0f921"
             ]
            ],
            "type": "heatmapgl"
           }
          ],
          "histogram": [
           {
            "marker": {
             "pattern": {
              "fillmode": "overlay",
              "size": 10,
              "solidity": 0.2
             }
            },
            "type": "histogram"
           }
          ],
          "histogram2d": [
           {
            "colorbar": {
             "outlinewidth": 0,
             "ticks": ""
            },
            "colorscale": [
             [
              0,
              "#0d0887"
             ],
             [
              0.1111111111111111,
              "#46039f"
             ],
             [
              0.2222222222222222,
              "#7201a8"
             ],
             [
              0.3333333333333333,
              "#9c179e"
             ],
             [
              0.4444444444444444,
              "#bd3786"
             ],
             [
              0.5555555555555556,
              "#d8576b"
             ],
             [
              0.6666666666666666,
              "#ed7953"
             ],
             [
              0.7777777777777778,
              "#fb9f3a"
             ],
             [
              0.8888888888888888,
              "#fdca26"
             ],
             [
              1,
              "#f0f921"
             ]
            ],
            "type": "histogram2d"
           }
          ],
          "histogram2dcontour": [
           {
            "colorbar": {
             "outlinewidth": 0,
             "ticks": ""
            },
            "colorscale": [
             [
              0,
              "#0d0887"
             ],
             [
              0.1111111111111111,
              "#46039f"
             ],
             [
              0.2222222222222222,
              "#7201a8"
             ],
             [
              0.3333333333333333,
              "#9c179e"
             ],
             [
              0.4444444444444444,
              "#bd3786"
             ],
             [
              0.5555555555555556,
              "#d8576b"
             ],
             [
              0.6666666666666666,
              "#ed7953"
             ],
             [
              0.7777777777777778,
              "#fb9f3a"
             ],
             [
              0.8888888888888888,
              "#fdca26"
             ],
             [
              1,
              "#f0f921"
             ]
            ],
            "type": "histogram2dcontour"
           }
          ],
          "mesh3d": [
           {
            "colorbar": {
             "outlinewidth": 0,
             "ticks": ""
            },
            "type": "mesh3d"
           }
          ],
          "parcoords": [
           {
            "line": {
             "colorbar": {
              "outlinewidth": 0,
              "ticks": ""
             }
            },
            "type": "parcoords"
           }
          ],
          "pie": [
           {
            "automargin": true,
            "type": "pie"
           }
          ],
          "scatter": [
           {
            "marker": {
             "colorbar": {
              "outlinewidth": 0,
              "ticks": ""
             }
            },
            "type": "scatter"
           }
          ],
          "scatter3d": [
           {
            "line": {
             "colorbar": {
              "outlinewidth": 0,
              "ticks": ""
             }
            },
            "marker": {
             "colorbar": {
              "outlinewidth": 0,
              "ticks": ""
             }
            },
            "type": "scatter3d"
           }
          ],
          "scattercarpet": [
           {
            "marker": {
             "colorbar": {
              "outlinewidth": 0,
              "ticks": ""
             }
            },
            "type": "scattercarpet"
           }
          ],
          "scattergeo": [
           {
            "marker": {
             "colorbar": {
              "outlinewidth": 0,
              "ticks": ""
             }
            },
            "type": "scattergeo"
           }
          ],
          "scattergl": [
           {
            "marker": {
             "colorbar": {
              "outlinewidth": 0,
              "ticks": ""
             }
            },
            "type": "scattergl"
           }
          ],
          "scattermapbox": [
           {
            "marker": {
             "colorbar": {
              "outlinewidth": 0,
              "ticks": ""
             }
            },
            "type": "scattermapbox"
           }
          ],
          "scatterpolar": [
           {
            "marker": {
             "colorbar": {
              "outlinewidth": 0,
              "ticks": ""
             }
            },
            "type": "scatterpolar"
           }
          ],
          "scatterpolargl": [
           {
            "marker": {
             "colorbar": {
              "outlinewidth": 0,
              "ticks": ""
             }
            },
            "type": "scatterpolargl"
           }
          ],
          "scatterternary": [
           {
            "marker": {
             "colorbar": {
              "outlinewidth": 0,
              "ticks": ""
             }
            },
            "type": "scatterternary"
           }
          ],
          "surface": [
           {
            "colorbar": {
             "outlinewidth": 0,
             "ticks": ""
            },
            "colorscale": [
             [
              0,
              "#0d0887"
             ],
             [
              0.1111111111111111,
              "#46039f"
             ],
             [
              0.2222222222222222,
              "#7201a8"
             ],
             [
              0.3333333333333333,
              "#9c179e"
             ],
             [
              0.4444444444444444,
              "#bd3786"
             ],
             [
              0.5555555555555556,
              "#d8576b"
             ],
             [
              0.6666666666666666,
              "#ed7953"
             ],
             [
              0.7777777777777778,
              "#fb9f3a"
             ],
             [
              0.8888888888888888,
              "#fdca26"
             ],
             [
              1,
              "#f0f921"
             ]
            ],
            "type": "surface"
           }
          ],
          "table": [
           {
            "cells": {
             "fill": {
              "color": "#EBF0F8"
             },
             "line": {
              "color": "white"
             }
            },
            "header": {
             "fill": {
              "color": "#C8D4E3"
             },
             "line": {
              "color": "white"
             }
            },
            "type": "table"
           }
          ]
         },
         "layout": {
          "annotationdefaults": {
           "arrowcolor": "#2a3f5f",
           "arrowhead": 0,
           "arrowwidth": 1
          },
          "autotypenumbers": "strict",
          "coloraxis": {
           "colorbar": {
            "outlinewidth": 0,
            "ticks": ""
           }
          },
          "colorscale": {
           "diverging": [
            [
             0,
             "#8e0152"
            ],
            [
             0.1,
             "#c51b7d"
            ],
            [
             0.2,
             "#de77ae"
            ],
            [
             0.3,
             "#f1b6da"
            ],
            [
             0.4,
             "#fde0ef"
            ],
            [
             0.5,
             "#f7f7f7"
            ],
            [
             0.6,
             "#e6f5d0"
            ],
            [
             0.7,
             "#b8e186"
            ],
            [
             0.8,
             "#7fbc41"
            ],
            [
             0.9,
             "#4d9221"
            ],
            [
             1,
             "#276419"
            ]
           ],
           "sequential": [
            [
             0,
             "#0d0887"
            ],
            [
             0.1111111111111111,
             "#46039f"
            ],
            [
             0.2222222222222222,
             "#7201a8"
            ],
            [
             0.3333333333333333,
             "#9c179e"
            ],
            [
             0.4444444444444444,
             "#bd3786"
            ],
            [
             0.5555555555555556,
             "#d8576b"
            ],
            [
             0.6666666666666666,
             "#ed7953"
            ],
            [
             0.7777777777777778,
             "#fb9f3a"
            ],
            [
             0.8888888888888888,
             "#fdca26"
            ],
            [
             1,
             "#f0f921"
            ]
           ],
           "sequentialminus": [
            [
             0,
             "#0d0887"
            ],
            [
             0.1111111111111111,
             "#46039f"
            ],
            [
             0.2222222222222222,
             "#7201a8"
            ],
            [
             0.3333333333333333,
             "#9c179e"
            ],
            [
             0.4444444444444444,
             "#bd3786"
            ],
            [
             0.5555555555555556,
             "#d8576b"
            ],
            [
             0.6666666666666666,
             "#ed7953"
            ],
            [
             0.7777777777777778,
             "#fb9f3a"
            ],
            [
             0.8888888888888888,
             "#fdca26"
            ],
            [
             1,
             "#f0f921"
            ]
           ]
          },
          "colorway": [
           "#636efa",
           "#EF553B",
           "#00cc96",
           "#ab63fa",
           "#FFA15A",
           "#19d3f3",
           "#FF6692",
           "#B6E880",
           "#FF97FF",
           "#FECB52"
          ],
          "font": {
           "color": "#2a3f5f"
          },
          "geo": {
           "bgcolor": "white",
           "lakecolor": "white",
           "landcolor": "#E5ECF6",
           "showlakes": true,
           "showland": true,
           "subunitcolor": "white"
          },
          "hoverlabel": {
           "align": "left"
          },
          "hovermode": "closest",
          "mapbox": {
           "style": "light"
          },
          "paper_bgcolor": "white",
          "plot_bgcolor": "#E5ECF6",
          "polar": {
           "angularaxis": {
            "gridcolor": "white",
            "linecolor": "white",
            "ticks": ""
           },
           "bgcolor": "#E5ECF6",
           "radialaxis": {
            "gridcolor": "white",
            "linecolor": "white",
            "ticks": ""
           }
          },
          "scene": {
           "xaxis": {
            "backgroundcolor": "#E5ECF6",
            "gridcolor": "white",
            "gridwidth": 2,
            "linecolor": "white",
            "showbackground": true,
            "ticks": "",
            "zerolinecolor": "white"
           },
           "yaxis": {
            "backgroundcolor": "#E5ECF6",
            "gridcolor": "white",
            "gridwidth": 2,
            "linecolor": "white",
            "showbackground": true,
            "ticks": "",
            "zerolinecolor": "white"
           },
           "zaxis": {
            "backgroundcolor": "#E5ECF6",
            "gridcolor": "white",
            "gridwidth": 2,
            "linecolor": "white",
            "showbackground": true,
            "ticks": "",
            "zerolinecolor": "white"
           }
          },
          "shapedefaults": {
           "line": {
            "color": "#2a3f5f"
           }
          },
          "ternary": {
           "aaxis": {
            "gridcolor": "white",
            "linecolor": "white",
            "ticks": ""
           },
           "baxis": {
            "gridcolor": "white",
            "linecolor": "white",
            "ticks": ""
           },
           "bgcolor": "#E5ECF6",
           "caxis": {
            "gridcolor": "white",
            "linecolor": "white",
            "ticks": ""
           }
          },
          "title": {
           "x": 0.05
          },
          "xaxis": {
           "automargin": true,
           "gridcolor": "white",
           "linecolor": "white",
           "ticks": "",
           "title": {
            "standoff": 15
           },
           "zerolinecolor": "white",
           "zerolinewidth": 2
          },
          "yaxis": {
           "automargin": true,
           "gridcolor": "white",
           "linecolor": "white",
           "ticks": "",
           "title": {
            "standoff": 15
           },
           "zerolinecolor": "white",
           "zerolinewidth": 2
          }
         }
        },
        "title": {
         "text": "Relationship between GDP per Capita vs. Quality of Education Index in 2018",
         "x": 0.5,
         "xanchor": "center"
        },
        "xaxis": {
         "anchor": "y",
         "domain": [
          0,
          1
         ],
         "title": {
          "text": "GDP per Capita"
         },
         "type": "log"
        },
        "yaxis": {
         "anchor": "x",
         "domain": [
          0,
          1
         ],
         "title": {
          "text": "Quality of Education Index"
         }
        }
       }
      }
     },
     "metadata": {},
     "output_type": "display_data"
    }
   ],
   "source": [
    "fig = px.scatter(data_frame=df_indicators_2018_imputed,x='gdppc',y='edu_quality_index',hover_name='country',color='edu_quality_index',trendline='ols',\n",
    "                        log_x=True, labels={'val_qual_ed':'Education Quality Index'}, color_continuous_scale=px.colors.sequential.Teal, \n",
    "                        trendline_color_override='Purple')\n",
    "\n",
    "#Setting the labels of the plot\n",
    "fig.update_layout(\n",
    "    title={\n",
    "        'text': 'Relationship between GDP per Capita vs. Quality of Education Index in 2018',\n",
    "        'x':0.5,\n",
    "        'xanchor': 'center'},\n",
    "    xaxis_title='GDP per Capita',\n",
    "    yaxis_title='Quality of Education Index',\n",
    "    legend={'title':'Quality of Education Index'}\n",
    ")\n",
    "\n",
    "fig.show()"
   ]
  },
  {
   "cell_type": "code",
   "execution_count": 21,
   "metadata": {},
   "outputs": [
    {
     "data": {
      "application/vnd.plotly.v1+json": {
       "config": {
        "plotlyServerURL": "https://plot.ly"
       },
       "data": [
        {
         "hovertemplate": "<b>%{hovertext}</b><br><br>edu_quality_index=%{marker.color}<br>gdppc=%{y}<extra></extra>",
         "hovertext": [
          "Afghanistan",
          "Albania",
          "Algeria",
          "American Samoa",
          "Andorra",
          "Angola",
          "Antigua and Barbuda",
          "Argentina",
          "Armenia",
          "Aruba",
          "Australia",
          "Austria",
          "Azerbaijan",
          "Bahamas",
          "Bahrain",
          "Bangladesh",
          "Barbados",
          "Belarus",
          "Belgium",
          "Belize",
          "Benin",
          "Bermuda",
          "Bhutan",
          "Bolivia",
          "Bosnia and Herzegovina",
          "Botswana",
          "Brazil",
          "British Virgin Islands",
          "Brunei",
          "Bulgaria",
          "Burkina Faso",
          "Burundi",
          "Cabo Verde",
          "Cambodia",
          "Cameroon",
          "Canada",
          "Cayman Islands",
          "Central African Republic",
          "Chad",
          "Channel Islands",
          "Chile",
          "China",
          "Colombia",
          "Comoros",
          "Costa Rica",
          "Cote d'Ivoire",
          "Croatia",
          "Cuba",
          "Curacao",
          "Cyprus",
          "Czech",
          "Denmark",
          "Djibouti",
          "Dominica",
          "Dominican Republic",
          "Ecuador",
          "Egypt",
          "El Salvador",
          "Equatorial Guinea",
          "Eritrea",
          "Estonia",
          "Eswatini",
          "Ethiopia",
          "Faroe Islands",
          "Fiji",
          "Finland",
          "France",
          "French Polynesia",
          "Gabon",
          "Gambia",
          "Georgia",
          "Germany",
          "Ghana",
          "Gibraltar",
          "Greece",
          "Greenland",
          "Grenada",
          "Guam",
          "Guatemala",
          "Guinea",
          "Guinea-Bissau",
          "Guyana",
          "Haiti",
          "Honduras",
          "Hong Kong",
          "Hungary",
          "Iceland",
          "India",
          "Indonesia",
          "Iran",
          "Iraq",
          "Ireland",
          "Isle of Man",
          "Israel",
          "Italy",
          "Jamaica",
          "Japan",
          "Jordan",
          "Kazakhstan",
          "Kenya",
          "Kiribati",
          "Korea, Rep.",
          "Kosovo",
          "Kuwait",
          "Kyrgyzstan",
          "Lao PDR",
          "Latvia",
          "Lebanon",
          "Lesotho",
          "Liberia",
          "Libya",
          "Liechtenstein",
          "Lithuania",
          "Luxembourg",
          "Macao SAR, China",
          "Madagascar",
          "Malawi",
          "Malaysia",
          "Maldives",
          "Mali",
          "Malta",
          "Marshall Islands",
          "Mauritania",
          "Mauritius",
          "Mexico",
          "Micronesia",
          "Moldova",
          "Monaco",
          "Mongolia",
          "Montenegro",
          "Morocco",
          "Mozambique",
          "Myanmar",
          "Namibia",
          "Nauru",
          "Nepal",
          "Netherlands",
          "New Caledonia",
          "New Zealand",
          "Nicaragua",
          "Niger",
          "Nigeria",
          "North Macedonia",
          "Northern Mariana Islands",
          "Norway",
          "Oman",
          "Pakistan",
          "Palau",
          "Panama",
          "Papua New Guinea",
          "Paraguay",
          "Peru",
          "Philippines",
          "Poland",
          "Portugal",
          "Puerto Rico",
          "Qatar",
          "Romania",
          "Russia",
          "Rwanda",
          "Samoa",
          "San Marino",
          "Sao Tome and Principe",
          "Saudi Arabia",
          "Senegal",
          "Serbia",
          "Seychelles",
          "Sierra Leone",
          "Singapore",
          "Sint Maarten (Dutch part)",
          "Slovakia",
          "Slovenia",
          "Solomon Islands",
          "Somalia",
          "South Africa",
          "South Sudan",
          "Spain",
          "Sri Lanka",
          "St. Kitts and Nevis",
          "St. Lucia",
          "St. Martin (French part)",
          "St. Vincent and the Grenadines",
          "Sudan",
          "Suriname",
          "Sweden",
          "Switzerland",
          "Syria",
          "Tajikistan",
          "Tanzania",
          "Thailand",
          "Timor-Leste",
          "Togo",
          "Tonga",
          "Trinidad and Tobago",
          "Tunisia",
          "Turkey",
          "Turkmenistan",
          "Turks and Caicos Islands",
          "Tuvalu",
          "Uganda",
          "Ukraine",
          "United Arab Emirates",
          "United Kingdom",
          "United States",
          "Uruguay",
          "Uzbekistan",
          "Vanuatu",
          "Vietnam",
          "West Bank and Gaza",
          "Yemen",
          "Zambia",
          "Zimbabwe",
          "Congo"
         ],
         "legendgroup": "",
         "marker": {
          "color": [
           3.125883053926702,
           4.485545992750001,
           3.416745662749999,
           4.331240600000001,
           4.883352185267469,
           2.61314469575,
           4.097679931132076,
           3.75650507225,
           4.123025775249999,
           4.705032212564636,
           5.32498466975,
           4.710301160749999,
           4.406499505,
           4.64217950460251,
           4.816789984750001,
           3.38388782725,
           4.660130098970925,
           3.852644652250146,
           5.36690354325,
           4.011239882718121,
           3.302977741,
           4.919909089655173,
           4.3412513735,
           2.943328495,
           3.23686605675,
           3.6361775995,
           3.182566643,
           5.08472697269727,
           4.584998965500001,
           3.773089886,
           3.194289923529412,
           3.3095909355,
           3.922236279598894,
           3.3678638935,
           3.99517446775,
           5.579452038,
           5.017800137112445,
           3.41452525,
           2.61314469575,
           5.216284706919643,
           4.121846437249999,
           4.513828873750001,
           3.800363958,
           3.99615168575,
           4.787541389499999,
           3.937275875307793,
           3.622494161,
           4.03495825,
           4.429337616914498,
           4.1842525005,
           4.48947828975,
           5.44074654575,
           3.551013130916131,
           3.82317068387604,
           3.09706348175,
           3.7505168915,
           2.9052241445,
           2.927667737,
           3.635349051379515,
           4.157164111887255,
           5.2810070515,
           3.09669226425,
           3.548745334249999,
           5.37197506425,
           3.639046438676888,
           5.877574682,
           4.96322739125,
           4.83188291518919,
           3.23953305385006,
           4.03637063525,
           3.5151272415,
           5.28436040875,
           4.018807113,
           4.903761910426541,
           3.778220594,
           5.443477162147888,
           4.333431695512821,
           4.660130098970925,
           3.289593935,
           2.7947496775,
           4.008975845,
           3.853571719433403,
           2.7684766055,
           3.36910063025,
           5.37197506425,
           3.66430544875,
           5.4105769395,
           4.605217695249999,
           4.6026746035,
           3.83756726975,
           3.365787613711912,
           5.26850879225,
           4.914795399006621,
           5.07211995125,
           4.437981963,
           4.37463819975,
           4.76136147975,
           4.31229245675,
           4.113367319,
           4.36485934275,
           3.382990938505747,
           4.5241591335,
           3.937275875307793,
           3.48593091975,
           3.1524888275,
           3.8370832205,
           4.36378258475,
           5.118548751000001,
           3.5835725665,
           2.89157027,
           3.595409990976331,
           5.154452212500001,
           4.4885306955,
           4.68427121625,
           5.131259234978235,
           3.67245489375,
           2.92263948925,
           5.25812911975,
           3.891372191274403,
           3.66399663725,
           5.124402999999999,
           3.66025239225,
           2.3659526705,
           4.3772073985,
           3.51215380425,
           4.05051058525,
           3.76005345575,
           5.052881708839779,
           3.69268512725,
           4.08039987125,
           3.4795261025,
           2.790258944,
           2.557547,
           3.34541547275,
           4.382509232812501,
           3.83100247375,
           5.77895951275,
           4.816789984750001,
           5.5188162325,
           3.03231650575,
           2.6414312625,
           3.16824227575,
           4.05051058525,
           5.001788609523809,
           5.386394262250001,
           3.7034083605,
           3.66025239225,
           4.596497320731707,
           3.680060029,
           3.042499860040984,
           2.7540509105,
           3.27700579175,
           4.3122189045,
           4.217128813,
           4.821053028250001,
           4.333431695512821,
           5.650964141,
           3.7737690805,
           4.3563212755,
           4.394029140500001,
           3.430077232999553,
           5.090531294221309,
           3.382604328111613,
           4.336327791,
           4.09712105975,
           3.99615168575,
           3.995258987,
           2.91684859975,
           6.1019439695,
           4.474316602430556,
           3.798733771,
           4.796257138250001,
           3.037661686079989,
           3.41452525,
           3.4022233485,
           3.43541885,
           4.5152790545,
           4.124032378,
           4.055421307373272,
           3.871580136259542,
           4.553095665481171,
           3.430077232999553,
           3.333133403550296,
           3.464315527678572,
           5.199332714000001,
           6.1326652765,
           3.891372191274403,
           4.13513046525,
           3.15139406925,
           4.05051058525,
           2.573858593814433,
           3.835960849080883,
           3.263894317052602,
           4.468680382000001,
           3.79927766325,
           3.551756382,
           3.786770106599438,
           4.348512731924883,
           3.609029785521235,
           3.343117058,
           4.374483644750001,
           5.4820508955,
           5.2462177275,
           5.697491168999999,
           3.90237712875,
           4.006601396194692,
           2.961133327987024,
           3.68711513275,
           3.723914141025641,
           2.2447446585,
           3.6091204285,
           3.793227315,
           2.527424595346956
          ],
          "coloraxis": "coloraxis",
          "symbol": "circle"
         },
         "mode": "markers",
         "name": "",
         "orientation": "v",
         "showlegend": false,
         "type": "scatter",
         "x": [
          3.125883053926702,
          4.485545992750001,
          3.416745662749999,
          4.331240600000001,
          4.883352185267469,
          2.61314469575,
          4.097679931132076,
          3.75650507225,
          4.123025775249999,
          4.705032212564636,
          5.32498466975,
          4.710301160749999,
          4.406499505,
          4.64217950460251,
          4.816789984750001,
          3.38388782725,
          4.660130098970925,
          3.852644652250146,
          5.36690354325,
          4.011239882718121,
          3.302977741,
          4.919909089655173,
          4.3412513735,
          2.943328495,
          3.23686605675,
          3.6361775995,
          3.182566643,
          5.08472697269727,
          4.584998965500001,
          3.773089886,
          3.194289923529412,
          3.3095909355,
          3.922236279598894,
          3.3678638935,
          3.99517446775,
          5.579452038,
          5.017800137112445,
          3.41452525,
          2.61314469575,
          5.216284706919643,
          4.121846437249999,
          4.513828873750001,
          3.800363958,
          3.99615168575,
          4.787541389499999,
          3.937275875307793,
          3.622494161,
          4.03495825,
          4.429337616914498,
          4.1842525005,
          4.48947828975,
          5.44074654575,
          3.551013130916131,
          3.82317068387604,
          3.09706348175,
          3.7505168915,
          2.9052241445,
          2.927667737,
          3.635349051379515,
          4.157164111887255,
          5.2810070515,
          3.09669226425,
          3.548745334249999,
          5.37197506425,
          3.639046438676888,
          5.877574682,
          4.96322739125,
          4.83188291518919,
          3.23953305385006,
          4.03637063525,
          3.5151272415,
          5.28436040875,
          4.018807113,
          4.903761910426541,
          3.778220594,
          5.443477162147888,
          4.333431695512821,
          4.660130098970925,
          3.289593935,
          2.7947496775,
          4.008975845,
          3.853571719433403,
          2.7684766055,
          3.36910063025,
          5.37197506425,
          3.66430544875,
          5.4105769395,
          4.605217695249999,
          4.6026746035,
          3.83756726975,
          3.365787613711912,
          5.26850879225,
          4.914795399006621,
          5.07211995125,
          4.437981963,
          4.37463819975,
          4.76136147975,
          4.31229245675,
          4.113367319,
          4.36485934275,
          3.382990938505747,
          4.5241591335,
          3.937275875307793,
          3.48593091975,
          3.1524888275,
          3.8370832205,
          4.36378258475,
          5.118548751000001,
          3.5835725665,
          2.89157027,
          3.595409990976331,
          5.154452212500001,
          4.4885306955,
          4.68427121625,
          5.131259234978235,
          3.67245489375,
          2.92263948925,
          5.25812911975,
          3.891372191274403,
          3.66399663725,
          5.124402999999999,
          3.66025239225,
          2.3659526705,
          4.3772073985,
          3.51215380425,
          4.05051058525,
          3.76005345575,
          5.052881708839779,
          3.69268512725,
          4.08039987125,
          3.4795261025,
          2.790258944,
          2.557547,
          3.34541547275,
          4.382509232812501,
          3.83100247375,
          5.77895951275,
          4.816789984750001,
          5.5188162325,
          3.03231650575,
          2.6414312625,
          3.16824227575,
          4.05051058525,
          5.001788609523809,
          5.386394262250001,
          3.7034083605,
          3.66025239225,
          4.596497320731707,
          3.680060029,
          3.042499860040984,
          2.7540509105,
          3.27700579175,
          4.3122189045,
          4.217128813,
          4.821053028250001,
          4.333431695512821,
          5.650964141,
          3.7737690805,
          4.3563212755,
          4.394029140500001,
          3.430077232999553,
          5.090531294221309,
          3.382604328111613,
          4.336327791,
          4.09712105975,
          3.99615168575,
          3.995258987,
          2.91684859975,
          6.1019439695,
          4.474316602430556,
          3.798733771,
          4.796257138250001,
          3.037661686079989,
          3.41452525,
          3.4022233485,
          3.43541885,
          4.5152790545,
          4.124032378,
          4.055421307373272,
          3.871580136259542,
          4.553095665481171,
          3.430077232999553,
          3.333133403550296,
          3.464315527678572,
          5.199332714000001,
          6.1326652765,
          3.891372191274403,
          4.13513046525,
          3.15139406925,
          4.05051058525,
          2.573858593814433,
          3.835960849080883,
          3.263894317052602,
          4.468680382000001,
          3.79927766325,
          3.551756382,
          3.786770106599438,
          4.348512731924883,
          3.609029785521235,
          3.343117058,
          4.374483644750001,
          5.4820508955,
          5.2462177275,
          5.697491168999999,
          3.90237712875,
          4.006601396194692,
          2.961133327987024,
          3.68711513275,
          3.723914141025641,
          2.2447446585,
          3.6091204285,
          3.793227315,
          2.527424595346956
         ],
         "xaxis": "x",
         "y": [
          485.6684187298079,
          5287.663694469134,
          4142.018558429166,
          11521.6097798453,
          41791.96983724111,
          3289.643994766784,
          16679.5916624545,
          11795.15938662869,
          4220.540320791452,
          30253.27935801951,
          57180.77940016135,
          51461.43321500823,
          4739.841710283928,
          33290.02813541302,
          24085.95598809604,
          1698.132080787118,
          17745.2553725928,
          6360.062473012837,
          47519.55309689431,
          5001.422156634331,
          1241.825298009576,
          113023.1855942678,
          3243.477437487184,
          3548.590780213766,
          6070.349081292916,
          7503.878588364595,
          9151.381731615356,
          46946.96027199543,
          31628.47625660086,
          9446.700771855185,
          804.5005378215156,
          238.7834670201728,
          3616.464537497126,
          1512.126988893842,
          1585.24053445546,
          46548.52036008093,
          86059.73921684535,
          475.9538138648127,
          726.1510070885486,
          42976.64958825841,
          15888.14435539699,
          9905.342003892534,
          6729.583331981685,
          1428.290463243223,
          12485.42389616804,
          2314.05095836881,
          15227.56009680961,
          8824.194008438417,
          19630.89348730191,
          29334.1109348657,
          23419.73561365016,
          61591.92886989581,
          3141.861710590019,
          7687.462963480052,
          8050.644076234162,
          6295.934661639924,
          2537.125185047117,
          4052.624775337422,
          10005.61679172682,
          3171.69919227376,
          23052.30125595861,
          4105.893682789394,
          771.5248663494308,
          62918.14619361205,
          6317.413720151232,
          49964.49990984263,
          41572.48500996291,
          24712.49326289065,
          7959.007267363763,
          732.720727318856,
          4722.787783217665,
          47950.1808142041,
          2260.860567293368,
          61126.94319639789,
          19747.34258379349,
          54270.82230552382,
          10466.88221119575,
          36556.67491102129,
          4478.424645509439,
          955.1112811367115,
          802.7673851161555,
          6145.819276643771,
          1479.345826888498,
          2492.868967691357,
          48542.68186991609,
          16427.37276114784,
          74469.80405915591,
          1996.915087397891,
          3893.85957814877,
          3598.483453961293,
          5915.850853696438,
          79068.97461167873,
          89112.66771585705,
          42063.45312748114,
          34605.26272520575,
          5359.993789396384,
          39808.16856087928,
          4308.151073899704,
          9812.626370773956,
          1794.0911754468,
          1727.845001316435,
          33422.9442100836,
          4384.048891731897,
          33399.06043658418,
          1308.14016549619,
          2569.093892172514,
          17856.30711719765,
          8058.44433692324,
          1192.484319518101,
          710.2659984195813,
          7877.124609545421,
          180366.7151975748,
          19176.81215050502,
          117197.4816936302,
          87526.07999126345,
          523.9459714196604,
          544.5934353933727,
          11380.08209004754,
          10279.07997516187,
          894.8047765103656,
          30672.29224390378,
          3793.550982674793,
          1670.204164528804,
          11208.34381844736,
          9686.984926555855,
          3568.291015625,
          4230.3630367862,
          185978.6092513555,
          4156.846969780199,
          8845.914218872962,
          3226.98279356862,
          503.3179251711392,
          1250.17369130663,
          5588.392864119423,
          11614.66507683195,
          1178.525932452371,
          53018.62935626958,
          36382.48765568099,
          43306.07000323725,
          2014.575188790467,
          570.7239219535921,
          2027.77854863842,
          6108.740108316977,
          22886.67404946475,
          82267.809316159,
          18947.36649597734,
          1482.21306651797,
          15895.2598961532,
          15544.99907884487,
          2801.371393029155,
          5782.784549812856,
          6957.793411493588,
          3252.110274100243,
          15468.48221941048,
          23551.04829056138,
          31604.70151445784,
          65907.94843504085,
          12398.98197876661,
          11287.3552780815,
          783.6371628148081,
          4187.504729236637,
          48996.59224882401,
          1953.513257367598,
          23337.01754943471,
          1458.069092581452,
          7252.401857739923,
          15994.81986155335,
          533.9915332659843,
          66679.04648997521,
          29160.10381106891,
          19380.51350705477,
          26104.10278899495,
          2411.862926352774,
          389.8313954980403,
          7005.095412660223,
          2331.268840110573,
          30349.75209843605,
          4059.208229849466,
          20567.49911359164,
          11353.7152084186,
          36556.67491102129,
          7361.400961800199,
          740.746767001408,
          6938.08698147294,
          54589.06038606061,
          86388.40495271837,
          1268.23584864054,
          853.218873401321,
          1042.8387560513,
          7296.879607723391,
          1249.138350519529,
          901.5230168989367,
          4740.700272244761,
          17037.86235618971,
          3680.89259713943,
          9454.34844272271,
          6967.375042588062,
          29553.13669790533,
          3701.709254506929,
          770.6007843432924,
          3096.56169661923,
          43839.32448669031,
          43646.95197114935,
          63064.4184096731,
          18703.86029244782,
          1597.068336610896,
          3125.404999189522,
          2566.447487006298,
          3562.330942702557,
          758.1452415694234,
          1516.36837125728,
          1254.642264944341,
          4177.889541516905
         ],
         "yaxis": "y"
        },
        {
         "hovertemplate": "<b>OLS trendline</b><br>gdppc = 23156.4 * edu_quality_index + -74872<br>R<sup>2</sup>=0.453662<br><br>edu_quality_index=%{x}<br>gdppc=%{y} <b>(trend)</b><extra></extra>",
         "legendgroup": "",
         "line": {
          "color": "Purple"
         },
         "marker": {
          "symbol": "circle"
         },
         "mode": "lines",
         "name": "",
         "showlegend": false,
         "type": "scatter",
         "x": [
          2.2447446585,
          2.3659526705,
          2.527424595346956,
          2.557547,
          2.573858593814433,
          2.61314469575,
          2.61314469575,
          2.6414312625,
          2.7540509105,
          2.7684766055,
          2.790258944,
          2.7947496775,
          2.89157027,
          2.9052241445,
          2.91684859975,
          2.92263948925,
          2.927667737,
          2.943328495,
          2.961133327987024,
          3.03231650575,
          3.037661686079989,
          3.042499860040984,
          3.09669226425,
          3.09706348175,
          3.125883053926702,
          3.15139406925,
          3.1524888275,
          3.16824227575,
          3.182566643,
          3.194289923529412,
          3.23686605675,
          3.23953305385006,
          3.263894317052602,
          3.27700579175,
          3.289593935,
          3.302977741,
          3.3095909355,
          3.333133403550296,
          3.343117058,
          3.34541547275,
          3.365787613711912,
          3.3678638935,
          3.36910063025,
          3.382604328111613,
          3.382990938505747,
          3.38388782725,
          3.4022233485,
          3.41452525,
          3.41452525,
          3.416745662749999,
          3.430077232999553,
          3.430077232999553,
          3.43541885,
          3.464315527678572,
          3.4795261025,
          3.48593091975,
          3.51215380425,
          3.5151272415,
          3.548745334249999,
          3.551013130916131,
          3.551756382,
          3.5835725665,
          3.595409990976331,
          3.609029785521235,
          3.6091204285,
          3.622494161,
          3.635349051379515,
          3.6361775995,
          3.639046438676888,
          3.66025239225,
          3.66025239225,
          3.66399663725,
          3.66430544875,
          3.67245489375,
          3.680060029,
          3.68711513275,
          3.69268512725,
          3.7034083605,
          3.723914141025641,
          3.7505168915,
          3.75650507225,
          3.76005345575,
          3.773089886,
          3.7737690805,
          3.778220594,
          3.786770106599438,
          3.793227315,
          3.798733771,
          3.79927766325,
          3.800363958,
          3.82317068387604,
          3.83100247375,
          3.835960849080883,
          3.8370832205,
          3.83756726975,
          3.852644652250146,
          3.853571719433403,
          3.871580136259542,
          3.891372191274403,
          3.891372191274403,
          3.90237712875,
          3.922236279598894,
          3.937275875307793,
          3.937275875307793,
          3.99517446775,
          3.995258987,
          3.99615168575,
          3.99615168575,
          4.006601396194692,
          4.008975845,
          4.011239882718121,
          4.018807113,
          4.03495825,
          4.03637063525,
          4.05051058525,
          4.05051058525,
          4.05051058525,
          4.055421307373272,
          4.08039987125,
          4.09712105975,
          4.097679931132076,
          4.113367319,
          4.121846437249999,
          4.123025775249999,
          4.124032378,
          4.13513046525,
          4.157164111887255,
          4.1842525005,
          4.217128813,
          4.3122189045,
          4.31229245675,
          4.331240600000001,
          4.333431695512821,
          4.333431695512821,
          4.336327791,
          4.3412513735,
          4.348512731924883,
          4.3563212755,
          4.36378258475,
          4.36485934275,
          4.374483644750001,
          4.37463819975,
          4.3772073985,
          4.382509232812501,
          4.394029140500001,
          4.406499505,
          4.429337616914498,
          4.437981963,
          4.468680382000001,
          4.474316602430556,
          4.485545992750001,
          4.4885306955,
          4.48947828975,
          4.513828873750001,
          4.5152790545,
          4.5241591335,
          4.553095665481171,
          4.584998965500001,
          4.596497320731707,
          4.6026746035,
          4.605217695249999,
          4.64217950460251,
          4.660130098970925,
          4.660130098970925,
          4.68427121625,
          4.705032212564636,
          4.710301160749999,
          4.76136147975,
          4.787541389499999,
          4.796257138250001,
          4.816789984750001,
          4.816789984750001,
          4.821053028250001,
          4.83188291518919,
          4.883352185267469,
          4.903761910426541,
          4.914795399006621,
          4.919909089655173,
          4.96322739125,
          5.001788609523809,
          5.017800137112445,
          5.052881708839779,
          5.07211995125,
          5.08472697269727,
          5.090531294221309,
          5.118548751000001,
          5.124402999999999,
          5.131259234978235,
          5.154452212500001,
          5.199332714000001,
          5.216284706919643,
          5.2462177275,
          5.25812911975,
          5.26850879225,
          5.2810070515,
          5.28436040875,
          5.32498466975,
          5.36690354325,
          5.37197506425,
          5.37197506425,
          5.386394262250001,
          5.4105769395,
          5.44074654575,
          5.443477162147888,
          5.4820508955,
          5.5188162325,
          5.579452038,
          5.650964141,
          5.697491168999999,
          5.77895951275,
          5.877574682,
          6.1019439695,
          6.1326652765
         ],
         "xaxis": "x",
         "y": [
          -22891.848726629465,
          -20085.10781860324,
          -16345.999739133304,
          -15648.473362842122,
          -15270.755612351526,
          -14361.031019067677,
          -14361.031019067677,
          -13706.01603503478,
          -11098.15069780678,
          -10764.103569938623,
          -10259.703080799136,
          -10155.713870733602,
          -7913.697743044888,
          -7597.523197485914,
          -7328.342690807067,
          -7194.246551572405,
          -7077.810447863215,
          -6715.163710209453,
          -6302.867919851505,
          -4654.521959102247,
          -4530.746838584981,
          -4418.712159091421,
          -3163.8113048662217,
          -3155.215244871241,
          -2487.8577752993024,
          -1897.1145634299037,
          -1871.7639062087148,
          -1506.970796280066,
          -1175.2700540703338,
          -903.8011099367706,
          82.10875562391955,
          143.86680064759935,
          707.9858953636177,
          1011.6004154808047,
          1303.096464569284,
          1613.0171965856323,
          1766.1549572799083,
          2311.3137059661403,
          2542.4991770683464,
          2595.7221826765617,
          3067.4675770476465,
          3115.546737175565,
          3144.1851049815214,
          3456.8821006043477,
          3465.834604574821,
          3486.6033168645995,
          3911.1879355972237,
          4196.055656936956,
          4196.055656936956,
          4247.4724172260785,
          4556.1835574405395,
          4556.1835574405395,
          4679.876164082447,
          5349.019119306367,
          5701.2412363219955,
          5849.553730581921,
          6456.781268086597,
          6525.6353630372205,
          7304.109282494311,
          7356.623283581286,
          7373.834301133744,
          8110.582516866047,
          8384.694623608535,
          8700.080000179974,
          8702.178965028304,
          9011.866431074284,
          9309.539382730132,
          9328.72557236942,
          9395.157552759632,
          9886.21104340972,
          9886.21104340972,
          9972.914269027946,
          9980.065230879536,
          10168.77701883634,
          10344.884553850174,
          10508.25534080355,
          10637.236347608869,
          10885.547799405329,
          11360.387804638021,
          11976.411669647841,
          12115.076363493994,
          12197.244142360092,
          12499.120903421945,
          12514.848601254793,
          12617.929617409736,
          12815.905529732498,
          12965.431214301178,
          13092.94089834291,
          13105.535483489908,
          13130.69015654073,
          13658.81176697042,
          13840.167806555568,
          13954.985916752255,
          13980.975995494202,
          13992.18483234465,
          14341.322695022562,
          14362.79023124233,
          14779.800289906705,
          15238.112983494286,
          15238.112983494286,
          15492.94769032067,
          15952.814081712808,
          16301.076938431737,
          16301.076938431737,
          17641.79976065475,
          17643.75692200553,
          17664.428609122788,
          17664.428609122788,
          17906.406258109768,
          17961.389938527464,
          18013.81689592004,
          18189.04668842424,
          18563.048837135622,
          18595.754591430712,
          18923.184894490583,
          18923.184894490583,
          18923.184894490583,
          19036.899528068905,
          19615.313082583438,
          20002.515570433563,
          20015.45701831736,
          20378.72040777859,
          20575.066240562857,
          20602.375460096853,
          20625.684753516834,
          20882.67647354784,
          21392.896353812674,
          22020.165848604032,
          22781.462809722445,
          24983.406768352885,
          24985.1099734921,
          25423.88071078395,
          25474.61858947487,
          25474.61858947487,
          25541.68172782102,
          25655.694161395044,
          25823.8410635896,
          26004.658802637965,
          26177.435845622625,
          26202.369681899425,
          26425.233844827868,
          26428.81278184597,
          26488.306169399235,
          26611.077552304778,
          26877.837114067017,
          27166.60583160152,
          27695.454229614195,
          27895.626143838126,
          28606.49093732251,
          28737.005498101633,
          28997.037724203823,
          29066.152687550624,
          29088.095556687746,
          29651.96735954458,
          29685.54832146195,
          29891.17896076166,
          30561.244798059295,
          31300.010295375465,
          31566.27077990388,
          31709.314395256733,
          31768.20323874,
          32624.10558902654,
          33039.77668787451,
          33039.77668787451,
          33598.79799607514,
          34079.54787957023,
          34201.55773824301,
          35383.93078231348,
          35990.16317942399,
          36191.988522130785,
          36667.455277824876,
          36667.455277824876,
          36766.17200773994,
          37016.953174759845,
          38208.79605256363,
          38681.41176154447,
          38936.907609095804,
          39055.32226252878,
          40058.418073987355,
          40951.356973046495,
          41322.12627073134,
          42134.48909114428,
          42579.977479909314,
          42871.91068003816,
          43006.31785656093,
          43655.10122312264,
          43790.66454012569,
          43949.43024274653,
          44486.49604982595,
          45525.76678328856,
          45918.3138700284,
          46611.45479344922,
          46887.27972736218,
          47127.635549860635,
          47417.050209314766,
          47494.701882809764,
          48435.41341932961,
          49406.10351752895,
          49523.541673816944,
          49523.541673816944,
          49857.43835457048,
          50417.42204197859,
          51116.04143721228,
          51179.27267598616,
          52072.50137917344,
          52923.85413756429,
          54327.96095344023,
          55983.923637731146,
          57061.32199334875,
          58947.83534621416,
          61231.40740649929,
          66426.99181828676,
          67138.38661539748
         ],
         "yaxis": "y"
        }
       ],
       "layout": {
        "coloraxis": {
         "colorbar": {
          "title": {
           "text": "edu_quality_index"
          }
         },
         "colorscale": [
          [
           0,
           "rgb(209, 238, 234)"
          ],
          [
           0.16666666666666666,
           "rgb(168, 219, 217)"
          ],
          [
           0.3333333333333333,
           "rgb(133, 196, 201)"
          ],
          [
           0.5,
           "rgb(104, 171, 184)"
          ],
          [
           0.6666666666666666,
           "rgb(79, 144, 166)"
          ],
          [
           0.8333333333333334,
           "rgb(59, 115, 143)"
          ],
          [
           1,
           "rgb(42, 86, 116)"
          ]
         ]
        },
        "legend": {
         "title": {
          "text": "Quality of Education Index"
         },
         "tracegroupgap": 0
        },
        "margin": {
         "t": 60
        },
        "template": {
         "data": {
          "bar": [
           {
            "error_x": {
             "color": "#2a3f5f"
            },
            "error_y": {
             "color": "#2a3f5f"
            },
            "marker": {
             "line": {
              "color": "#E5ECF6",
              "width": 0.5
             },
             "pattern": {
              "fillmode": "overlay",
              "size": 10,
              "solidity": 0.2
             }
            },
            "type": "bar"
           }
          ],
          "barpolar": [
           {
            "marker": {
             "line": {
              "color": "#E5ECF6",
              "width": 0.5
             },
             "pattern": {
              "fillmode": "overlay",
              "size": 10,
              "solidity": 0.2
             }
            },
            "type": "barpolar"
           }
          ],
          "carpet": [
           {
            "aaxis": {
             "endlinecolor": "#2a3f5f",
             "gridcolor": "white",
             "linecolor": "white",
             "minorgridcolor": "white",
             "startlinecolor": "#2a3f5f"
            },
            "baxis": {
             "endlinecolor": "#2a3f5f",
             "gridcolor": "white",
             "linecolor": "white",
             "minorgridcolor": "white",
             "startlinecolor": "#2a3f5f"
            },
            "type": "carpet"
           }
          ],
          "choropleth": [
           {
            "colorbar": {
             "outlinewidth": 0,
             "ticks": ""
            },
            "type": "choropleth"
           }
          ],
          "contour": [
           {
            "colorbar": {
             "outlinewidth": 0,
             "ticks": ""
            },
            "colorscale": [
             [
              0,
              "#0d0887"
             ],
             [
              0.1111111111111111,
              "#46039f"
             ],
             [
              0.2222222222222222,
              "#7201a8"
             ],
             [
              0.3333333333333333,
              "#9c179e"
             ],
             [
              0.4444444444444444,
              "#bd3786"
             ],
             [
              0.5555555555555556,
              "#d8576b"
             ],
             [
              0.6666666666666666,
              "#ed7953"
             ],
             [
              0.7777777777777778,
              "#fb9f3a"
             ],
             [
              0.8888888888888888,
              "#fdca26"
             ],
             [
              1,
              "#f0f921"
             ]
            ],
            "type": "contour"
           }
          ],
          "contourcarpet": [
           {
            "colorbar": {
             "outlinewidth": 0,
             "ticks": ""
            },
            "type": "contourcarpet"
           }
          ],
          "heatmap": [
           {
            "colorbar": {
             "outlinewidth": 0,
             "ticks": ""
            },
            "colorscale": [
             [
              0,
              "#0d0887"
             ],
             [
              0.1111111111111111,
              "#46039f"
             ],
             [
              0.2222222222222222,
              "#7201a8"
             ],
             [
              0.3333333333333333,
              "#9c179e"
             ],
             [
              0.4444444444444444,
              "#bd3786"
             ],
             [
              0.5555555555555556,
              "#d8576b"
             ],
             [
              0.6666666666666666,
              "#ed7953"
             ],
             [
              0.7777777777777778,
              "#fb9f3a"
             ],
             [
              0.8888888888888888,
              "#fdca26"
             ],
             [
              1,
              "#f0f921"
             ]
            ],
            "type": "heatmap"
           }
          ],
          "heatmapgl": [
           {
            "colorbar": {
             "outlinewidth": 0,
             "ticks": ""
            },
            "colorscale": [
             [
              0,
              "#0d0887"
             ],
             [
              0.1111111111111111,
              "#46039f"
             ],
             [
              0.2222222222222222,
              "#7201a8"
             ],
             [
              0.3333333333333333,
              "#9c179e"
             ],
             [
              0.4444444444444444,
              "#bd3786"
             ],
             [
              0.5555555555555556,
              "#d8576b"
             ],
             [
              0.6666666666666666,
              "#ed7953"
             ],
             [
              0.7777777777777778,
              "#fb9f3a"
             ],
             [
              0.8888888888888888,
              "#fdca26"
             ],
             [
              1,
              "#f0f921"
             ]
            ],
            "type": "heatmapgl"
           }
          ],
          "histogram": [
           {
            "marker": {
             "pattern": {
              "fillmode": "overlay",
              "size": 10,
              "solidity": 0.2
             }
            },
            "type": "histogram"
           }
          ],
          "histogram2d": [
           {
            "colorbar": {
             "outlinewidth": 0,
             "ticks": ""
            },
            "colorscale": [
             [
              0,
              "#0d0887"
             ],
             [
              0.1111111111111111,
              "#46039f"
             ],
             [
              0.2222222222222222,
              "#7201a8"
             ],
             [
              0.3333333333333333,
              "#9c179e"
             ],
             [
              0.4444444444444444,
              "#bd3786"
             ],
             [
              0.5555555555555556,
              "#d8576b"
             ],
             [
              0.6666666666666666,
              "#ed7953"
             ],
             [
              0.7777777777777778,
              "#fb9f3a"
             ],
             [
              0.8888888888888888,
              "#fdca26"
             ],
             [
              1,
              "#f0f921"
             ]
            ],
            "type": "histogram2d"
           }
          ],
          "histogram2dcontour": [
           {
            "colorbar": {
             "outlinewidth": 0,
             "ticks": ""
            },
            "colorscale": [
             [
              0,
              "#0d0887"
             ],
             [
              0.1111111111111111,
              "#46039f"
             ],
             [
              0.2222222222222222,
              "#7201a8"
             ],
             [
              0.3333333333333333,
              "#9c179e"
             ],
             [
              0.4444444444444444,
              "#bd3786"
             ],
             [
              0.5555555555555556,
              "#d8576b"
             ],
             [
              0.6666666666666666,
              "#ed7953"
             ],
             [
              0.7777777777777778,
              "#fb9f3a"
             ],
             [
              0.8888888888888888,
              "#fdca26"
             ],
             [
              1,
              "#f0f921"
             ]
            ],
            "type": "histogram2dcontour"
           }
          ],
          "mesh3d": [
           {
            "colorbar": {
             "outlinewidth": 0,
             "ticks": ""
            },
            "type": "mesh3d"
           }
          ],
          "parcoords": [
           {
            "line": {
             "colorbar": {
              "outlinewidth": 0,
              "ticks": ""
             }
            },
            "type": "parcoords"
           }
          ],
          "pie": [
           {
            "automargin": true,
            "type": "pie"
           }
          ],
          "scatter": [
           {
            "marker": {
             "colorbar": {
              "outlinewidth": 0,
              "ticks": ""
             }
            },
            "type": "scatter"
           }
          ],
          "scatter3d": [
           {
            "line": {
             "colorbar": {
              "outlinewidth": 0,
              "ticks": ""
             }
            },
            "marker": {
             "colorbar": {
              "outlinewidth": 0,
              "ticks": ""
             }
            },
            "type": "scatter3d"
           }
          ],
          "scattercarpet": [
           {
            "marker": {
             "colorbar": {
              "outlinewidth": 0,
              "ticks": ""
             }
            },
            "type": "scattercarpet"
           }
          ],
          "scattergeo": [
           {
            "marker": {
             "colorbar": {
              "outlinewidth": 0,
              "ticks": ""
             }
            },
            "type": "scattergeo"
           }
          ],
          "scattergl": [
           {
            "marker": {
             "colorbar": {
              "outlinewidth": 0,
              "ticks": ""
             }
            },
            "type": "scattergl"
           }
          ],
          "scattermapbox": [
           {
            "marker": {
             "colorbar": {
              "outlinewidth": 0,
              "ticks": ""
             }
            },
            "type": "scattermapbox"
           }
          ],
          "scatterpolar": [
           {
            "marker": {
             "colorbar": {
              "outlinewidth": 0,
              "ticks": ""
             }
            },
            "type": "scatterpolar"
           }
          ],
          "scatterpolargl": [
           {
            "marker": {
             "colorbar": {
              "outlinewidth": 0,
              "ticks": ""
             }
            },
            "type": "scatterpolargl"
           }
          ],
          "scatterternary": [
           {
            "marker": {
             "colorbar": {
              "outlinewidth": 0,
              "ticks": ""
             }
            },
            "type": "scatterternary"
           }
          ],
          "surface": [
           {
            "colorbar": {
             "outlinewidth": 0,
             "ticks": ""
            },
            "colorscale": [
             [
              0,
              "#0d0887"
             ],
             [
              0.1111111111111111,
              "#46039f"
             ],
             [
              0.2222222222222222,
              "#7201a8"
             ],
             [
              0.3333333333333333,
              "#9c179e"
             ],
             [
              0.4444444444444444,
              "#bd3786"
             ],
             [
              0.5555555555555556,
              "#d8576b"
             ],
             [
              0.6666666666666666,
              "#ed7953"
             ],
             [
              0.7777777777777778,
              "#fb9f3a"
             ],
             [
              0.8888888888888888,
              "#fdca26"
             ],
             [
              1,
              "#f0f921"
             ]
            ],
            "type": "surface"
           }
          ],
          "table": [
           {
            "cells": {
             "fill": {
              "color": "#EBF0F8"
             },
             "line": {
              "color": "white"
             }
            },
            "header": {
             "fill": {
              "color": "#C8D4E3"
             },
             "line": {
              "color": "white"
             }
            },
            "type": "table"
           }
          ]
         },
         "layout": {
          "annotationdefaults": {
           "arrowcolor": "#2a3f5f",
           "arrowhead": 0,
           "arrowwidth": 1
          },
          "autotypenumbers": "strict",
          "coloraxis": {
           "colorbar": {
            "outlinewidth": 0,
            "ticks": ""
           }
          },
          "colorscale": {
           "diverging": [
            [
             0,
             "#8e0152"
            ],
            [
             0.1,
             "#c51b7d"
            ],
            [
             0.2,
             "#de77ae"
            ],
            [
             0.3,
             "#f1b6da"
            ],
            [
             0.4,
             "#fde0ef"
            ],
            [
             0.5,
             "#f7f7f7"
            ],
            [
             0.6,
             "#e6f5d0"
            ],
            [
             0.7,
             "#b8e186"
            ],
            [
             0.8,
             "#7fbc41"
            ],
            [
             0.9,
             "#4d9221"
            ],
            [
             1,
             "#276419"
            ]
           ],
           "sequential": [
            [
             0,
             "#0d0887"
            ],
            [
             0.1111111111111111,
             "#46039f"
            ],
            [
             0.2222222222222222,
             "#7201a8"
            ],
            [
             0.3333333333333333,
             "#9c179e"
            ],
            [
             0.4444444444444444,
             "#bd3786"
            ],
            [
             0.5555555555555556,
             "#d8576b"
            ],
            [
             0.6666666666666666,
             "#ed7953"
            ],
            [
             0.7777777777777778,
             "#fb9f3a"
            ],
            [
             0.8888888888888888,
             "#fdca26"
            ],
            [
             1,
             "#f0f921"
            ]
           ],
           "sequentialminus": [
            [
             0,
             "#0d0887"
            ],
            [
             0.1111111111111111,
             "#46039f"
            ],
            [
             0.2222222222222222,
             "#7201a8"
            ],
            [
             0.3333333333333333,
             "#9c179e"
            ],
            [
             0.4444444444444444,
             "#bd3786"
            ],
            [
             0.5555555555555556,
             "#d8576b"
            ],
            [
             0.6666666666666666,
             "#ed7953"
            ],
            [
             0.7777777777777778,
             "#fb9f3a"
            ],
            [
             0.8888888888888888,
             "#fdca26"
            ],
            [
             1,
             "#f0f921"
            ]
           ]
          },
          "colorway": [
           "#636efa",
           "#EF553B",
           "#00cc96",
           "#ab63fa",
           "#FFA15A",
           "#19d3f3",
           "#FF6692",
           "#B6E880",
           "#FF97FF",
           "#FECB52"
          ],
          "font": {
           "color": "#2a3f5f"
          },
          "geo": {
           "bgcolor": "white",
           "lakecolor": "white",
           "landcolor": "#E5ECF6",
           "showlakes": true,
           "showland": true,
           "subunitcolor": "white"
          },
          "hoverlabel": {
           "align": "left"
          },
          "hovermode": "closest",
          "mapbox": {
           "style": "light"
          },
          "paper_bgcolor": "white",
          "plot_bgcolor": "#E5ECF6",
          "polar": {
           "angularaxis": {
            "gridcolor": "white",
            "linecolor": "white",
            "ticks": ""
           },
           "bgcolor": "#E5ECF6",
           "radialaxis": {
            "gridcolor": "white",
            "linecolor": "white",
            "ticks": ""
           }
          },
          "scene": {
           "xaxis": {
            "backgroundcolor": "#E5ECF6",
            "gridcolor": "white",
            "gridwidth": 2,
            "linecolor": "white",
            "showbackground": true,
            "ticks": "",
            "zerolinecolor": "white"
           },
           "yaxis": {
            "backgroundcolor": "#E5ECF6",
            "gridcolor": "white",
            "gridwidth": 2,
            "linecolor": "white",
            "showbackground": true,
            "ticks": "",
            "zerolinecolor": "white"
           },
           "zaxis": {
            "backgroundcolor": "#E5ECF6",
            "gridcolor": "white",
            "gridwidth": 2,
            "linecolor": "white",
            "showbackground": true,
            "ticks": "",
            "zerolinecolor": "white"
           }
          },
          "shapedefaults": {
           "line": {
            "color": "#2a3f5f"
           }
          },
          "ternary": {
           "aaxis": {
            "gridcolor": "white",
            "linecolor": "white",
            "ticks": ""
           },
           "baxis": {
            "gridcolor": "white",
            "linecolor": "white",
            "ticks": ""
           },
           "bgcolor": "#E5ECF6",
           "caxis": {
            "gridcolor": "white",
            "linecolor": "white",
            "ticks": ""
           }
          },
          "title": {
           "x": 0.05
          },
          "xaxis": {
           "automargin": true,
           "gridcolor": "white",
           "linecolor": "white",
           "ticks": "",
           "title": {
            "standoff": 15
           },
           "zerolinecolor": "white",
           "zerolinewidth": 2
          },
          "yaxis": {
           "automargin": true,
           "gridcolor": "white",
           "linecolor": "white",
           "ticks": "",
           "title": {
            "standoff": 15
           },
           "zerolinecolor": "white",
           "zerolinewidth": 2
          }
         }
        },
        "title": {
         "text": "Relationship between GDP per Capita vs. Quality of Education Index in 2018",
         "x": 0.5,
         "xanchor": "center"
        },
        "xaxis": {
         "anchor": "y",
         "domain": [
          0,
          1
         ],
         "title": {
          "text": "Quality of Education Index"
         }
        },
        "yaxis": {
         "anchor": "x",
         "domain": [
          0,
          1
         ],
         "title": {
          "text": "GDP per Capita"
         }
        }
       }
      }
     },
     "metadata": {},
     "output_type": "display_data"
    }
   ],
   "source": [
    "fig = px.scatter(data_frame=df_indicators_2018_imputed,x='edu_quality_index',y='gdppc',hover_name='country',color='edu_quality_index',trendline='ols',\n",
    "                log_y=False, labels={'val_qual_ed':'Education Quality Index'}, color_continuous_scale=px.colors.sequential.Teal, \n",
    "                trendline_color_override='Purple')\n",
    "\n",
    "#Setting the labels of the plot\n",
    "fig.update_layout(\n",
    "    title={\n",
    "        'text': 'Relationship between GDP per Capita vs. Quality of Education Index in 2018',\n",
    "        'x':0.5,\n",
    "        'xanchor': 'center'},\n",
    "    xaxis_title='Quality of Education Index',\n",
    "    yaxis_title='GDP per Capita',\n",
    "    legend={'title':'Quality of Education Index'}\n",
    ")\n",
    "\n",
    "fig.show()"
   ]
  },
  {
   "cell_type": "markdown",
   "metadata": {},
   "source": [
    "After running the same analysis with the imputed and non-imputed datasets, we can see that the missing data didn't affect our conclusions."
   ]
  }
 ],
 "metadata": {
  "interpreter": {
   "hash": "093eab89ae9eef50f6b618021bd6801c29ac2779d3b86c3950776c321a6e7de7"
  },
  "kernelspec": {
   "display_name": "Python 3.9.7 ('MBAN')",
   "language": "python",
   "name": "python3"
  },
  "language_info": {
   "codemirror_mode": {
    "name": "ipython",
    "version": 3
   },
   "file_extension": ".py",
   "mimetype": "text/x-python",
   "name": "python",
   "nbconvert_exporter": "python",
   "pygments_lexer": "ipython3",
   "version": "3.9.7"
  },
  "orig_nbformat": 4
 },
 "nbformat": 4,
 "nbformat_minor": 2
}
